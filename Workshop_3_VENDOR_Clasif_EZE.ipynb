{
 "cells": [
  {
   "cell_type": "markdown",
   "id": "a2c74767",
   "metadata": {},
   "source": [
    "![title](../common/logo_DH.png)\n",
    "\n",
    "# WORKSHOP 3\n",
    "---\n",
    "## GRUPO 8\n",
    "\n",
    "Integrantes: "
   ]
  },
  {
   "cell_type": "markdown",
   "id": "342e7332",
   "metadata": {},
   "source": [
    "<a id=\"tabla_contenidos\"></a> \n",
    "## Tabla de Contenidos\n",
    "\n",
    "### <a href='#section_repaso'>1. Introducción</a>\n",
    "- #### <a href='#explicacion_dataset'>1.1 Presentación del caso</a>\n",
    "- #### <a href='#metodologia'>1.2 La metodología de trabajo</a>\n",
    "\n",
    "### <a href='#section_import_lib'>2. Importación de librerías para casos de Clasificación</a>\n",
    "\n",
    "\n",
    "### <a href='#importar_dataset'>3. Importando el DataSet</a> \n",
    "- #### <a href='#imputacion'>3.1 Imputación de datos</a>\n",
    "\n",
    "### <a  href='#preparacion_entrenamiento'>4. Preparación y Entrenamiento del DataSet</a>\n",
    "- #### <a href='#features'>4.1 Features y dummies</a>\n",
    "- #### <a href='#split'>4.2 Split del set de entrenamiento</a>\n",
    "- #### <a href='#metodo_entrenamiento'>4.3 Selección del método de entrenamiento</a>\n",
    "\n",
    "### <a  href='#evaluacion_modelos'>5. Evaluación de los Modelos</a>\n",
    "- #### <a href='#section_matriz_confusion_code'>5.1 Métricas: Matriz de confusión</a>\n",
    "- #### <a href='#section_accuracy'>5.2 Métricas: Accuracy</a>\n",
    "- #### <a href='#section_error'>5.3 Métricas: Error de Clasificación</a>\n",
    "- #### <a href='#section_recall'>5.4 Métricas: Sensitivity (o recall)</a>\n",
    "- #### <a href='#section_specificity'>5.5 Métricas: Specificity</a>\n",
    "- #### <a href='#section_precision'>5.6 Métricas: Precision</a>\n",
    "- #### <a href='#section_fpr'>5.7 Métricas: False positive rate (FPR)</a>\n",
    "- #### <a href='#section_f1_score'>5.8 Métricas: F1-Score</a>\n",
    "\n",
    "### <a href='#section_curva_roc'>6. Curva ROC</a>\n",
    "- #### <a href='#section_umbrales'>6.1 Ajustando los umbrales</a>\n",
    "- #### <a href='#section_imp_croc'>6.2 Implementación Curva ROC y AUC</a>\n",
    "\n",
    "### <a href='#conclusiones'>7. Conclusuiones</a>\n",
    "---"
   ]
  },
  {
   "cell_type": "markdown",
   "id": "2b59a393",
   "metadata": {},
   "source": [
    "<a id=\"section_repaso\"></a> \n",
    "## 1. Introducción\n",
    "---"
   ]
  },
  {
   "cell_type": "markdown",
   "id": "6c809dac",
   "metadata": {},
   "source": [
    "<a id=\"explicacion_dataset\"></a> \n",
    "### 1.1 Presentación del caso\n",
    "Aerolineas Argentinas SA, nos ha proporcionado una base de datos de los provedores del Laboratorio de Calibraciones que se encuentra en Ezeiza.\n",
    "\n",
    "Este laboratorio se encarga en poner en condición serviciable todas las herramientas metrologadas, para el uso en la reparación de las aeronaves. Tiene un flujo de herraminetas interno y un flujo de herraminetas que se calibran en laboratorios externos.\n",
    "\n",
    "Este entrenamiento y evaluación de los datos, pretende determinar y clasificar a los provedores que van a entregar en tiempo y forma las herramientas. El tiempo de calibración que nos proponen, es que las herramientas están dentro de los plazos permitidos de 2 meses como máximo. El retorno de una herramienta que supere este límite es antieconómica, ya que los períodos de calibraciones son de 1 año, y cuanto más tarden en retornar, menos tiempo tiene para su uso operativo.\n",
    "\n",
    "<a id=\"metodologia\"></a> \n",
    "### 1.2 La metodología de trabajo\n",
    "Se hará una imputación y limpieza de los datos. Una vez realizado eso, se utilizarán diferentes métodos de clasificación, para comparar los resultados y decidirse por el mejor método para clasificar.\n"
   ]
  },
  {
   "cell_type": "markdown",
   "id": "42389d13",
   "metadata": {},
   "source": [
    "<a id=\"section_import_lib\"></a>\n",
    "## 2. Importación de librerías para casos de Clasificación\n",
    "---"
   ]
  },
  {
   "cell_type": "markdown",
   "id": "8cbad4c3",
   "metadata": {},
   "source": [
    "Comenzamos importando las librerías y dependencias que utilizaremos a lo largo del trabajo."
   ]
  },
  {
   "cell_type": "code",
   "execution_count": 1,
   "id": "f7785d23",
   "metadata": {},
   "outputs": [],
   "source": [
    "from sklearn import preprocessing\n",
    "from sklearn.model_selection import train_test_split\n",
    "from sklearn.datasets import make_classification\n",
    "from sklearn.linear_model import LogisticRegressionCV,  LogisticRegression\n",
    "from sklearn.preprocessing import StandardScaler, binarize\n",
    "from sklearn.metrics import accuracy_score, confusion_matrix, recall_score, precision_score, f1_score, roc_curve, auc\n",
    "\n",
    "import matplotlib.pyplot as plt\n",
    "import seaborn as sns\n",
    "import pandas as pd\n",
    "import numpy as np"
   ]
  },
  {
   "cell_type": "raw",
   "id": "b1cadedc",
   "metadata": {},
   "source": [
    "<a id=\"importar_dataset\"></a>\n",
    "## 3. Importando el DataSet\n",
    "---"
   ]
  },
  {
   "cell_type": "code",
   "execution_count": 2,
   "id": "8f2b090d",
   "metadata": {},
   "outputs": [
    {
     "name": "stderr",
     "output_type": "stream",
     "text": [
      "C:\\Users\\ezelo\\AppData\\Local\\Temp\\ipykernel_14824\\389539453.py:4: DtypeWarning: Columns (70) have mixed types. Specify dtype option on import or set low_memory=False.\n",
      "  data_tat = pd.read_csv(ruta_tat, encoding='UTF-8', sep=',')\n"
     ]
    }
   ],
   "source": [
    "ruta_tat = '../data/VENDROS_TAT.csv'\n",
    "ruta_vendors = '../data/VENDORS_NAMES_metrics.csv'\n",
    "\n",
    "data_tat = pd.read_csv(ruta_tat, encoding='UTF-8', sep=',')\n",
    "data_vendors = pd.read_csv(ruta_vendors, encoding='UTF-8', sep=',')"
   ]
  },
  {
   "cell_type": "markdown",
   "id": "dd169bc9",
   "metadata": {},
   "source": [
    "Visalizamos el DataSet para identificar las columnas y los valores que necesitamos."
   ]
  },
  {
   "cell_type": "code",
   "execution_count": 3,
   "id": "5ab01323",
   "metadata": {},
   "outputs": [
    {
     "data": {
      "text/html": [
       "<div>\n",
       "<style scoped>\n",
       "    .dataframe tbody tr th:only-of-type {\n",
       "        vertical-align: middle;\n",
       "    }\n",
       "\n",
       "    .dataframe tbody tr th {\n",
       "        vertical-align: top;\n",
       "    }\n",
       "\n",
       "    .dataframe thead th {\n",
       "        text-align: right;\n",
       "    }\n",
       "</style>\n",
       "<table border=\"1\" class=\"dataframe\">\n",
       "  <thead>\n",
       "    <tr style=\"text-align: right;\">\n",
       "      <th></th>\n",
       "      <th>TAT</th>\n",
       "      <th>TAT7</th>\n",
       "      <th>TAT6</th>\n",
       "      <th>TAT5</th>\n",
       "      <th>TAT4</th>\n",
       "      <th>TAT3</th>\n",
       "      <th>TAT2</th>\n",
       "      <th>TAT1</th>\n",
       "      <th>order_number_id</th>\n",
       "      <th>order_number</th>\n",
       "      <th>...</th>\n",
       "      <th>EIN_arrival_date</th>\n",
       "      <th>EIN_arrival_date_tz</th>\n",
       "      <th>EIN_part_tool</th>\n",
       "      <th>EIN_created_date</th>\n",
       "      <th>EIN_created_date_tz</th>\n",
       "      <th>EIN_airway_bill_date</th>\n",
       "      <th>EIN_airway_bill_date_tz</th>\n",
       "      <th>new_PARTNO</th>\n",
       "      <th>new_DESCRIPTION</th>\n",
       "      <th>new_STATUS</th>\n",
       "    </tr>\n",
       "  </thead>\n",
       "  <tbody>\n",
       "    <tr>\n",
       "      <th>1487</th>\n",
       "      <td>15.0</td>\n",
       "      <td>NaN</td>\n",
       "      <td>NaN</td>\n",
       "      <td>15.0</td>\n",
       "      <td>15.0</td>\n",
       "      <td>NaN</td>\n",
       "      <td>NaN</td>\n",
       "      <td>0.0</td>\n",
       "      <td>150369</td>\n",
       "      <td>R1753620</td>\n",
       "      <td>...</td>\n",
       "      <td>NaN</td>\n",
       "      <td>NaN</td>\n",
       "      <td>NaN</td>\n",
       "      <td>NaN</td>\n",
       "      <td>NaN</td>\n",
       "      <td>NaN</td>\n",
       "      <td>NaN</td>\n",
       "      <td>YA 120</td>\n",
       "      <td>REGLA</td>\n",
       "      <td>0</td>\n",
       "    </tr>\n",
       "    <tr>\n",
       "      <th>6643</th>\n",
       "      <td>91.0</td>\n",
       "      <td>NaN</td>\n",
       "      <td>NaN</td>\n",
       "      <td>9.0</td>\n",
       "      <td>9.0</td>\n",
       "      <td>NaN</td>\n",
       "      <td>NaN</td>\n",
       "      <td>91.0</td>\n",
       "      <td>76941</td>\n",
       "      <td>R1304119</td>\n",
       "      <td>...</td>\n",
       "      <td>NaN</td>\n",
       "      <td>NaN</td>\n",
       "      <td>NaN</td>\n",
       "      <td>NaN</td>\n",
       "      <td>NaN</td>\n",
       "      <td>NaN</td>\n",
       "      <td>NaN</td>\n",
       "      <td>436</td>\n",
       "      <td>MICROMETRO</td>\n",
       "      <td>0</td>\n",
       "    </tr>\n",
       "    <tr>\n",
       "      <th>11302</th>\n",
       "      <td>4.0</td>\n",
       "      <td>NaN</td>\n",
       "      <td>NaN</td>\n",
       "      <td>4.0</td>\n",
       "      <td>4.0</td>\n",
       "      <td>NaN</td>\n",
       "      <td>NaN</td>\n",
       "      <td>0.0</td>\n",
       "      <td>220873</td>\n",
       "      <td>R3005722</td>\n",
       "      <td>...</td>\n",
       "      <td>NaN</td>\n",
       "      <td>NaN</td>\n",
       "      <td>NaN</td>\n",
       "      <td>NaN</td>\n",
       "      <td>NaN</td>\n",
       "      <td>NaN</td>\n",
       "      <td>NaN</td>\n",
       "      <td>30EX</td>\n",
       "      <td>CALIBRE DE PROFUNDIDAD</td>\n",
       "      <td>0</td>\n",
       "    </tr>\n",
       "    <tr>\n",
       "      <th>6493</th>\n",
       "      <td>157.0</td>\n",
       "      <td>NaN</td>\n",
       "      <td>NaN</td>\n",
       "      <td>157.0</td>\n",
       "      <td>157.0</td>\n",
       "      <td>NaN</td>\n",
       "      <td>NaN</td>\n",
       "      <td>1.0</td>\n",
       "      <td>84737</td>\n",
       "      <td>R1840019</td>\n",
       "      <td>...</td>\n",
       "      <td>NaN</td>\n",
       "      <td>NaN</td>\n",
       "      <td>NaN</td>\n",
       "      <td>NaN</td>\n",
       "      <td>NaN</td>\n",
       "      <td>NaN</td>\n",
       "      <td>NaN</td>\n",
       "      <td>30006-0035</td>\n",
       "      <td>DINAMOMETRO</td>\n",
       "      <td>0</td>\n",
       "    </tr>\n",
       "    <tr>\n",
       "      <th>710</th>\n",
       "      <td>43.0</td>\n",
       "      <td>NaN</td>\n",
       "      <td>NaN</td>\n",
       "      <td>11.0</td>\n",
       "      <td>11.0</td>\n",
       "      <td>43.0</td>\n",
       "      <td>38.0</td>\n",
       "      <td>0.0</td>\n",
       "      <td>166314</td>\n",
       "      <td>R1002321</td>\n",
       "      <td>...</td>\n",
       "      <td>NaN</td>\n",
       "      <td>NaN</td>\n",
       "      <td>NaN</td>\n",
       "      <td>NaN</td>\n",
       "      <td>NaN</td>\n",
       "      <td>NaN</td>\n",
       "      <td>NaN</td>\n",
       "      <td>01-0597-00</td>\n",
       "      <td>AC FUEL CAPACITANCE TEST SET</td>\n",
       "      <td>0</td>\n",
       "    </tr>\n",
       "  </tbody>\n",
       "</table>\n",
       "<p>5 rows × 94 columns</p>\n",
       "</div>"
      ],
      "text/plain": [
       "         TAT  TAT7  TAT6   TAT5   TAT4  TAT3  TAT2  TAT1  order_number_id  \\\n",
       "1487    15.0   NaN   NaN   15.0   15.0   NaN   NaN   0.0           150369   \n",
       "6643    91.0   NaN   NaN    9.0    9.0   NaN   NaN  91.0            76941   \n",
       "11302    4.0   NaN   NaN    4.0    4.0   NaN   NaN   0.0           220873   \n",
       "6493   157.0   NaN   NaN  157.0  157.0   NaN   NaN   1.0            84737   \n",
       "710     43.0   NaN   NaN   11.0   11.0  43.0  38.0   0.0           166314   \n",
       "\n",
       "      order_number  ... EIN_arrival_date EIN_arrival_date_tz EIN_part_tool  \\\n",
       "1487      R1753620  ...              NaN                 NaN           NaN   \n",
       "6643      R1304119  ...              NaN                 NaN           NaN   \n",
       "11302     R3005722  ...              NaN                 NaN           NaN   \n",
       "6493      R1840019  ...              NaN                 NaN           NaN   \n",
       "710       R1002321  ...              NaN                 NaN           NaN   \n",
       "\n",
       "      EIN_created_date EIN_created_date_tz EIN_airway_bill_date  \\\n",
       "1487               NaN                 NaN                  NaN   \n",
       "6643               NaN                 NaN                  NaN   \n",
       "11302              NaN                 NaN                  NaN   \n",
       "6493               NaN                 NaN                  NaN   \n",
       "710                NaN                 NaN                  NaN   \n",
       "\n",
       "      EIN_airway_bill_date_tz  new_PARTNO               new_DESCRIPTION  \\\n",
       "1487                      NaN      YA 120                         REGLA   \n",
       "6643                      NaN         436                    MICROMETRO   \n",
       "11302                     NaN        30EX        CALIBRE DE PROFUNDIDAD   \n",
       "6493                      NaN  30006-0035                   DINAMOMETRO   \n",
       "710                       NaN  01-0597-00  AC FUEL CAPACITANCE TEST SET   \n",
       "\n",
       "      new_STATUS  \n",
       "1487           0  \n",
       "6643           0  \n",
       "11302          0  \n",
       "6493           0  \n",
       "710            0  \n",
       "\n",
       "[5 rows x 94 columns]"
      ]
     },
     "execution_count": 3,
     "metadata": {},
     "output_type": "execute_result"
    }
   ],
   "source": [
    "data_tat.sample(5)"
   ]
  },
  {
   "cell_type": "code",
   "execution_count": 4,
   "id": "7d0bae52",
   "metadata": {},
   "outputs": [
    {
     "data": {
      "text/plain": [
       "TAT                        float64\n",
       "TAT7                       float64\n",
       "TAT6                       float64\n",
       "TAT5                       float64\n",
       "TAT4                       float64\n",
       "                            ...   \n",
       "EIN_airway_bill_date        object\n",
       "EIN_airway_bill_date_tz     object\n",
       "new_PARTNO                  object\n",
       "new_DESCRIPTION             object\n",
       "new_STATUS                   int64\n",
       "Length: 94, dtype: object"
      ]
     },
     "execution_count": 4,
     "metadata": {},
     "output_type": "execute_result"
    }
   ],
   "source": [
    "data_tat.dtypes"
   ]
  },
  {
   "cell_type": "code",
   "execution_count": 5,
   "id": "23b6e568",
   "metadata": {},
   "outputs": [
    {
     "data": {
      "text/plain": [
       "(14955, 94)"
      ]
     },
     "execution_count": 5,
     "metadata": {},
     "output_type": "execute_result"
    }
   ],
   "source": [
    "data_tat.shape"
   ]
  },
  {
   "cell_type": "markdown",
   "id": "9e34794c",
   "metadata": {},
   "source": [
    "<a id=\"imputacion\"></a> \n",
    "### 3.1 Imputación de datos\n",
    "\n",
    "En este apartado se realiza un análisis manual del estado del DataSet, para verificar de manera preliminar, el estado  de la base de datos que vamos a utilizar."
   ]
  },
  {
   "cell_type": "markdown",
   "id": "19cce03f",
   "metadata": {},
   "source": [
    "Para eso identificaremos la cantidad de **Nulos**."
   ]
  },
  {
   "cell_type": "code",
   "execution_count": 6,
   "id": "18111cbf",
   "metadata": {},
   "outputs": [
    {
     "data": {
      "text/plain": [
       "TAT                        0.001003\n",
       "TAT7                       0.605082\n",
       "TAT6                       0.791174\n",
       "TAT5                       0.203076\n",
       "TAT4                       0.203076\n",
       "                             ...   \n",
       "EIN_airway_bill_date       0.605082\n",
       "EIN_airway_bill_date_tz    0.605082\n",
       "new_PARTNO                 0.000000\n",
       "new_DESCRIPTION            0.000000\n",
       "new_STATUS                 0.000000\n",
       "Length: 94, dtype: float64"
      ]
     },
     "execution_count": 6,
     "metadata": {},
     "output_type": "execute_result"
    }
   ],
   "source": [
    "data_null = data_tat.apply(lambda x: x.isnull().sum()/data_tat.shape[0], axis=0)\n",
    "data_null"
   ]
  },
  {
   "cell_type": "markdown",
   "id": "f4478f58",
   "metadata": {},
   "source": [
    "Tenemos un total de **91 columnas**. Realizaremos una eliminación de las **columnas nulas** del DataSet, con la función *dropna(how='all',  axis=1)*"
   ]
  },
  {
   "cell_type": "code",
   "execution_count": 7,
   "id": "b238d62e",
   "metadata": {},
   "outputs": [
    {
     "data": {
      "text/html": [
       "<div>\n",
       "<style scoped>\n",
       "    .dataframe tbody tr th:only-of-type {\n",
       "        vertical-align: middle;\n",
       "    }\n",
       "\n",
       "    .dataframe tbody tr th {\n",
       "        vertical-align: top;\n",
       "    }\n",
       "\n",
       "    .dataframe thead th {\n",
       "        text-align: right;\n",
       "    }\n",
       "</style>\n",
       "<table border=\"1\" class=\"dataframe\">\n",
       "  <thead>\n",
       "    <tr style=\"text-align: right;\">\n",
       "      <th></th>\n",
       "      <th>TAT</th>\n",
       "      <th>TAT7</th>\n",
       "      <th>TAT6</th>\n",
       "      <th>TAT5</th>\n",
       "      <th>TAT4</th>\n",
       "      <th>TAT3</th>\n",
       "      <th>TAT2</th>\n",
       "      <th>TAT1</th>\n",
       "      <th>order_number_id</th>\n",
       "      <th>order_number</th>\n",
       "      <th>...</th>\n",
       "      <th>EIN_arrival_date</th>\n",
       "      <th>EIN_arrival_date_tz</th>\n",
       "      <th>EIN_part_tool</th>\n",
       "      <th>EIN_created_date</th>\n",
       "      <th>EIN_created_date_tz</th>\n",
       "      <th>EIN_airway_bill_date</th>\n",
       "      <th>EIN_airway_bill_date_tz</th>\n",
       "      <th>new_PARTNO</th>\n",
       "      <th>new_DESCRIPTION</th>\n",
       "      <th>new_STATUS</th>\n",
       "    </tr>\n",
       "  </thead>\n",
       "  <tbody>\n",
       "    <tr>\n",
       "      <th>0</th>\n",
       "      <td>12.0</td>\n",
       "      <td>12.0</td>\n",
       "      <td>12.0</td>\n",
       "      <td>NaN</td>\n",
       "      <td>NaN</td>\n",
       "      <td>NaN</td>\n",
       "      <td>NaN</td>\n",
       "      <td>NaN</td>\n",
       "      <td>47613</td>\n",
       "      <td>R0017144TRF</td>\n",
       "      <td>...</td>\n",
       "      <td>2018-09-13 00:00:00</td>\n",
       "      <td>+00:00</td>\n",
       "      <td>Y</td>\n",
       "      <td>2018-09-13 00:00:00</td>\n",
       "      <td>+00:00</td>\n",
       "      <td>2018-09-12 00:00:00</td>\n",
       "      <td>+00:00</td>\n",
       "      <td>879B</td>\n",
       "      <td>LCR METER</td>\n",
       "      <td>0</td>\n",
       "    </tr>\n",
       "    <tr>\n",
       "      <th>1</th>\n",
       "      <td>33.0</td>\n",
       "      <td>NaN</td>\n",
       "      <td>NaN</td>\n",
       "      <td>33.0</td>\n",
       "      <td>33.0</td>\n",
       "      <td>NaN</td>\n",
       "      <td>NaN</td>\n",
       "      <td>5.0</td>\n",
       "      <td>62347</td>\n",
       "      <td>R0285318</td>\n",
       "      <td>...</td>\n",
       "      <td>NaN</td>\n",
       "      <td>NaN</td>\n",
       "      <td>NaN</td>\n",
       "      <td>NaN</td>\n",
       "      <td>NaN</td>\n",
       "      <td>NaN</td>\n",
       "      <td>NaN</td>\n",
       "      <td>AP-2703</td>\n",
       "      <td>DINAMOMETRO</td>\n",
       "      <td>0</td>\n",
       "    </tr>\n",
       "    <tr>\n",
       "      <th>2</th>\n",
       "      <td>4.0</td>\n",
       "      <td>NaN</td>\n",
       "      <td>NaN</td>\n",
       "      <td>NaN</td>\n",
       "      <td>NaN</td>\n",
       "      <td>NaN</td>\n",
       "      <td>NaN</td>\n",
       "      <td>4.0</td>\n",
       "      <td>67713</td>\n",
       "      <td>R0667118</td>\n",
       "      <td>...</td>\n",
       "      <td>NaN</td>\n",
       "      <td>NaN</td>\n",
       "      <td>NaN</td>\n",
       "      <td>NaN</td>\n",
       "      <td>NaN</td>\n",
       "      <td>NaN</td>\n",
       "      <td>NaN</td>\n",
       "      <td>L10</td>\n",
       "      <td>DINAMOMETRO</td>\n",
       "      <td>0</td>\n",
       "    </tr>\n",
       "    <tr>\n",
       "      <th>3</th>\n",
       "      <td>18.0</td>\n",
       "      <td>NaN</td>\n",
       "      <td>NaN</td>\n",
       "      <td>12.0</td>\n",
       "      <td>12.0</td>\n",
       "      <td>NaN</td>\n",
       "      <td>NaN</td>\n",
       "      <td>18.0</td>\n",
       "      <td>74221</td>\n",
       "      <td>R1102719</td>\n",
       "      <td>...</td>\n",
       "      <td>NaN</td>\n",
       "      <td>NaN</td>\n",
       "      <td>NaN</td>\n",
       "      <td>NaN</td>\n",
       "      <td>NaN</td>\n",
       "      <td>NaN</td>\n",
       "      <td>NaN</td>\n",
       "      <td>3277705.</td>\n",
       "      <td>DINAMOMETRO</td>\n",
       "      <td>0</td>\n",
       "    </tr>\n",
       "    <tr>\n",
       "      <th>4</th>\n",
       "      <td>6.0</td>\n",
       "      <td>NaN</td>\n",
       "      <td>NaN</td>\n",
       "      <td>6.0</td>\n",
       "      <td>6.0</td>\n",
       "      <td>NaN</td>\n",
       "      <td>NaN</td>\n",
       "      <td>0.0</td>\n",
       "      <td>76276</td>\n",
       "      <td>R1251719</td>\n",
       "      <td>...</td>\n",
       "      <td>NaN</td>\n",
       "      <td>NaN</td>\n",
       "      <td>NaN</td>\n",
       "      <td>NaN</td>\n",
       "      <td>NaN</td>\n",
       "      <td>NaN</td>\n",
       "      <td>NaN</td>\n",
       "      <td>7034-5</td>\n",
       "      <td>COMPARADOR</td>\n",
       "      <td>0</td>\n",
       "    </tr>\n",
       "    <tr>\n",
       "      <th>...</th>\n",
       "      <td>...</td>\n",
       "      <td>...</td>\n",
       "      <td>...</td>\n",
       "      <td>...</td>\n",
       "      <td>...</td>\n",
       "      <td>...</td>\n",
       "      <td>...</td>\n",
       "      <td>...</td>\n",
       "      <td>...</td>\n",
       "      <td>...</td>\n",
       "      <td>...</td>\n",
       "      <td>...</td>\n",
       "      <td>...</td>\n",
       "      <td>...</td>\n",
       "      <td>...</td>\n",
       "      <td>...</td>\n",
       "      <td>...</td>\n",
       "      <td>...</td>\n",
       "      <td>...</td>\n",
       "      <td>...</td>\n",
       "      <td>...</td>\n",
       "    </tr>\n",
       "    <tr>\n",
       "      <th>14950</th>\n",
       "      <td>37.0</td>\n",
       "      <td>NaN</td>\n",
       "      <td>NaN</td>\n",
       "      <td>37.0</td>\n",
       "      <td>37.0</td>\n",
       "      <td>NaN</td>\n",
       "      <td>NaN</td>\n",
       "      <td>0.0</td>\n",
       "      <td>221104</td>\n",
       "      <td>R3023322</td>\n",
       "      <td>...</td>\n",
       "      <td>NaN</td>\n",
       "      <td>NaN</td>\n",
       "      <td>NaN</td>\n",
       "      <td>NaN</td>\n",
       "      <td>NaN</td>\n",
       "      <td>NaN</td>\n",
       "      <td>NaN</td>\n",
       "      <td>33-215</td>\n",
       "      <td>CINTA METRICA DE 3.5 MTS/12</td>\n",
       "      <td>0</td>\n",
       "    </tr>\n",
       "    <tr>\n",
       "      <th>14951</th>\n",
       "      <td>6.0</td>\n",
       "      <td>NaN</td>\n",
       "      <td>NaN</td>\n",
       "      <td>6.0</td>\n",
       "      <td>6.0</td>\n",
       "      <td>NaN</td>\n",
       "      <td>NaN</td>\n",
       "      <td>0.0</td>\n",
       "      <td>222035</td>\n",
       "      <td>R3095022</td>\n",
       "      <td>...</td>\n",
       "      <td>NaN</td>\n",
       "      <td>NaN</td>\n",
       "      <td>NaN</td>\n",
       "      <td>NaN</td>\n",
       "      <td>NaN</td>\n",
       "      <td>NaN</td>\n",
       "      <td>NaN</td>\n",
       "      <td>4000 KG</td>\n",
       "      <td>DINAMOMETRO</td>\n",
       "      <td>0</td>\n",
       "    </tr>\n",
       "    <tr>\n",
       "      <th>14952</th>\n",
       "      <td>3.0</td>\n",
       "      <td>NaN</td>\n",
       "      <td>NaN</td>\n",
       "      <td>3.0</td>\n",
       "      <td>3.0</td>\n",
       "      <td>NaN</td>\n",
       "      <td>NaN</td>\n",
       "      <td>0.0</td>\n",
       "      <td>227645</td>\n",
       "      <td>R0259923</td>\n",
       "      <td>...</td>\n",
       "      <td>NaN</td>\n",
       "      <td>NaN</td>\n",
       "      <td>NaN</td>\n",
       "      <td>NaN</td>\n",
       "      <td>NaN</td>\n",
       "      <td>NaN</td>\n",
       "      <td>NaN</td>\n",
       "      <td>.800IN</td>\n",
       "      <td>MICROMETRO DE INTERIOR AXIAL</td>\n",
       "      <td>0</td>\n",
       "    </tr>\n",
       "    <tr>\n",
       "      <th>14953</th>\n",
       "      <td>8.0</td>\n",
       "      <td>NaN</td>\n",
       "      <td>NaN</td>\n",
       "      <td>8.0</td>\n",
       "      <td>8.0</td>\n",
       "      <td>7.0</td>\n",
       "      <td>4.0</td>\n",
       "      <td>0.0</td>\n",
       "      <td>229035</td>\n",
       "      <td>R0369923</td>\n",
       "      <td>...</td>\n",
       "      <td>NaN</td>\n",
       "      <td>NaN</td>\n",
       "      <td>NaN</td>\n",
       "      <td>NaN</td>\n",
       "      <td>NaN</td>\n",
       "      <td>NaN</td>\n",
       "      <td>NaN</td>\n",
       "      <td>M22520/1-01</td>\n",
       "      <td>MANDRILADORA PINES DANIELS</td>\n",
       "      <td>0</td>\n",
       "    </tr>\n",
       "    <tr>\n",
       "      <th>14954</th>\n",
       "      <td>19.0</td>\n",
       "      <td>NaN</td>\n",
       "      <td>NaN</td>\n",
       "      <td>8.0</td>\n",
       "      <td>8.0</td>\n",
       "      <td>19.0</td>\n",
       "      <td>18.0</td>\n",
       "      <td>0.0</td>\n",
       "      <td>229035</td>\n",
       "      <td>R0369923</td>\n",
       "      <td>...</td>\n",
       "      <td>NaN</td>\n",
       "      <td>NaN</td>\n",
       "      <td>NaN</td>\n",
       "      <td>NaN</td>\n",
       "      <td>NaN</td>\n",
       "      <td>NaN</td>\n",
       "      <td>NaN</td>\n",
       "      <td>M22520/1-01</td>\n",
       "      <td>MANDRILADORA PINES DANIELS</td>\n",
       "      <td>0</td>\n",
       "    </tr>\n",
       "  </tbody>\n",
       "</table>\n",
       "<p>14955 rows × 88 columns</p>\n",
       "</div>"
      ],
      "text/plain": [
       "        TAT  TAT7  TAT6  TAT5  TAT4  TAT3  TAT2  TAT1  order_number_id  \\\n",
       "0      12.0  12.0  12.0   NaN   NaN   NaN   NaN   NaN            47613   \n",
       "1      33.0   NaN   NaN  33.0  33.0   NaN   NaN   5.0            62347   \n",
       "2       4.0   NaN   NaN   NaN   NaN   NaN   NaN   4.0            67713   \n",
       "3      18.0   NaN   NaN  12.0  12.0   NaN   NaN  18.0            74221   \n",
       "4       6.0   NaN   NaN   6.0   6.0   NaN   NaN   0.0            76276   \n",
       "...     ...   ...   ...   ...   ...   ...   ...   ...              ...   \n",
       "14950  37.0   NaN   NaN  37.0  37.0   NaN   NaN   0.0           221104   \n",
       "14951   6.0   NaN   NaN   6.0   6.0   NaN   NaN   0.0           222035   \n",
       "14952   3.0   NaN   NaN   3.0   3.0   NaN   NaN   0.0           227645   \n",
       "14953   8.0   NaN   NaN   8.0   8.0   7.0   4.0   0.0           229035   \n",
       "14954  19.0   NaN   NaN   8.0   8.0  19.0  18.0   0.0           229035   \n",
       "\n",
       "      order_number  ...     EIN_arrival_date EIN_arrival_date_tz  \\\n",
       "0      R0017144TRF  ...  2018-09-13 00:00:00              +00:00   \n",
       "1         R0285318  ...                  NaN                 NaN   \n",
       "2         R0667118  ...                  NaN                 NaN   \n",
       "3         R1102719  ...                  NaN                 NaN   \n",
       "4         R1251719  ...                  NaN                 NaN   \n",
       "...            ...  ...                  ...                 ...   \n",
       "14950     R3023322  ...                  NaN                 NaN   \n",
       "14951     R3095022  ...                  NaN                 NaN   \n",
       "14952     R0259923  ...                  NaN                 NaN   \n",
       "14953     R0369923  ...                  NaN                 NaN   \n",
       "14954     R0369923  ...                  NaN                 NaN   \n",
       "\n",
       "      EIN_part_tool     EIN_created_date EIN_created_date_tz  \\\n",
       "0                 Y  2018-09-13 00:00:00              +00:00   \n",
       "1               NaN                  NaN                 NaN   \n",
       "2               NaN                  NaN                 NaN   \n",
       "3               NaN                  NaN                 NaN   \n",
       "4               NaN                  NaN                 NaN   \n",
       "...             ...                  ...                 ...   \n",
       "14950           NaN                  NaN                 NaN   \n",
       "14951           NaN                  NaN                 NaN   \n",
       "14952           NaN                  NaN                 NaN   \n",
       "14953           NaN                  NaN                 NaN   \n",
       "14954           NaN                  NaN                 NaN   \n",
       "\n",
       "      EIN_airway_bill_date EIN_airway_bill_date_tz   new_PARTNO  \\\n",
       "0      2018-09-12 00:00:00                  +00:00         879B   \n",
       "1                      NaN                     NaN      AP-2703   \n",
       "2                      NaN                     NaN          L10   \n",
       "3                      NaN                     NaN     3277705.   \n",
       "4                      NaN                     NaN       7034-5   \n",
       "...                    ...                     ...          ...   \n",
       "14950                  NaN                     NaN       33-215   \n",
       "14951                  NaN                     NaN      4000 KG   \n",
       "14952                  NaN                     NaN       .800IN   \n",
       "14953                  NaN                     NaN  M22520/1-01   \n",
       "14954                  NaN                     NaN  M22520/1-01   \n",
       "\n",
       "                    new_DESCRIPTION new_STATUS  \n",
       "0                         LCR METER          0  \n",
       "1                       DINAMOMETRO          0  \n",
       "2                       DINAMOMETRO          0  \n",
       "3                       DINAMOMETRO          0  \n",
       "4                        COMPARADOR          0  \n",
       "...                             ...        ...  \n",
       "14950   CINTA METRICA DE 3.5 MTS/12          0  \n",
       "14951                   DINAMOMETRO          0  \n",
       "14952  MICROMETRO DE INTERIOR AXIAL          0  \n",
       "14953    MANDRILADORA PINES DANIELS          0  \n",
       "14954    MANDRILADORA PINES DANIELS          0  \n",
       "\n",
       "[14955 rows x 88 columns]"
      ]
     },
     "execution_count": 7,
     "metadata": {},
     "output_type": "execute_result"
    }
   ],
   "source": [
    "data_tat.dropna(how='all', axis=1)"
   ]
  },
  {
   "cell_type": "markdown",
   "id": "d2760ea0",
   "metadata": {},
   "source": [
    "Después de haber tenido una reunón con los proveedores de la base de datos para realizar este análisis, se pudieron determinar las columnas que podrían ser influyentes para realizar predicciones. Y se descartaron aquellas que no tienen relevancia en el asunto.\n",
    "\n",
    "En este punto tomaremos solamente las columnas Categoricas o numéricas que pueden aportar al objetivo de clasificación que queremos realizar. Para eso crearemos  un nuevo DataFrame con un **filtro de columnas**."
   ]
  },
  {
   "cell_type": "code",
   "execution_count": 8,
   "id": "9cfcd1e0",
   "metadata": {},
   "outputs": [],
   "source": [
    "data_tat_filter = data_tat[[\n",
    "    'TAT',\n",
    "    'new_PARTNO',\n",
    "    'new_DESCRIPTION',\n",
    "    'order_number_id',\n",
    "    'order_number',\n",
    "    'order_type',\n",
    "    'order_date',\n",
    "    'address_ship',\n",
    "    'vendor_code',\n",
    "    'shipment',\n",
    "    'priority',\n",
    "    'created_date',\n",
    "    'od_confirmed_date',\n",
    "    'od_req_condition']]"
   ]
  },
  {
   "cell_type": "code",
   "execution_count": 9,
   "id": "fd7cc1ba",
   "metadata": {},
   "outputs": [
    {
     "data": {
      "text/html": [
       "<div>\n",
       "<style scoped>\n",
       "    .dataframe tbody tr th:only-of-type {\n",
       "        vertical-align: middle;\n",
       "    }\n",
       "\n",
       "    .dataframe tbody tr th {\n",
       "        vertical-align: top;\n",
       "    }\n",
       "\n",
       "    .dataframe thead th {\n",
       "        text-align: right;\n",
       "    }\n",
       "</style>\n",
       "<table border=\"1\" class=\"dataframe\">\n",
       "  <thead>\n",
       "    <tr style=\"text-align: right;\">\n",
       "      <th></th>\n",
       "      <th>TAT</th>\n",
       "      <th>new_PARTNO</th>\n",
       "      <th>new_DESCRIPTION</th>\n",
       "      <th>order_number_id</th>\n",
       "      <th>order_number</th>\n",
       "      <th>order_type</th>\n",
       "      <th>order_date</th>\n",
       "      <th>address_ship</th>\n",
       "      <th>vendor_code</th>\n",
       "      <th>shipment</th>\n",
       "      <th>priority</th>\n",
       "      <th>created_date</th>\n",
       "      <th>od_confirmed_date</th>\n",
       "      <th>od_req_condition</th>\n",
       "    </tr>\n",
       "  </thead>\n",
       "  <tbody>\n",
       "    <tr>\n",
       "      <th>0</th>\n",
       "      <td>12.0</td>\n",
       "      <td>879B</td>\n",
       "      <td>LCR METER</td>\n",
       "      <td>47613</td>\n",
       "      <td>R0017144TRF</td>\n",
       "      <td>R</td>\n",
       "      <td>2018-08-08 00:00:00</td>\n",
       "      <td>AEP</td>\n",
       "      <td>0NUU5</td>\n",
       "      <td>NaN</td>\n",
       "      <td>NaN</td>\n",
       "      <td>2018-08-31 00:00:00</td>\n",
       "      <td>0</td>\n",
       "      <td>NaN</td>\n",
       "    </tr>\n",
       "    <tr>\n",
       "      <th>1</th>\n",
       "      <td>33.0</td>\n",
       "      <td>AP-2703</td>\n",
       "      <td>DINAMOMETRO</td>\n",
       "      <td>62347</td>\n",
       "      <td>R0285318</td>\n",
       "      <td>R</td>\n",
       "      <td>2018-10-03 00:00:00</td>\n",
       "      <td>ARG</td>\n",
       "      <td>AR0011</td>\n",
       "      <td>NaN</td>\n",
       "      <td>RTN</td>\n",
       "      <td>2018-10-03 00:00:00</td>\n",
       "      <td>0</td>\n",
       "      <td>CA</td>\n",
       "    </tr>\n",
       "    <tr>\n",
       "      <th>2</th>\n",
       "      <td>4.0</td>\n",
       "      <td>L10</td>\n",
       "      <td>DINAMOMETRO</td>\n",
       "      <td>67713</td>\n",
       "      <td>R0667118</td>\n",
       "      <td>R</td>\n",
       "      <td>2018-11-12 00:00:00</td>\n",
       "      <td>ARG</td>\n",
       "      <td>AR0011</td>\n",
       "      <td>NaN</td>\n",
       "      <td>RTN</td>\n",
       "      <td>2018-11-12 00:00:00</td>\n",
       "      <td>0</td>\n",
       "      <td>CA</td>\n",
       "    </tr>\n",
       "    <tr>\n",
       "      <th>3</th>\n",
       "      <td>18.0</td>\n",
       "      <td>3277705.</td>\n",
       "      <td>DINAMOMETRO</td>\n",
       "      <td>74221</td>\n",
       "      <td>R1102719</td>\n",
       "      <td>R</td>\n",
       "      <td>2019-01-07 00:00:00</td>\n",
       "      <td>ARG</td>\n",
       "      <td>AR0011</td>\n",
       "      <td>NaN</td>\n",
       "      <td>RTN</td>\n",
       "      <td>2019-01-05 00:00:00</td>\n",
       "      <td>0</td>\n",
       "      <td>CA</td>\n",
       "    </tr>\n",
       "    <tr>\n",
       "      <th>4</th>\n",
       "      <td>6.0</td>\n",
       "      <td>7034-5</td>\n",
       "      <td>COMPARADOR</td>\n",
       "      <td>76276</td>\n",
       "      <td>R1251719</td>\n",
       "      <td>R</td>\n",
       "      <td>2019-01-21 00:00:00</td>\n",
       "      <td>ARG</td>\n",
       "      <td>AR0011</td>\n",
       "      <td>NaN</td>\n",
       "      <td>RTN</td>\n",
       "      <td>2019-01-19 00:00:00</td>\n",
       "      <td>0</td>\n",
       "      <td>CA</td>\n",
       "    </tr>\n",
       "  </tbody>\n",
       "</table>\n",
       "</div>"
      ],
      "text/plain": [
       "    TAT new_PARTNO new_DESCRIPTION  order_number_id order_number order_type  \\\n",
       "0  12.0       879B       LCR METER            47613  R0017144TRF          R   \n",
       "1  33.0    AP-2703     DINAMOMETRO            62347     R0285318          R   \n",
       "2   4.0        L10     DINAMOMETRO            67713     R0667118          R   \n",
       "3  18.0   3277705.     DINAMOMETRO            74221     R1102719          R   \n",
       "4   6.0     7034-5      COMPARADOR            76276     R1251719          R   \n",
       "\n",
       "            order_date address_ship vendor_code shipment priority  \\\n",
       "0  2018-08-08 00:00:00          AEP       0NUU5      NaN      NaN   \n",
       "1  2018-10-03 00:00:00          ARG      AR0011      NaN      RTN   \n",
       "2  2018-11-12 00:00:00          ARG      AR0011      NaN      RTN   \n",
       "3  2019-01-07 00:00:00          ARG      AR0011      NaN      RTN   \n",
       "4  2019-01-21 00:00:00          ARG      AR0011      NaN      RTN   \n",
       "\n",
       "          created_date od_confirmed_date od_req_condition  \n",
       "0  2018-08-31 00:00:00                 0              NaN  \n",
       "1  2018-10-03 00:00:00                 0               CA  \n",
       "2  2018-11-12 00:00:00                 0               CA  \n",
       "3  2019-01-05 00:00:00                 0               CA  \n",
       "4  2019-01-19 00:00:00                 0               CA  "
      ]
     },
     "execution_count": 9,
     "metadata": {},
     "output_type": "execute_result"
    }
   ],
   "source": [
    "data_tat_filter.head(5)"
   ]
  },
  {
   "cell_type": "code",
   "execution_count": 10,
   "id": "c00cf6da",
   "metadata": {},
   "outputs": [
    {
     "data": {
      "text/plain": [
       "14"
      ]
     },
     "execution_count": 10,
     "metadata": {},
     "output_type": "execute_result"
    }
   ],
   "source": [
    "data_tat_filter.shape[1]"
   ]
  },
  {
   "cell_type": "markdown",
   "id": "6d8787a0",
   "metadata": {},
   "source": [
    "Pasamos de tener 91 columnas en nuestro DataSet original, a pasar a **14 columnas** finales."
   ]
  },
  {
   "cell_type": "markdown",
   "id": "1c5ab29d",
   "metadata": {},
   "source": [
    "Una vez imputado todos los datos de los TAT vamos **identificar los vendors** desde otro DataSet llamado \"data_vendors\" que identifica a los Vendors con un codigo, su nombre y datos estadisticos preliminares.\n",
    "\n",
    "Con ese dato podemos incorporar los nombres de los provedores de una manera más amigable. Creamos un nuevo DataSet con los nombres de los vendors."
   ]
  },
  {
   "cell_type": "code",
   "execution_count": 11,
   "id": "fd17a582",
   "metadata": {},
   "outputs": [
    {
     "data": {
      "text/html": [
       "<div>\n",
       "<style scoped>\n",
       "    .dataframe tbody tr th:only-of-type {\n",
       "        vertical-align: middle;\n",
       "    }\n",
       "\n",
       "    .dataframe tbody tr th {\n",
       "        vertical-align: top;\n",
       "    }\n",
       "\n",
       "    .dataframe thead th {\n",
       "        text-align: right;\n",
       "    }\n",
       "</style>\n",
       "<table border=\"1\" class=\"dataframe\">\n",
       "  <thead>\n",
       "    <tr style=\"text-align: right;\">\n",
       "      <th></th>\n",
       "      <th>vendor_name</th>\n",
       "      <th>vendor_code</th>\n",
       "      <th>COUNT</th>\n",
       "      <th>MEAN_of_TAT</th>\n",
       "      <th>STDEV_of_TAT</th>\n",
       "    </tr>\n",
       "  </thead>\n",
       "  <tbody>\n",
       "    <tr>\n",
       "      <th>0</th>\n",
       "      <td>BERNOULLI AEROSPACE, LLC</td>\n",
       "      <td>US0942</td>\n",
       "      <td>1061</td>\n",
       "      <td>73.393968</td>\n",
       "      <td>96.565499</td>\n",
       "    </tr>\n",
       "    <tr>\n",
       "      <th>1</th>\n",
       "      <td>DASTEC SRL USA LLC</td>\n",
       "      <td>US0192</td>\n",
       "      <td>1</td>\n",
       "      <td>33.000000</td>\n",
       "      <td>NaN</td>\n",
       "    </tr>\n",
       "    <tr>\n",
       "      <th>2</th>\n",
       "      <td>EDACI S.R.L.</td>\n",
       "      <td>AR0310</td>\n",
       "      <td>444</td>\n",
       "      <td>45.380631</td>\n",
       "      <td>58.214414</td>\n",
       "    </tr>\n",
       "    <tr>\n",
       "      <th>3</th>\n",
       "      <td>DANIELS MANUFACTURING CORP.</td>\n",
       "      <td>11851</td>\n",
       "      <td>9</td>\n",
       "      <td>58.333333</td>\n",
       "      <td>45.634417</td>\n",
       "    </tr>\n",
       "    <tr>\n",
       "      <th>4</th>\n",
       "      <td>SCHENCK ROTEC GMBH</td>\n",
       "      <td>CE619</td>\n",
       "      <td>1</td>\n",
       "      <td>193.000000</td>\n",
       "      <td>NaN</td>\n",
       "    </tr>\n",
       "  </tbody>\n",
       "</table>\n",
       "</div>"
      ],
      "text/plain": [
       "                   vendor_name vendor_code  COUNT  MEAN_of_TAT  STDEV_of_TAT\n",
       "0     BERNOULLI AEROSPACE, LLC      US0942   1061    73.393968     96.565499\n",
       "1           DASTEC SRL USA LLC      US0192      1    33.000000           NaN\n",
       "2                 EDACI S.R.L.      AR0310    444    45.380631     58.214414\n",
       "3  DANIELS MANUFACTURING CORP.       11851      9    58.333333     45.634417\n",
       "4           SCHENCK ROTEC GMBH       CE619      1   193.000000           NaN"
      ]
     },
     "execution_count": 11,
     "metadata": {},
     "output_type": "execute_result"
    }
   ],
   "source": [
    "data_vendors.head(5)"
   ]
  },
  {
   "cell_type": "markdown",
   "id": "66ae5a83",
   "metadata": {},
   "source": [
    "Nos quedamos con las dos columnas de **'vendro_name'** y **'vendor_code'** y dropeamos el resto."
   ]
  },
  {
   "cell_type": "code",
   "execution_count": 12,
   "id": "1a8c5fa9",
   "metadata": {},
   "outputs": [],
   "source": [
    "data_vendors_filtrado = data_vendors.drop(['COUNT','MEAN_of_TAT','STDEV_of_TAT'], axis=1)"
   ]
  },
  {
   "cell_type": "markdown",
   "id": "476b0f28",
   "metadata": {},
   "source": [
    "Realizamos un **merge** con los nombres."
   ]
  },
  {
   "cell_type": "code",
   "execution_count": 13,
   "id": "51195c6c",
   "metadata": {},
   "outputs": [
    {
     "data": {
      "text/html": [
       "<div>\n",
       "<style scoped>\n",
       "    .dataframe tbody tr th:only-of-type {\n",
       "        vertical-align: middle;\n",
       "    }\n",
       "\n",
       "    .dataframe tbody tr th {\n",
       "        vertical-align: top;\n",
       "    }\n",
       "\n",
       "    .dataframe thead th {\n",
       "        text-align: right;\n",
       "    }\n",
       "</style>\n",
       "<table border=\"1\" class=\"dataframe\">\n",
       "  <thead>\n",
       "    <tr style=\"text-align: right;\">\n",
       "      <th></th>\n",
       "      <th>TAT</th>\n",
       "      <th>new_PARTNO</th>\n",
       "      <th>new_DESCRIPTION</th>\n",
       "      <th>order_number_id</th>\n",
       "      <th>order_number</th>\n",
       "      <th>order_type</th>\n",
       "      <th>order_date</th>\n",
       "      <th>address_ship</th>\n",
       "      <th>vendor_code</th>\n",
       "      <th>shipment</th>\n",
       "      <th>priority</th>\n",
       "      <th>created_date</th>\n",
       "      <th>od_confirmed_date</th>\n",
       "      <th>od_req_condition</th>\n",
       "      <th>vendor_name</th>\n",
       "    </tr>\n",
       "  </thead>\n",
       "  <tbody>\n",
       "    <tr>\n",
       "      <th>14795</th>\n",
       "      <td>24.0</td>\n",
       "      <td>TK4150</td>\n",
       "      <td>MANDRILADORA TERMIN.</td>\n",
       "      <td>198971</td>\n",
       "      <td>R1345522</td>\n",
       "      <td>R</td>\n",
       "      <td>2022-05-30 00:00:00</td>\n",
       "      <td>ADUANA-EZE</td>\n",
       "      <td>7VKY4</td>\n",
       "      <td>F3</td>\n",
       "      <td>RTN</td>\n",
       "      <td>2022-05-30 00:00:00</td>\n",
       "      <td>2022-06-23 00:00:00</td>\n",
       "      <td>CA</td>\n",
       "      <td>AVC LABORATORY</td>\n",
       "    </tr>\n",
       "    <tr>\n",
       "      <th>13349</th>\n",
       "      <td>155.0</td>\n",
       "      <td>D-5820P</td>\n",
       "      <td>GAUSSIMETRO</td>\n",
       "      <td>143168</td>\n",
       "      <td>R1234420</td>\n",
       "      <td>R</td>\n",
       "      <td>2020-07-14 00:00:00</td>\n",
       "      <td>ADUANA-AEP</td>\n",
       "      <td>US0954</td>\n",
       "      <td>F6</td>\n",
       "      <td>RTN</td>\n",
       "      <td>2020-07-14 00:00:00</td>\n",
       "      <td>0</td>\n",
       "      <td>CA</td>\n",
       "      <td>ALPHA &amp; OMEGA CALIBRATION SERVICES</td>\n",
       "    </tr>\n",
       "    <tr>\n",
       "      <th>530</th>\n",
       "      <td>16.0</td>\n",
       "      <td>A3Q</td>\n",
       "      <td>COMPARADOR</td>\n",
       "      <td>119623</td>\n",
       "      <td>R4336219</td>\n",
       "      <td>R</td>\n",
       "      <td>2019-11-06 00:00:00</td>\n",
       "      <td>AR0650</td>\n",
       "      <td>AR0011</td>\n",
       "      <td>NaN</td>\n",
       "      <td>RTN</td>\n",
       "      <td>2019-11-06 00:00:00</td>\n",
       "      <td>2020-01-12 00:00:00</td>\n",
       "      <td>CA</td>\n",
       "      <td>RUBEN HUGO COPPOLA E HIJOS SRL</td>\n",
       "    </tr>\n",
       "  </tbody>\n",
       "</table>\n",
       "</div>"
      ],
      "text/plain": [
       "         TAT new_PARTNO       new_DESCRIPTION  order_number_id order_number  \\\n",
       "14795   24.0     TK4150  MANDRILADORA TERMIN.           198971     R1345522   \n",
       "13349  155.0    D-5820P           GAUSSIMETRO           143168     R1234420   \n",
       "530     16.0        A3Q            COMPARADOR           119623     R4336219   \n",
       "\n",
       "      order_type           order_date address_ship vendor_code shipment  \\\n",
       "14795          R  2022-05-30 00:00:00   ADUANA-EZE       7VKY4       F3   \n",
       "13349          R  2020-07-14 00:00:00   ADUANA-AEP      US0954       F6   \n",
       "530            R  2019-11-06 00:00:00       AR0650      AR0011      NaN   \n",
       "\n",
       "      priority         created_date    od_confirmed_date od_req_condition  \\\n",
       "14795      RTN  2022-05-30 00:00:00  2022-06-23 00:00:00               CA   \n",
       "13349      RTN  2020-07-14 00:00:00                    0               CA   \n",
       "530        RTN  2019-11-06 00:00:00  2020-01-12 00:00:00               CA   \n",
       "\n",
       "                              vendor_name  \n",
       "14795                      AVC LABORATORY  \n",
       "13349  ALPHA & OMEGA CALIBRATION SERVICES  \n",
       "530        RUBEN HUGO COPPOLA E HIJOS SRL  "
      ]
     },
     "execution_count": 13,
     "metadata": {},
     "output_type": "execute_result"
    }
   ],
   "source": [
    "ds_complete = data_tat_filter.merge(data_vendors_filtrado, how='left', on='vendor_code')\n",
    "ds_complete.sample(3)"
   ]
  },
  {
   "cell_type": "code",
   "execution_count": 14,
   "id": "9b50062b",
   "metadata": {},
   "outputs": [],
   "source": [
    "ds_complete.rename(columns={'new_PARTNO':'part_number','new_DESCRIPTION':'description'}, inplace=True)"
   ]
  },
  {
   "cell_type": "markdown",
   "id": "0b9a02cd",
   "metadata": {},
   "source": [
    "Finalmente tenemos el DataSet agrupado."
   ]
  },
  {
   "cell_type": "markdown",
   "id": "b1200302",
   "metadata": {},
   "source": [
    "Ahora necesitamos realizar una limpieza de los **valores nulos** en nuestras columnas de interes.\n",
    "\n",
    "Primero identificaremos la  proporción de nulos en cada una. Y después identificar el tipo de columnas que tenemos."
   ]
  },
  {
   "cell_type": "code",
   "execution_count": 15,
   "id": "80f7bcbc",
   "metadata": {},
   "outputs": [
    {
     "data": {
      "text/plain": [
       "TAT                  0.001003\n",
       "part_number          0.000000\n",
       "description          0.000000\n",
       "order_number_id      0.000000\n",
       "order_number         0.000000\n",
       "order_type           0.000000\n",
       "order_date           0.000000\n",
       "address_ship         0.006954\n",
       "vendor_code          0.000000\n",
       "shipment             0.528118\n",
       "priority             0.031695\n",
       "created_date         0.000000\n",
       "od_confirmed_date    0.000000\n",
       "od_req_condition     0.019525\n",
       "vendor_name          0.000669\n",
       "dtype: float64"
      ]
     },
     "execution_count": 15,
     "metadata": {},
     "output_type": "execute_result"
    }
   ],
   "source": [
    "ds_complete.apply(lambda x: x.isnull().sum()/data_tat_filter.shape[0], axis=0)"
   ]
  },
  {
   "cell_type": "code",
   "execution_count": 16,
   "id": "1bc8e6da",
   "metadata": {},
   "outputs": [
    {
     "name": "stdout",
     "output_type": "stream",
     "text": [
      "<class 'pandas.core.frame.DataFrame'>\n",
      "Int64Index: 14955 entries, 0 to 14954\n",
      "Data columns (total 15 columns):\n",
      " #   Column             Non-Null Count  Dtype  \n",
      "---  ------             --------------  -----  \n",
      " 0   TAT                14940 non-null  float64\n",
      " 1   part_number        14955 non-null  object \n",
      " 2   description        14955 non-null  object \n",
      " 3   order_number_id    14955 non-null  int64  \n",
      " 4   order_number       14955 non-null  object \n",
      " 5   order_type         14955 non-null  object \n",
      " 6   order_date         14955 non-null  object \n",
      " 7   address_ship       14851 non-null  object \n",
      " 8   vendor_code        14955 non-null  object \n",
      " 9   shipment           7057 non-null   object \n",
      " 10  priority           14481 non-null  object \n",
      " 11  created_date       14955 non-null  object \n",
      " 12  od_confirmed_date  14955 non-null  object \n",
      " 13  od_req_condition   14663 non-null  object \n",
      " 14  vendor_name        14945 non-null  object \n",
      "dtypes: float64(1), int64(1), object(13)\n",
      "memory usage: 1.8+ MB\n"
     ]
    }
   ],
   "source": [
    "ds_complete.info()"
   ]
  },
  {
   "cell_type": "markdown",
   "id": "920dc57c",
   "metadata": {},
   "source": [
    "Las columnas más comprometidas en la proporción de nulos son **'TAT'** (por su relevancia en la predicción de datos), **'entry_date'**, **'address_ship'**, **'shipment'**, **'priority'**, **'od_req_condition'** y **'vendor_name'**.\n",
    "\n",
    "Ahora lo que necesitamos es completar los nulos de las columnas.\n",
    "* TAT: Completaremos los nulos de los datos con el valor medio de los datos.\n",
    "* Shipment: Los valores nulos los completaremos con '--'.\n",
    "* Priority: Los valores nulos los completaremos con '--'.\n",
    "* Address_ship: Los valores nulos colocaresmo ARG.\n",
    "* Od_req_condition: Los valores nulos los remplazaremos por la condición 'CA', de calibración, ya que son todas herramientas calibradas.\n"
   ]
  },
  {
   "cell_type": "code",
   "execution_count": 17,
   "id": "93173527",
   "metadata": {},
   "outputs": [
    {
     "data": {
      "text/plain": [
       "0"
      ]
     },
     "execution_count": 17,
     "metadata": {},
     "output_type": "execute_result"
    }
   ],
   "source": [
    "ds_complete['TAT'].fillna(ds_complete.TAT.mean(), inplace=True)\n",
    "ds_complete.TAT.isnull().sum()"
   ]
  },
  {
   "cell_type": "code",
   "execution_count": 18,
   "id": "c43a6fa1",
   "metadata": {},
   "outputs": [
    {
     "data": {
      "text/plain": [
       "array([nan, 'F3', 'F6', '--', 'F5', 'UP', 'F2', 'F1', 'AT', 'FF', 'Z2',\n",
       "       'Z1'], dtype=object)"
      ]
     },
     "execution_count": 18,
     "metadata": {},
     "output_type": "execute_result"
    }
   ],
   "source": [
    "ds_complete['shipment'].unique()"
   ]
  },
  {
   "cell_type": "code",
   "execution_count": 19,
   "id": "02653e7e",
   "metadata": {},
   "outputs": [
    {
     "data": {
      "text/plain": [
       "0"
      ]
     },
     "execution_count": 19,
     "metadata": {},
     "output_type": "execute_result"
    }
   ],
   "source": [
    "ds_complete['shipment'].fillna('--', inplace=True)\n",
    "ds_complete['shipment'].isnull().sum()"
   ]
  },
  {
   "cell_type": "code",
   "execution_count": 20,
   "id": "1d531c5a",
   "metadata": {},
   "outputs": [
    {
     "data": {
      "text/plain": [
       "array([nan, 'RTN', 'USR', 'AOG', 'WSP'], dtype=object)"
      ]
     },
     "execution_count": 20,
     "metadata": {},
     "output_type": "execute_result"
    }
   ],
   "source": [
    "ds_complete['priority'].unique()"
   ]
  },
  {
   "cell_type": "code",
   "execution_count": 21,
   "id": "f39d4f97",
   "metadata": {},
   "outputs": [
    {
     "data": {
      "text/plain": [
       "0"
      ]
     },
     "execution_count": 21,
     "metadata": {},
     "output_type": "execute_result"
    }
   ],
   "source": [
    "ds_complete['priority'].fillna('--', inplace=True)\n",
    "ds_complete['priority'].isnull().sum()"
   ]
  },
  {
   "cell_type": "code",
   "execution_count": 22,
   "id": "e5d2512b",
   "metadata": {},
   "outputs": [
    {
     "data": {
      "text/plain": [
       "array(['AEP', 'ARG', 'ADUANA-EZE', 'AR0650', 'ADUANA-AEP', 'AR-REC',\n",
       "       'EZE', 'AUT', '062W2', nan, 'AR-METROLOGY', '3F4Z0', 'AR-ORDERING',\n",
       "       'NL0008', 'DE0203', '09AQ0', '81205', 'MIA-LOG', 'AU-REC',\n",
       "       'AU-ORDERING', 'US0202', 'EXP-EZE', 'AR-INVOICE'], dtype=object)"
      ]
     },
     "execution_count": 22,
     "metadata": {},
     "output_type": "execute_result"
    }
   ],
   "source": [
    "ds_complete['address_ship'].unique()"
   ]
  },
  {
   "cell_type": "code",
   "execution_count": 23,
   "id": "59270aff",
   "metadata": {},
   "outputs": [
    {
     "data": {
      "text/plain": [
       "0"
      ]
     },
     "execution_count": 23,
     "metadata": {},
     "output_type": "execute_result"
    }
   ],
   "source": [
    "ds_complete['address_ship'].fillna('ARG', inplace=True)\n",
    "ds_complete['address_ship'].isnull().sum()"
   ]
  },
  {
   "cell_type": "code",
   "execution_count": 24,
   "id": "08236b4f",
   "metadata": {},
   "outputs": [
    {
     "data": {
      "text/plain": [
       "array([nan, 'CA', 'N', 'R', 'US', 'S', 'T', 'RT', 'SV', 'SC'],\n",
       "      dtype=object)"
      ]
     },
     "execution_count": 24,
     "metadata": {},
     "output_type": "execute_result"
    }
   ],
   "source": [
    "ds_complete['od_req_condition'].unique()"
   ]
  },
  {
   "cell_type": "code",
   "execution_count": 25,
   "id": "559fcb94",
   "metadata": {},
   "outputs": [
    {
     "data": {
      "text/plain": [
       "0"
      ]
     },
     "execution_count": 25,
     "metadata": {},
     "output_type": "execute_result"
    }
   ],
   "source": [
    "ds_complete['od_req_condition'].fillna('CA', inplace=True)\n",
    "ds_complete['od_req_condition'].isnull().sum()"
   ]
  },
  {
   "cell_type": "markdown",
   "id": "b6fd7439",
   "metadata": {},
   "source": [
    "Ahora necesitamos transformar los **valores de tiempo** en valores numéricos, para poder evaluarlos correctamente."
   ]
  },
  {
   "cell_type": "code",
   "execution_count": 26,
   "id": "b2b48eb2",
   "metadata": {},
   "outputs": [],
   "source": [
    "ds_complete['order_date'] = ds_complete['order_date'].apply(lambda x: pd.to_datetime(x))\n",
    "ds_complete['order_date_year'] = ds_complete['order_date'].apply(lambda x: x.year)\n",
    "ds_complete['order_date_month'] = ds_complete['order_date'].apply(lambda x: x.month)\n",
    "ds_complete['order_date_day'] = ds_complete['order_date'].apply(lambda x: x.day)"
   ]
  },
  {
   "cell_type": "code",
   "execution_count": 27,
   "id": "34857efb",
   "metadata": {},
   "outputs": [],
   "source": [
    "#ds_complete['date_arrive'] = ds_complete['order_date'].apply(lambda x: ds_complete.TAT.astype('int') + x)"
   ]
  },
  {
   "cell_type": "markdown",
   "id": "64199c8d",
   "metadata": {},
   "source": [
    "**Clasificación de valores**\n",
    "\n",
    "Vamos a crear nuestro **vector objetivo 'Y'**. Para eso vamos a tomar como parametro de rentabilidad (*'on_time'*), a todas aquellas herramientas que estén dentro de los **90 días**. El resto que excedan este tiempo se considerarán no rentables o como *'con retraso'*.\n",
    "\n",
    "La idea de este vector es permitir identificar aquellos vendors que hagan entregas con retraso según el tipo de equipo."
   ]
  },
  {
   "cell_type": "code",
   "execution_count": 28,
   "id": "ce0f452c",
   "metadata": {},
   "outputs": [],
   "source": [
    "ds_complete['on_time'] = ds_complete['TAT'].apply(lambda x: 1 if x <= 90 else 0)"
   ]
  },
  {
   "cell_type": "code",
   "execution_count": 29,
   "id": "4691edb9",
   "metadata": {},
   "outputs": [
    {
     "data": {
      "text/html": [
       "<div>\n",
       "<style scoped>\n",
       "    .dataframe tbody tr th:only-of-type {\n",
       "        vertical-align: middle;\n",
       "    }\n",
       "\n",
       "    .dataframe tbody tr th {\n",
       "        vertical-align: top;\n",
       "    }\n",
       "\n",
       "    .dataframe thead th {\n",
       "        text-align: right;\n",
       "    }\n",
       "</style>\n",
       "<table border=\"1\" class=\"dataframe\">\n",
       "  <thead>\n",
       "    <tr style=\"text-align: right;\">\n",
       "      <th></th>\n",
       "      <th>TAT</th>\n",
       "      <th>part_number</th>\n",
       "      <th>description</th>\n",
       "      <th>order_number_id</th>\n",
       "      <th>order_number</th>\n",
       "      <th>order_type</th>\n",
       "      <th>order_date</th>\n",
       "      <th>address_ship</th>\n",
       "      <th>vendor_code</th>\n",
       "      <th>shipment</th>\n",
       "      <th>priority</th>\n",
       "      <th>created_date</th>\n",
       "      <th>od_confirmed_date</th>\n",
       "      <th>od_req_condition</th>\n",
       "      <th>vendor_name</th>\n",
       "      <th>order_date_year</th>\n",
       "      <th>order_date_month</th>\n",
       "      <th>order_date_day</th>\n",
       "      <th>on_time</th>\n",
       "    </tr>\n",
       "  </thead>\n",
       "  <tbody>\n",
       "    <tr>\n",
       "      <th>2874</th>\n",
       "      <td>186.0</td>\n",
       "      <td>MEC-AVI</td>\n",
       "      <td>CAJA DE HERRAMIENTAS AVIONICO</td>\n",
       "      <td>87107</td>\n",
       "      <td>P0306019</td>\n",
       "      <td>P</td>\n",
       "      <td>2019-05-06</td>\n",
       "      <td>ADUANA-EZE</td>\n",
       "      <td>DE0147</td>\n",
       "      <td>Z2</td>\n",
       "      <td>RTN</td>\n",
       "      <td>2019-04-01 00:00:00</td>\n",
       "      <td>2019-06-27 00:00:00</td>\n",
       "      <td>N</td>\n",
       "      <td>EDUARD WILLE GMBH &amp; CO. KG</td>\n",
       "      <td>2019</td>\n",
       "      <td>5</td>\n",
       "      <td>6</td>\n",
       "      <td>0</td>\n",
       "    </tr>\n",
       "    <tr>\n",
       "      <th>4480</th>\n",
       "      <td>60.0</td>\n",
       "      <td>361127020</td>\n",
       "      <td>ANILLO CALIBRADO</td>\n",
       "      <td>58460</td>\n",
       "      <td>R0026694TRF</td>\n",
       "      <td>R</td>\n",
       "      <td>2018-07-12</td>\n",
       "      <td>EZE</td>\n",
       "      <td>US0082</td>\n",
       "      <td>--</td>\n",
       "      <td>--</td>\n",
       "      <td>2018-09-07 00:00:00</td>\n",
       "      <td>0</td>\n",
       "      <td>CA</td>\n",
       "      <td>UNIVERSAL MARKETING GROUP</td>\n",
       "      <td>2018</td>\n",
       "      <td>7</td>\n",
       "      <td>12</td>\n",
       "      <td>1</td>\n",
       "    </tr>\n",
       "    <tr>\n",
       "      <th>4134</th>\n",
       "      <td>40.0</td>\n",
       "      <td>TYPE 4231</td>\n",
       "      <td>SOUND CALIBRATOR</td>\n",
       "      <td>153883</td>\n",
       "      <td>R2058220</td>\n",
       "      <td>R</td>\n",
       "      <td>2020-12-11</td>\n",
       "      <td>ADUANA-EZE</td>\n",
       "      <td>US0957</td>\n",
       "      <td>F3</td>\n",
       "      <td>RTN</td>\n",
       "      <td>2020-12-11 00:00:00</td>\n",
       "      <td>0</td>\n",
       "      <td>CA</td>\n",
       "      <td>HOTTINGER BRUEL AND KJAER INC</td>\n",
       "      <td>2020</td>\n",
       "      <td>12</td>\n",
       "      <td>11</td>\n",
       "      <td>1</td>\n",
       "    </tr>\n",
       "    <tr>\n",
       "      <th>5391</th>\n",
       "      <td>499.0</td>\n",
       "      <td>DV301-0060-211-1110</td>\n",
       "      <td>EQUIP. TEST VELOCITY X DUCE</td>\n",
       "      <td>135383</td>\n",
       "      <td>R0617220</td>\n",
       "      <td>R</td>\n",
       "      <td>2020-03-02</td>\n",
       "      <td>ADUANA-EZE</td>\n",
       "      <td>US0942</td>\n",
       "      <td>F3</td>\n",
       "      <td>RTN</td>\n",
       "      <td>2020-03-02 00:00:00</td>\n",
       "      <td>0</td>\n",
       "      <td>CA</td>\n",
       "      <td>BERNOULLI AEROSPACE, LLC</td>\n",
       "      <td>2020</td>\n",
       "      <td>3</td>\n",
       "      <td>2</td>\n",
       "      <td>0</td>\n",
       "    </tr>\n",
       "  </tbody>\n",
       "</table>\n",
       "</div>"
      ],
      "text/plain": [
       "        TAT          part_number                    description  \\\n",
       "2874  186.0              MEC-AVI  CAJA DE HERRAMIENTAS AVIONICO   \n",
       "4480   60.0            361127020               ANILLO CALIBRADO   \n",
       "4134   40.0            TYPE 4231               SOUND CALIBRATOR   \n",
       "5391  499.0  DV301-0060-211-1110    EQUIP. TEST VELOCITY X DUCE   \n",
       "\n",
       "      order_number_id order_number order_type order_date address_ship  \\\n",
       "2874            87107     P0306019          P 2019-05-06   ADUANA-EZE   \n",
       "4480            58460  R0026694TRF          R 2018-07-12          EZE   \n",
       "4134           153883     R2058220          R 2020-12-11   ADUANA-EZE   \n",
       "5391           135383     R0617220          R 2020-03-02   ADUANA-EZE   \n",
       "\n",
       "     vendor_code shipment priority         created_date    od_confirmed_date  \\\n",
       "2874      DE0147       Z2      RTN  2019-04-01 00:00:00  2019-06-27 00:00:00   \n",
       "4480      US0082       --       --  2018-09-07 00:00:00                    0   \n",
       "4134      US0957       F3      RTN  2020-12-11 00:00:00                    0   \n",
       "5391      US0942       F3      RTN  2020-03-02 00:00:00                    0   \n",
       "\n",
       "     od_req_condition                    vendor_name  order_date_year  \\\n",
       "2874                N     EDUARD WILLE GMBH & CO. KG             2019   \n",
       "4480               CA      UNIVERSAL MARKETING GROUP             2018   \n",
       "4134               CA  HOTTINGER BRUEL AND KJAER INC             2020   \n",
       "5391               CA       BERNOULLI AEROSPACE, LLC             2020   \n",
       "\n",
       "      order_date_month  order_date_day  on_time  \n",
       "2874                 5               6        0  \n",
       "4480                 7              12        1  \n",
       "4134                12              11        1  \n",
       "5391                 3               2        0  "
      ]
     },
     "execution_count": 29,
     "metadata": {},
     "output_type": "execute_result"
    }
   ],
   "source": [
    "ds_complete.sample(4)"
   ]
  },
  {
   "cell_type": "markdown",
   "id": "631d9bb6",
   "metadata": {},
   "source": [
    "¡Finalmente tenemos el DataSet completo!\n",
    "\n",
    "A partir de aca intentaremos preparar y entrenar los datos para poder realizar predicciones sobre los TAT de entrega de cada uno de los provedores."
   ]
  },
  {
   "cell_type": "markdown",
   "id": "c7776d7e",
   "metadata": {},
   "source": [
    "<a id=\"preparacion_entrenamiento\"></a>\n",
    "## 4. Preparación y Entrenamiento del DataSet\n",
    "---"
   ]
  },
  {
   "cell_type": "markdown",
   "id": "9d4fd0d8",
   "metadata": {},
   "source": [
    "<a id=\"features\"></a> \n",
    "### 4.1 Features y dummies\n",
    "Escribir aquí... **# TO-DO**"
   ]
  },
  {
   "cell_type": "markdown",
   "id": "bc44a3c6",
   "metadata": {},
   "source": [
    "**Features categóricas**"
   ]
  },
  {
   "cell_type": "code",
   "execution_count": 30,
   "id": "ff11ce7a",
   "metadata": {},
   "outputs": [
    {
     "data": {
      "text/plain": [
       "TAT                         float64\n",
       "part_number                  object\n",
       "description                  object\n",
       "order_number_id               int64\n",
       "order_number                 object\n",
       "order_type                   object\n",
       "order_date           datetime64[ns]\n",
       "address_ship                 object\n",
       "vendor_code                  object\n",
       "shipment                     object\n",
       "priority                     object\n",
       "created_date                 object\n",
       "od_confirmed_date            object\n",
       "od_req_condition             object\n",
       "vendor_name                  object\n",
       "order_date_year               int64\n",
       "order_date_month              int64\n",
       "order_date_day                int64\n",
       "on_time                       int64\n",
       "dtype: object"
      ]
     },
     "execution_count": 30,
     "metadata": {},
     "output_type": "execute_result"
    }
   ],
   "source": [
    "ds_complete.dtypes"
   ]
  },
  {
   "cell_type": "code",
   "execution_count": 31,
   "id": "ad61bd2d",
   "metadata": {},
   "outputs": [],
   "source": [
    "features_categoricas = ['description', 'order_type', 'address_ship', 'shipment', 'priority', 'vendor_name']\n",
    "\n",
    "ds_dummies = pd.get_dummies(ds_complete[features_categoricas], drop_first=True)"
   ]
  },
  {
   "cell_type": "code",
   "execution_count": null,
   "id": "a4b9fe16",
   "metadata": {},
   "outputs": [],
   "source": []
  },
  {
   "cell_type": "markdown",
   "id": "035b3d17",
   "metadata": {},
   "source": [
    "**Features numéricas**"
   ]
  },
  {
   "cell_type": "code",
   "execution_count": 32,
   "id": "025a1659",
   "metadata": {},
   "outputs": [],
   "source": [
    "features_numericas = ['order_date_year', 'order_date_month', 'order_date_day']"
   ]
  },
  {
   "cell_type": "code",
   "execution_count": 33,
   "id": "737a1b0e",
   "metadata": {},
   "outputs": [],
   "source": [
    "ds_final = pd.concat([ds_complete[features_numericas], ds_dummies], axis=1)"
   ]
  },
  {
   "cell_type": "markdown",
   "id": "1f7ac997",
   "metadata": {},
   "source": [
    "<a id=\"split\"></a> \n",
    "### 4.2 Split del set de entrenamiento\n",
    "Escribir aquí... **# TO-DO**"
   ]
  },
  {
   "cell_type": "code",
   "execution_count": 34,
   "id": "b8c419fe",
   "metadata": {},
   "outputs": [],
   "source": [
    "X = ds_final\n",
    "y = ds_complete['on_time']\n",
    "\n",
    "X_train, X_test, y_train, y_test = train_test_split(X, y, test_size=0.3, random_state=12)"
   ]
  },
  {
   "cell_type": "code",
   "execution_count": 35,
   "id": "bf116926",
   "metadata": {},
   "outputs": [
    {
     "name": "stdout",
     "output_type": "stream",
     "text": [
      "Set_entrenamiento_y:\n",
      "1    0.789263\n",
      "0    0.210737\n",
      "Name: on_time, dtype: float64\n",
      "Set_testeo_y:\n",
      "1    0.78694\n",
      "0    0.21306\n",
      "Name: on_time, dtype: float64\n"
     ]
    }
   ],
   "source": [
    "print('Set_entrenamiento_y:')\n",
    "print(y_train.value_counts(normalize=True))\n",
    "\n",
    "print('Set_testeo_y:')\n",
    "print(y_test.value_counts(normalize=True))"
   ]
  },
  {
   "cell_type": "code",
   "execution_count": 36,
   "id": "d251f7c2",
   "metadata": {},
   "outputs": [],
   "source": [
    "scaler = StandardScaler()\n",
    "X_train_std = scaler.fit_transform(X_train)\n",
    "X_test_std = scaler.transform(X_test)"
   ]
  },
  {
   "cell_type": "markdown",
   "id": "c053cbb8",
   "metadata": {},
   "source": [
    "<a id=\"metodo_entrenamiento\"></a> \n",
    "### 4.3 Selección del método de entrenamiento\n",
    "Escribir aquí...  **# TO-DO**"
   ]
  },
  {
   "cell_type": "markdown",
   "id": "dbe6ca0d",
   "metadata": {},
   "source": [
    "**4.3.1 Regresión Logística**"
   ]
  },
  {
   "cell_type": "code",
   "execution_count": 37,
   "id": "b57e63d7",
   "metadata": {},
   "outputs": [
    {
     "name": "stderr",
     "output_type": "stream",
     "text": [
      "C:\\Users\\ezelo\\anaconda3\\lib\\site-packages\\sklearn\\linear_model\\_logistic.py:814: ConvergenceWarning: lbfgs failed to converge (status=1):\n",
      "STOP: TOTAL NO. of ITERATIONS REACHED LIMIT.\n",
      "\n",
      "Increase the number of iterations (max_iter) or scale the data as shown in:\n",
      "    https://scikit-learn.org/stable/modules/preprocessing.html\n",
      "Please also refer to the documentation for alternative solver options:\n",
      "    https://scikit-learn.org/stable/modules/linear_model.html#logistic-regression\n",
      "  n_iter_i = _check_optimize_result(\n"
     ]
    },
    {
     "data": {
      "text/plain": [
       "LogisticRegression()"
      ]
     },
     "execution_count": 37,
     "metadata": {},
     "output_type": "execute_result"
    }
   ],
   "source": [
    "lr = LogisticRegression()\n",
    "\n",
    "lr.fit(X_train_std, y_train)"
   ]
  },
  {
   "cell_type": "code",
   "execution_count": 38,
   "id": "03a91364",
   "metadata": {},
   "outputs": [
    {
     "name": "stdout",
     "output_type": "stream",
     "text": [
      "[2.47223554]\n",
      "[[ 0.03856063  0.13453576  0.01625483 ... -0.1651102   0.13987685\n",
      "  -0.05606136]]\n"
     ]
    }
   ],
   "source": [
    "print(lr.intercept_)\n",
    "print(lr.coef_)"
   ]
  },
  {
   "cell_type": "code",
   "execution_count": 39,
   "id": "7ece3360",
   "metadata": {},
   "outputs": [],
   "source": [
    "y_pred = lr.predict_proba(X_test_std)"
   ]
  },
  {
   "cell_type": "code",
   "execution_count": 41,
   "id": "1f9528eb",
   "metadata": {},
   "outputs": [
    {
     "ename": "TypeError",
     "evalue": "binarize() takes 1 positional argument but 2 were given",
     "output_type": "error",
     "traceback": [
      "\u001b[1;31m---------------------------------------------------------------------------\u001b[0m",
      "\u001b[1;31mTypeError\u001b[0m                                 Traceback (most recent call last)",
      "Input \u001b[1;32mIn [41]\u001b[0m, in \u001b[0;36m<cell line: 3>\u001b[1;34m()\u001b[0m\n\u001b[0;32m      2\u001b[0m y_pred_list_lr \u001b[38;5;241m=\u001b[39m []\n\u001b[0;32m      3\u001b[0m \u001b[38;5;28;01mfor\u001b[39;00m i \u001b[38;5;129;01min\u001b[39;00m thr_num:\n\u001b[1;32m----> 4\u001b[0m     y_pred_list_lr\u001b[38;5;241m.\u001b[39mappend(\u001b[43mbinarize\u001b[49m\u001b[43m(\u001b[49m\u001b[43my_pred\u001b[49m\u001b[43m,\u001b[49m\u001b[43m \u001b[49m\u001b[43mi\u001b[49m\u001b[43m)\u001b[49m[:,\u001b[38;5;241m1\u001b[39m])\n\u001b[0;32m      5\u001b[0m \u001b[38;5;124;03m\"\"\"y_pred_00 = binarize(y_pred, 0.0)[:,1]\u001b[39;00m\n\u001b[0;32m      6\u001b[0m \u001b[38;5;124;03my_pred_01 = binarize(y_pred, 0.1)[:,1]\u001b[39;00m\n\u001b[0;32m      7\u001b[0m \u001b[38;5;124;03my_pred_02 = binarize(y_pred, 0.2)[:,1]\u001b[39;00m\n\u001b[1;32m   (...)\u001b[0m\n\u001b[0;32m     14\u001b[0m \u001b[38;5;124;03my_pred_09 = binarize(y_pred, 0.9)[:,1]\u001b[39;00m\n\u001b[0;32m     15\u001b[0m \u001b[38;5;124;03my_pred_10 = binarize(y_pred, 1)[:,1]\"\"\"\u001b[39;00m\n",
      "\u001b[1;31mTypeError\u001b[0m: binarize() takes 1 positional argument but 2 were given"
     ]
    }
   ],
   "source": [
    "thr_num = [0.0,0.1,0.2,0.3,0.4,0.5,0.6,0.7,0.8,0.9,1]\n",
    "y_pred_list_lr = []\n",
    "for i in thr_num:\n",
    "    y_pred_list_lr.append(binarize(y_pred, i)[:,1])\n",
    "\"\"\"y_pred_00 = binarize(y_pred, 0.0)[:,1]\n",
    "y_pred_01 = binarize(y_pred, 0.1)[:,1]\n",
    "y_pred_02 = binarize(y_pred, 0.2)[:,1]\n",
    "y_pred_03 = binarize(y_pred, 0.3)[:,1]\n",
    "y_pred_04 = binarize(y_pred, 0.4)[:,1]\n",
    "y_pred_05 = binarize(y_pred, 0.5)[:,1]\n",
    "y_pred_06 = binarize(y_pred, 0.6)[:,1]\n",
    "y_pred_07 = binarize(y_pred, 0.7)[:,1]\n",
    "y_pred_08 = binarize(y_pred, 0.8)[:,1]\n",
    "y_pred_09 = binarize(y_pred, 0.9)[:,1]\n",
    "y_pred_10 = binarize(y_pred, 1)[:,1]\"\"\""
   ]
  },
  {
   "cell_type": "markdown",
   "id": "be7f8fc1",
   "metadata": {},
   "source": [
    "**4.3.2 Neives-Bayes Gausiano**"
   ]
  },
  {
   "cell_type": "code",
   "execution_count": 42,
   "id": "2be76de6",
   "metadata": {},
   "outputs": [],
   "source": [
    "# TO-DO Agus"
   ]
  },
  {
   "cell_type": "markdown",
   "id": "c42a209c",
   "metadata": {},
   "source": [
    "**4.3.3 K-Nearest Neighbors**"
   ]
  },
  {
   "cell_type": "code",
   "execution_count": 86,
   "id": "7536b605",
   "metadata": {},
   "outputs": [],
   "source": [
    "from sklearn.neighbors import KNeighborsClassifier"
   ]
  },
  {
   "cell_type": "code",
   "execution_count": 87,
   "id": "89661019",
   "metadata": {},
   "outputs": [],
   "source": [
    "knn = KNeighborsClassifier(n_neighbors=5)\n"
   ]
  },
  {
   "cell_type": "code",
   "execution_count": 88,
   "id": "02a79b61",
   "metadata": {},
   "outputs": [
    {
     "name": "stderr",
     "output_type": "stream",
     "text": [
      "C:\\Users\\ezelo\\anaconda3\\lib\\site-packages\\sklearn\\base.py:443: UserWarning: X has feature names, but KNeighborsClassifier was fitted without feature names\n",
      "  warnings.warn(\n"
     ]
    }
   ],
   "source": [
    "# Ajustamos a los datos de entrenamiento.\n",
    "knn.fit(X_train, y_train);\n",
    "\n",
    "# Predecimos etiquetas para los datos de test.\n",
    "y_pred_knn = knn.predict(X_test) "
   ]
  },
  {
   "cell_type": "code",
   "execution_count": 89,
   "id": "17ae89fc",
   "metadata": {},
   "outputs": [
    {
     "data": {
      "text/plain": [
       "0.79"
      ]
     },
     "execution_count": 89,
     "metadata": {},
     "output_type": "execute_result"
    }
   ],
   "source": [
    "# Evaluamos el accuracy del modelo\n",
    "from sklearn.metrics import accuracy_score\n",
    "accuracy_score(y_test, y_pred_knn).round(2)"
   ]
  },
  {
   "cell_type": "code",
   "execution_count": 90,
   "id": "971d5366",
   "metadata": {},
   "outputs": [],
   "source": [
    "#Ahora generamos una lista con los accuracy para cada n_neighbors entre 1 y 40\n",
    "X_train_train, X_validation, y_train_train, y_validation = train_test_split(X_train, y_train, random_state=12)\n",
    "\n",
    "k_range = list(range(1, 41))\n",
    "scores = []\n",
    "for k in k_range:\n",
    "    knn = KNeighborsClassifier(n_neighbors=k)\n",
    "    knn.fit(X_train_train, y_train_train)\n",
    "    y_pred_knn = knn.predict(X_validation)\n",
    "    scores.append(accuracy_score(y_validation, y_pred_knn))    \n"
   ]
  },
  {
   "cell_type": "code",
   "execution_count": 91,
   "id": "dc7f9b44",
   "metadata": {},
   "outputs": [
    {
     "data": {
      "image/png": "[encoded data removed]",
      "text/plain": [
       "<Figure size 288x216 with 1 Axes>"
      ]
     },
     "metadata": {
      "needs_background": "light"
     },
     "output_type": "display_data"
    }
   ],
   "source": [
    "#Y graficamos los resultados \n",
    "\n",
    "plt.figure(figsize=(4,3))\n",
    "plt.plot(k_range, scores)\n",
    "plt.xlabel('Valor de K'); plt.ylabel('Test Accuracy')\n",
    "plt.grid(); plt.show()"
   ]
  },
  {
   "cell_type": "code",
   "execution_count": 92,
   "id": "a781b7c4",
   "metadata": {},
   "outputs": [],
   "source": [
    "# La precision del test es muy volatil para valores de k entre 1 y 16, y luego comienza a convergere alrededor del \n",
    "# 80% de precision para valores de k de 17 en adelante"
   ]
  },
  {
   "cell_type": "code",
   "execution_count": 93,
   "id": "6d73d23e",
   "metadata": {},
   "outputs": [],
   "source": [
    "# Probamos cross validation\n",
    "\n",
    "from sklearn.model_selection import cross_val_score, KFold\n",
    "\n",
    "# Usamos cross validation con 4 folds\n",
    "kf = KFold(n_splits=4, shuffle=True, random_state=12)\n",
    "\n",
    "scores_para_df = []\n",
    "\n",
    "for i in range(1, 41):\n",
    "    \n",
    "    # En cada iteración, instanciamos el modelo con un hiperparámetro distinto\n",
    "    model = KNeighborsClassifier(n_neighbors=i)\n",
    "    \n",
    "    # cross_val_scores nos devuelve un array de 4 resultados,\n",
    "    # uno por cada partición que hizo automáticamente CV\n",
    "    cv_scores = cross_val_score(model, X_train, y_train, cv=kf)\n",
    "    \n",
    "    # Para cada valor de n_neighbours, creamos un diccionario con el valor\n",
    "    # de n_neighbours y la media de los scores\n",
    "    dict_row_score = {'score_medio':np.mean(cv_scores), 'n_neighbors':i}\n",
    "    \n",
    "    # Guardamos cada uno en la lista de diccionarios\n",
    "    scores_para_df.append(dict_row_score)"
   ]
  },
  {
   "cell_type": "code",
   "execution_count": 94,
   "id": "27d283d4",
   "metadata": {},
   "outputs": [
    {
     "data": {
      "text/html": [
       "<div>\n",
       "<style scoped>\n",
       "    .dataframe tbody tr th:only-of-type {\n",
       "        vertical-align: middle;\n",
       "    }\n",
       "\n",
       "    .dataframe tbody tr th {\n",
       "        vertical-align: top;\n",
       "    }\n",
       "\n",
       "    .dataframe thead th {\n",
       "        text-align: right;\n",
       "    }\n",
       "</style>\n",
       "<table border=\"1\" class=\"dataframe\">\n",
       "  <thead>\n",
       "    <tr style=\"text-align: right;\">\n",
       "      <th></th>\n",
       "      <th>score_medio</th>\n",
       "      <th>n_neighbors</th>\n",
       "    </tr>\n",
       "  </thead>\n",
       "  <tbody>\n",
       "    <tr>\n",
       "      <th>8</th>\n",
       "      <td>0.799771</td>\n",
       "      <td>9</td>\n",
       "    </tr>\n",
       "    <tr>\n",
       "      <th>6</th>\n",
       "      <td>0.799006</td>\n",
       "      <td>7</td>\n",
       "    </tr>\n",
       "    <tr>\n",
       "      <th>10</th>\n",
       "      <td>0.798529</td>\n",
       "      <td>11</td>\n",
       "    </tr>\n",
       "    <tr>\n",
       "      <th>14</th>\n",
       "      <td>0.797956</td>\n",
       "      <td>15</td>\n",
       "    </tr>\n",
       "    <tr>\n",
       "      <th>18</th>\n",
       "      <td>0.797382</td>\n",
       "      <td>19</td>\n",
       "    </tr>\n",
       "  </tbody>\n",
       "</table>\n",
       "</div>"
      ],
      "text/plain": [
       "    score_medio  n_neighbors\n",
       "8      0.799771            9\n",
       "6      0.799006            7\n",
       "10     0.798529           11\n",
       "14     0.797956           15\n",
       "18     0.797382           19"
      ]
     },
     "execution_count": 94,
     "metadata": {},
     "output_type": "execute_result"
    }
   ],
   "source": [
    "# Creamos el DataFrame a partir de la lista de diccionarios\n",
    "df_scores = pd.DataFrame(scores_para_df)\n",
    "df_scores.sort_values(by=['score_medio'],ascending=False).head(5)"
   ]
  },
  {
   "cell_type": "code",
   "execution_count": 95,
   "id": "87139ec1",
   "metadata": {},
   "outputs": [
    {
     "data": {
      "image/png": "[encoded data removed]",
      "text/plain": [
       "<Figure size 432x288 with 1 Axes>"
      ]
     },
     "metadata": {
      "needs_background": "light"
     },
     "output_type": "display_data"
    }
   ],
   "source": [
    "#Identificamos que el valor de n_neighbors que maximiza el score promedio es 7, con un score de 0.803.\n",
    "\n",
    "#Grafiquemos la media por cada n_neighbors.\n",
    "plt.plot(df_scores['n_neighbors'], df_scores['score_medio'], color='b')\n",
    "plt.xlabel('Valor de K'); plt.ylabel('Accuracy')\n",
    "plt.grid(); plt.show()"
   ]
  },
  {
   "cell_type": "code",
   "execution_count": 96,
   "id": "fb1c6666",
   "metadata": {},
   "outputs": [],
   "source": [
    "#Al aplicar cross validation notamos que, si bien la variabilidad de la precision en los valores iniciales se mantiene, esta vez\n",
    "# se puede ver a simple viste que se alcanza un maximo en k=7 luego de converger a aproximadamente 0.795."
   ]
  },
  {
   "cell_type": "code",
   "execution_count": 97,
   "id": "ddb3c980",
   "metadata": {},
   "outputs": [],
   "source": [
    "# Ahora estandarizamos las variables del detaset de entrenamiento de X para ver si cambian las conclusiones\n",
    "from sklearn.preprocessing import StandardScaler\n",
    "scaler = StandardScaler()\n",
    "X_train = scaler.fit_transform(X_train)"
   ]
  },
  {
   "cell_type": "code",
   "execution_count": 98,
   "id": "3e7ac6e6",
   "metadata": {},
   "outputs": [
    {
     "name": "stdout",
     "output_type": "stream",
     "text": [
      "Medias: [ 0.  0.  0. ... -0.  0.  0.]\n",
      "Desvio: [1. 1. 1. ... 1. 1. 1.]\n"
     ]
    }
   ],
   "source": [
    "print('Medias:', np.mean(X_train, axis=0).round(2))\n",
    "print('Desvio:', np.std(X_train, axis=0).round(2))"
   ]
  },
  {
   "cell_type": "code",
   "execution_count": 99,
   "id": "fd42cb28",
   "metadata": {},
   "outputs": [],
   "source": [
    "#Generamos un nuevo modelo KNN con los datos normalizados.\n",
    "\n",
    "from sklearn.model_selection import cross_val_score, KFold\n",
    "\n",
    "# Usamos cross validation con 4 folds\n",
    "kf = KFold(n_splits=4, shuffle=True, random_state=12)\n",
    "\n",
    "scores_para_df = []\n",
    "\n",
    "for i in range(1, 41):\n",
    "    \n",
    "    # En cada iteración, instanciamos el modelo con un hiperparámetro distinto\n",
    "    model = KNeighborsClassifier(n_neighbors=i)\n",
    "    \n",
    "    # cross_val_scores nos devuelve un array de 4 resultados,\n",
    "    # uno por cada partición que hizo automáticamente CV\n",
    "    cv_scores = cross_val_score(model, X_train, y_train, cv=kf)\n",
    "    \n",
    "    # Para cada valor de n_neighbours, creamos un diccionario con el valor\n",
    "    # de n_neighbours y la media de los scores\n",
    "    dict_row_score = {'score_medio':np.mean(cv_scores), 'n_neighbors':i}\n",
    "    \n",
    "    # Guardamos cada uno en la lista de diccionarios\n",
    "    scores_para_df.append(dict_row_score)"
   ]
  },
  {
   "cell_type": "code",
   "execution_count": 100,
   "id": "6a8fceaf",
   "metadata": {},
   "outputs": [
    {
     "data": {
      "text/html": [
       "<div>\n",
       "<style scoped>\n",
       "    .dataframe tbody tr th:only-of-type {\n",
       "        vertical-align: middle;\n",
       "    }\n",
       "\n",
       "    .dataframe tbody tr th {\n",
       "        vertical-align: top;\n",
       "    }\n",
       "\n",
       "    .dataframe thead th {\n",
       "        text-align: right;\n",
       "    }\n",
       "</style>\n",
       "<table border=\"1\" class=\"dataframe\">\n",
       "  <thead>\n",
       "    <tr style=\"text-align: right;\">\n",
       "      <th></th>\n",
       "      <th>score_medio</th>\n",
       "      <th>n_neighbors</th>\n",
       "    </tr>\n",
       "  </thead>\n",
       "  <tbody>\n",
       "    <tr>\n",
       "      <th>8</th>\n",
       "      <td>0.799580</td>\n",
       "      <td>9</td>\n",
       "    </tr>\n",
       "    <tr>\n",
       "      <th>6</th>\n",
       "      <td>0.799198</td>\n",
       "      <td>7</td>\n",
       "    </tr>\n",
       "    <tr>\n",
       "      <th>10</th>\n",
       "      <td>0.798911</td>\n",
       "      <td>11</td>\n",
       "    </tr>\n",
       "    <tr>\n",
       "      <th>14</th>\n",
       "      <td>0.798338</td>\n",
       "      <td>15</td>\n",
       "    </tr>\n",
       "    <tr>\n",
       "      <th>18</th>\n",
       "      <td>0.797669</td>\n",
       "      <td>19</td>\n",
       "    </tr>\n",
       "  </tbody>\n",
       "</table>\n",
       "</div>"
      ],
      "text/plain": [
       "    score_medio  n_neighbors\n",
       "8      0.799580            9\n",
       "6      0.799198            7\n",
       "10     0.798911           11\n",
       "14     0.798338           15\n",
       "18     0.797669           19"
      ]
     },
     "execution_count": 100,
     "metadata": {},
     "output_type": "execute_result"
    }
   ],
   "source": [
    "# Creamos el DataFrame a partir de la lista de diccionarios\n",
    "df_scores = pd.DataFrame(scores_para_df)\n",
    "df_scores.sort_values(by=['score_medio'],ascending=False).head(5)"
   ]
  },
  {
   "cell_type": "code",
   "execution_count": 101,
   "id": "f5a402cd",
   "metadata": {},
   "outputs": [
    {
     "data": {
      "image/png": "[encoded data removed]",
      "text/plain": [
       "<Figure size 432x288 with 1 Axes>"
      ]
     },
     "metadata": {
      "needs_background": "light"
     },
     "output_type": "display_data"
    }
   ],
   "source": [
    "#Ahora el valor de n_neighbors que maximiza el score promedio es 9, pero el score empeoro levemente a 0.7997.\n",
    "\n",
    "#Grafiquemos la media por cada n_neighbors.\n",
    "plt.plot(df_scores['n_neighbors'], df_scores['score_medio'], color='b')\n",
    "plt.xlabel('Valor de K'); plt.ylabel('Accuracy')\n",
    "plt.grid(); plt.show()"
   ]
  },
  {
   "cell_type": "code",
   "execution_count": 102,
   "id": "0f4e7f60",
   "metadata": {},
   "outputs": [],
   "source": [
    "#Ahora el valor de n_neighbors que maximiza el score promedio es 9, pero el score empeoro levemente a 0.7997. \n",
    "#Ademas ahora podemos notar una secuencia mas uniforme en lo que respecta al orden de los maximos segun su valor de k. \n",
    "#Con una presicion que varía fuertemente para los valores iniciales de k, hasta llegar a 9, para luego converger de forma \n",
    "#cada vez mas suave hacia una precision de 0.79."
   ]
  },
  {
   "cell_type": "code",
   "execution_count": null,
   "id": "a67c8026",
   "metadata": {},
   "outputs": [],
   "source": []
  },
  {
   "cell_type": "code",
   "execution_count": null,
   "id": "eeb9b787",
   "metadata": {},
   "outputs": [],
   "source": []
  },
  {
   "cell_type": "markdown",
   "id": "81b53df6",
   "metadata": {},
   "source": [
    "<a id=\"evaluacion_modelos\"></a>\n",
    "## 5. Evaluación de los Modelos\n",
    "---"
   ]
  },
  {
   "cell_type": "markdown",
   "id": "39a80dc5",
   "metadata": {},
   "source": [
    "Apartir de las diferentes metodologías y modelos predictivos, que parten de un misimo DataSet. Comenzaremos a realizar las evaluaciones de cada uno y el rendimiento que tienen. Analizando los hiperparamtetros y seleccionando el óptimo para cada condición."
   ]
  },
  {
   "cell_type": "markdown",
   "id": "e89211b0",
   "metadata": {},
   "source": [
    "<a id=\"section_matriz_confusion_code\"></a> \n",
    "### 5.1 Métricas: Matriz de confusión"
   ]
  },
  {
   "cell_type": "markdown",
   "id": "9cc6f3b5",
   "metadata": {},
   "source": [
    "**Regresión Logística**"
   ]
  },
  {
   "cell_type": "code",
   "execution_count": 104,
   "id": "bee78bac",
   "metadata": {},
   "outputs": [
    {
     "ename": "IndexError",
     "evalue": "list index out of range",
     "output_type": "error",
     "traceback": [
      "\u001b[1;31m---------------------------------------------------------------------------\u001b[0m",
      "\u001b[1;31mIndexError\u001b[0m                                Traceback (most recent call last)",
      "Input \u001b[1;32mIn [104]\u001b[0m, in \u001b[0;36m<cell line: 3>\u001b[1;34m()\u001b[0m\n\u001b[0;32m      1\u001b[0m cm_lr \u001b[38;5;241m=\u001b[39m []\n\u001b[0;32m      3\u001b[0m \u001b[38;5;28;01mfor\u001b[39;00m i \u001b[38;5;129;01min\u001b[39;00m \u001b[38;5;28mrange\u001b[39m(\u001b[38;5;241m0\u001b[39m,\u001b[38;5;241m11\u001b[39m):\n\u001b[1;32m----> 4\u001b[0m     cm_lr\u001b[38;5;241m.\u001b[39mappend(confusion_matrix(y_test, \u001b[43my_pred_list_lr\u001b[49m\u001b[43m[\u001b[49m\u001b[43mi\u001b[49m\u001b[43m]\u001b[49m))\n\u001b[0;32m      6\u001b[0m sns\u001b[38;5;241m.\u001b[39mheatmap(cm_lr[\u001b[38;5;241m2\u001b[39m], annot\u001b[38;5;241m=\u001b[39m\u001b[38;5;28;01mTrue\u001b[39;00m, fmt\u001b[38;5;241m=\u001b[39m\u001b[38;5;124m'\u001b[39m\u001b[38;5;124m.0f\u001b[39m\u001b[38;5;124m'\u001b[39m)\n\u001b[0;32m      7\u001b[0m plt\u001b[38;5;241m.\u001b[39mtitle(\u001b[38;5;124m'\u001b[39m\u001b[38;5;124mMatriz de Confusión\u001b[39m\u001b[38;5;124m'\u001b[39m)\n",
      "\u001b[1;31mIndexError\u001b[0m: list index out of range"
     ]
    }
   ],
   "source": [
    "cm_lr = []\n",
    "\n",
    "for i in range(0,11):\n",
    "    cm_lr.append(confusion_matrix(y_test, y_pred_list_lr[i]))\n",
    "\n",
    "sns.heatmap(cm_lr[2], annot=True, fmt='.0f')\n",
    "plt.title('Matriz de Confusión')\n",
    "plt.xlabel('Predichos')\n",
    "plt.ylabel('Reales')"
   ]
  },
  {
   "cell_type": "markdown",
   "id": "9ac82b56",
   "metadata": {},
   "source": [
    "**Neives-Bayes Gausiano**"
   ]
  },
  {
   "cell_type": "code",
   "execution_count": 44,
   "id": "8f1a6fe0",
   "metadata": {},
   "outputs": [],
   "source": [
    "# TO-DO"
   ]
  },
  {
   "cell_type": "markdown",
   "id": "607153db",
   "metadata": {},
   "source": [
    "**K-Nearest Neighbors**"
   ]
  },
  {
   "cell_type": "code",
   "execution_count": 118,
   "id": "7615b253",
   "metadata": {},
   "outputs": [
    {
     "data": {
      "text/plain": [
       "(4487,)"
      ]
     },
     "execution_count": 118,
     "metadata": {},
     "output_type": "execute_result"
    }
   ],
   "source": [
    "y_test.shape"
   ]
  },
  {
   "cell_type": "code",
   "execution_count": null,
   "id": "3a4fb8e9",
   "metadata": {},
   "outputs": [],
   "source": []
  },
  {
   "cell_type": "code",
   "execution_count": null,
   "id": "8ebeae63",
   "metadata": {},
   "outputs": [],
   "source": []
  },
  {
   "cell_type": "code",
   "execution_count": null,
   "id": "3ccf3bd0",
   "metadata": {},
   "outputs": [],
   "source": []
  },
  {
   "cell_type": "code",
   "execution_count": null,
   "id": "70158a30",
   "metadata": {},
   "outputs": [],
   "source": []
  },
  {
   "cell_type": "code",
   "execution_count": null,
   "id": "82b8da9c",
   "metadata": {},
   "outputs": [],
   "source": []
  },
  {
   "cell_type": "code",
   "execution_count": null,
   "id": "35126366",
   "metadata": {},
   "outputs": [],
   "source": []
  },
  {
   "cell_type": "code",
   "execution_count": null,
   "id": "214b636d",
   "metadata": {},
   "outputs": [],
   "source": []
  },
  {
   "cell_type": "code",
   "execution_count": null,
   "id": "b03e78c7",
   "metadata": {},
   "outputs": [],
   "source": []
  },
  {
   "cell_type": "markdown",
   "id": "ea2d23a9",
   "metadata": {},
   "source": [
    "<a id=\"section_accuracy\"></a> \n",
    "### 5.2 Métricas: Accuracy"
   ]
  },
  {
   "cell_type": "markdown",
   "id": "773a67c0",
   "metadata": {},
   "source": [
    "**Regresión Logística**"
   ]
  },
  {
   "cell_type": "code",
   "execution_count": 46,
   "id": "4d0b298d",
   "metadata": {},
   "outputs": [
    {
     "name": "stdout",
     "output_type": "stream",
     "text": [
      "Accuaracy de la Regresión Logística:\n",
      "==================================================\n",
      "Accuaracy thr=0.0 = 78.7 %\n",
      "Accuaracy thr=0.1 = 78.9 %\n",
      "Accuaracy thr=0.2 = 79.0 %\n",
      "Accuaracy thr=0.3 = 78.7 %\n",
      "Accuaracy thr=0.4 = 78.4 %\n",
      "Accuaracy thr=0.5 = 77.7 %\n",
      "Accuaracy thr=0.6 = 75.9 %\n",
      "Accuaracy thr=0.7 = 73.2 %\n",
      "Accuaracy thr=0.8 = 63.6 %\n",
      "Accuaracy thr=0.9 = 50.8 %\n"
     ]
    }
   ],
   "source": [
    "acc_lr = []\n",
    "print(f'Accuaracy de la Regresión Logística:')\n",
    "print('==================================================')\n",
    "for i in range(0,10):\n",
    "    acc_lr.append(accuracy_score(y_test, y_pred_list_lr[i]))\n",
    "    print(f'Accuaracy thr=0.{i} = {round(acc_lr[i],3)*100} %')"
   ]
  },
  {
   "cell_type": "markdown",
   "id": "5bdc9f35",
   "metadata": {},
   "source": [
    "**Neives-Bayes Gausiano**"
   ]
  },
  {
   "cell_type": "code",
   "execution_count": 47,
   "id": "a2a5b23b",
   "metadata": {},
   "outputs": [],
   "source": [
    "# TO-DO"
   ]
  },
  {
   "cell_type": "markdown",
   "id": "f6ae57dd",
   "metadata": {},
   "source": [
    "**K-Nearest Neighbors**"
   ]
  },
  {
   "cell_type": "code",
   "execution_count": null,
   "id": "6791b7ec",
   "metadata": {},
   "outputs": [],
   "source": []
  },
  {
   "cell_type": "markdown",
   "id": "72c2d566",
   "metadata": {},
   "source": [
    "<a id=\"section_error\"></a> \n",
    "### 5.3 Métricas: Error de Clasificación"
   ]
  },
  {
   "cell_type": "markdown",
   "id": "d4582ff0",
   "metadata": {},
   "source": [
    "**Regresión Logística**"
   ]
  },
  {
   "cell_type": "code",
   "execution_count": 49,
   "id": "7389d5f0",
   "metadata": {},
   "outputs": [
    {
     "name": "stdout",
     "output_type": "stream",
     "text": [
      "Error de Clasificación de la Regresión Logística:\n",
      "==================================================\n",
      "Error de clasificación thr=0.0 = 21.0 %\n",
      "Error de clasificación thr=0.1 = 21.0 %\n",
      "Error de clasificación thr=0.2 = 21.0 %\n",
      "Error de clasificación thr=0.3 = 21.0 %\n",
      "Error de clasificación thr=0.4 = 22.0 %\n",
      "Error de clasificación thr=0.5 = 22.0 %\n",
      "Error de clasificación thr=0.6 = 24.0 %\n",
      "Error de clasificación thr=0.7 = 27.0 %\n",
      "Error de clasificación thr=0.8 = 36.0 %\n",
      "Error de clasificación thr=0.9 = 49.0 %\n"
     ]
    }
   ],
   "source": [
    "error_clasificación_lr = []\n",
    "print(f'Error de Clasificación de la Regresión Logística:')\n",
    "print('==================================================')\n",
    "for i in range(0,10):\n",
    "    error_clasificación_lr.append(1 - acc_lr[i])\n",
    "    print(f'Error de clasificación thr=0.{i} = {round(error_clasificación_lr[i],2)*100} %')"
   ]
  },
  {
   "cell_type": "markdown",
   "id": "608a24a0",
   "metadata": {},
   "source": [
    "**Neives-Bayes Gausiano**"
   ]
  },
  {
   "cell_type": "code",
   "execution_count": 50,
   "id": "9032da54",
   "metadata": {},
   "outputs": [],
   "source": [
    "# TO-DO"
   ]
  },
  {
   "cell_type": "markdown",
   "id": "b5cb79cf",
   "metadata": {},
   "source": [
    "**K-Nearest Neighbors**"
   ]
  },
  {
   "cell_type": "code",
   "execution_count": 51,
   "id": "76a6598f",
   "metadata": {},
   "outputs": [],
   "source": [
    "# TO-DO"
   ]
  },
  {
   "cell_type": "markdown",
   "id": "5878eb45",
   "metadata": {},
   "source": [
    "<a id=\"section_recall\"></a> \n",
    "### 5.4 Métricas: Sensitivity (o recall)"
   ]
  },
  {
   "cell_type": "markdown",
   "id": "0d31028c",
   "metadata": {},
   "source": [
    "**Regresión Logística**"
   ]
  },
  {
   "cell_type": "code",
   "execution_count": 52,
   "id": "2e55287f",
   "metadata": {},
   "outputs": [
    {
     "name": "stdout",
     "output_type": "stream",
     "text": [
      "Recall de la Regresión Logística:\n",
      "==================================================\n",
      "Recall thr=0.0 = 100.0 %\n",
      "Recall thr=0.1 = 98.81 %\n",
      "Recall thr=0.2 = 98.5 %\n",
      "Recall thr=0.3 = 97.88 %\n",
      "Recall thr=0.4 = 96.8 %\n",
      "Recall thr=0.5 = 94.31 %\n",
      "Recall thr=0.6 = 88.56 %\n",
      "Recall thr=0.7 = 82.16 %\n",
      "Recall thr=0.8 = 62.22 %\n",
      "Recall thr=0.9 = 42.370000000000005 %\n"
     ]
    }
   ],
   "source": [
    "recall_lr = []\n",
    "print(f'Recall de la Regresión Logística:')\n",
    "print('==================================================')\n",
    "for i in range(0,10):\n",
    "    recall_lr.append(recall_score(y_test, y_pred_list_lr[i]))\n",
    "    print(f'Recall thr=0.{i} = {round(recall_lr[i],4)*100} %')"
   ]
  },
  {
   "cell_type": "markdown",
   "id": "2f47e5c0",
   "metadata": {},
   "source": [
    "**Neives-Bayes Gausiano**"
   ]
  },
  {
   "cell_type": "code",
   "execution_count": 53,
   "id": "7f8b04a9",
   "metadata": {},
   "outputs": [],
   "source": [
    "# TO-DO"
   ]
  },
  {
   "cell_type": "markdown",
   "id": "714751cd",
   "metadata": {},
   "source": [
    "**K-Nearest Neighbors**"
   ]
  },
  {
   "cell_type": "code",
   "execution_count": 54,
   "id": "7514db06",
   "metadata": {},
   "outputs": [],
   "source": [
    "# TO-DO"
   ]
  },
  {
   "cell_type": "markdown",
   "id": "c0b374ec",
   "metadata": {},
   "source": [
    "<a id=\"section_specificity\"></a> \n",
    "### 5.5 Métricas: Specificity"
   ]
  },
  {
   "cell_type": "markdown",
   "id": "ee72a337",
   "metadata": {},
   "source": [
    "**Regresión Logística**"
   ]
  },
  {
   "cell_type": "code",
   "execution_count": 55,
   "id": "dc9140d1",
   "metadata": {},
   "outputs": [
    {
     "name": "stdout",
     "output_type": "stream",
     "text": [
      "Specificity de la Regresión Logística:\n",
      "==================================================\n",
      "Specificity thr=0.0 = 0.0 %\n",
      "Specificity thr=0.1 = 5.5 %\n",
      "Specificity thr=0.2 = 6.800000000000001 %\n",
      "Specificity thr=0.3 = 7.9 %\n",
      "Specificity thr=0.4 = 10.4 %\n",
      "Specificity thr=0.5 = 16.400000000000002 %\n",
      "Specificity thr=0.6 = 29.2 %\n",
      "Specificity thr=0.7 = 40.1 %\n",
      "Specificity thr=0.8 = 68.5 %\n",
      "Specificity thr=0.9 = 82.0 %\n"
     ]
    }
   ],
   "source": [
    "specificity_lr = []\n",
    "print(f'Specificity de la Regresión Logística:')\n",
    "print('==================================================')\n",
    "for i in range(0,10):\n",
    "\n",
    "    TP = cm_lr[i][1, 1]\n",
    "    TN = cm_lr[i][0, 0]\n",
    "    FP = cm_lr[i][0, 1]\n",
    "    FN = cm_lr[i][1, 0]\n",
    "\n",
    "    specificity_lr.append(TN / (TN + FP))\n",
    "    print(f'Specificity thr=0.{i} = {round(specificity_lr[i],3)*100} %')"
   ]
  },
  {
   "cell_type": "markdown",
   "id": "0b6bcf34",
   "metadata": {},
   "source": [
    "**Neives-Bayes Gausiano**"
   ]
  },
  {
   "cell_type": "code",
   "execution_count": 56,
   "id": "6370642e",
   "metadata": {},
   "outputs": [],
   "source": [
    "# TO-DO"
   ]
  },
  {
   "cell_type": "markdown",
   "id": "45494f88",
   "metadata": {},
   "source": [
    "**K-Nearest Neighbors**"
   ]
  },
  {
   "cell_type": "code",
   "execution_count": 57,
   "id": "505b5f54",
   "metadata": {},
   "outputs": [],
   "source": [
    "# TO-DO"
   ]
  },
  {
   "cell_type": "markdown",
   "id": "3280e574",
   "metadata": {},
   "source": [
    "<a id=\"section_precision\"></a> \n",
    "### 5.6 Métricas: Precision"
   ]
  },
  {
   "cell_type": "markdown",
   "id": "0ae425d2",
   "metadata": {},
   "source": [
    "**Regresión Logística**"
   ]
  },
  {
   "cell_type": "code",
   "execution_count": 58,
   "id": "d954e20b",
   "metadata": {},
   "outputs": [
    {
     "name": "stdout",
     "output_type": "stream",
     "text": [
      "Precisión de la Regresión Logística:\n",
      "==================================================\n",
      "Precisión thr=0.0 = 78.7 %\n",
      "Precisión thr=0.1 = 79.4 %\n",
      "Precisión thr=0.2 = 79.60000000000001 %\n",
      "Precisión thr=0.3 = 79.7 %\n",
      "Precisión thr=0.4 = 80.0 %\n",
      "Precisión thr=0.5 = 80.60000000000001 %\n",
      "Precisión thr=0.6 = 82.19999999999999 %\n",
      "Precisión thr=0.7 = 83.5 %\n",
      "Precisión thr=0.8 = 88.0 %\n",
      "Precisión thr=0.9 = 89.7 %\n"
     ]
    }
   ],
   "source": [
    "precision_lr = []\n",
    "print(f'Precisión de la Regresión Logística:')\n",
    "print('==================================================')\n",
    "for i in range(0,10):\n",
    "    precision_lr.append(precision_score(y_test, y_pred_list_lr[i]))\n",
    "    print(f'Precisión thr=0.{i} = {round(precision_lr[i],3)*100} %')"
   ]
  },
  {
   "cell_type": "markdown",
   "id": "eabc5b61",
   "metadata": {},
   "source": [
    "**Neives-Bayes Gausiano**"
   ]
  },
  {
   "cell_type": "code",
   "execution_count": 59,
   "id": "b6868ce6",
   "metadata": {},
   "outputs": [],
   "source": [
    "# TO-DO"
   ]
  },
  {
   "cell_type": "markdown",
   "id": "7960fc17",
   "metadata": {},
   "source": [
    "**K-Nearest Neighbors**"
   ]
  },
  {
   "cell_type": "code",
   "execution_count": 60,
   "id": "2a273c23",
   "metadata": {},
   "outputs": [],
   "source": [
    "# TO-DO"
   ]
  },
  {
   "cell_type": "markdown",
   "id": "346eb65f",
   "metadata": {},
   "source": [
    "<a id=\"section_fpr\"></a> \n",
    "### 5.7 Métricas: False positive rate (FPR)"
   ]
  },
  {
   "cell_type": "markdown",
   "id": "830820a7",
   "metadata": {},
   "source": [
    "**Regresión Logística**"
   ]
  },
  {
   "cell_type": "code",
   "execution_count": 61,
   "id": "5afbdd19",
   "metadata": {},
   "outputs": [
    {
     "name": "stdout",
     "output_type": "stream",
     "text": [
      "FPR de la Regresión Logística:\n",
      "==================================================\n",
      "FPR thr=0.0 = 100.0 %\n",
      "FPR thr=0.1 = 94.46 %\n",
      "FPR thr=0.2 = 93.2 %\n",
      "FPR thr=0.3 = 92.05 %\n",
      "FPR thr=0.4 = 89.64 %\n",
      "FPR thr=0.5 = 83.58 %\n",
      "FPR thr=0.6 = 70.82000000000001 %\n",
      "FPR thr=0.7 = 59.940000000000005 %\n",
      "FPR thr=0.8 = 31.490000000000002 %\n",
      "FPR thr=0.9 = 17.990000000000002 %\n"
     ]
    }
   ],
   "source": [
    "false_positive_lr = []\n",
    "print(f'FPR de la Regresión Logística:')\n",
    "print('==================================================')\n",
    "for i in range(0,10):\n",
    "    false_positive_lr.append(1 - specificity_lr[i])\n",
    "    print(f'FPR thr=0.{i} = {round(false_positive_lr[i],4)*100} %')"
   ]
  },
  {
   "cell_type": "markdown",
   "id": "5b56561b",
   "metadata": {},
   "source": [
    "**Neives-Bayes Gausiano**"
   ]
  },
  {
   "cell_type": "code",
   "execution_count": 62,
   "id": "1978058a",
   "metadata": {},
   "outputs": [],
   "source": [
    "# TO-DO"
   ]
  },
  {
   "cell_type": "markdown",
   "id": "e139553c",
   "metadata": {},
   "source": [
    "**K-Nearest Neighbors**"
   ]
  },
  {
   "cell_type": "code",
   "execution_count": 63,
   "id": "6282d1ce",
   "metadata": {},
   "outputs": [],
   "source": [
    "# TO-DO"
   ]
  },
  {
   "cell_type": "markdown",
   "id": "df46ce3c",
   "metadata": {},
   "source": [
    "<a id=\"section_f1_score\"></a> \n",
    "### 5.8 Métricas: F1-Score"
   ]
  },
  {
   "cell_type": "markdown",
   "id": "7afef423",
   "metadata": {},
   "source": [
    "**Regresión Logística**"
   ]
  },
  {
   "cell_type": "code",
   "execution_count": 64,
   "id": "8c158696",
   "metadata": {},
   "outputs": [
    {
     "name": "stdout",
     "output_type": "stream",
     "text": [
      "F1-Score de la Regresión Logística:\n",
      "==================================================\n",
      "F1-Score thr=0.0 = 88.08 %\n",
      "F1-Score thr=0.1 = 88.07000000000001 %\n",
      "F1-Score thr=0.2 = 88.05 %\n",
      "F1-Score thr=0.3 = 87.86 %\n",
      "F1-Score thr=0.4 = 87.57000000000001 %\n",
      "F1-Score thr=0.5 = 86.95 %\n",
      "F1-Score thr=0.6 = 85.26 %\n",
      "F1-Score thr=0.7 = 82.83 %\n",
      "F1-Score thr=0.8 = 72.88 %\n",
      "F1-Score thr=0.9 = 57.550000000000004 %\n"
     ]
    }
   ],
   "source": [
    "f1_score_lr = []\n",
    "print(f'F1-Score de la Regresión Logística:')\n",
    "print('==================================================')\n",
    "for i in range(0,10):\n",
    "    f1_score_lr.append(f1_score(y_test, y_pred_list_lr[i]))\n",
    "    print(f'F1-Score thr=0.{i} = {round(f1_score_lr[i],4)*100} %')"
   ]
  },
  {
   "cell_type": "markdown",
   "id": "3a72b332",
   "metadata": {},
   "source": [
    "**Neives-Bayes Gausiano**"
   ]
  },
  {
   "cell_type": "code",
   "execution_count": 65,
   "id": "7826a6ef",
   "metadata": {},
   "outputs": [],
   "source": [
    "# TO-DO"
   ]
  },
  {
   "cell_type": "markdown",
   "id": "14e6e115",
   "metadata": {},
   "source": [
    "**K-Nearest Neighbors**"
   ]
  },
  {
   "cell_type": "code",
   "execution_count": 66,
   "id": "f7bbf6f9",
   "metadata": {},
   "outputs": [],
   "source": [
    "# TO-DO"
   ]
  },
  {
   "cell_type": "markdown",
   "id": "43c91a27",
   "metadata": {},
   "source": [
    "<a id=\"section_curva_roc\"></a> \n",
    "## 6. Curva ROC\n",
    "---"
   ]
  },
  {
   "cell_type": "code",
   "execution_count": 67,
   "id": "bae1369a",
   "metadata": {},
   "outputs": [],
   "source": [
    "# TO-DO"
   ]
  },
  {
   "cell_type": "markdown",
   "id": "9cf14d7b",
   "metadata": {},
   "source": [
    "<a id=\"section_umbrales\"></a> \n",
    "### 6.1 Ajustando los umbrales"
   ]
  },
  {
   "cell_type": "code",
   "execution_count": 68,
   "id": "5ce9ea8e",
   "metadata": {},
   "outputs": [],
   "source": [
    "fpr_log, tpr_log, thr_log = roc_curve(y_test, y_pred[:,1])"
   ]
  },
  {
   "cell_type": "markdown",
   "id": "80318545",
   "metadata": {},
   "source": [
    "<a id=\"section_imp_croc\"></a> \n",
    "### 6.2 Implementación Curva ROC y AUC"
   ]
  },
  {
   "cell_type": "code",
   "execution_count": 69,
   "id": "7ab30d10",
   "metadata": {},
   "outputs": [
    {
     "name": "stdout",
     "output_type": "stream",
     "text": [
      "AUC de la Regresión Logística:\n",
      "==================================================\n",
      "AUC = 0.6885\n"
     ]
    },
    {
     "data": {
      "image/png": "[encoded data removed]",
      "text/plain": [
       "<Figure size 640x480 with 1 Axes>"
      ]
     },
     "metadata": {},
     "output_type": "display_data"
    }
   ],
   "source": [
    "roc_curve_df_lr = pd.DataFrame(dict(fpr=fpr_log, tpr=tpr_log, thr=thr_log))\n",
    "plt.axis([0, 1.01, 0, 1.01])\n",
    "plt.xlabel('1 - Specificty')\n",
    "plt.ylabel('TPR / Sensitivity')\n",
    "plt.title('ROC Curve')\n",
    "plt.plot(roc_curve_df_lr['fpr'],roc_curve_df_lr['tpr'])\n",
    "\n",
    "print(f'AUC de la Regresión Logística:')\n",
    "print('==================================================')\n",
    "auc_score = auc(fpr_log, tpr_log)\n",
    "print(f'AUC = {round(auc_score,4)}')\n",
    "# TO-DO ROC y AUC para KNN y NB"
   ]
  },
  {
   "cell_type": "markdown",
   "id": "83c7e29c",
   "metadata": {},
   "source": [
    "<a id=\"conclusiones\"></a> \n",
    "## 7. Conclusiones\n",
    "---"
   ]
  },
  {
   "cell_type": "code",
   "execution_count": 70,
   "id": "7afe6fec",
   "metadata": {},
   "outputs": [],
   "source": [
    "# TO-DO"
   ]
  },
  {
   "cell_type": "code",
   "execution_count": null,
   "id": "4360b783",
   "metadata": {},
   "outputs": [],
   "source": []
  }
 ],
 "metadata": {
  "kernelspec": {
   "display_name": "Python 3 (ipykernel)",
   "language": "python",
   "name": "python3"
  },
  "language_info": {
   "codemirror_mode": {
    "name": "ipython",
    "version": 3
   },
   "file_extension": ".py",
   "mimetype": "text/x-python",
   "name": "python",
   "nbconvert_exporter": "python",
   "pygments_lexer": "ipython3",
   "version": "3.8.15"
  }
 },
 "nbformat": 4,
 "nbformat_minor": 5
}
