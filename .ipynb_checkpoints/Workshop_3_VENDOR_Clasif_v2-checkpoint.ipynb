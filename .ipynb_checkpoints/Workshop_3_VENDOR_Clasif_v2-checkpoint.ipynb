{
 "cells": [
  {
   "cell_type": "code",
   "execution_count": null,
   "id": "f21d191d",
   "metadata": {},
   "outputs": [],
   "source": []
  },
  {
   "cell_type": "markdown",
   "id": "a5b570db",
   "metadata": {},
   "source": [
    "# <a id=\"tabla_contenidos\"></a> \n",
    "## Tabla de Contenidos\n",
    "\n",
    "### <a href='#section_repaso'>1. Introducción</a>\n",
    "- #### <a href='#explicacion_dataset'>1.1 Presentación del caso</a>\n",
    "- #### <a href='#metodologia'>1.2 La metodología de trabajo</a>\n",
    "\n",
    "### <a href='#section_import_lib'>2. Importación de librerías para casos de Clasificación</a>\n",
    "\n",
    "\n",
    "### <a href='#importar_dataset'>3. Importando el DataSet</a> \n",
    "- #### <a href='#imputacion'>3.1 Imputación de datos</a>\n",
    "\n",
    "### <a  href='#preparacion_entrenamiento'>4. Preparación y Entrenamiento del DataSet</a>\n",
    "- #### <a href='#features'>4.1 Features</a>\n",
    "- #### <a href='#split'>4.2 Split del set de entrenamiento</a>\n",
    "- #### <a href='#metodo_entrenamiento'>4.3 Selección del método de entrenamiento</a>\n",
    "\n",
    "### <a  href='#evaluacion_modelos'>5. Evaluación de los Modelos</a>\n",
    "- #### <a href='#section_matriz_confusion_code'>5.1 Métricas: Matriz de confusión</a>\n",
    "- #### <a href='#section_accuracy'>5.2 Métricas: Accuracy</a>\n",
    "- #### <a href='#section_error'>5.3 Métricas: Error de Clasificación</a>\n",
    "- #### <a href='#section_recall'>5.4 Métricas: Sensitivity (o recall)</a>\n",
    "- #### <a href='#section_specificity'>5.5 Métricas: Specificity</a>\n",
    "- #### <a href='#section_precision'>5.6 Métricas: Precision</a>\n",
    "- #### <a href='#section_fpr'>5.7 Métricas: False positive rate (FPR)</a>\n",
    "- #### <a href='#section_f1_score'>5.8 Métricas: F1-Score</a>\n",
    "\n",
    "### <a href='#section_curva_roc'>6. Curva ROC</a>\n",
    "- #### <a href='#section_umbrales'>6.1 Ajustando los umbrales</a>\n",
    "- #### <a href='#section_imp_croc'>6.2 Implementación Curva ROC y AUC</a>\n",
    "\n",
    "### <a href='#conclusiones'>7. Conclusuiones</a>\n",
    "---"
   ]
  },
  {
   "cell_type": "markdown",
   "id": "02398835",
   "metadata": {},
   "source": [
    "<a id=\"section_repaso\"></a> \n",
    "## 1. Introducción\n",
    "---"
   ]
  },
  {
   "cell_type": "markdown",
   "id": "8cd2f7cd",
   "metadata": {},
   "source": [
    "<a id=\"explicacion_dataset\"></a> \n",
    "### 1.1 Presentación del caso\n",
    "Escribir aquí... # TO-DO\n",
    "\n",
    "<a id=\"metodologia\"></a> \n",
    "### 1.2 La metodología de trabajo\n",
    "Escribir aquí... # TO-DO\n"
   ]
  },
  {
   "cell_type": "markdown",
   "id": "b00da6e8",
   "metadata": {},
   "source": [
    "<a id=\"section_import_lib\"></a>\n",
    "## 2. Importación de librerías para casos de Clasificación\n",
    "---"
   ]
  },
  {
   "cell_type": "markdown",
   "id": "89dbcb96",
   "metadata": {},
   "source": [
    "Comenzamos importando las librerías y dependencias que utilizaremos a lo largo del trabajo."
   ]
  },
  {
   "cell_type": "code",
   "execution_count": 1,
   "id": "f08ca63e",
   "metadata": {},
   "outputs": [],
   "source": [
    "from sklearn import preprocessing\n",
    "from sklearn.model_selection import train_test_split\n",
    "from sklearn.datasets import make_classification\n",
    "from sklearn.linear_model import LogisticRegression\n",
    "from sklearn.preprocessing import StandardScaler\n",
    "\n",
    "import matplotlib.pyplot as plt\n",
    "import pandas as pd\n",
    "import numpy as np"
   ]
  },
  {
   "cell_type": "markdown",
   "id": "2078fa36",
   "metadata": {},
   "source": [
    "<a id=\"importar_dataset\"></a>\n",
    "## 3. Importando el DataSet\n",
    "---"
   ]
  },
  {
   "cell_type": "code",
   "execution_count": 2,
   "id": "0587f880",
   "metadata": {},
   "outputs": [
    {
     "name": "stderr",
     "output_type": "stream",
     "text": [
      "C:\\Users\\ar037895\\Anaconda3\\envs\\dhdsblend2022\\lib\\site-packages\\IPython\\core\\interactiveshell.py:3194: DtypeWarning: Columns (16,70) have mixed types.Specify dtype option on import or set low_memory=False.\n",
      "  has_raised = await self.run_ast_nodes(code_ast.body, cell_name,\n"
     ]
    }
   ],
   "source": [
    "ruta_tat = 'VENDROS_TAT.csv'\n",
    "ruta_vendors = 'VENDORS_NAMES_metrics.csv'\n",
    "\n",
    "data_tat = pd.read_csv(ruta_tat, encoding='UTF-8', sep=',')\n",
    "data_vendors = pd.read_csv(ruta_vendors, encoding='UTF-8', sep=',')"
   ]
  },
  {
   "cell_type": "markdown",
   "id": "bd9f53e3",
   "metadata": {},
   "source": [
    "Visalizamos el DataSet para identificar las columnas y los valores que necesitamos."
   ]
  },
  {
   "cell_type": "code",
   "execution_count": 3,
   "id": "53cd4266",
   "metadata": {},
   "outputs": [
    {
     "data": {
      "text/html": [
       "<div>\n",
       "<style scoped>\n",
       "    .dataframe tbody tr th:only-of-type {\n",
       "        vertical-align: middle;\n",
       "    }\n",
       "\n",
       "    .dataframe tbody tr th {\n",
       "        vertical-align: top;\n",
       "    }\n",
       "\n",
       "    .dataframe thead th {\n",
       "        text-align: right;\n",
       "    }\n",
       "</style>\n",
       "<table border=\"1\" class=\"dataframe\">\n",
       "  <thead>\n",
       "    <tr style=\"text-align: right;\">\n",
       "      <th></th>\n",
       "      <th>TAT</th>\n",
       "      <th>TAT7</th>\n",
       "      <th>TAT6</th>\n",
       "      <th>TAT5</th>\n",
       "      <th>TAT4</th>\n",
       "      <th>TAT3</th>\n",
       "      <th>TAT2</th>\n",
       "      <th>TAT1</th>\n",
       "      <th>order_number_id</th>\n",
       "      <th>order_number</th>\n",
       "      <th>...</th>\n",
       "      <th>EIN_destination</th>\n",
       "      <th>EIN_shipper</th>\n",
       "      <th>EIN_flight_date</th>\n",
       "      <th>EIN_arrival_date</th>\n",
       "      <th>EIN_arrival_date_tz</th>\n",
       "      <th>EIN_part_tool</th>\n",
       "      <th>EIN_created_date</th>\n",
       "      <th>EIN_created_date_tz</th>\n",
       "      <th>EIN_airway_bill_date</th>\n",
       "      <th>EIN_airway_bill_date_tz</th>\n",
       "    </tr>\n",
       "  </thead>\n",
       "  <tbody>\n",
       "    <tr>\n",
       "      <th>1565</th>\n",
       "      <td>13.0</td>\n",
       "      <td>NaN</td>\n",
       "      <td>NaN</td>\n",
       "      <td>13.0</td>\n",
       "      <td>13.0</td>\n",
       "      <td>NaN</td>\n",
       "      <td>NaN</td>\n",
       "      <td>0.0</td>\n",
       "      <td>157403</td>\n",
       "      <td>R0221721</td>\n",
       "      <td>...</td>\n",
       "      <td>NaN</td>\n",
       "      <td>NaN</td>\n",
       "      <td>NaN</td>\n",
       "      <td>NaN</td>\n",
       "      <td>NaN</td>\n",
       "      <td>NaN</td>\n",
       "      <td>NaN</td>\n",
       "      <td>NaN</td>\n",
       "      <td>NaN</td>\n",
       "      <td>NaN</td>\n",
       "    </tr>\n",
       "    <tr>\n",
       "      <th>9680</th>\n",
       "      <td>42.0</td>\n",
       "      <td>NaN</td>\n",
       "      <td>NaN</td>\n",
       "      <td>NaN</td>\n",
       "      <td>NaN</td>\n",
       "      <td>42.0</td>\n",
       "      <td>41.0</td>\n",
       "      <td>0.0</td>\n",
       "      <td>182558</td>\n",
       "      <td>P0002422</td>\n",
       "      <td>...</td>\n",
       "      <td>NaN</td>\n",
       "      <td>NaN</td>\n",
       "      <td>NaN</td>\n",
       "      <td>NaN</td>\n",
       "      <td>NaN</td>\n",
       "      <td>NaN</td>\n",
       "      <td>NaN</td>\n",
       "      <td>NaN</td>\n",
       "      <td>NaN</td>\n",
       "      <td>NaN</td>\n",
       "    </tr>\n",
       "    <tr>\n",
       "      <th>12814</th>\n",
       "      <td>44.0</td>\n",
       "      <td>43.0</td>\n",
       "      <td>44.0</td>\n",
       "      <td>16.0</td>\n",
       "      <td>16.0</td>\n",
       "      <td>11.0</td>\n",
       "      <td>11.0</td>\n",
       "      <td>0.0</td>\n",
       "      <td>162884</td>\n",
       "      <td>R0715221</td>\n",
       "      <td>...</td>\n",
       "      <td>7.0</td>\n",
       "      <td>1.0</td>\n",
       "      <td>2021-06-02</td>\n",
       "      <td>2021-06-03 00:00:00</td>\n",
       "      <td>+00:00</td>\n",
       "      <td>Y</td>\n",
       "      <td>2021-06-01 00:00:00</td>\n",
       "      <td>+00:00</td>\n",
       "      <td>2021-06-01 00:00:00</td>\n",
       "      <td>+00:00</td>\n",
       "    </tr>\n",
       "    <tr>\n",
       "      <th>8766</th>\n",
       "      <td>189.0</td>\n",
       "      <td>189.0</td>\n",
       "      <td>NaN</td>\n",
       "      <td>8.0</td>\n",
       "      <td>8.0</td>\n",
       "      <td>NaN</td>\n",
       "      <td>NaN</td>\n",
       "      <td>0.0</td>\n",
       "      <td>165698</td>\n",
       "      <td>R0941421</td>\n",
       "      <td>...</td>\n",
       "      <td>7.0</td>\n",
       "      <td>NaN</td>\n",
       "      <td>0</td>\n",
       "      <td>NaN</td>\n",
       "      <td>NaN</td>\n",
       "      <td>Y</td>\n",
       "      <td>2021-12-09 00:00:00</td>\n",
       "      <td>+00:00</td>\n",
       "      <td>2021-12-02 00:00:00</td>\n",
       "      <td>+00:00</td>\n",
       "    </tr>\n",
       "    <tr>\n",
       "      <th>10380</th>\n",
       "      <td>28.0</td>\n",
       "      <td>26.0</td>\n",
       "      <td>28.0</td>\n",
       "      <td>12.0</td>\n",
       "      <td>12.0</td>\n",
       "      <td>9.0</td>\n",
       "      <td>8.0</td>\n",
       "      <td>0.0</td>\n",
       "      <td>158353</td>\n",
       "      <td>R0309021</td>\n",
       "      <td>...</td>\n",
       "      <td>7.0</td>\n",
       "      <td>1.0</td>\n",
       "      <td>2021-03-18</td>\n",
       "      <td>2021-03-19 00:00:00</td>\n",
       "      <td>+00:00</td>\n",
       "      <td>Y</td>\n",
       "      <td>2021-03-16 00:00:00</td>\n",
       "      <td>+00:00</td>\n",
       "      <td>2021-03-16 00:00:00</td>\n",
       "      <td>+00:00</td>\n",
       "    </tr>\n",
       "  </tbody>\n",
       "</table>\n",
       "<p>5 rows × 91 columns</p>\n",
       "</div>"
      ],
      "text/plain": [
       "         TAT   TAT7  TAT6  TAT5  TAT4  TAT3  TAT2  TAT1  order_number_id  \\\n",
       "1565    13.0    NaN   NaN  13.0  13.0   NaN   NaN   0.0           157403   \n",
       "9680    42.0    NaN   NaN   NaN   NaN  42.0  41.0   0.0           182558   \n",
       "12814   44.0   43.0  44.0  16.0  16.0  11.0  11.0   0.0           162884   \n",
       "8766   189.0  189.0   NaN   8.0   8.0   NaN   NaN   0.0           165698   \n",
       "10380   28.0   26.0  28.0  12.0  12.0   9.0   8.0   0.0           158353   \n",
       "\n",
       "      order_number  ... EIN_destination EIN_shipper EIN_flight_date  \\\n",
       "1565      R0221721  ...             NaN         NaN             NaN   \n",
       "9680      P0002422  ...             NaN         NaN             NaN   \n",
       "12814     R0715221  ...             7.0         1.0      2021-06-02   \n",
       "8766      R0941421  ...             7.0         NaN               0   \n",
       "10380     R0309021  ...             7.0         1.0      2021-03-18   \n",
       "\n",
       "          EIN_arrival_date EIN_arrival_date_tz EIN_part_tool  \\\n",
       "1565                   NaN                 NaN           NaN   \n",
       "9680                   NaN                 NaN           NaN   \n",
       "12814  2021-06-03 00:00:00              +00:00             Y   \n",
       "8766                   NaN                 NaN             Y   \n",
       "10380  2021-03-19 00:00:00              +00:00             Y   \n",
       "\n",
       "          EIN_created_date EIN_created_date_tz EIN_airway_bill_date  \\\n",
       "1565                   NaN                 NaN                  NaN   \n",
       "9680                   NaN                 NaN                  NaN   \n",
       "12814  2021-06-01 00:00:00              +00:00  2021-06-01 00:00:00   \n",
       "8766   2021-12-09 00:00:00              +00:00  2021-12-02 00:00:00   \n",
       "10380  2021-03-16 00:00:00              +00:00  2021-03-16 00:00:00   \n",
       "\n",
       "      EIN_airway_bill_date_tz  \n",
       "1565                      NaN  \n",
       "9680                      NaN  \n",
       "12814                  +00:00  \n",
       "8766                   +00:00  \n",
       "10380                  +00:00  \n",
       "\n",
       "[5 rows x 91 columns]"
      ]
     },
     "execution_count": 3,
     "metadata": {},
     "output_type": "execute_result"
    }
   ],
   "source": [
    "data_tat.sample(5)"
   ]
  },
  {
   "cell_type": "code",
   "execution_count": 4,
   "id": "15da02f9",
   "metadata": {},
   "outputs": [
    {
     "data": {
      "text/plain": [
       "TAT                        float64\n",
       "TAT7                       float64\n",
       "TAT6                       float64\n",
       "TAT5                       float64\n",
       "TAT4                       float64\n",
       "                            ...   \n",
       "EIN_part_tool               object\n",
       "EIN_created_date            object\n",
       "EIN_created_date_tz         object\n",
       "EIN_airway_bill_date        object\n",
       "EIN_airway_bill_date_tz     object\n",
       "Length: 91, dtype: object"
      ]
     },
     "execution_count": 4,
     "metadata": {},
     "output_type": "execute_result"
    }
   ],
   "source": [
    "data_tat.dtypes"
   ]
  },
  {
   "cell_type": "code",
   "execution_count": 5,
   "id": "5bc55e0d",
   "metadata": {},
   "outputs": [
    {
     "data": {
      "text/plain": [
       "(14875, 91)"
      ]
     },
     "execution_count": 5,
     "metadata": {},
     "output_type": "execute_result"
    }
   ],
   "source": [
    "data_tat.shape"
   ]
  },
  {
   "cell_type": "markdown",
   "id": "87247e7a",
   "metadata": {},
   "source": [
    "<a id=\"imputacion\"></a> \n",
    "### 3.1 Imputación de datos\n",
    "\n",
    "En este apartado se realiza un análisis manual del estado del DataSet, para verificar de manera preliminar, el estado  de la base de datos que vamos a utilizar."
   ]
  },
  {
   "cell_type": "markdown",
   "id": "0a1b6bf2",
   "metadata": {},
   "source": [
    "Para eso identificaremos la cantidad de **Nulos**."
   ]
  },
  {
   "cell_type": "code",
   "execution_count": 6,
   "id": "1d63952e",
   "metadata": {},
   "outputs": [
    {
     "data": {
      "text/plain": [
       "TAT                        0.001008\n",
       "TAT7                       0.608605\n",
       "TAT6                       0.794084\n",
       "TAT5                       0.203092\n",
       "TAT4                       0.203092\n",
       "                             ...   \n",
       "EIN_part_tool              0.607126\n",
       "EIN_created_date           0.607126\n",
       "EIN_created_date_tz        0.607126\n",
       "EIN_airway_bill_date       0.608605\n",
       "EIN_airway_bill_date_tz    0.608605\n",
       "Length: 91, dtype: float64"
      ]
     },
     "execution_count": 6,
     "metadata": {},
     "output_type": "execute_result"
    }
   ],
   "source": [
    "data_null = data_tat.apply(lambda x: x.isnull().sum()/data_tat.shape[0], axis=0)\n",
    "data_null"
   ]
  },
  {
   "cell_type": "markdown",
   "id": "0e55d17f",
   "metadata": {},
   "source": [
    "Realizaremos una eliminación de las **columnas nulas** del DataSet, con la función *dropna(how='all')*"
   ]
  },
  {
   "cell_type": "code",
   "execution_count": 7,
   "id": "c50c6c08",
   "metadata": {},
   "outputs": [
    {
     "data": {
      "text/html": [
       "<div>\n",
       "<style scoped>\n",
       "    .dataframe tbody tr th:only-of-type {\n",
       "        vertical-align: middle;\n",
       "    }\n",
       "\n",
       "    .dataframe tbody tr th {\n",
       "        vertical-align: top;\n",
       "    }\n",
       "\n",
       "    .dataframe thead th {\n",
       "        text-align: right;\n",
       "    }\n",
       "</style>\n",
       "<table border=\"1\" class=\"dataframe\">\n",
       "  <thead>\n",
       "    <tr style=\"text-align: right;\">\n",
       "      <th></th>\n",
       "      <th>TAT</th>\n",
       "      <th>TAT7</th>\n",
       "      <th>TAT6</th>\n",
       "      <th>TAT5</th>\n",
       "      <th>TAT4</th>\n",
       "      <th>TAT3</th>\n",
       "      <th>TAT2</th>\n",
       "      <th>TAT1</th>\n",
       "      <th>order_number_id</th>\n",
       "      <th>order_number</th>\n",
       "      <th>...</th>\n",
       "      <th>EIN_destination</th>\n",
       "      <th>EIN_shipper</th>\n",
       "      <th>EIN_flight_date</th>\n",
       "      <th>EIN_arrival_date</th>\n",
       "      <th>EIN_arrival_date_tz</th>\n",
       "      <th>EIN_part_tool</th>\n",
       "      <th>EIN_created_date</th>\n",
       "      <th>EIN_created_date_tz</th>\n",
       "      <th>EIN_airway_bill_date</th>\n",
       "      <th>EIN_airway_bill_date_tz</th>\n",
       "    </tr>\n",
       "  </thead>\n",
       "  <tbody>\n",
       "    <tr>\n",
       "      <th>0</th>\n",
       "      <td>9.0</td>\n",
       "      <td>NaN</td>\n",
       "      <td>NaN</td>\n",
       "      <td>9.0</td>\n",
       "      <td>9.0</td>\n",
       "      <td>NaN</td>\n",
       "      <td>NaN</td>\n",
       "      <td>1.0</td>\n",
       "      <td>87862</td>\n",
       "      <td>R2054619</td>\n",
       "      <td>...</td>\n",
       "      <td>NaN</td>\n",
       "      <td>NaN</td>\n",
       "      <td>NaN</td>\n",
       "      <td>NaN</td>\n",
       "      <td>NaN</td>\n",
       "      <td>NaN</td>\n",
       "      <td>NaN</td>\n",
       "      <td>NaN</td>\n",
       "      <td>NaN</td>\n",
       "      <td>NaN</td>\n",
       "    </tr>\n",
       "    <tr>\n",
       "      <th>1</th>\n",
       "      <td>31.0</td>\n",
       "      <td>31.0</td>\n",
       "      <td>NaN</td>\n",
       "      <td>4.0</td>\n",
       "      <td>4.0</td>\n",
       "      <td>NaN</td>\n",
       "      <td>NaN</td>\n",
       "      <td>4.0</td>\n",
       "      <td>116048</td>\n",
       "      <td>R4093319</td>\n",
       "      <td>...</td>\n",
       "      <td>7.0</td>\n",
       "      <td>NaN</td>\n",
       "      <td>0</td>\n",
       "      <td>NaN</td>\n",
       "      <td>NaN</td>\n",
       "      <td>Y</td>\n",
       "      <td>2019-11-22 00:00:00</td>\n",
       "      <td>+00:00</td>\n",
       "      <td>2019-11-14 00:00:00</td>\n",
       "      <td>+00:00</td>\n",
       "    </tr>\n",
       "    <tr>\n",
       "      <th>2</th>\n",
       "      <td>45.0</td>\n",
       "      <td>45.0</td>\n",
       "      <td>NaN</td>\n",
       "      <td>8.0</td>\n",
       "      <td>8.0</td>\n",
       "      <td>NaN</td>\n",
       "      <td>NaN</td>\n",
       "      <td>0.0</td>\n",
       "      <td>176087</td>\n",
       "      <td>R1788221</td>\n",
       "      <td>...</td>\n",
       "      <td>7.0</td>\n",
       "      <td>NaN</td>\n",
       "      <td>0</td>\n",
       "      <td>NaN</td>\n",
       "      <td>NaN</td>\n",
       "      <td>Y</td>\n",
       "      <td>2021-12-09 00:00:00</td>\n",
       "      <td>+00:00</td>\n",
       "      <td>2021-12-02 00:00:00</td>\n",
       "      <td>+00:00</td>\n",
       "    </tr>\n",
       "    <tr>\n",
       "      <th>3</th>\n",
       "      <td>19.0</td>\n",
       "      <td>18.0</td>\n",
       "      <td>19.0</td>\n",
       "      <td>NaN</td>\n",
       "      <td>NaN</td>\n",
       "      <td>NaN</td>\n",
       "      <td>NaN</td>\n",
       "      <td>6.0</td>\n",
       "      <td>123425</td>\n",
       "      <td>P0724819</td>\n",
       "      <td>...</td>\n",
       "      <td>7.0</td>\n",
       "      <td>1.0</td>\n",
       "      <td>2019-12-21</td>\n",
       "      <td>2019-12-22 00:00:00</td>\n",
       "      <td>+00:00</td>\n",
       "      <td>Y</td>\n",
       "      <td>2019-12-20 00:00:00</td>\n",
       "      <td>+00:00</td>\n",
       "      <td>2019-12-20 00:00:00</td>\n",
       "      <td>+00:00</td>\n",
       "    </tr>\n",
       "    <tr>\n",
       "      <th>4</th>\n",
       "      <td>9.0</td>\n",
       "      <td>NaN</td>\n",
       "      <td>NaN</td>\n",
       "      <td>9.0</td>\n",
       "      <td>9.0</td>\n",
       "      <td>NaN</td>\n",
       "      <td>NaN</td>\n",
       "      <td>0.0</td>\n",
       "      <td>170863</td>\n",
       "      <td>R1361821</td>\n",
       "      <td>...</td>\n",
       "      <td>NaN</td>\n",
       "      <td>NaN</td>\n",
       "      <td>NaN</td>\n",
       "      <td>NaN</td>\n",
       "      <td>NaN</td>\n",
       "      <td>NaN</td>\n",
       "      <td>NaN</td>\n",
       "      <td>NaN</td>\n",
       "      <td>NaN</td>\n",
       "      <td>NaN</td>\n",
       "    </tr>\n",
       "    <tr>\n",
       "      <th>...</th>\n",
       "      <td>...</td>\n",
       "      <td>...</td>\n",
       "      <td>...</td>\n",
       "      <td>...</td>\n",
       "      <td>...</td>\n",
       "      <td>...</td>\n",
       "      <td>...</td>\n",
       "      <td>...</td>\n",
       "      <td>...</td>\n",
       "      <td>...</td>\n",
       "      <td>...</td>\n",
       "      <td>...</td>\n",
       "      <td>...</td>\n",
       "      <td>...</td>\n",
       "      <td>...</td>\n",
       "      <td>...</td>\n",
       "      <td>...</td>\n",
       "      <td>...</td>\n",
       "      <td>...</td>\n",
       "      <td>...</td>\n",
       "      <td>...</td>\n",
       "    </tr>\n",
       "    <tr>\n",
       "      <th>14870</th>\n",
       "      <td>13.0</td>\n",
       "      <td>13.0</td>\n",
       "      <td>13.0</td>\n",
       "      <td>NaN</td>\n",
       "      <td>NaN</td>\n",
       "      <td>NaN</td>\n",
       "      <td>NaN</td>\n",
       "      <td>1.0</td>\n",
       "      <td>88966</td>\n",
       "      <td>R2132319</td>\n",
       "      <td>...</td>\n",
       "      <td>100.0</td>\n",
       "      <td>1.0</td>\n",
       "      <td>2019-04-24</td>\n",
       "      <td>NaN</td>\n",
       "      <td>NaN</td>\n",
       "      <td>Y</td>\n",
       "      <td>2019-04-24 00:00:00</td>\n",
       "      <td>+00:00</td>\n",
       "      <td>2019-04-24 00:00:00</td>\n",
       "      <td>+00:00</td>\n",
       "    </tr>\n",
       "    <tr>\n",
       "      <th>14871</th>\n",
       "      <td>29.0</td>\n",
       "      <td>29.0</td>\n",
       "      <td>29.0</td>\n",
       "      <td>15.0</td>\n",
       "      <td>15.0</td>\n",
       "      <td>14.0</td>\n",
       "      <td>12.0</td>\n",
       "      <td>10.0</td>\n",
       "      <td>127458</td>\n",
       "      <td>R0014920</td>\n",
       "      <td>...</td>\n",
       "      <td>7.0</td>\n",
       "      <td>1.0</td>\n",
       "      <td>2020-01-31</td>\n",
       "      <td>2020-02-01 00:00:00</td>\n",
       "      <td>+00:00</td>\n",
       "      <td>Y</td>\n",
       "      <td>2020-01-31 00:00:00</td>\n",
       "      <td>+00:00</td>\n",
       "      <td>2020-01-31 00:00:00</td>\n",
       "      <td>+00:00</td>\n",
       "    </tr>\n",
       "    <tr>\n",
       "      <th>14872</th>\n",
       "      <td>11.0</td>\n",
       "      <td>NaN</td>\n",
       "      <td>NaN</td>\n",
       "      <td>11.0</td>\n",
       "      <td>11.0</td>\n",
       "      <td>NaN</td>\n",
       "      <td>NaN</td>\n",
       "      <td>0.0</td>\n",
       "      <td>136119</td>\n",
       "      <td>R0680920</td>\n",
       "      <td>...</td>\n",
       "      <td>NaN</td>\n",
       "      <td>NaN</td>\n",
       "      <td>NaN</td>\n",
       "      <td>NaN</td>\n",
       "      <td>NaN</td>\n",
       "      <td>NaN</td>\n",
       "      <td>NaN</td>\n",
       "      <td>NaN</td>\n",
       "      <td>NaN</td>\n",
       "      <td>NaN</td>\n",
       "    </tr>\n",
       "    <tr>\n",
       "      <th>14873</th>\n",
       "      <td>19.0</td>\n",
       "      <td>NaN</td>\n",
       "      <td>NaN</td>\n",
       "      <td>8.0</td>\n",
       "      <td>8.0</td>\n",
       "      <td>19.0</td>\n",
       "      <td>18.0</td>\n",
       "      <td>0.0</td>\n",
       "      <td>229035</td>\n",
       "      <td>R0369923</td>\n",
       "      <td>...</td>\n",
       "      <td>NaN</td>\n",
       "      <td>NaN</td>\n",
       "      <td>NaN</td>\n",
       "      <td>NaN</td>\n",
       "      <td>NaN</td>\n",
       "      <td>NaN</td>\n",
       "      <td>NaN</td>\n",
       "      <td>NaN</td>\n",
       "      <td>NaN</td>\n",
       "      <td>NaN</td>\n",
       "    </tr>\n",
       "    <tr>\n",
       "      <th>14874</th>\n",
       "      <td>8.0</td>\n",
       "      <td>NaN</td>\n",
       "      <td>NaN</td>\n",
       "      <td>8.0</td>\n",
       "      <td>8.0</td>\n",
       "      <td>7.0</td>\n",
       "      <td>4.0</td>\n",
       "      <td>0.0</td>\n",
       "      <td>229035</td>\n",
       "      <td>R0369923</td>\n",
       "      <td>...</td>\n",
       "      <td>NaN</td>\n",
       "      <td>NaN</td>\n",
       "      <td>NaN</td>\n",
       "      <td>NaN</td>\n",
       "      <td>NaN</td>\n",
       "      <td>NaN</td>\n",
       "      <td>NaN</td>\n",
       "      <td>NaN</td>\n",
       "      <td>NaN</td>\n",
       "      <td>NaN</td>\n",
       "    </tr>\n",
       "  </tbody>\n",
       "</table>\n",
       "<p>14875 rows × 85 columns</p>\n",
       "</div>"
      ],
      "text/plain": [
       "        TAT  TAT7  TAT6  TAT5  TAT4  TAT3  TAT2  TAT1  order_number_id  \\\n",
       "0       9.0   NaN   NaN   9.0   9.0   NaN   NaN   1.0            87862   \n",
       "1      31.0  31.0   NaN   4.0   4.0   NaN   NaN   4.0           116048   \n",
       "2      45.0  45.0   NaN   8.0   8.0   NaN   NaN   0.0           176087   \n",
       "3      19.0  18.0  19.0   NaN   NaN   NaN   NaN   6.0           123425   \n",
       "4       9.0   NaN   NaN   9.0   9.0   NaN   NaN   0.0           170863   \n",
       "...     ...   ...   ...   ...   ...   ...   ...   ...              ...   \n",
       "14870  13.0  13.0  13.0   NaN   NaN   NaN   NaN   1.0            88966   \n",
       "14871  29.0  29.0  29.0  15.0  15.0  14.0  12.0  10.0           127458   \n",
       "14872  11.0   NaN   NaN  11.0  11.0   NaN   NaN   0.0           136119   \n",
       "14873  19.0   NaN   NaN   8.0   8.0  19.0  18.0   0.0           229035   \n",
       "14874   8.0   NaN   NaN   8.0   8.0   7.0   4.0   0.0           229035   \n",
       "\n",
       "      order_number  ... EIN_destination EIN_shipper EIN_flight_date  \\\n",
       "0         R2054619  ...             NaN         NaN             NaN   \n",
       "1         R4093319  ...             7.0         NaN               0   \n",
       "2         R1788221  ...             7.0         NaN               0   \n",
       "3         P0724819  ...             7.0         1.0      2019-12-21   \n",
       "4         R1361821  ...             NaN         NaN             NaN   \n",
       "...            ...  ...             ...         ...             ...   \n",
       "14870     R2132319  ...           100.0         1.0      2019-04-24   \n",
       "14871     R0014920  ...             7.0         1.0      2020-01-31   \n",
       "14872     R0680920  ...             NaN         NaN             NaN   \n",
       "14873     R0369923  ...             NaN         NaN             NaN   \n",
       "14874     R0369923  ...             NaN         NaN             NaN   \n",
       "\n",
       "          EIN_arrival_date EIN_arrival_date_tz EIN_part_tool  \\\n",
       "0                      NaN                 NaN           NaN   \n",
       "1                      NaN                 NaN             Y   \n",
       "2                      NaN                 NaN             Y   \n",
       "3      2019-12-22 00:00:00              +00:00             Y   \n",
       "4                      NaN                 NaN           NaN   \n",
       "...                    ...                 ...           ...   \n",
       "14870                  NaN                 NaN             Y   \n",
       "14871  2020-02-01 00:00:00              +00:00             Y   \n",
       "14872                  NaN                 NaN           NaN   \n",
       "14873                  NaN                 NaN           NaN   \n",
       "14874                  NaN                 NaN           NaN   \n",
       "\n",
       "          EIN_created_date EIN_created_date_tz EIN_airway_bill_date  \\\n",
       "0                      NaN                 NaN                  NaN   \n",
       "1      2019-11-22 00:00:00              +00:00  2019-11-14 00:00:00   \n",
       "2      2021-12-09 00:00:00              +00:00  2021-12-02 00:00:00   \n",
       "3      2019-12-20 00:00:00              +00:00  2019-12-20 00:00:00   \n",
       "4                      NaN                 NaN                  NaN   \n",
       "...                    ...                 ...                  ...   \n",
       "14870  2019-04-24 00:00:00              +00:00  2019-04-24 00:00:00   \n",
       "14871  2020-01-31 00:00:00              +00:00  2020-01-31 00:00:00   \n",
       "14872                  NaN                 NaN                  NaN   \n",
       "14873                  NaN                 NaN                  NaN   \n",
       "14874                  NaN                 NaN                  NaN   \n",
       "\n",
       "      EIN_airway_bill_date_tz  \n",
       "0                         NaN  \n",
       "1                      +00:00  \n",
       "2                      +00:00  \n",
       "3                      +00:00  \n",
       "4                         NaN  \n",
       "...                       ...  \n",
       "14870                  +00:00  \n",
       "14871                  +00:00  \n",
       "14872                     NaN  \n",
       "14873                     NaN  \n",
       "14874                     NaN  \n",
       "\n",
       "[14875 rows x 85 columns]"
      ]
     },
     "execution_count": 7,
     "metadata": {},
     "output_type": "execute_result"
    }
   ],
   "source": [
    "data_tat.dropna(how='all', axis=1)"
   ]
  },
  {
   "cell_type": "markdown",
   "id": "34c2bc2e",
   "metadata": {},
   "source": [
    "En este punto tomaremos solamente las columnas Categoricas o numéricas que pueden aportar al objetivo de clasificación que queremos realizar. Para eso crearemos  un nuevo DataFrame con un **filtro de columnas**."
   ]
  },
  {
   "cell_type": "code",
   "execution_count": 8,
   "id": "bd57de6b",
   "metadata": {},
   "outputs": [],
   "source": [
    "data_tat_filter = data_tat[[\n",
    "    'TAT',\n",
    "    'order_number_id',\n",
    "    'order_number',\n",
    "    'order_type',\n",
    "    'order_date',\n",
    "    'entry_date',\n",
    "    'address_ship',\n",
    "    'vendor_code',\n",
    "    'shipment',\n",
    "    'priority',\n",
    "    'created_date',\n",
    "    'od_target_date',\n",
    "    'od_confirmed_date',\n",
    "    'od_req_condition']]"
   ]
  },
  {
   "cell_type": "code",
   "execution_count": 9,
   "id": "cfdf42cc",
   "metadata": {},
   "outputs": [
    {
     "data": {
      "text/html": [
       "<div>\n",
       "<style scoped>\n",
       "    .dataframe tbody tr th:only-of-type {\n",
       "        vertical-align: middle;\n",
       "    }\n",
       "\n",
       "    .dataframe tbody tr th {\n",
       "        vertical-align: top;\n",
       "    }\n",
       "\n",
       "    .dataframe thead th {\n",
       "        text-align: right;\n",
       "    }\n",
       "</style>\n",
       "<table border=\"1\" class=\"dataframe\">\n",
       "  <thead>\n",
       "    <tr style=\"text-align: right;\">\n",
       "      <th></th>\n",
       "      <th>TAT</th>\n",
       "      <th>order_number_id</th>\n",
       "      <th>order_number</th>\n",
       "      <th>order_type</th>\n",
       "      <th>order_date</th>\n",
       "      <th>entry_date</th>\n",
       "      <th>address_ship</th>\n",
       "      <th>vendor_code</th>\n",
       "      <th>shipment</th>\n",
       "      <th>priority</th>\n",
       "      <th>created_date</th>\n",
       "      <th>od_target_date</th>\n",
       "      <th>od_confirmed_date</th>\n",
       "      <th>od_req_condition</th>\n",
       "    </tr>\n",
       "  </thead>\n",
       "  <tbody>\n",
       "    <tr>\n",
       "      <th>0</th>\n",
       "      <td>9.0</td>\n",
       "      <td>87862</td>\n",
       "      <td>R2054619</td>\n",
       "      <td>R</td>\n",
       "      <td>2019-04-08 00:00:00</td>\n",
       "      <td>2019-04-05 00:00:00</td>\n",
       "      <td>ARG</td>\n",
       "      <td>AR0011</td>\n",
       "      <td>NaN</td>\n",
       "      <td>RTN</td>\n",
       "      <td>2019-04-06 00:00:00</td>\n",
       "      <td>0</td>\n",
       "      <td>0</td>\n",
       "      <td>CA</td>\n",
       "    </tr>\n",
       "    <tr>\n",
       "      <th>1</th>\n",
       "      <td>31.0</td>\n",
       "      <td>116048</td>\n",
       "      <td>R4093319</td>\n",
       "      <td>R</td>\n",
       "      <td>2019-10-14 00:00:00</td>\n",
       "      <td>2019-10-10 00:00:00</td>\n",
       "      <td>AR0650</td>\n",
       "      <td>AR0011</td>\n",
       "      <td>NaN</td>\n",
       "      <td>RTN</td>\n",
       "      <td>2019-10-14 00:00:00</td>\n",
       "      <td>0</td>\n",
       "      <td>2019-12-12 00:00:00</td>\n",
       "      <td>CA</td>\n",
       "    </tr>\n",
       "    <tr>\n",
       "      <th>2</th>\n",
       "      <td>45.0</td>\n",
       "      <td>176087</td>\n",
       "      <td>R1788221</td>\n",
       "      <td>R</td>\n",
       "      <td>2021-10-18 00:00:00</td>\n",
       "      <td>2021-10-18 00:00:00</td>\n",
       "      <td>AR0650</td>\n",
       "      <td>AR0011</td>\n",
       "      <td>NaN</td>\n",
       "      <td>RTN</td>\n",
       "      <td>2021-10-18 00:00:00</td>\n",
       "      <td>0</td>\n",
       "      <td>2021-12-03 00:00:00</td>\n",
       "      <td>CA</td>\n",
       "    </tr>\n",
       "    <tr>\n",
       "      <th>3</th>\n",
       "      <td>19.0</td>\n",
       "      <td>123425</td>\n",
       "      <td>P0724819</td>\n",
       "      <td>P</td>\n",
       "      <td>2019-11-26 00:00:00</td>\n",
       "      <td>2019-11-26 00:00:00</td>\n",
       "      <td>ADUANA-EZE</td>\n",
       "      <td>381AB</td>\n",
       "      <td>F3</td>\n",
       "      <td>USR</td>\n",
       "      <td>2019-12-02 00:00:00</td>\n",
       "      <td>2019-12-01 00:00:00</td>\n",
       "      <td>2019-12-01 00:00:00</td>\n",
       "      <td>N</td>\n",
       "    </tr>\n",
       "    <tr>\n",
       "      <th>4</th>\n",
       "      <td>9.0</td>\n",
       "      <td>170863</td>\n",
       "      <td>R1361821</td>\n",
       "      <td>R</td>\n",
       "      <td>2021-08-10 00:00:00</td>\n",
       "      <td>2021-08-10 00:00:00</td>\n",
       "      <td>AR0650</td>\n",
       "      <td>AR0011</td>\n",
       "      <td>NaN</td>\n",
       "      <td>RTN</td>\n",
       "      <td>2021-08-10 00:00:00</td>\n",
       "      <td>0</td>\n",
       "      <td>2021-09-30 00:00:00</td>\n",
       "      <td>CA</td>\n",
       "    </tr>\n",
       "  </tbody>\n",
       "</table>\n",
       "</div>"
      ],
      "text/plain": [
       "    TAT  order_number_id order_number order_type           order_date  \\\n",
       "0   9.0            87862     R2054619          R  2019-04-08 00:00:00   \n",
       "1  31.0           116048     R4093319          R  2019-10-14 00:00:00   \n",
       "2  45.0           176087     R1788221          R  2021-10-18 00:00:00   \n",
       "3  19.0           123425     P0724819          P  2019-11-26 00:00:00   \n",
       "4   9.0           170863     R1361821          R  2021-08-10 00:00:00   \n",
       "\n",
       "            entry_date address_ship vendor_code shipment priority  \\\n",
       "0  2019-04-05 00:00:00          ARG      AR0011      NaN      RTN   \n",
       "1  2019-10-10 00:00:00       AR0650      AR0011      NaN      RTN   \n",
       "2  2021-10-18 00:00:00       AR0650      AR0011      NaN      RTN   \n",
       "3  2019-11-26 00:00:00   ADUANA-EZE       381AB       F3      USR   \n",
       "4  2021-08-10 00:00:00       AR0650      AR0011      NaN      RTN   \n",
       "\n",
       "          created_date       od_target_date    od_confirmed_date  \\\n",
       "0  2019-04-06 00:00:00                    0                    0   \n",
       "1  2019-10-14 00:00:00                    0  2019-12-12 00:00:00   \n",
       "2  2021-10-18 00:00:00                    0  2021-12-03 00:00:00   \n",
       "3  2019-12-02 00:00:00  2019-12-01 00:00:00  2019-12-01 00:00:00   \n",
       "4  2021-08-10 00:00:00                    0  2021-09-30 00:00:00   \n",
       "\n",
       "  od_req_condition  \n",
       "0               CA  \n",
       "1               CA  \n",
       "2               CA  \n",
       "3                N  \n",
       "4               CA  "
      ]
     },
     "execution_count": 9,
     "metadata": {},
     "output_type": "execute_result"
    }
   ],
   "source": [
    "data_tat_filter.head(5)"
   ]
  },
  {
   "cell_type": "code",
   "execution_count": 10,
   "id": "4e7f2fd6",
   "metadata": {},
   "outputs": [
    {
     "data": {
      "text/plain": [
       "14"
      ]
     },
     "execution_count": 10,
     "metadata": {},
     "output_type": "execute_result"
    }
   ],
   "source": [
    "data_tat_filter.shape[1]"
   ]
  },
  {
   "cell_type": "markdown",
   "id": "b6076b9d",
   "metadata": {},
   "source": [
    "Pasamos de tener 91 columnas en nuestro DataSet original, a pasar a **14 columnas** finales."
   ]
  },
  {
   "cell_type": "code",
   "execution_count": 11,
   "id": "aeafc886",
   "metadata": {},
   "outputs": [
    {
     "data": {
      "text/plain": [
       "TAT                  0.001008\n",
       "order_number_id      0.000000\n",
       "order_number         0.000000\n",
       "order_type           0.000000\n",
       "order_date           0.000000\n",
       "entry_date           0.037445\n",
       "address_ship         0.007731\n",
       "vendor_code          0.000000\n",
       "shipment             0.530487\n",
       "priority             0.032605\n",
       "created_date         0.000000\n",
       "od_target_date       0.000000\n",
       "od_confirmed_date    0.000000\n",
       "od_req_condition     0.020370\n",
       "dtype: float64"
      ]
     },
     "execution_count": 11,
     "metadata": {},
     "output_type": "execute_result"
    }
   ],
   "source": [
    "data_tat_filter.apply(lambda x: x.isnull().sum()/data_tat_filter.shape[0], axis=0)"
   ]
  },
  {
   "cell_type": "markdown",
   "id": "14c34199",
   "metadata": {},
   "source": [
    "Una vez imputado todos los datos de los TAT vamos **identificar los vendors** desde el DataSet \"data_vendors\" que identifica a los Vendors con un codigo.\n",
    "\n",
    "Con ese dato podemos incorporar los nombres de los provedores de una manera más amigable. Creamos un nuevo DataSet con los nombres de los vendors."
   ]
  },
  {
   "cell_type": "code",
   "execution_count": 12,
   "id": "4835b652",
   "metadata": {},
   "outputs": [
    {
     "data": {
      "text/html": [
       "<div>\n",
       "<style scoped>\n",
       "    .dataframe tbody tr th:only-of-type {\n",
       "        vertical-align: middle;\n",
       "    }\n",
       "\n",
       "    .dataframe tbody tr th {\n",
       "        vertical-align: top;\n",
       "    }\n",
       "\n",
       "    .dataframe thead th {\n",
       "        text-align: right;\n",
       "    }\n",
       "</style>\n",
       "<table border=\"1\" class=\"dataframe\">\n",
       "  <thead>\n",
       "    <tr style=\"text-align: right;\">\n",
       "      <th></th>\n",
       "      <th>vendor_name</th>\n",
       "      <th>vendor_code</th>\n",
       "      <th>COUNT</th>\n",
       "      <th>MEAN_of_TAT</th>\n",
       "      <th>STDEV_of_TAT</th>\n",
       "    </tr>\n",
       "  </thead>\n",
       "  <tbody>\n",
       "    <tr>\n",
       "      <th>0</th>\n",
       "      <td>BERNOULLI AEROSPACE, LLC</td>\n",
       "      <td>US0942</td>\n",
       "      <td>1061</td>\n",
       "      <td>73.393968</td>\n",
       "      <td>96.565499</td>\n",
       "    </tr>\n",
       "    <tr>\n",
       "      <th>1</th>\n",
       "      <td>DASTEC SRL USA LLC</td>\n",
       "      <td>US0192</td>\n",
       "      <td>1</td>\n",
       "      <td>33.000000</td>\n",
       "      <td>NaN</td>\n",
       "    </tr>\n",
       "    <tr>\n",
       "      <th>2</th>\n",
       "      <td>EDACI S.R.L.</td>\n",
       "      <td>AR0310</td>\n",
       "      <td>444</td>\n",
       "      <td>45.380631</td>\n",
       "      <td>58.214414</td>\n",
       "    </tr>\n",
       "    <tr>\n",
       "      <th>3</th>\n",
       "      <td>DANIELS MANUFACTURING CORP.</td>\n",
       "      <td>11851</td>\n",
       "      <td>9</td>\n",
       "      <td>58.333333</td>\n",
       "      <td>45.634417</td>\n",
       "    </tr>\n",
       "    <tr>\n",
       "      <th>4</th>\n",
       "      <td>SCHENCK ROTEC GMBH</td>\n",
       "      <td>CE619</td>\n",
       "      <td>1</td>\n",
       "      <td>193.000000</td>\n",
       "      <td>NaN</td>\n",
       "    </tr>\n",
       "  </tbody>\n",
       "</table>\n",
       "</div>"
      ],
      "text/plain": [
       "                   vendor_name vendor_code  COUNT  MEAN_of_TAT  STDEV_of_TAT\n",
       "0     BERNOULLI AEROSPACE, LLC      US0942   1061    73.393968     96.565499\n",
       "1           DASTEC SRL USA LLC      US0192      1    33.000000           NaN\n",
       "2                 EDACI S.R.L.      AR0310    444    45.380631     58.214414\n",
       "3  DANIELS MANUFACTURING CORP.       11851      9    58.333333     45.634417\n",
       "4           SCHENCK ROTEC GMBH       CE619      1   193.000000           NaN"
      ]
     },
     "execution_count": 12,
     "metadata": {},
     "output_type": "execute_result"
    }
   ],
   "source": [
    "data_vendors.head(5)"
   ]
  },
  {
   "cell_type": "code",
   "execution_count": 13,
   "id": "bd736213",
   "metadata": {},
   "outputs": [],
   "source": [
    "data_vendors_filtrado = data_vendors.drop(['COUNT','MEAN_of_TAT','STDEV_of_TAT'], axis=1)"
   ]
  },
  {
   "cell_type": "markdown",
   "id": "35a01005",
   "metadata": {},
   "source": [
    "Realizamos un merge con los nombres."
   ]
  },
  {
   "cell_type": "code",
   "execution_count": 14,
   "id": "46544e98",
   "metadata": {},
   "outputs": [
    {
     "data": {
      "text/html": [
       "<div>\n",
       "<style scoped>\n",
       "    .dataframe tbody tr th:only-of-type {\n",
       "        vertical-align: middle;\n",
       "    }\n",
       "\n",
       "    .dataframe tbody tr th {\n",
       "        vertical-align: top;\n",
       "    }\n",
       "\n",
       "    .dataframe thead th {\n",
       "        text-align: right;\n",
       "    }\n",
       "</style>\n",
       "<table border=\"1\" class=\"dataframe\">\n",
       "  <thead>\n",
       "    <tr style=\"text-align: right;\">\n",
       "      <th></th>\n",
       "      <th>TAT</th>\n",
       "      <th>order_number_id</th>\n",
       "      <th>order_number</th>\n",
       "      <th>order_type</th>\n",
       "      <th>order_date</th>\n",
       "      <th>entry_date</th>\n",
       "      <th>address_ship</th>\n",
       "      <th>vendor_code</th>\n",
       "      <th>shipment</th>\n",
       "      <th>priority</th>\n",
       "      <th>created_date</th>\n",
       "      <th>od_target_date</th>\n",
       "      <th>od_confirmed_date</th>\n",
       "      <th>od_req_condition</th>\n",
       "      <th>vendor_name</th>\n",
       "    </tr>\n",
       "  </thead>\n",
       "  <tbody>\n",
       "    <tr>\n",
       "      <th>11018</th>\n",
       "      <td>14.0</td>\n",
       "      <td>72522</td>\n",
       "      <td>L0003218</td>\n",
       "      <td>L</td>\n",
       "      <td>2018-12-19 00:00:00</td>\n",
       "      <td>2018-12-19 00:00:00</td>\n",
       "      <td>ADUANA-EZE</td>\n",
       "      <td>3Z9K5</td>\n",
       "      <td>NaN</td>\n",
       "      <td>NaN</td>\n",
       "      <td>2018-12-19 00:00:00</td>\n",
       "      <td>2018-12-26 00:00:00</td>\n",
       "      <td>0</td>\n",
       "      <td>NaN</td>\n",
       "      <td>AIRBUS NORTHAMERICA CS INC.</td>\n",
       "    </tr>\n",
       "    <tr>\n",
       "      <th>8158</th>\n",
       "      <td>26.0</td>\n",
       "      <td>204894</td>\n",
       "      <td>R1789222</td>\n",
       "      <td>R</td>\n",
       "      <td>2022-07-18 00:00:00</td>\n",
       "      <td>2022-07-18 00:00:00</td>\n",
       "      <td>ADUANA-EZE</td>\n",
       "      <td>US0962</td>\n",
       "      <td>F3</td>\n",
       "      <td>RTN</td>\n",
       "      <td>2022-07-18 00:00:00</td>\n",
       "      <td>0</td>\n",
       "      <td>2022-08-13 00:00:00</td>\n",
       "      <td>CA</td>\n",
       "      <td>UMT CALIBRATION LABORATORY</td>\n",
       "    </tr>\n",
       "    <tr>\n",
       "      <th>14285</th>\n",
       "      <td>41.0</td>\n",
       "      <td>185027</td>\n",
       "      <td>R0213722</td>\n",
       "      <td>R</td>\n",
       "      <td>2022-01-28 00:00:00</td>\n",
       "      <td>2022-01-28 00:00:00</td>\n",
       "      <td>ADUANA-EZE</td>\n",
       "      <td>US0942</td>\n",
       "      <td>F3</td>\n",
       "      <td>RTN</td>\n",
       "      <td>2022-01-28 00:00:00</td>\n",
       "      <td>0</td>\n",
       "      <td>2022-03-08 00:00:00</td>\n",
       "      <td>CA</td>\n",
       "      <td>BERNOULLI AEROSPACE, LLC</td>\n",
       "    </tr>\n",
       "  </tbody>\n",
       "</table>\n",
       "</div>"
      ],
      "text/plain": [
       "        TAT  order_number_id order_number order_type           order_date  \\\n",
       "11018  14.0            72522     L0003218          L  2018-12-19 00:00:00   \n",
       "8158   26.0           204894     R1789222          R  2022-07-18 00:00:00   \n",
       "14285  41.0           185027     R0213722          R  2022-01-28 00:00:00   \n",
       "\n",
       "                entry_date address_ship vendor_code shipment priority  \\\n",
       "11018  2018-12-19 00:00:00   ADUANA-EZE       3Z9K5      NaN      NaN   \n",
       "8158   2022-07-18 00:00:00   ADUANA-EZE      US0962       F3      RTN   \n",
       "14285  2022-01-28 00:00:00   ADUANA-EZE      US0942       F3      RTN   \n",
       "\n",
       "              created_date       od_target_date    od_confirmed_date  \\\n",
       "11018  2018-12-19 00:00:00  2018-12-26 00:00:00                    0   \n",
       "8158   2022-07-18 00:00:00                    0  2022-08-13 00:00:00   \n",
       "14285  2022-01-28 00:00:00                    0  2022-03-08 00:00:00   \n",
       "\n",
       "      od_req_condition                  vendor_name  \n",
       "11018              NaN  AIRBUS NORTHAMERICA CS INC.  \n",
       "8158                CA   UMT CALIBRATION LABORATORY  \n",
       "14285               CA     BERNOULLI AEROSPACE, LLC  "
      ]
     },
     "execution_count": 14,
     "metadata": {},
     "output_type": "execute_result"
    }
   ],
   "source": [
    "ds_complete = data_tat_filter.merge(data_vendors_filtrado, how='left', on='vendor_code')\n",
    "ds_complete.sample(3)"
   ]
  },
  {
   "cell_type": "markdown",
   "id": "9d83b269",
   "metadata": {},
   "source": [
    "<a id=\"preparacion_entrenamiento\"></a>\n",
    "## 4. Preparación y Entrenamiento del DataSet\n",
    "---"
   ]
  },
  {
   "cell_type": "markdown",
   "id": "60a9f274",
   "metadata": {},
   "source": [
    "<a id=\"features\"></a> \n",
    "### 4.1 Features\n",
    "Escribir aquí... **# TO-DO**"
   ]
  },
  {
   "cell_type": "markdown",
   "id": "09caccd6",
   "metadata": {},
   "source": [
    "**Features categóricas**"
   ]
  },
  {
   "cell_type": "code",
   "execution_count": 15,
   "id": "6a58dea8",
   "metadata": {},
   "outputs": [],
   "source": [
    "# TO-DO"
   ]
  },
  {
   "cell_type": "markdown",
   "id": "0067de04",
   "metadata": {},
   "source": [
    "**Features numéricas**"
   ]
  },
  {
   "cell_type": "code",
   "execution_count": 16,
   "id": "6bff9107",
   "metadata": {},
   "outputs": [],
   "source": [
    "# TO-DO"
   ]
  },
  {
   "cell_type": "markdown",
   "id": "8ed0ae7d",
   "metadata": {},
   "source": [
    "<a id=\"split\"></a> \n",
    "### 4.2 Split del set de entrenamiento\n",
    "Escribir aquí... **# TO-DO**"
   ]
  },
  {
   "cell_type": "code",
   "execution_count": 17,
   "id": "0f32fbd3",
   "metadata": {},
   "outputs": [],
   "source": [
    "# TO-DO"
   ]
  },
  {
   "cell_type": "markdown",
   "id": "2b401bb9",
   "metadata": {},
   "source": [
    "<a id=\"metodo_entrenamiento\"></a> \n",
    "### 4.3 Selección del método de entrenamiento\n",
    "Escribir aquí...  **# TO-DO**"
   ]
  },
  {
   "cell_type": "markdown",
   "id": "ca764e69",
   "metadata": {},
   "source": [
    "**4.3.1 Regresión Logística**"
   ]
  },
  {
   "cell_type": "code",
   "execution_count": 18,
   "id": "47fe9c1c",
   "metadata": {},
   "outputs": [],
   "source": [
    "# TO-DO"
   ]
  },
  {
   "cell_type": "markdown",
   "id": "305dd530",
   "metadata": {},
   "source": [
    "**4.3.2 Neives-Bayes Gausiano**"
   ]
  },
  {
   "cell_type": "code",
   "execution_count": 19,
   "id": "1908c7ef",
   "metadata": {},
   "outputs": [],
   "source": [
    "# TO-DO"
   ]
  },
  {
   "cell_type": "markdown",
   "id": "9ebb7f98",
   "metadata": {},
   "source": [
    "**4.3.3 K-Nearest Neighbors**"
   ]
  },
  {
   "cell_type": "code",
   "execution_count": 20,
   "id": "96d52e1c",
   "metadata": {},
   "outputs": [],
   "source": [
    "# TO-DO"
   ]
  },
  {
   "cell_type": "markdown",
   "id": "105e3fd1",
   "metadata": {},
   "source": [
    "<a id=\"evaluacion_modelos\"></a>\n",
    "## 5. Evaluación de los Modelos\n",
    "---"
   ]
  },
  {
   "cell_type": "code",
   "execution_count": 21,
   "id": "44216a36",
   "metadata": {},
   "outputs": [],
   "source": [
    "# TO-DO"
   ]
  },
  {
   "cell_type": "markdown",
   "id": "6bdaa71f",
   "metadata": {},
   "source": [
    "<a id=\"section_matriz_confusion_code\"></a> \n",
    "### 5.1 Métricas: Matriz de confusión"
   ]
  },
  {
   "cell_type": "code",
   "execution_count": 22,
   "id": "c5f247c9",
   "metadata": {},
   "outputs": [],
   "source": [
    "# TO-DO"
   ]
  },
  {
   "cell_type": "markdown",
   "id": "6bd70f17",
   "metadata": {},
   "source": [
    "<a id=\"section_accuracy\"></a> \n",
    "### 5.2 Métricas: Accuracy"
   ]
  },
  {
   "cell_type": "code",
   "execution_count": 23,
   "id": "f413f59c",
   "metadata": {},
   "outputs": [],
   "source": [
    "# TO-DO"
   ]
  },
  {
   "cell_type": "markdown",
   "id": "e866a515",
   "metadata": {},
   "source": [
    "<a id=\"section_error\"></a> \n",
    "### 5.3 Métricas: Error de Clasificación"
   ]
  },
  {
   "cell_type": "code",
   "execution_count": 24,
   "id": "1d7c827d",
   "metadata": {},
   "outputs": [],
   "source": [
    "# TO-DO"
   ]
  },
  {
   "cell_type": "markdown",
   "id": "58f20b23",
   "metadata": {},
   "source": [
    "<a id=\"section_recall\"></a> \n",
    "### 5.4 Métricas: Sensitivity (o recall)"
   ]
  },
  {
   "cell_type": "code",
   "execution_count": 25,
   "id": "e24cbdd0",
   "metadata": {},
   "outputs": [],
   "source": [
    "# TO-DO"
   ]
  },
  {
   "cell_type": "markdown",
   "id": "4ad98994",
   "metadata": {},
   "source": [
    "<a id=\"section_specificity\"></a> \n",
    "### 5.5 Métricas: Specificity"
   ]
  },
  {
   "cell_type": "code",
   "execution_count": 26,
   "id": "1719fa49",
   "metadata": {},
   "outputs": [],
   "source": [
    "# TO-DO"
   ]
  },
  {
   "cell_type": "markdown",
   "id": "0c7e6077",
   "metadata": {},
   "source": [
    "<a id=\"section_precision\"></a> \n",
    "### 5.6 Métricas: Precision"
   ]
  },
  {
   "cell_type": "code",
   "execution_count": 27,
   "id": "8827df62",
   "metadata": {},
   "outputs": [],
   "source": [
    "# TO-DO"
   ]
  },
  {
   "cell_type": "markdown",
   "id": "9a8429d1",
   "metadata": {},
   "source": [
    "<a id=\"section_fpr\"></a> \n",
    "### 5.7 Métricas: False positive rate (FPR)"
   ]
  },
  {
   "cell_type": "code",
   "execution_count": 28,
   "id": "92ebf04a",
   "metadata": {},
   "outputs": [],
   "source": [
    "# TO-DO"
   ]
  },
  {
   "cell_type": "markdown",
   "id": "607e1763",
   "metadata": {},
   "source": [
    "<a id=\"section_f1_score\"></a> \n",
    "### 5.8 Métricas: F1-Score"
   ]
  },
  {
   "cell_type": "code",
   "execution_count": 29,
   "id": "92e6c0a1",
   "metadata": {},
   "outputs": [],
   "source": [
    "# TO-DO"
   ]
  },
  {
   "cell_type": "markdown",
   "id": "c7fafbc2",
   "metadata": {},
   "source": [
    "<a id=\"section_curva_roc\"></a> \n",
    "## 6. Curva ROC\n",
    "---"
   ]
  },
  {
   "cell_type": "code",
   "execution_count": 30,
   "id": "353cf1fa",
   "metadata": {},
   "outputs": [],
   "source": [
    "# TO-DO"
   ]
  },
  {
   "cell_type": "markdown",
   "id": "3fcc86f1",
   "metadata": {},
   "source": [
    "<a id=\"section_umbrales\"></a> \n",
    "### 6.1 Ajustando los umbrales"
   ]
  },
  {
   "cell_type": "code",
   "execution_count": 31,
   "id": "792b617a",
   "metadata": {},
   "outputs": [],
   "source": [
    "# TO-DO"
   ]
  },
  {
   "cell_type": "markdown",
   "id": "81e3e56c",
   "metadata": {},
   "source": [
    "<a id=\"section_imp_croc\"></a> \n",
    "### 6.2 Implementación Curva ROC y AUC"
   ]
  },
  {
   "cell_type": "code",
   "execution_count": 32,
   "id": "cb38bb88",
   "metadata": {},
   "outputs": [],
   "source": [
    "# TO-DO"
   ]
  },
  {
   "cell_type": "markdown",
   "id": "195e955d",
   "metadata": {},
   "source": [
    "<a id=\"4.\"></a> \n",
    "## 7. Conclusiones\n",
    "---"
   ]
  },
  {
   "cell_type": "code",
   "execution_count": 33,
   "id": "f254012a",
   "metadata": {},
   "outputs": [],
   "source": [
    "# TO-DO"
   ]
  },
  {
   "cell_type": "code",
   "execution_count": null,
   "id": "f5edd3f1",
   "metadata": {},
   "outputs": [],
   "source": []
  }
 ],
 "metadata": {
  "kernelspec": {
   "display_name": "Python [conda env:dhdsblend2022] *",
   "language": "python",
   "name": "conda-env-dhdsblend2022-py"
  },
  "language_info": {
   "codemirror_mode": {
    "name": "ipython",
    "version": 3
   },
   "file_extension": ".py",
   "mimetype": "text/x-python",
   "name": "python",
   "nbconvert_exporter": "python",
   "pygments_lexer": "ipython3",
   "version": "3.8.15"
  }
 },
 "nbformat": 4,
 "nbformat_minor": 5
}
