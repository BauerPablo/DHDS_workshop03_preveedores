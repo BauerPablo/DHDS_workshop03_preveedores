{
 "cells": [
  {
   "cell_type": "markdown",
   "id": "dfc88928",
   "metadata": {},
   "source": [
    "![title](../common/logo_DH.png)\n",
    "\n",
    "# WORKSHOP 3\n",
    "---\n",
    "## GRUPO 8\n",
    "\n",
    "Integrantes: "
   ]
  },
  {
   "cell_type": "markdown",
   "id": "e4a8447c",
   "metadata": {},
   "source": [
    "<a id=\"tabla_contenidos\"></a> \n",
    "## Tabla de Contenidos\n",
    "\n",
    "### <a href='#section_repaso'>1. Introducción</a>\n",
    "- #### <a href='#explicacion_dataset'>1.1 Presentación del caso</a>\n",
    "- #### <a href='#metodologia'>1.2 La metodología de trabajo</a>\n",
    "\n",
    "### <a href='#section_import_lib'>2. Importación de librerías para casos de Clasificación</a>\n",
    "\n",
    "\n",
    "### <a href='#importar_dataset'>3. Importando el DataSet</a> \n",
    "- #### <a href='#imputacion'>3.1 Imputación de datos</a>\n",
    "\n",
    "### <a  href='#preparacion_entrenamiento'>4. Preparación y Entrenamiento del DataSet</a>\n",
    "- #### <a href='#features'>4.1 Features y dummies</a>\n",
    "- #### <a href='#split'>4.2 Split del set de entrenamiento</a>\n",
    "- #### <a href='#metodo_entrenamiento'>4.3 Selección del método de entrenamiento</a>\n",
    "\n",
    "### <a  href='#evaluacion_modelos'>5. Evaluación de los Modelos</a>\n",
    "- #### <a href='#section_matriz_confusion_code'>5.1 Métricas: Matriz de confusión</a>\n",
    "- #### <a href='#section_accuracy'>5.2 Métricas: Accuracy</a>\n",
    "- #### <a href='#section_error'>5.3 Métricas: Error de Clasificación</a>\n",
    "- #### <a href='#section_recall'>5.4 Métricas: Sensitivity (o recall)</a>\n",
    "- #### <a href='#section_specificity'>5.5 Métricas: Specificity</a>\n",
    "- #### <a href='#section_precision'>5.6 Métricas: Precision</a>\n",
    "- #### <a href='#section_fpr'>5.7 Métricas: False positive rate (FPR)</a>\n",
    "- #### <a href='#section_f1_score'>5.8 Métricas: F1-Score</a>\n",
    "\n",
    "### <a href='#section_curva_roc'>6. Curva ROC</a>\n",
    "- #### <a href='#section_umbrales'>6.1 Ajustando los umbrales</a>\n",
    "- #### <a href='#section_imp_croc'>6.2 Implementación Curva ROC y AUC</a>\n",
    "\n",
    "### <a href='#conclusiones'>7. Conclusuiones</a>\n",
    "---"
   ]
  },
  {
   "cell_type": "markdown",
   "id": "a3020e7b",
   "metadata": {},
   "source": [
    "<a id=\"section_repaso\"></a> \n",
    "## 1. Introducción\n",
    "---"
   ]
  },
  {
   "cell_type": "markdown",
   "id": "b20877d8",
   "metadata": {},
   "source": [
    "<a id=\"explicacion_dataset\"></a> \n",
    "### 1.1 Presentación del caso\n",
    "Aerolineas Argentinas SA, nos ha proporcionado una base de datos de los provedores del Laboratorio de Calibraciones que se encuentra en Ezeiza.\n",
    "\n",
    "Este laboratorio se encarga en poner en condición serviciable todas las herramientas metrologadas, para el uso en la reparación de las aeronaves. Tiene un flujo de herraminetas interno y un flujo de herraminetas que se calibran en laboratorios externos.\n",
    "\n",
    "Este entrenamiento y evaluación de los datos, pretende determinar y clasificar a los provedores que van a entregar en tiempo y forma las herramientas. El tiempo de calibración que nos proponen, es que las herramientas están dentro de los plazos permitidos de 2 meses como máximo. El retorno de una herramienta que supere este límite es antieconómica, ya que los períodos de calibraciones son de 1 año, y cuanto más tarden en retornar, menos tiempo tiene para su uso operativo.\n",
    "\n",
    "<a id=\"metodologia\"></a> \n",
    "### 1.2 La metodología de trabajo\n",
    "Se hará una imputación y limpieza de los datos. Una vez realizado eso, se utilizarán diferentes métodos de clasificación, para comparar los resultados y decidirse por el mejor método para clasificar.\n"
   ]
  },
  {
   "cell_type": "markdown",
   "id": "167e4d9b",
   "metadata": {},
   "source": [
    "<a id=\"section_import_lib\"></a>\n",
    "## 2. Importación de librerías para casos de Clasificación\n",
    "---"
   ]
  },
  {
   "cell_type": "markdown",
   "id": "6175535b",
   "metadata": {},
   "source": [
    "Comenzamos importando las librerías y dependencias que utilizaremos a lo largo del trabajo."
   ]
  },
  {
   "cell_type": "code",
   "execution_count": 1,
   "id": "243466b7",
   "metadata": {},
   "outputs": [],
   "source": [
    "from sklearn import preprocessing\n",
    "from sklearn.model_selection import train_test_split\n",
    "from sklearn.datasets import make_classification\n",
    "from sklearn.linear_model import LogisticRegressionCV,  LogisticRegression\n",
    "from sklearn.preprocessing import StandardScaler, binarize\n",
    "from sklearn.metrics import accuracy_score, confusion_matrix, recall_score, precision_score, f1_score, roc_curve, auc\n",
    "from sklearn import tree\n",
    "\n",
    "import matplotlib.pyplot as plt\n",
    "import seaborn as sns\n",
    "import pandas as pd\n",
    "import numpy as np"
   ]
  },
  {
   "cell_type": "markdown",
   "id": "cb2bfb91",
   "metadata": {},
   "source": [
    "<a id=\"importar_dataset\"></a>\n",
    "## 3. Importando el DataSet\n",
    "---"
   ]
  },
  {
   "cell_type": "code",
   "execution_count": 2,
   "id": "b47f45f9",
   "metadata": {},
   "outputs": [
    {
     "name": "stderr",
     "output_type": "stream",
     "text": [
      "C:\\Users\\ar037895\\Anaconda3\\envs\\dhdsblend2022\\lib\\site-packages\\IPython\\core\\interactiveshell.py:3194: DtypeWarning: Columns (70) have mixed types.Specify dtype option on import or set low_memory=False.\n",
      "  has_raised = await self.run_ast_nodes(code_ast.body, cell_name,\n"
     ]
    }
   ],
   "source": [
    "ruta_tat = '../data/VENDROS_TAT.csv'\n",
    "ruta_vendors = '../data/VENDORS_NAMES_metrics.csv'\n",
    "\n",
    "data_tat = pd.read_csv(ruta_tat, encoding='UTF-8', sep=',')\n",
    "data_vendors = pd.read_csv(ruta_vendors, encoding='UTF-8', sep=',')"
   ]
  },
  {
   "cell_type": "markdown",
   "id": "aeae31bd",
   "metadata": {},
   "source": [
    "Visalizamos el DataSet para identificar las columnas y los valores que necesitamos."
   ]
  },
  {
   "cell_type": "code",
   "execution_count": 3,
   "id": "7de68994",
   "metadata": {},
   "outputs": [
    {
     "data": {
      "text/html": [
       "<div>\n",
       "<style scoped>\n",
       "    .dataframe tbody tr th:only-of-type {\n",
       "        vertical-align: middle;\n",
       "    }\n",
       "\n",
       "    .dataframe tbody tr th {\n",
       "        vertical-align: top;\n",
       "    }\n",
       "\n",
       "    .dataframe thead th {\n",
       "        text-align: right;\n",
       "    }\n",
       "</style>\n",
       "<table border=\"1\" class=\"dataframe\">\n",
       "  <thead>\n",
       "    <tr style=\"text-align: right;\">\n",
       "      <th></th>\n",
       "      <th>TAT</th>\n",
       "      <th>TAT7</th>\n",
       "      <th>TAT6</th>\n",
       "      <th>TAT5</th>\n",
       "      <th>TAT4</th>\n",
       "      <th>TAT3</th>\n",
       "      <th>TAT2</th>\n",
       "      <th>TAT1</th>\n",
       "      <th>order_number_id</th>\n",
       "      <th>order_number</th>\n",
       "      <th>...</th>\n",
       "      <th>EIN_arrival_date</th>\n",
       "      <th>EIN_arrival_date_tz</th>\n",
       "      <th>EIN_part_tool</th>\n",
       "      <th>EIN_created_date</th>\n",
       "      <th>EIN_created_date_tz</th>\n",
       "      <th>EIN_airway_bill_date</th>\n",
       "      <th>EIN_airway_bill_date_tz</th>\n",
       "      <th>new_PARTNO</th>\n",
       "      <th>new_DESCRIPTION</th>\n",
       "      <th>new_STATUS</th>\n",
       "    </tr>\n",
       "  </thead>\n",
       "  <tbody>\n",
       "    <tr>\n",
       "      <th>552</th>\n",
       "      <td>13.0</td>\n",
       "      <td>NaN</td>\n",
       "      <td>NaN</td>\n",
       "      <td>13.0</td>\n",
       "      <td>13.0</td>\n",
       "      <td>8.0</td>\n",
       "      <td>8.0</td>\n",
       "      <td>0.0</td>\n",
       "      <td>178551</td>\n",
       "      <td>R1985721</td>\n",
       "      <td>...</td>\n",
       "      <td>NaN</td>\n",
       "      <td>NaN</td>\n",
       "      <td>NaN</td>\n",
       "      <td>NaN</td>\n",
       "      <td>NaN</td>\n",
       "      <td>NaN</td>\n",
       "      <td>NaN</td>\n",
       "      <td>126-139</td>\n",
       "      <td>MICROMETRO DE ROSCA</td>\n",
       "      <td>0</td>\n",
       "    </tr>\n",
       "    <tr>\n",
       "      <th>3617</th>\n",
       "      <td>8.0</td>\n",
       "      <td>NaN</td>\n",
       "      <td>NaN</td>\n",
       "      <td>8.0</td>\n",
       "      <td>8.0</td>\n",
       "      <td>NaN</td>\n",
       "      <td>NaN</td>\n",
       "      <td>0.0</td>\n",
       "      <td>152350</td>\n",
       "      <td>R1924720</td>\n",
       "      <td>...</td>\n",
       "      <td>NaN</td>\n",
       "      <td>NaN</td>\n",
       "      <td>NaN</td>\n",
       "      <td>NaN</td>\n",
       "      <td>NaN</td>\n",
       "      <td>NaN</td>\n",
       "      <td>NaN</td>\n",
       "      <td>2700</td>\n",
       "      <td>MULTIMETRO DIGITAL</td>\n",
       "      <td>0</td>\n",
       "    </tr>\n",
       "    <tr>\n",
       "      <th>962</th>\n",
       "      <td>58.0</td>\n",
       "      <td>NaN</td>\n",
       "      <td>NaN</td>\n",
       "      <td>NaN</td>\n",
       "      <td>NaN</td>\n",
       "      <td>58.0</td>\n",
       "      <td>58.0</td>\n",
       "      <td>0.0</td>\n",
       "      <td>227609</td>\n",
       "      <td>P0051923</td>\n",
       "      <td>...</td>\n",
       "      <td>NaN</td>\n",
       "      <td>NaN</td>\n",
       "      <td>NaN</td>\n",
       "      <td>NaN</td>\n",
       "      <td>NaN</td>\n",
       "      <td>NaN</td>\n",
       "      <td>NaN</td>\n",
       "      <td>HU40371</td>\n",
       "      <td>LOADING THIMBLE</td>\n",
       "      <td>0</td>\n",
       "    </tr>\n",
       "    <tr>\n",
       "      <th>947</th>\n",
       "      <td>9.0</td>\n",
       "      <td>NaN</td>\n",
       "      <td>NaN</td>\n",
       "      <td>9.0</td>\n",
       "      <td>9.0</td>\n",
       "      <td>8.0</td>\n",
       "      <td>7.0</td>\n",
       "      <td>0.0</td>\n",
       "      <td>192368</td>\n",
       "      <td>R0829622</td>\n",
       "      <td>...</td>\n",
       "      <td>NaN</td>\n",
       "      <td>NaN</td>\n",
       "      <td>NaN</td>\n",
       "      <td>NaN</td>\n",
       "      <td>NaN</td>\n",
       "      <td>NaN</td>\n",
       "      <td>NaN</td>\n",
       "      <td>376</td>\n",
       "      <td>PINZA AMPEROMETRICA</td>\n",
       "      <td>0</td>\n",
       "    </tr>\n",
       "    <tr>\n",
       "      <th>393</th>\n",
       "      <td>795.0</td>\n",
       "      <td>428.0</td>\n",
       "      <td>NaN</td>\n",
       "      <td>10.0</td>\n",
       "      <td>10.0</td>\n",
       "      <td>NaN</td>\n",
       "      <td>NaN</td>\n",
       "      <td>795.0</td>\n",
       "      <td>165305</td>\n",
       "      <td>R0909921</td>\n",
       "      <td>...</td>\n",
       "      <td>NaN</td>\n",
       "      <td>NaN</td>\n",
       "      <td>Y</td>\n",
       "      <td>2022-07-29 00:00:00</td>\n",
       "      <td>+00:00</td>\n",
       "      <td>2022-07-20 00:00:00</td>\n",
       "      <td>+00:00</td>\n",
       "      <td>RTDTEMP101A</td>\n",
       "      <td>DATA LOGGER</td>\n",
       "      <td>0</td>\n",
       "    </tr>\n",
       "  </tbody>\n",
       "</table>\n",
       "<p>5 rows × 94 columns</p>\n",
       "</div>"
      ],
      "text/plain": [
       "        TAT   TAT7  TAT6  TAT5  TAT4  TAT3  TAT2   TAT1  order_number_id  \\\n",
       "552    13.0    NaN   NaN  13.0  13.0   8.0   8.0    0.0           178551   \n",
       "3617    8.0    NaN   NaN   8.0   8.0   NaN   NaN    0.0           152350   \n",
       "962    58.0    NaN   NaN   NaN   NaN  58.0  58.0    0.0           227609   \n",
       "947     9.0    NaN   NaN   9.0   9.0   8.0   7.0    0.0           192368   \n",
       "393   795.0  428.0   NaN  10.0  10.0   NaN   NaN  795.0           165305   \n",
       "\n",
       "     order_number  ... EIN_arrival_date EIN_arrival_date_tz EIN_part_tool  \\\n",
       "552      R1985721  ...              NaN                 NaN           NaN   \n",
       "3617     R1924720  ...              NaN                 NaN           NaN   \n",
       "962      P0051923  ...              NaN                 NaN           NaN   \n",
       "947      R0829622  ...              NaN                 NaN           NaN   \n",
       "393      R0909921  ...              NaN                 NaN             Y   \n",
       "\n",
       "         EIN_created_date EIN_created_date_tz EIN_airway_bill_date  \\\n",
       "552                   NaN                 NaN                  NaN   \n",
       "3617                  NaN                 NaN                  NaN   \n",
       "962                   NaN                 NaN                  NaN   \n",
       "947                   NaN                 NaN                  NaN   \n",
       "393   2022-07-29 00:00:00              +00:00  2022-07-20 00:00:00   \n",
       "\n",
       "     EIN_airway_bill_date_tz   new_PARTNO      new_DESCRIPTION new_STATUS  \n",
       "552                      NaN      126-139  MICROMETRO DE ROSCA          0  \n",
       "3617                     NaN         2700   MULTIMETRO DIGITAL          0  \n",
       "962                      NaN      HU40371      LOADING THIMBLE          0  \n",
       "947                      NaN          376  PINZA AMPEROMETRICA          0  \n",
       "393                   +00:00  RTDTEMP101A          DATA LOGGER          0  \n",
       "\n",
       "[5 rows x 94 columns]"
      ]
     },
     "execution_count": 3,
     "metadata": {},
     "output_type": "execute_result"
    }
   ],
   "source": [
    "data_tat.sample(5)"
   ]
  },
  {
   "cell_type": "code",
   "execution_count": 4,
   "id": "d67a72bc",
   "metadata": {},
   "outputs": [
    {
     "data": {
      "text/plain": [
       "TAT                        float64\n",
       "TAT7                       float64\n",
       "TAT6                       float64\n",
       "TAT5                       float64\n",
       "TAT4                       float64\n",
       "                            ...   \n",
       "EIN_airway_bill_date        object\n",
       "EIN_airway_bill_date_tz     object\n",
       "new_PARTNO                  object\n",
       "new_DESCRIPTION             object\n",
       "new_STATUS                   int64\n",
       "Length: 94, dtype: object"
      ]
     },
     "execution_count": 4,
     "metadata": {},
     "output_type": "execute_result"
    }
   ],
   "source": [
    "data_tat.dtypes"
   ]
  },
  {
   "cell_type": "code",
   "execution_count": 5,
   "id": "f8f7ff24",
   "metadata": {},
   "outputs": [
    {
     "data": {
      "text/plain": [
       "(14955, 94)"
      ]
     },
     "execution_count": 5,
     "metadata": {},
     "output_type": "execute_result"
    }
   ],
   "source": [
    "data_tat.shape"
   ]
  },
  {
   "cell_type": "markdown",
   "id": "fab771d5",
   "metadata": {},
   "source": [
    "<a id=\"imputacion\"></a> \n",
    "### 3.1 Imputación de datos\n",
    "\n",
    "En este apartado se realiza un análisis manual del estado del DataSet, para verificar de manera preliminar, el estado  de la base de datos que vamos a utilizar."
   ]
  },
  {
   "cell_type": "markdown",
   "id": "b70f922c",
   "metadata": {},
   "source": [
    "Para eso identificaremos la cantidad de **Nulos**."
   ]
  },
  {
   "cell_type": "code",
   "execution_count": 6,
   "id": "ee76a00b",
   "metadata": {},
   "outputs": [
    {
     "data": {
      "text/plain": [
       "TAT                        0.001003\n",
       "TAT7                       0.605082\n",
       "TAT6                       0.791174\n",
       "TAT5                       0.203076\n",
       "TAT4                       0.203076\n",
       "                             ...   \n",
       "EIN_airway_bill_date       0.605082\n",
       "EIN_airway_bill_date_tz    0.605082\n",
       "new_PARTNO                 0.000000\n",
       "new_DESCRIPTION            0.000000\n",
       "new_STATUS                 0.000000\n",
       "Length: 94, dtype: float64"
      ]
     },
     "execution_count": 6,
     "metadata": {},
     "output_type": "execute_result"
    }
   ],
   "source": [
    "data_null = data_tat.apply(lambda x: x.isnull().sum()/data_tat.shape[0], axis=0)\n",
    "data_null"
   ]
  },
  {
   "cell_type": "markdown",
   "id": "c1eb0127",
   "metadata": {},
   "source": [
    "Tenemos un total de **91 columnas**. Realizaremos una eliminación de las **columnas nulas** del DataSet, con la función *dropna(how='all',  axis=1)*"
   ]
  },
  {
   "cell_type": "code",
   "execution_count": 7,
   "id": "b0e8e458",
   "metadata": {},
   "outputs": [
    {
     "data": {
      "text/html": [
       "<div>\n",
       "<style scoped>\n",
       "    .dataframe tbody tr th:only-of-type {\n",
       "        vertical-align: middle;\n",
       "    }\n",
       "\n",
       "    .dataframe tbody tr th {\n",
       "        vertical-align: top;\n",
       "    }\n",
       "\n",
       "    .dataframe thead th {\n",
       "        text-align: right;\n",
       "    }\n",
       "</style>\n",
       "<table border=\"1\" class=\"dataframe\">\n",
       "  <thead>\n",
       "    <tr style=\"text-align: right;\">\n",
       "      <th></th>\n",
       "      <th>TAT</th>\n",
       "      <th>TAT7</th>\n",
       "      <th>TAT6</th>\n",
       "      <th>TAT5</th>\n",
       "      <th>TAT4</th>\n",
       "      <th>TAT3</th>\n",
       "      <th>TAT2</th>\n",
       "      <th>TAT1</th>\n",
       "      <th>order_number_id</th>\n",
       "      <th>order_number</th>\n",
       "      <th>...</th>\n",
       "      <th>EIN_arrival_date</th>\n",
       "      <th>EIN_arrival_date_tz</th>\n",
       "      <th>EIN_part_tool</th>\n",
       "      <th>EIN_created_date</th>\n",
       "      <th>EIN_created_date_tz</th>\n",
       "      <th>EIN_airway_bill_date</th>\n",
       "      <th>EIN_airway_bill_date_tz</th>\n",
       "      <th>new_PARTNO</th>\n",
       "      <th>new_DESCRIPTION</th>\n",
       "      <th>new_STATUS</th>\n",
       "    </tr>\n",
       "  </thead>\n",
       "  <tbody>\n",
       "    <tr>\n",
       "      <th>0</th>\n",
       "      <td>12.0</td>\n",
       "      <td>12.0</td>\n",
       "      <td>12.0</td>\n",
       "      <td>NaN</td>\n",
       "      <td>NaN</td>\n",
       "      <td>NaN</td>\n",
       "      <td>NaN</td>\n",
       "      <td>NaN</td>\n",
       "      <td>47613</td>\n",
       "      <td>R0017144TRF</td>\n",
       "      <td>...</td>\n",
       "      <td>2018-09-13 00:00:00</td>\n",
       "      <td>+00:00</td>\n",
       "      <td>Y</td>\n",
       "      <td>2018-09-13 00:00:00</td>\n",
       "      <td>+00:00</td>\n",
       "      <td>2018-09-12 00:00:00</td>\n",
       "      <td>+00:00</td>\n",
       "      <td>879B</td>\n",
       "      <td>LCR METER</td>\n",
       "      <td>0</td>\n",
       "    </tr>\n",
       "    <tr>\n",
       "      <th>1</th>\n",
       "      <td>33.0</td>\n",
       "      <td>NaN</td>\n",
       "      <td>NaN</td>\n",
       "      <td>33.0</td>\n",
       "      <td>33.0</td>\n",
       "      <td>NaN</td>\n",
       "      <td>NaN</td>\n",
       "      <td>5.0</td>\n",
       "      <td>62347</td>\n",
       "      <td>R0285318</td>\n",
       "      <td>...</td>\n",
       "      <td>NaN</td>\n",
       "      <td>NaN</td>\n",
       "      <td>NaN</td>\n",
       "      <td>NaN</td>\n",
       "      <td>NaN</td>\n",
       "      <td>NaN</td>\n",
       "      <td>NaN</td>\n",
       "      <td>AP-2703</td>\n",
       "      <td>DINAMOMETRO</td>\n",
       "      <td>0</td>\n",
       "    </tr>\n",
       "    <tr>\n",
       "      <th>2</th>\n",
       "      <td>4.0</td>\n",
       "      <td>NaN</td>\n",
       "      <td>NaN</td>\n",
       "      <td>NaN</td>\n",
       "      <td>NaN</td>\n",
       "      <td>NaN</td>\n",
       "      <td>NaN</td>\n",
       "      <td>4.0</td>\n",
       "      <td>67713</td>\n",
       "      <td>R0667118</td>\n",
       "      <td>...</td>\n",
       "      <td>NaN</td>\n",
       "      <td>NaN</td>\n",
       "      <td>NaN</td>\n",
       "      <td>NaN</td>\n",
       "      <td>NaN</td>\n",
       "      <td>NaN</td>\n",
       "      <td>NaN</td>\n",
       "      <td>L10</td>\n",
       "      <td>DINAMOMETRO</td>\n",
       "      <td>0</td>\n",
       "    </tr>\n",
       "    <tr>\n",
       "      <th>3</th>\n",
       "      <td>18.0</td>\n",
       "      <td>NaN</td>\n",
       "      <td>NaN</td>\n",
       "      <td>12.0</td>\n",
       "      <td>12.0</td>\n",
       "      <td>NaN</td>\n",
       "      <td>NaN</td>\n",
       "      <td>18.0</td>\n",
       "      <td>74221</td>\n",
       "      <td>R1102719</td>\n",
       "      <td>...</td>\n",
       "      <td>NaN</td>\n",
       "      <td>NaN</td>\n",
       "      <td>NaN</td>\n",
       "      <td>NaN</td>\n",
       "      <td>NaN</td>\n",
       "      <td>NaN</td>\n",
       "      <td>NaN</td>\n",
       "      <td>3277705.</td>\n",
       "      <td>DINAMOMETRO</td>\n",
       "      <td>0</td>\n",
       "    </tr>\n",
       "    <tr>\n",
       "      <th>4</th>\n",
       "      <td>6.0</td>\n",
       "      <td>NaN</td>\n",
       "      <td>NaN</td>\n",
       "      <td>6.0</td>\n",
       "      <td>6.0</td>\n",
       "      <td>NaN</td>\n",
       "      <td>NaN</td>\n",
       "      <td>0.0</td>\n",
       "      <td>76276</td>\n",
       "      <td>R1251719</td>\n",
       "      <td>...</td>\n",
       "      <td>NaN</td>\n",
       "      <td>NaN</td>\n",
       "      <td>NaN</td>\n",
       "      <td>NaN</td>\n",
       "      <td>NaN</td>\n",
       "      <td>NaN</td>\n",
       "      <td>NaN</td>\n",
       "      <td>7034-5</td>\n",
       "      <td>COMPARADOR</td>\n",
       "      <td>0</td>\n",
       "    </tr>\n",
       "    <tr>\n",
       "      <th>...</th>\n",
       "      <td>...</td>\n",
       "      <td>...</td>\n",
       "      <td>...</td>\n",
       "      <td>...</td>\n",
       "      <td>...</td>\n",
       "      <td>...</td>\n",
       "      <td>...</td>\n",
       "      <td>...</td>\n",
       "      <td>...</td>\n",
       "      <td>...</td>\n",
       "      <td>...</td>\n",
       "      <td>...</td>\n",
       "      <td>...</td>\n",
       "      <td>...</td>\n",
       "      <td>...</td>\n",
       "      <td>...</td>\n",
       "      <td>...</td>\n",
       "      <td>...</td>\n",
       "      <td>...</td>\n",
       "      <td>...</td>\n",
       "      <td>...</td>\n",
       "    </tr>\n",
       "    <tr>\n",
       "      <th>14950</th>\n",
       "      <td>37.0</td>\n",
       "      <td>NaN</td>\n",
       "      <td>NaN</td>\n",
       "      <td>37.0</td>\n",
       "      <td>37.0</td>\n",
       "      <td>NaN</td>\n",
       "      <td>NaN</td>\n",
       "      <td>0.0</td>\n",
       "      <td>221104</td>\n",
       "      <td>R3023322</td>\n",
       "      <td>...</td>\n",
       "      <td>NaN</td>\n",
       "      <td>NaN</td>\n",
       "      <td>NaN</td>\n",
       "      <td>NaN</td>\n",
       "      <td>NaN</td>\n",
       "      <td>NaN</td>\n",
       "      <td>NaN</td>\n",
       "      <td>33-215</td>\n",
       "      <td>CINTA METRICA DE 3.5 MTS/12</td>\n",
       "      <td>0</td>\n",
       "    </tr>\n",
       "    <tr>\n",
       "      <th>14951</th>\n",
       "      <td>6.0</td>\n",
       "      <td>NaN</td>\n",
       "      <td>NaN</td>\n",
       "      <td>6.0</td>\n",
       "      <td>6.0</td>\n",
       "      <td>NaN</td>\n",
       "      <td>NaN</td>\n",
       "      <td>0.0</td>\n",
       "      <td>222035</td>\n",
       "      <td>R3095022</td>\n",
       "      <td>...</td>\n",
       "      <td>NaN</td>\n",
       "      <td>NaN</td>\n",
       "      <td>NaN</td>\n",
       "      <td>NaN</td>\n",
       "      <td>NaN</td>\n",
       "      <td>NaN</td>\n",
       "      <td>NaN</td>\n",
       "      <td>4000 KG</td>\n",
       "      <td>DINAMOMETRO</td>\n",
       "      <td>0</td>\n",
       "    </tr>\n",
       "    <tr>\n",
       "      <th>14952</th>\n",
       "      <td>3.0</td>\n",
       "      <td>NaN</td>\n",
       "      <td>NaN</td>\n",
       "      <td>3.0</td>\n",
       "      <td>3.0</td>\n",
       "      <td>NaN</td>\n",
       "      <td>NaN</td>\n",
       "      <td>0.0</td>\n",
       "      <td>227645</td>\n",
       "      <td>R0259923</td>\n",
       "      <td>...</td>\n",
       "      <td>NaN</td>\n",
       "      <td>NaN</td>\n",
       "      <td>NaN</td>\n",
       "      <td>NaN</td>\n",
       "      <td>NaN</td>\n",
       "      <td>NaN</td>\n",
       "      <td>NaN</td>\n",
       "      <td>.800IN</td>\n",
       "      <td>MICROMETRO DE INTERIOR AXIAL</td>\n",
       "      <td>0</td>\n",
       "    </tr>\n",
       "    <tr>\n",
       "      <th>14953</th>\n",
       "      <td>8.0</td>\n",
       "      <td>NaN</td>\n",
       "      <td>NaN</td>\n",
       "      <td>8.0</td>\n",
       "      <td>8.0</td>\n",
       "      <td>7.0</td>\n",
       "      <td>4.0</td>\n",
       "      <td>0.0</td>\n",
       "      <td>229035</td>\n",
       "      <td>R0369923</td>\n",
       "      <td>...</td>\n",
       "      <td>NaN</td>\n",
       "      <td>NaN</td>\n",
       "      <td>NaN</td>\n",
       "      <td>NaN</td>\n",
       "      <td>NaN</td>\n",
       "      <td>NaN</td>\n",
       "      <td>NaN</td>\n",
       "      <td>M22520/1-01</td>\n",
       "      <td>MANDRILADORA PINES DANIELS</td>\n",
       "      <td>0</td>\n",
       "    </tr>\n",
       "    <tr>\n",
       "      <th>14954</th>\n",
       "      <td>19.0</td>\n",
       "      <td>NaN</td>\n",
       "      <td>NaN</td>\n",
       "      <td>8.0</td>\n",
       "      <td>8.0</td>\n",
       "      <td>19.0</td>\n",
       "      <td>18.0</td>\n",
       "      <td>0.0</td>\n",
       "      <td>229035</td>\n",
       "      <td>R0369923</td>\n",
       "      <td>...</td>\n",
       "      <td>NaN</td>\n",
       "      <td>NaN</td>\n",
       "      <td>NaN</td>\n",
       "      <td>NaN</td>\n",
       "      <td>NaN</td>\n",
       "      <td>NaN</td>\n",
       "      <td>NaN</td>\n",
       "      <td>M22520/1-01</td>\n",
       "      <td>MANDRILADORA PINES DANIELS</td>\n",
       "      <td>0</td>\n",
       "    </tr>\n",
       "  </tbody>\n",
       "</table>\n",
       "<p>14955 rows × 88 columns</p>\n",
       "</div>"
      ],
      "text/plain": [
       "        TAT  TAT7  TAT6  TAT5  TAT4  TAT3  TAT2  TAT1  order_number_id  \\\n",
       "0      12.0  12.0  12.0   NaN   NaN   NaN   NaN   NaN            47613   \n",
       "1      33.0   NaN   NaN  33.0  33.0   NaN   NaN   5.0            62347   \n",
       "2       4.0   NaN   NaN   NaN   NaN   NaN   NaN   4.0            67713   \n",
       "3      18.0   NaN   NaN  12.0  12.0   NaN   NaN  18.0            74221   \n",
       "4       6.0   NaN   NaN   6.0   6.0   NaN   NaN   0.0            76276   \n",
       "...     ...   ...   ...   ...   ...   ...   ...   ...              ...   \n",
       "14950  37.0   NaN   NaN  37.0  37.0   NaN   NaN   0.0           221104   \n",
       "14951   6.0   NaN   NaN   6.0   6.0   NaN   NaN   0.0           222035   \n",
       "14952   3.0   NaN   NaN   3.0   3.0   NaN   NaN   0.0           227645   \n",
       "14953   8.0   NaN   NaN   8.0   8.0   7.0   4.0   0.0           229035   \n",
       "14954  19.0   NaN   NaN   8.0   8.0  19.0  18.0   0.0           229035   \n",
       "\n",
       "      order_number  ...     EIN_arrival_date EIN_arrival_date_tz  \\\n",
       "0      R0017144TRF  ...  2018-09-13 00:00:00              +00:00   \n",
       "1         R0285318  ...                  NaN                 NaN   \n",
       "2         R0667118  ...                  NaN                 NaN   \n",
       "3         R1102719  ...                  NaN                 NaN   \n",
       "4         R1251719  ...                  NaN                 NaN   \n",
       "...            ...  ...                  ...                 ...   \n",
       "14950     R3023322  ...                  NaN                 NaN   \n",
       "14951     R3095022  ...                  NaN                 NaN   \n",
       "14952     R0259923  ...                  NaN                 NaN   \n",
       "14953     R0369923  ...                  NaN                 NaN   \n",
       "14954     R0369923  ...                  NaN                 NaN   \n",
       "\n",
       "      EIN_part_tool     EIN_created_date EIN_created_date_tz  \\\n",
       "0                 Y  2018-09-13 00:00:00              +00:00   \n",
       "1               NaN                  NaN                 NaN   \n",
       "2               NaN                  NaN                 NaN   \n",
       "3               NaN                  NaN                 NaN   \n",
       "4               NaN                  NaN                 NaN   \n",
       "...             ...                  ...                 ...   \n",
       "14950           NaN                  NaN                 NaN   \n",
       "14951           NaN                  NaN                 NaN   \n",
       "14952           NaN                  NaN                 NaN   \n",
       "14953           NaN                  NaN                 NaN   \n",
       "14954           NaN                  NaN                 NaN   \n",
       "\n",
       "      EIN_airway_bill_date EIN_airway_bill_date_tz   new_PARTNO  \\\n",
       "0      2018-09-12 00:00:00                  +00:00         879B   \n",
       "1                      NaN                     NaN      AP-2703   \n",
       "2                      NaN                     NaN          L10   \n",
       "3                      NaN                     NaN     3277705.   \n",
       "4                      NaN                     NaN       7034-5   \n",
       "...                    ...                     ...          ...   \n",
       "14950                  NaN                     NaN       33-215   \n",
       "14951                  NaN                     NaN      4000 KG   \n",
       "14952                  NaN                     NaN       .800IN   \n",
       "14953                  NaN                     NaN  M22520/1-01   \n",
       "14954                  NaN                     NaN  M22520/1-01   \n",
       "\n",
       "                    new_DESCRIPTION new_STATUS  \n",
       "0                         LCR METER          0  \n",
       "1                       DINAMOMETRO          0  \n",
       "2                       DINAMOMETRO          0  \n",
       "3                       DINAMOMETRO          0  \n",
       "4                        COMPARADOR          0  \n",
       "...                             ...        ...  \n",
       "14950   CINTA METRICA DE 3.5 MTS/12          0  \n",
       "14951                   DINAMOMETRO          0  \n",
       "14952  MICROMETRO DE INTERIOR AXIAL          0  \n",
       "14953    MANDRILADORA PINES DANIELS          0  \n",
       "14954    MANDRILADORA PINES DANIELS          0  \n",
       "\n",
       "[14955 rows x 88 columns]"
      ]
     },
     "execution_count": 7,
     "metadata": {},
     "output_type": "execute_result"
    }
   ],
   "source": [
    "data_tat.dropna(how='all', axis=1)"
   ]
  },
  {
   "cell_type": "markdown",
   "id": "c66d7994",
   "metadata": {},
   "source": [
    "Después de haber tenido una reunón con los proveedores de la base de datos para realizar este análisis, se pudieron determinar las columnas que podrían ser influyentes para realizar predicciones. Y se descartaron aquellas que no tienen relevancia en el asunto.\n",
    "\n",
    "En este punto tomaremos solamente las columnas Categoricas o numéricas que pueden aportar al objetivo de clasificación que queremos realizar. Para eso crearemos  un nuevo DataFrame con un **filtro de columnas**."
   ]
  },
  {
   "cell_type": "code",
   "execution_count": 8,
   "id": "edb3692c",
   "metadata": {},
   "outputs": [],
   "source": [
    "data_tat_filter = data_tat[[\n",
    "    'TAT',\n",
    "    'new_PARTNO',\n",
    "    'new_DESCRIPTION',\n",
    "    'order_number_id',\n",
    "    'order_number',\n",
    "    'order_type',\n",
    "    'order_date',\n",
    "    'address_ship',\n",
    "    'vendor_code',\n",
    "    'shipment',\n",
    "    'priority',\n",
    "    'created_date',\n",
    "    'od_confirmed_date',\n",
    "    'od_req_condition']]"
   ]
  },
  {
   "cell_type": "code",
   "execution_count": 9,
   "id": "b739eb81",
   "metadata": {},
   "outputs": [
    {
     "data": {
      "text/html": [
       "<div>\n",
       "<style scoped>\n",
       "    .dataframe tbody tr th:only-of-type {\n",
       "        vertical-align: middle;\n",
       "    }\n",
       "\n",
       "    .dataframe tbody tr th {\n",
       "        vertical-align: top;\n",
       "    }\n",
       "\n",
       "    .dataframe thead th {\n",
       "        text-align: right;\n",
       "    }\n",
       "</style>\n",
       "<table border=\"1\" class=\"dataframe\">\n",
       "  <thead>\n",
       "    <tr style=\"text-align: right;\">\n",
       "      <th></th>\n",
       "      <th>TAT</th>\n",
       "      <th>new_PARTNO</th>\n",
       "      <th>new_DESCRIPTION</th>\n",
       "      <th>order_number_id</th>\n",
       "      <th>order_number</th>\n",
       "      <th>order_type</th>\n",
       "      <th>order_date</th>\n",
       "      <th>address_ship</th>\n",
       "      <th>vendor_code</th>\n",
       "      <th>shipment</th>\n",
       "      <th>priority</th>\n",
       "      <th>created_date</th>\n",
       "      <th>od_confirmed_date</th>\n",
       "      <th>od_req_condition</th>\n",
       "    </tr>\n",
       "  </thead>\n",
       "  <tbody>\n",
       "    <tr>\n",
       "      <th>0</th>\n",
       "      <td>12.0</td>\n",
       "      <td>879B</td>\n",
       "      <td>LCR METER</td>\n",
       "      <td>47613</td>\n",
       "      <td>R0017144TRF</td>\n",
       "      <td>R</td>\n",
       "      <td>2018-08-08 00:00:00</td>\n",
       "      <td>AEP</td>\n",
       "      <td>0NUU5</td>\n",
       "      <td>NaN</td>\n",
       "      <td>NaN</td>\n",
       "      <td>2018-08-31 00:00:00</td>\n",
       "      <td>0</td>\n",
       "      <td>NaN</td>\n",
       "    </tr>\n",
       "    <tr>\n",
       "      <th>1</th>\n",
       "      <td>33.0</td>\n",
       "      <td>AP-2703</td>\n",
       "      <td>DINAMOMETRO</td>\n",
       "      <td>62347</td>\n",
       "      <td>R0285318</td>\n",
       "      <td>R</td>\n",
       "      <td>2018-10-03 00:00:00</td>\n",
       "      <td>ARG</td>\n",
       "      <td>AR0011</td>\n",
       "      <td>NaN</td>\n",
       "      <td>RTN</td>\n",
       "      <td>2018-10-03 00:00:00</td>\n",
       "      <td>0</td>\n",
       "      <td>CA</td>\n",
       "    </tr>\n",
       "    <tr>\n",
       "      <th>2</th>\n",
       "      <td>4.0</td>\n",
       "      <td>L10</td>\n",
       "      <td>DINAMOMETRO</td>\n",
       "      <td>67713</td>\n",
       "      <td>R0667118</td>\n",
       "      <td>R</td>\n",
       "      <td>2018-11-12 00:00:00</td>\n",
       "      <td>ARG</td>\n",
       "      <td>AR0011</td>\n",
       "      <td>NaN</td>\n",
       "      <td>RTN</td>\n",
       "      <td>2018-11-12 00:00:00</td>\n",
       "      <td>0</td>\n",
       "      <td>CA</td>\n",
       "    </tr>\n",
       "    <tr>\n",
       "      <th>3</th>\n",
       "      <td>18.0</td>\n",
       "      <td>3277705.</td>\n",
       "      <td>DINAMOMETRO</td>\n",
       "      <td>74221</td>\n",
       "      <td>R1102719</td>\n",
       "      <td>R</td>\n",
       "      <td>2019-01-07 00:00:00</td>\n",
       "      <td>ARG</td>\n",
       "      <td>AR0011</td>\n",
       "      <td>NaN</td>\n",
       "      <td>RTN</td>\n",
       "      <td>2019-01-05 00:00:00</td>\n",
       "      <td>0</td>\n",
       "      <td>CA</td>\n",
       "    </tr>\n",
       "    <tr>\n",
       "      <th>4</th>\n",
       "      <td>6.0</td>\n",
       "      <td>7034-5</td>\n",
       "      <td>COMPARADOR</td>\n",
       "      <td>76276</td>\n",
       "      <td>R1251719</td>\n",
       "      <td>R</td>\n",
       "      <td>2019-01-21 00:00:00</td>\n",
       "      <td>ARG</td>\n",
       "      <td>AR0011</td>\n",
       "      <td>NaN</td>\n",
       "      <td>RTN</td>\n",
       "      <td>2019-01-19 00:00:00</td>\n",
       "      <td>0</td>\n",
       "      <td>CA</td>\n",
       "    </tr>\n",
       "  </tbody>\n",
       "</table>\n",
       "</div>"
      ],
      "text/plain": [
       "    TAT new_PARTNO new_DESCRIPTION  order_number_id order_number order_type  \\\n",
       "0  12.0       879B       LCR METER            47613  R0017144TRF          R   \n",
       "1  33.0    AP-2703     DINAMOMETRO            62347     R0285318          R   \n",
       "2   4.0        L10     DINAMOMETRO            67713     R0667118          R   \n",
       "3  18.0   3277705.     DINAMOMETRO            74221     R1102719          R   \n",
       "4   6.0     7034-5      COMPARADOR            76276     R1251719          R   \n",
       "\n",
       "            order_date address_ship vendor_code shipment priority  \\\n",
       "0  2018-08-08 00:00:00          AEP       0NUU5      NaN      NaN   \n",
       "1  2018-10-03 00:00:00          ARG      AR0011      NaN      RTN   \n",
       "2  2018-11-12 00:00:00          ARG      AR0011      NaN      RTN   \n",
       "3  2019-01-07 00:00:00          ARG      AR0011      NaN      RTN   \n",
       "4  2019-01-21 00:00:00          ARG      AR0011      NaN      RTN   \n",
       "\n",
       "          created_date od_confirmed_date od_req_condition  \n",
       "0  2018-08-31 00:00:00                 0              NaN  \n",
       "1  2018-10-03 00:00:00                 0               CA  \n",
       "2  2018-11-12 00:00:00                 0               CA  \n",
       "3  2019-01-05 00:00:00                 0               CA  \n",
       "4  2019-01-19 00:00:00                 0               CA  "
      ]
     },
     "execution_count": 9,
     "metadata": {},
     "output_type": "execute_result"
    }
   ],
   "source": [
    "data_tat_filter.head(5)"
   ]
  },
  {
   "cell_type": "code",
   "execution_count": 10,
   "id": "76ab39f6",
   "metadata": {},
   "outputs": [
    {
     "data": {
      "text/plain": [
       "14"
      ]
     },
     "execution_count": 10,
     "metadata": {},
     "output_type": "execute_result"
    }
   ],
   "source": [
    "data_tat_filter.shape[1]"
   ]
  },
  {
   "cell_type": "markdown",
   "id": "0bf61949",
   "metadata": {},
   "source": [
    "Pasamos de tener 91 columnas en nuestro DataSet original, a pasar a **14 columnas** finales."
   ]
  },
  {
   "cell_type": "markdown",
   "id": "cb60450d",
   "metadata": {},
   "source": [
    "Una vez imputado todos los datos de los TAT vamos **identificar los vendors** desde otro DataSet llamado \"data_vendors\" que identifica a los Vendors con un codigo, su nombre y datos estadisticos preliminares.\n",
    "\n",
    "Con ese dato podemos incorporar los nombres de los provedores de una manera más amigable. Creamos un nuevo DataSet con los nombres de los vendors."
   ]
  },
  {
   "cell_type": "code",
   "execution_count": 11,
   "id": "7628316d",
   "metadata": {},
   "outputs": [
    {
     "data": {
      "text/html": [
       "<div>\n",
       "<style scoped>\n",
       "    .dataframe tbody tr th:only-of-type {\n",
       "        vertical-align: middle;\n",
       "    }\n",
       "\n",
       "    .dataframe tbody tr th {\n",
       "        vertical-align: top;\n",
       "    }\n",
       "\n",
       "    .dataframe thead th {\n",
       "        text-align: right;\n",
       "    }\n",
       "</style>\n",
       "<table border=\"1\" class=\"dataframe\">\n",
       "  <thead>\n",
       "    <tr style=\"text-align: right;\">\n",
       "      <th></th>\n",
       "      <th>vendor_name</th>\n",
       "      <th>vendor_code</th>\n",
       "      <th>COUNT</th>\n",
       "      <th>MEAN_of_TAT</th>\n",
       "      <th>STDEV_of_TAT</th>\n",
       "    </tr>\n",
       "  </thead>\n",
       "  <tbody>\n",
       "    <tr>\n",
       "      <th>0</th>\n",
       "      <td>BERNOULLI AEROSPACE, LLC</td>\n",
       "      <td>US0942</td>\n",
       "      <td>1061</td>\n",
       "      <td>73.393968</td>\n",
       "      <td>96.565499</td>\n",
       "    </tr>\n",
       "    <tr>\n",
       "      <th>1</th>\n",
       "      <td>DASTEC SRL USA LLC</td>\n",
       "      <td>US0192</td>\n",
       "      <td>1</td>\n",
       "      <td>33.000000</td>\n",
       "      <td>NaN</td>\n",
       "    </tr>\n",
       "    <tr>\n",
       "      <th>2</th>\n",
       "      <td>EDACI S.R.L.</td>\n",
       "      <td>AR0310</td>\n",
       "      <td>444</td>\n",
       "      <td>45.380631</td>\n",
       "      <td>58.214414</td>\n",
       "    </tr>\n",
       "    <tr>\n",
       "      <th>3</th>\n",
       "      <td>DANIELS MANUFACTURING CORP.</td>\n",
       "      <td>11851</td>\n",
       "      <td>9</td>\n",
       "      <td>58.333333</td>\n",
       "      <td>45.634417</td>\n",
       "    </tr>\n",
       "    <tr>\n",
       "      <th>4</th>\n",
       "      <td>SCHENCK ROTEC GMBH</td>\n",
       "      <td>CE619</td>\n",
       "      <td>1</td>\n",
       "      <td>193.000000</td>\n",
       "      <td>NaN</td>\n",
       "    </tr>\n",
       "  </tbody>\n",
       "</table>\n",
       "</div>"
      ],
      "text/plain": [
       "                   vendor_name vendor_code  COUNT  MEAN_of_TAT  STDEV_of_TAT\n",
       "0     BERNOULLI AEROSPACE, LLC      US0942   1061    73.393968     96.565499\n",
       "1           DASTEC SRL USA LLC      US0192      1    33.000000           NaN\n",
       "2                 EDACI S.R.L.      AR0310    444    45.380631     58.214414\n",
       "3  DANIELS MANUFACTURING CORP.       11851      9    58.333333     45.634417\n",
       "4           SCHENCK ROTEC GMBH       CE619      1   193.000000           NaN"
      ]
     },
     "execution_count": 11,
     "metadata": {},
     "output_type": "execute_result"
    }
   ],
   "source": [
    "data_vendors.head(5)"
   ]
  },
  {
   "cell_type": "markdown",
   "id": "7e0d1f4a",
   "metadata": {},
   "source": [
    "Nos quedamos con las dos columnas de **'vendro_name'** y **'vendor_code'** y dropeamos el resto."
   ]
  },
  {
   "cell_type": "code",
   "execution_count": 12,
   "id": "5b823a3b",
   "metadata": {},
   "outputs": [],
   "source": [
    "data_vendors_filtrado = data_vendors.drop(['COUNT','MEAN_of_TAT','STDEV_of_TAT'], axis=1)"
   ]
  },
  {
   "cell_type": "markdown",
   "id": "871b0a4d",
   "metadata": {},
   "source": [
    "Realizamos un **merge** con los nombres."
   ]
  },
  {
   "cell_type": "code",
   "execution_count": 13,
   "id": "b1e65591",
   "metadata": {},
   "outputs": [
    {
     "data": {
      "text/html": [
       "<div>\n",
       "<style scoped>\n",
       "    .dataframe tbody tr th:only-of-type {\n",
       "        vertical-align: middle;\n",
       "    }\n",
       "\n",
       "    .dataframe tbody tr th {\n",
       "        vertical-align: top;\n",
       "    }\n",
       "\n",
       "    .dataframe thead th {\n",
       "        text-align: right;\n",
       "    }\n",
       "</style>\n",
       "<table border=\"1\" class=\"dataframe\">\n",
       "  <thead>\n",
       "    <tr style=\"text-align: right;\">\n",
       "      <th></th>\n",
       "      <th>TAT</th>\n",
       "      <th>new_PARTNO</th>\n",
       "      <th>new_DESCRIPTION</th>\n",
       "      <th>order_number_id</th>\n",
       "      <th>order_number</th>\n",
       "      <th>order_type</th>\n",
       "      <th>order_date</th>\n",
       "      <th>address_ship</th>\n",
       "      <th>vendor_code</th>\n",
       "      <th>shipment</th>\n",
       "      <th>priority</th>\n",
       "      <th>created_date</th>\n",
       "      <th>od_confirmed_date</th>\n",
       "      <th>od_req_condition</th>\n",
       "      <th>vendor_name</th>\n",
       "    </tr>\n",
       "  </thead>\n",
       "  <tbody>\n",
       "    <tr>\n",
       "      <th>11644</th>\n",
       "      <td>8.0</td>\n",
       "      <td>SP602</td>\n",
       "      <td>BALANZA</td>\n",
       "      <td>168743</td>\n",
       "      <td>R1189721</td>\n",
       "      <td>R</td>\n",
       "      <td>2021-07-08 00:00:00</td>\n",
       "      <td>AR0650</td>\n",
       "      <td>AR0507</td>\n",
       "      <td>NaN</td>\n",
       "      <td>RTN</td>\n",
       "      <td>2021-07-08 00:00:00</td>\n",
       "      <td>0</td>\n",
       "      <td>CA</td>\n",
       "      <td>CHACOMA S.A.</td>\n",
       "    </tr>\n",
       "    <tr>\n",
       "      <th>2</th>\n",
       "      <td>4.0</td>\n",
       "      <td>L10</td>\n",
       "      <td>DINAMOMETRO</td>\n",
       "      <td>67713</td>\n",
       "      <td>R0667118</td>\n",
       "      <td>R</td>\n",
       "      <td>2018-11-12 00:00:00</td>\n",
       "      <td>ARG</td>\n",
       "      <td>AR0011</td>\n",
       "      <td>NaN</td>\n",
       "      <td>RTN</td>\n",
       "      <td>2018-11-12 00:00:00</td>\n",
       "      <td>0</td>\n",
       "      <td>CA</td>\n",
       "      <td>RUBEN HUGO COPPOLA E HIJOS SRL</td>\n",
       "    </tr>\n",
       "    <tr>\n",
       "      <th>4488</th>\n",
       "      <td>30.0</td>\n",
       "      <td>650 MM</td>\n",
       "      <td>CALIBRE</td>\n",
       "      <td>76272</td>\n",
       "      <td>R1251319</td>\n",
       "      <td>R</td>\n",
       "      <td>2019-01-21 00:00:00</td>\n",
       "      <td>ARG</td>\n",
       "      <td>AR0011</td>\n",
       "      <td>NaN</td>\n",
       "      <td>RTN</td>\n",
       "      <td>2019-01-19 00:00:00</td>\n",
       "      <td>0</td>\n",
       "      <td>CA</td>\n",
       "      <td>RUBEN HUGO COPPOLA E HIJOS SRL</td>\n",
       "    </tr>\n",
       "  </tbody>\n",
       "</table>\n",
       "</div>"
      ],
      "text/plain": [
       "        TAT new_PARTNO new_DESCRIPTION  order_number_id order_number  \\\n",
       "11644   8.0      SP602         BALANZA           168743     R1189721   \n",
       "2       4.0        L10     DINAMOMETRO            67713     R0667118   \n",
       "4488   30.0     650 MM         CALIBRE            76272     R1251319   \n",
       "\n",
       "      order_type           order_date address_ship vendor_code shipment  \\\n",
       "11644          R  2021-07-08 00:00:00       AR0650      AR0507      NaN   \n",
       "2              R  2018-11-12 00:00:00          ARG      AR0011      NaN   \n",
       "4488           R  2019-01-21 00:00:00          ARG      AR0011      NaN   \n",
       "\n",
       "      priority         created_date od_confirmed_date od_req_condition  \\\n",
       "11644      RTN  2021-07-08 00:00:00                 0               CA   \n",
       "2          RTN  2018-11-12 00:00:00                 0               CA   \n",
       "4488       RTN  2019-01-19 00:00:00                 0               CA   \n",
       "\n",
       "                          vendor_name  \n",
       "11644                    CHACOMA S.A.  \n",
       "2      RUBEN HUGO COPPOLA E HIJOS SRL  \n",
       "4488   RUBEN HUGO COPPOLA E HIJOS SRL  "
      ]
     },
     "execution_count": 13,
     "metadata": {},
     "output_type": "execute_result"
    }
   ],
   "source": [
    "ds_complete = data_tat_filter.merge(data_vendors_filtrado, how='left', on='vendor_code')\n",
    "ds_complete.sample(3)"
   ]
  },
  {
   "cell_type": "code",
   "execution_count": 14,
   "id": "ffd64254",
   "metadata": {},
   "outputs": [],
   "source": [
    "ds_complete.rename(columns={'new_PARTNO':'part_number','new_DESCRIPTION':'description'}, inplace=True)"
   ]
  },
  {
   "cell_type": "markdown",
   "id": "d2c92936",
   "metadata": {},
   "source": [
    "Finalmente tenemos el DataSet agrupado."
   ]
  },
  {
   "cell_type": "markdown",
   "id": "9d0ec68e",
   "metadata": {},
   "source": [
    "Ahora necesitamos realizar una limpieza de los **valores nulos** en nuestras columnas de interes.\n",
    "\n",
    "Primero identificaremos la  proporción de nulos en cada una. Y después identificar el tipo de columnas que tenemos."
   ]
  },
  {
   "cell_type": "code",
   "execution_count": 15,
   "id": "6a5088eb",
   "metadata": {},
   "outputs": [
    {
     "data": {
      "text/plain": [
       "TAT                  0.001003\n",
       "part_number          0.000000\n",
       "description          0.000000\n",
       "order_number_id      0.000000\n",
       "order_number         0.000000\n",
       "order_type           0.000000\n",
       "order_date           0.000000\n",
       "address_ship         0.006954\n",
       "vendor_code          0.000000\n",
       "shipment             0.528118\n",
       "priority             0.031695\n",
       "created_date         0.000000\n",
       "od_confirmed_date    0.000000\n",
       "od_req_condition     0.019525\n",
       "vendor_name          0.000669\n",
       "dtype: float64"
      ]
     },
     "execution_count": 15,
     "metadata": {},
     "output_type": "execute_result"
    }
   ],
   "source": [
    "ds_complete.apply(lambda x: x.isnull().sum()/data_tat_filter.shape[0], axis=0)"
   ]
  },
  {
   "cell_type": "code",
   "execution_count": 16,
   "id": "7239b76d",
   "metadata": {},
   "outputs": [
    {
     "name": "stdout",
     "output_type": "stream",
     "text": [
      "<class 'pandas.core.frame.DataFrame'>\n",
      "Int64Index: 14955 entries, 0 to 14954\n",
      "Data columns (total 15 columns):\n",
      " #   Column             Non-Null Count  Dtype  \n",
      "---  ------             --------------  -----  \n",
      " 0   TAT                14940 non-null  float64\n",
      " 1   part_number        14955 non-null  object \n",
      " 2   description        14955 non-null  object \n",
      " 3   order_number_id    14955 non-null  int64  \n",
      " 4   order_number       14955 non-null  object \n",
      " 5   order_type         14955 non-null  object \n",
      " 6   order_date         14955 non-null  object \n",
      " 7   address_ship       14851 non-null  object \n",
      " 8   vendor_code        14955 non-null  object \n",
      " 9   shipment           7057 non-null   object \n",
      " 10  priority           14481 non-null  object \n",
      " 11  created_date       14955 non-null  object \n",
      " 12  od_confirmed_date  14955 non-null  object \n",
      " 13  od_req_condition   14663 non-null  object \n",
      " 14  vendor_name        14945 non-null  object \n",
      "dtypes: float64(1), int64(1), object(13)\n",
      "memory usage: 1.8+ MB\n"
     ]
    }
   ],
   "source": [
    "ds_complete.info()"
   ]
  },
  {
   "cell_type": "markdown",
   "id": "dfa59b53",
   "metadata": {},
   "source": [
    "Las columnas más comprometidas en la proporción de nulos son **'TAT'** (por su relevancia en la predicción de datos), **'entry_date'**, **'address_ship'**, **'shipment'**, **'priority'**, **'od_req_condition'** y **'vendor_name'**.\n",
    "\n",
    "Ahora lo que necesitamos es completar los nulos de las columnas.\n",
    "* TAT: Completaremos los nulos de los datos con el valor medio de los datos.\n",
    "* Shipment: Los valores nulos los completaremos con '--'.\n",
    "* Priority: Los valores nulos los completaremos con '--'.\n",
    "* Address_ship: Los valores nulos colocaresmo ARG.\n",
    "* Od_req_condition: Los valores nulos los remplazaremos por la condición 'CA', de calibración, ya que son todas herramientas calibradas.\n"
   ]
  },
  {
   "cell_type": "code",
   "execution_count": 17,
   "id": "9cdaded6",
   "metadata": {},
   "outputs": [
    {
     "data": {
      "text/plain": [
       "0"
      ]
     },
     "execution_count": 17,
     "metadata": {},
     "output_type": "execute_result"
    }
   ],
   "source": [
    "ds_complete['TAT'].fillna(ds_complete.TAT.mean(), inplace=True)\n",
    "ds_complete.TAT.isnull().sum()"
   ]
  },
  {
   "cell_type": "code",
   "execution_count": 18,
   "id": "3b833e97",
   "metadata": {},
   "outputs": [
    {
     "data": {
      "text/plain": [
       "array([nan, 'F3', 'F6', '--', 'F5', 'UP', 'F2', 'F1', 'AT', 'FF', 'Z2',\n",
       "       'Z1'], dtype=object)"
      ]
     },
     "execution_count": 18,
     "metadata": {},
     "output_type": "execute_result"
    }
   ],
   "source": [
    "ds_complete['shipment'].unique()"
   ]
  },
  {
   "cell_type": "code",
   "execution_count": 19,
   "id": "b3ff5379",
   "metadata": {},
   "outputs": [
    {
     "data": {
      "text/plain": [
       "0"
      ]
     },
     "execution_count": 19,
     "metadata": {},
     "output_type": "execute_result"
    }
   ],
   "source": [
    "ds_complete['shipment'].fillna('--', inplace=True)\n",
    "ds_complete['shipment'].isnull().sum()"
   ]
  },
  {
   "cell_type": "code",
   "execution_count": 20,
   "id": "75ee62cd",
   "metadata": {},
   "outputs": [
    {
     "data": {
      "text/plain": [
       "array([nan, 'RTN', 'USR', 'AOG', 'WSP'], dtype=object)"
      ]
     },
     "execution_count": 20,
     "metadata": {},
     "output_type": "execute_result"
    }
   ],
   "source": [
    "ds_complete['priority'].unique()"
   ]
  },
  {
   "cell_type": "code",
   "execution_count": 21,
   "id": "4c60a338",
   "metadata": {},
   "outputs": [
    {
     "data": {
      "text/plain": [
       "0"
      ]
     },
     "execution_count": 21,
     "metadata": {},
     "output_type": "execute_result"
    }
   ],
   "source": [
    "ds_complete['priority'].fillna('--', inplace=True)\n",
    "ds_complete['priority'].isnull().sum()"
   ]
  },
  {
   "cell_type": "code",
   "execution_count": 22,
   "id": "cf94aca9",
   "metadata": {},
   "outputs": [
    {
     "data": {
      "text/plain": [
       "array(['AEP', 'ARG', 'ADUANA-EZE', 'AR0650', 'ADUANA-AEP', 'AR-REC',\n",
       "       'EZE', 'AUT', '062W2', nan, 'AR-METROLOGY', '3F4Z0', 'AR-ORDERING',\n",
       "       'NL0008', 'DE0203', '09AQ0', '81205', 'MIA-LOG', 'AU-REC',\n",
       "       'AU-ORDERING', 'US0202', 'EXP-EZE', 'AR-INVOICE'], dtype=object)"
      ]
     },
     "execution_count": 22,
     "metadata": {},
     "output_type": "execute_result"
    }
   ],
   "source": [
    "ds_complete['address_ship'].unique()"
   ]
  },
  {
   "cell_type": "code",
   "execution_count": 23,
   "id": "30787f60",
   "metadata": {},
   "outputs": [
    {
     "data": {
      "text/plain": [
       "0"
      ]
     },
     "execution_count": 23,
     "metadata": {},
     "output_type": "execute_result"
    }
   ],
   "source": [
    "ds_complete['address_ship'].fillna('ARG', inplace=True)\n",
    "ds_complete['address_ship'].isnull().sum()"
   ]
  },
  {
   "cell_type": "code",
   "execution_count": 24,
   "id": "eab37b7b",
   "metadata": {},
   "outputs": [
    {
     "data": {
      "text/plain": [
       "array([nan, 'CA', 'N', 'R', 'US', 'S', 'T', 'RT', 'SV', 'SC'],\n",
       "      dtype=object)"
      ]
     },
     "execution_count": 24,
     "metadata": {},
     "output_type": "execute_result"
    }
   ],
   "source": [
    "ds_complete['od_req_condition'].unique()"
   ]
  },
  {
   "cell_type": "code",
   "execution_count": 25,
   "id": "1279cbcb",
   "metadata": {},
   "outputs": [
    {
     "data": {
      "text/plain": [
       "0"
      ]
     },
     "execution_count": 25,
     "metadata": {},
     "output_type": "execute_result"
    }
   ],
   "source": [
    "ds_complete['od_req_condition'].fillna('CA', inplace=True)\n",
    "ds_complete['od_req_condition'].isnull().sum()"
   ]
  },
  {
   "cell_type": "markdown",
   "id": "65c279d3",
   "metadata": {},
   "source": [
    "Ahora necesitamos transformar los **valores de tiempo** en valores numéricos, para poder evaluarlos correctamente."
   ]
  },
  {
   "cell_type": "code",
   "execution_count": 26,
   "id": "13712cba",
   "metadata": {},
   "outputs": [],
   "source": [
    "ds_complete['order_date'] = ds_complete['order_date'].apply(lambda x: pd.to_datetime(x))\n",
    "ds_complete['order_date_year'] = ds_complete['order_date'].apply(lambda x: x.year)\n",
    "ds_complete['order_date_month'] = ds_complete['order_date'].apply(lambda x: x.month)\n",
    "ds_complete['order_date_day'] = ds_complete['order_date'].apply(lambda x: x.day)"
   ]
  },
  {
   "cell_type": "code",
   "execution_count": 27,
   "id": "bbf85991",
   "metadata": {},
   "outputs": [],
   "source": [
    "#ds_complete['date_arrive'] = ds_complete['order_date'].apply(lambda x: ds_complete.TAT.astype('int') + x)"
   ]
  },
  {
   "cell_type": "markdown",
   "id": "01bc451c",
   "metadata": {},
   "source": [
    "**Clasificación de valores**\n",
    "\n",
    "Vamos a crear nuestro **vector objetivo 'Y'**. Para eso vamos a tomar como parametro de rentabilidad (*'on_time'*), a todas aquellas herramientas que estén dentro de los **90 días**. El resto que excedan este tiempo se considerarán no rentables o como *'con retraso'*.\n",
    "\n",
    "La idea de este vector es permitir identificar aquellos vendors que hagan entregas con retraso según el tipo de equipo."
   ]
  },
  {
   "cell_type": "code",
   "execution_count": 28,
   "id": "abcc6e9a",
   "metadata": {},
   "outputs": [],
   "source": [
    "ds_complete['on_time'] = ds_complete['TAT'].apply(lambda x: 1 if x <= 90 else 0)"
   ]
  },
  {
   "cell_type": "code",
   "execution_count": 29,
   "id": "b242f976",
   "metadata": {},
   "outputs": [
    {
     "data": {
      "text/html": [
       "<div>\n",
       "<style scoped>\n",
       "    .dataframe tbody tr th:only-of-type {\n",
       "        vertical-align: middle;\n",
       "    }\n",
       "\n",
       "    .dataframe tbody tr th {\n",
       "        vertical-align: top;\n",
       "    }\n",
       "\n",
       "    .dataframe thead th {\n",
       "        text-align: right;\n",
       "    }\n",
       "</style>\n",
       "<table border=\"1\" class=\"dataframe\">\n",
       "  <thead>\n",
       "    <tr style=\"text-align: right;\">\n",
       "      <th></th>\n",
       "      <th>TAT</th>\n",
       "      <th>part_number</th>\n",
       "      <th>description</th>\n",
       "      <th>order_number_id</th>\n",
       "      <th>order_number</th>\n",
       "      <th>order_type</th>\n",
       "      <th>order_date</th>\n",
       "      <th>address_ship</th>\n",
       "      <th>vendor_code</th>\n",
       "      <th>shipment</th>\n",
       "      <th>priority</th>\n",
       "      <th>created_date</th>\n",
       "      <th>od_confirmed_date</th>\n",
       "      <th>od_req_condition</th>\n",
       "      <th>vendor_name</th>\n",
       "      <th>order_date_year</th>\n",
       "      <th>order_date_month</th>\n",
       "      <th>order_date_day</th>\n",
       "      <th>on_time</th>\n",
       "    </tr>\n",
       "  </thead>\n",
       "  <tbody>\n",
       "    <tr>\n",
       "      <th>13607</th>\n",
       "      <td>24.0</td>\n",
       "      <td>321</td>\n",
       "      <td>PINZA AMPEROMETRICA</td>\n",
       "      <td>212540</td>\n",
       "      <td>R2371822</td>\n",
       "      <td>R</td>\n",
       "      <td>2022-09-20</td>\n",
       "      <td>ADUANA-EZE</td>\n",
       "      <td>US0962</td>\n",
       "      <td>F3</td>\n",
       "      <td>RTN</td>\n",
       "      <td>2022-09-20 00:00:00</td>\n",
       "      <td>0</td>\n",
       "      <td>CA</td>\n",
       "      <td>UMT CALIBRATION LABORATORY</td>\n",
       "      <td>2022</td>\n",
       "      <td>9</td>\n",
       "      <td>20</td>\n",
       "      <td>1</td>\n",
       "    </tr>\n",
       "    <tr>\n",
       "      <th>11617</th>\n",
       "      <td>66.0</td>\n",
       "      <td>ARSA</td>\n",
       "      <td>MANOMETRO</td>\n",
       "      <td>100419</td>\n",
       "      <td>R2969419</td>\n",
       "      <td>R</td>\n",
       "      <td>2019-07-08</td>\n",
       "      <td>AR0650</td>\n",
       "      <td>AR0011</td>\n",
       "      <td>--</td>\n",
       "      <td>RTN</td>\n",
       "      <td>2019-07-06 00:00:00</td>\n",
       "      <td>2019-10-25 00:00:00</td>\n",
       "      <td>CA</td>\n",
       "      <td>RUBEN HUGO COPPOLA E HIJOS SRL</td>\n",
       "      <td>2019</td>\n",
       "      <td>7</td>\n",
       "      <td>8</td>\n",
       "      <td>1</td>\n",
       "    </tr>\n",
       "    <tr>\n",
       "      <th>10733</th>\n",
       "      <td>6.0</td>\n",
       "      <td>MSO2102EA</td>\n",
       "      <td>OSCILOSCOPIO DIGITAL COLOR GW INSTEK</td>\n",
       "      <td>192002</td>\n",
       "      <td>R0799222</td>\n",
       "      <td>R</td>\n",
       "      <td>2022-03-31</td>\n",
       "      <td>ADUANA-EZE</td>\n",
       "      <td>381AB</td>\n",
       "      <td>F3</td>\n",
       "      <td>RTN</td>\n",
       "      <td>2022-03-31 00:00:00</td>\n",
       "      <td>2022-04-23 00:00:00</td>\n",
       "      <td>CA</td>\n",
       "      <td>AFC INGENIEROS SA</td>\n",
       "      <td>2022</td>\n",
       "      <td>3</td>\n",
       "      <td>31</td>\n",
       "      <td>1</td>\n",
       "    </tr>\n",
       "    <tr>\n",
       "      <th>4282</th>\n",
       "      <td>0.0</td>\n",
       "      <td>EX 623</td>\n",
       "      <td>BALANZA</td>\n",
       "      <td>150625</td>\n",
       "      <td>R1772720</td>\n",
       "      <td>R</td>\n",
       "      <td>2020-10-23</td>\n",
       "      <td>AR0650</td>\n",
       "      <td>AR0507</td>\n",
       "      <td>--</td>\n",
       "      <td>RTN</td>\n",
       "      <td>2020-10-23 00:00:00</td>\n",
       "      <td>2021-01-07 00:00:00</td>\n",
       "      <td>CA</td>\n",
       "      <td>CHACOMA S.A.</td>\n",
       "      <td>2020</td>\n",
       "      <td>10</td>\n",
       "      <td>23</td>\n",
       "      <td>1</td>\n",
       "    </tr>\n",
       "  </tbody>\n",
       "</table>\n",
       "</div>"
      ],
      "text/plain": [
       "        TAT part_number                           description  \\\n",
       "13607  24.0         321                   PINZA AMPEROMETRICA   \n",
       "11617  66.0        ARSA                             MANOMETRO   \n",
       "10733   6.0   MSO2102EA  OSCILOSCOPIO DIGITAL COLOR GW INSTEK   \n",
       "4282    0.0      EX 623                               BALANZA   \n",
       "\n",
       "       order_number_id order_number order_type order_date address_ship  \\\n",
       "13607           212540     R2371822          R 2022-09-20   ADUANA-EZE   \n",
       "11617           100419     R2969419          R 2019-07-08       AR0650   \n",
       "10733           192002     R0799222          R 2022-03-31   ADUANA-EZE   \n",
       "4282            150625     R1772720          R 2020-10-23       AR0650   \n",
       "\n",
       "      vendor_code shipment priority         created_date    od_confirmed_date  \\\n",
       "13607      US0962       F3      RTN  2022-09-20 00:00:00                    0   \n",
       "11617      AR0011       --      RTN  2019-07-06 00:00:00  2019-10-25 00:00:00   \n",
       "10733       381AB       F3      RTN  2022-03-31 00:00:00  2022-04-23 00:00:00   \n",
       "4282       AR0507       --      RTN  2020-10-23 00:00:00  2021-01-07 00:00:00   \n",
       "\n",
       "      od_req_condition                     vendor_name  order_date_year  \\\n",
       "13607               CA      UMT CALIBRATION LABORATORY             2022   \n",
       "11617               CA  RUBEN HUGO COPPOLA E HIJOS SRL             2019   \n",
       "10733               CA               AFC INGENIEROS SA             2022   \n",
       "4282                CA                    CHACOMA S.A.             2020   \n",
       "\n",
       "       order_date_month  order_date_day  on_time  \n",
       "13607                 9              20        1  \n",
       "11617                 7               8        1  \n",
       "10733                 3              31        1  \n",
       "4282                 10              23        1  "
      ]
     },
     "execution_count": 29,
     "metadata": {},
     "output_type": "execute_result"
    }
   ],
   "source": [
    "ds_complete.sample(4)"
   ]
  },
  {
   "cell_type": "markdown",
   "id": "5e39272f",
   "metadata": {},
   "source": [
    "¡Finalmente tenemos el DataSet completo!\n",
    "\n",
    "A partir de aca intentaremos preparar y entrenar los datos para poder realizar predicciones sobre los TAT de entrega de cada uno de los provedores."
   ]
  },
  {
   "cell_type": "markdown",
   "id": "fa83b355",
   "metadata": {},
   "source": [
    "<a id=\"preparacion_entrenamiento\"></a>\n",
    "## 4. Preparación y Entrenamiento del DataSet\n",
    "---"
   ]
  },
  {
   "cell_type": "markdown",
   "id": "7cce470a",
   "metadata": {},
   "source": [
    "<a id=\"features\"></a> \n",
    "### 4.1 Features y dummies\n",
    "Escribir aquí... **# TO-DO**"
   ]
  },
  {
   "cell_type": "markdown",
   "id": "8109da18",
   "metadata": {},
   "source": [
    "**Features categóricas**"
   ]
  },
  {
   "cell_type": "code",
   "execution_count": 30,
   "id": "8fac9699",
   "metadata": {},
   "outputs": [
    {
     "data": {
      "text/plain": [
       "TAT                         float64\n",
       "part_number                  object\n",
       "description                  object\n",
       "order_number_id               int64\n",
       "order_number                 object\n",
       "order_type                   object\n",
       "order_date           datetime64[ns]\n",
       "address_ship                 object\n",
       "vendor_code                  object\n",
       "shipment                     object\n",
       "priority                     object\n",
       "created_date                 object\n",
       "od_confirmed_date            object\n",
       "od_req_condition             object\n",
       "vendor_name                  object\n",
       "order_date_year               int64\n",
       "order_date_month              int64\n",
       "order_date_day                int64\n",
       "on_time                       int64\n",
       "dtype: object"
      ]
     },
     "execution_count": 30,
     "metadata": {},
     "output_type": "execute_result"
    }
   ],
   "source": [
    "ds_complete.dtypes"
   ]
  },
  {
   "cell_type": "code",
   "execution_count": 31,
   "id": "4190ef31",
   "metadata": {},
   "outputs": [],
   "source": [
    "features_categoricas = ['description', 'order_type', 'address_ship', 'shipment', 'priority', 'vendor_name']\n",
    "\n",
    "ds_dummies = pd.get_dummies(ds_complete[features_categoricas], drop_first=True)"
   ]
  },
  {
   "cell_type": "code",
   "execution_count": null,
   "id": "40d93c10",
   "metadata": {},
   "outputs": [],
   "source": []
  },
  {
   "cell_type": "markdown",
   "id": "6e7ee3e0",
   "metadata": {},
   "source": [
    "**Features numéricas**"
   ]
  },
  {
   "cell_type": "code",
   "execution_count": 32,
   "id": "f2520580",
   "metadata": {},
   "outputs": [],
   "source": [
    "features_numericas = ['order_date_year', 'order_date_month', 'order_date_day']"
   ]
  },
  {
   "cell_type": "code",
   "execution_count": 33,
   "id": "6897b6c3",
   "metadata": {},
   "outputs": [],
   "source": [
    "ds_final = pd.concat([ds_complete[features_numericas], ds_dummies], axis=1)"
   ]
  },
  {
   "cell_type": "markdown",
   "id": "3e1c5778",
   "metadata": {},
   "source": [
    "<a id=\"split\"></a> \n",
    "### 4.2 Split del set de entrenamiento\n",
    "Escribir aquí... **# TO-DO**"
   ]
  },
  {
   "cell_type": "code",
   "execution_count": 34,
   "id": "b7973365",
   "metadata": {},
   "outputs": [],
   "source": [
    "X = ds_final\n",
    "y = ds_complete['on_time']\n",
    "\n",
    "X_train, X_test, y_train, y_test = train_test_split(X, y, test_size=0.3, random_state=12)"
   ]
  },
  {
   "cell_type": "code",
   "execution_count": 35,
   "id": "a7db424a",
   "metadata": {},
   "outputs": [
    {
     "name": "stdout",
     "output_type": "stream",
     "text": [
      "Set_entrenamiento_y:\n",
      "1    0.789263\n",
      "0    0.210737\n",
      "Name: on_time, dtype: float64\n",
      "Set_testeo_y:\n",
      "1    0.78694\n",
      "0    0.21306\n",
      "Name: on_time, dtype: float64\n"
     ]
    }
   ],
   "source": [
    "print('Set_entrenamiento_y:')\n",
    "print(y_train.value_counts(normalize=True))\n",
    "\n",
    "print('Set_testeo_y:')\n",
    "print(y_test.value_counts(normalize=True))"
   ]
  },
  {
   "cell_type": "code",
   "execution_count": 36,
   "id": "d3526949",
   "metadata": {},
   "outputs": [],
   "source": [
    "scaler = StandardScaler()\n",
    "X_train_std = scaler.fit_transform(X_train)\n",
    "X_test_std = scaler.transform(X_test)"
   ]
  },
  {
   "cell_type": "markdown",
   "id": "975c1daa",
   "metadata": {},
   "source": [
    "<a id=\"metodo_entrenamiento\"></a> \n",
    "### 4.3 Selección del método de entrenamiento\n",
    "Escribir aquí...  **# TO-DO**"
   ]
  },
  {
   "cell_type": "markdown",
   "id": "50829eee",
   "metadata": {},
   "source": [
    "**4.3.1 Regresión Logística**"
   ]
  },
  {
   "cell_type": "code",
   "execution_count": 37,
   "id": "60f79812",
   "metadata": {},
   "outputs": [
    {
     "name": "stderr",
     "output_type": "stream",
     "text": [
      "C:\\Users\\ar037895\\Anaconda3\\envs\\dhdsblend2022\\lib\\site-packages\\sklearn\\linear_model\\_logistic.py:762: ConvergenceWarning: lbfgs failed to converge (status=1):\n",
      "STOP: TOTAL NO. of ITERATIONS REACHED LIMIT.\n",
      "\n",
      "Increase the number of iterations (max_iter) or scale the data as shown in:\n",
      "    https://scikit-learn.org/stable/modules/preprocessing.html\n",
      "Please also refer to the documentation for alternative solver options:\n",
      "    https://scikit-learn.org/stable/modules/linear_model.html#logistic-regression\n",
      "  n_iter_i = _check_optimize_result(\n"
     ]
    },
    {
     "data": {
      "text/plain": [
       "LogisticRegression()"
      ]
     },
     "execution_count": 37,
     "metadata": {},
     "output_type": "execute_result"
    }
   ],
   "source": [
    "lr = LogisticRegression()\n",
    "\n",
    "lr.fit(X_train_std, y_train)"
   ]
  },
  {
   "cell_type": "code",
   "execution_count": 38,
   "id": "e34ea5f6",
   "metadata": {},
   "outputs": [
    {
     "name": "stdout",
     "output_type": "stream",
     "text": [
      "[2.47223554]\n",
      "[[ 0.03856063  0.13453576  0.01625483 ... -0.1651102   0.13987685\n",
      "  -0.05606136]]\n"
     ]
    }
   ],
   "source": [
    "print(lr.intercept_)\n",
    "print(lr.coef_)"
   ]
  },
  {
   "cell_type": "code",
   "execution_count": 39,
   "id": "5e27f7b0",
   "metadata": {},
   "outputs": [],
   "source": [
    "y_pred = lr.predict_proba(X_test_std)"
   ]
  },
  {
   "cell_type": "code",
   "execution_count": 40,
   "id": "495a3665",
   "metadata": {},
   "outputs": [
    {
     "name": "stderr",
     "output_type": "stream",
     "text": [
      "C:\\Users\\ar037895\\Anaconda3\\envs\\dhdsblend2022\\lib\\site-packages\\sklearn\\utils\\validation.py:67: FutureWarning: Pass threshold=0.0 as keyword args. From version 0.25 passing these as positional arguments will result in an error\n",
      "  warnings.warn(\"Pass {} as keyword args. From version 0.25 \"\n",
      "C:\\Users\\ar037895\\Anaconda3\\envs\\dhdsblend2022\\lib\\site-packages\\sklearn\\utils\\validation.py:67: FutureWarning: Pass threshold=0.1 as keyword args. From version 0.25 passing these as positional arguments will result in an error\n",
      "  warnings.warn(\"Pass {} as keyword args. From version 0.25 \"\n",
      "C:\\Users\\ar037895\\Anaconda3\\envs\\dhdsblend2022\\lib\\site-packages\\sklearn\\utils\\validation.py:67: FutureWarning: Pass threshold=0.2 as keyword args. From version 0.25 passing these as positional arguments will result in an error\n",
      "  warnings.warn(\"Pass {} as keyword args. From version 0.25 \"\n",
      "C:\\Users\\ar037895\\Anaconda3\\envs\\dhdsblend2022\\lib\\site-packages\\sklearn\\utils\\validation.py:67: FutureWarning: Pass threshold=0.3 as keyword args. From version 0.25 passing these as positional arguments will result in an error\n",
      "  warnings.warn(\"Pass {} as keyword args. From version 0.25 \"\n",
      "C:\\Users\\ar037895\\Anaconda3\\envs\\dhdsblend2022\\lib\\site-packages\\sklearn\\utils\\validation.py:67: FutureWarning: Pass threshold=0.4 as keyword args. From version 0.25 passing these as positional arguments will result in an error\n",
      "  warnings.warn(\"Pass {} as keyword args. From version 0.25 \"\n",
      "C:\\Users\\ar037895\\Anaconda3\\envs\\dhdsblend2022\\lib\\site-packages\\sklearn\\utils\\validation.py:67: FutureWarning: Pass threshold=0.5 as keyword args. From version 0.25 passing these as positional arguments will result in an error\n",
      "  warnings.warn(\"Pass {} as keyword args. From version 0.25 \"\n",
      "C:\\Users\\ar037895\\Anaconda3\\envs\\dhdsblend2022\\lib\\site-packages\\sklearn\\utils\\validation.py:67: FutureWarning: Pass threshold=0.6 as keyword args. From version 0.25 passing these as positional arguments will result in an error\n",
      "  warnings.warn(\"Pass {} as keyword args. From version 0.25 \"\n",
      "C:\\Users\\ar037895\\Anaconda3\\envs\\dhdsblend2022\\lib\\site-packages\\sklearn\\utils\\validation.py:67: FutureWarning: Pass threshold=0.7 as keyword args. From version 0.25 passing these as positional arguments will result in an error\n",
      "  warnings.warn(\"Pass {} as keyword args. From version 0.25 \"\n",
      "C:\\Users\\ar037895\\Anaconda3\\envs\\dhdsblend2022\\lib\\site-packages\\sklearn\\utils\\validation.py:67: FutureWarning: Pass threshold=0.8 as keyword args. From version 0.25 passing these as positional arguments will result in an error\n",
      "  warnings.warn(\"Pass {} as keyword args. From version 0.25 \"\n",
      "C:\\Users\\ar037895\\Anaconda3\\envs\\dhdsblend2022\\lib\\site-packages\\sklearn\\utils\\validation.py:67: FutureWarning: Pass threshold=0.9 as keyword args. From version 0.25 passing these as positional arguments will result in an error\n",
      "  warnings.warn(\"Pass {} as keyword args. From version 0.25 \"\n",
      "C:\\Users\\ar037895\\Anaconda3\\envs\\dhdsblend2022\\lib\\site-packages\\sklearn\\utils\\validation.py:67: FutureWarning: Pass threshold=1 as keyword args. From version 0.25 passing these as positional arguments will result in an error\n",
      "  warnings.warn(\"Pass {} as keyword args. From version 0.25 \"\n"
     ]
    },
    {
     "data": {
      "text/plain": [
       "'y_pred_00 = binarize(y_pred, 0.0)[:,1]\\ny_pred_01 = binarize(y_pred, 0.1)[:,1]\\ny_pred_02 = binarize(y_pred, 0.2)[:,1]\\ny_pred_03 = binarize(y_pred, 0.3)[:,1]\\ny_pred_04 = binarize(y_pred, 0.4)[:,1]\\ny_pred_05 = binarize(y_pred, 0.5)[:,1]\\ny_pred_06 = binarize(y_pred, 0.6)[:,1]\\ny_pred_07 = binarize(y_pred, 0.7)[:,1]\\ny_pred_08 = binarize(y_pred, 0.8)[:,1]\\ny_pred_09 = binarize(y_pred, 0.9)[:,1]\\ny_pred_10 = binarize(y_pred, 1)[:,1]'"
      ]
     },
     "execution_count": 40,
     "metadata": {},
     "output_type": "execute_result"
    }
   ],
   "source": [
    "thr_num = [0.0,0.1,0.2,0.3,0.4,0.5,0.6,0.7,0.8,0.9,1]\n",
    "y_pred_list_lr = []\n",
    "for i in thr_num:\n",
    "    y_pred_list_lr.append(binarize(y_pred, i)[:,1])\n",
    "\"\"\"y_pred_00 = binarize(y_pred, 0.0)[:,1]\n",
    "y_pred_01 = binarize(y_pred, 0.1)[:,1]\n",
    "y_pred_02 = binarize(y_pred, 0.2)[:,1]\n",
    "y_pred_03 = binarize(y_pred, 0.3)[:,1]\n",
    "y_pred_04 = binarize(y_pred, 0.4)[:,1]\n",
    "y_pred_05 = binarize(y_pred, 0.5)[:,1]\n",
    "y_pred_06 = binarize(y_pred, 0.6)[:,1]\n",
    "y_pred_07 = binarize(y_pred, 0.7)[:,1]\n",
    "y_pred_08 = binarize(y_pred, 0.8)[:,1]\n",
    "y_pred_09 = binarize(y_pred, 0.9)[:,1]\n",
    "y_pred_10 = binarize(y_pred, 1)[:,1]\"\"\""
   ]
  },
  {
   "cell_type": "markdown",
   "id": "b0fc2548",
   "metadata": {},
   "source": [
    "**4.3.2 Neives-Bayes Gausiano**"
   ]
  },
  {
   "cell_type": "code",
   "execution_count": 41,
   "id": "2f98ebf9",
   "metadata": {},
   "outputs": [],
   "source": [
    "# TO-DO Agus"
   ]
  },
  {
   "cell_type": "markdown",
   "id": "e45002a2",
   "metadata": {},
   "source": [
    "**4.3.3 K-Nearest Neighbors**"
   ]
  },
  {
   "cell_type": "code",
   "execution_count": 42,
   "id": "364d45e5",
   "metadata": {},
   "outputs": [],
   "source": [
    "# TO-DO Eze"
   ]
  },
  {
   "cell_type": "markdown",
   "id": "10d1c1a7",
   "metadata": {},
   "source": [
    "<a id=\"evaluacion_modelos\"></a>\n",
    "## 5. Evaluación de los Modelos\n",
    "---"
   ]
  },
  {
   "cell_type": "markdown",
   "id": "f6966776",
   "metadata": {},
   "source": [
    "Apartir de las diferentes metodologías y modelos predictivos, que parten de un misimo DataSet. Comenzaremos a realizar las evaluaciones de cada uno y el rendimiento que tienen. Analizando los hiperparamtetros y seleccionando el óptimo para cada condición."
   ]
  },
  {
   "cell_type": "markdown",
   "id": "b0fc51ce",
   "metadata": {},
   "source": [
    "<a id=\"section_matriz_confusion_code\"></a> \n",
    "### 5.1 Métricas: Matriz de confusión"
   ]
  },
  {
   "cell_type": "markdown",
   "id": "71312813",
   "metadata": {},
   "source": [
    "**Regresión Logística**"
   ]
  },
  {
   "cell_type": "code",
   "execution_count": 43,
   "id": "f51edacd",
   "metadata": {},
   "outputs": [
    {
     "data": {
      "text/plain": [
       "Text(50.722222222222214, 0.5, 'Reales')"
      ]
     },
     "execution_count": 43,
     "metadata": {},
     "output_type": "execute_result"
    },
    {
     "data": {
      "image/png": "[encoded data removed]",
      "text/plain": [
       "<Figure size 640x480 with 2 Axes>"
      ]
     },
     "metadata": {},
     "output_type": "display_data"
    }
   ],
   "source": [
    "cm_lr = []\n",
    "\n",
    "for i in range(0,11):\n",
    "    cm_lr.append(confusion_matrix(y_test, y_pred_list_lr[i]))\n",
    "\n",
    "sns.heatmap(cm_lr[2], annot=True, fmt='.0f')\n",
    "plt.title('Matriz de Confusión')\n",
    "plt.xlabel('Predichos')\n",
    "plt.ylabel('Reales')"
   ]
  },
  {
   "cell_type": "markdown",
   "id": "59f0456d",
   "metadata": {},
   "source": [
    "**Neives-Bayes Gausiano**"
   ]
  },
  {
   "cell_type": "code",
   "execution_count": 44,
   "id": "e14d1636",
   "metadata": {},
   "outputs": [],
   "source": [
    "# TO-DO"
   ]
  },
  {
   "cell_type": "markdown",
   "id": "c8ac5bf3",
   "metadata": {},
   "source": [
    "**K-Nearest Neighbors**"
   ]
  },
  {
   "cell_type": "code",
   "execution_count": 45,
   "id": "14ee248a",
   "metadata": {},
   "outputs": [],
   "source": [
    "# TO-DO"
   ]
  },
  {
   "cell_type": "markdown",
   "id": "94cd6643",
   "metadata": {},
   "source": [
    "<a id=\"section_accuracy\"></a> \n",
    "### 5.2 Métricas: Accuracy"
   ]
  },
  {
   "cell_type": "markdown",
   "id": "395582c0",
   "metadata": {},
   "source": [
    "**Regresión Logística**"
   ]
  },
  {
   "cell_type": "code",
   "execution_count": 46,
   "id": "a367ab46",
   "metadata": {},
   "outputs": [
    {
     "name": "stdout",
     "output_type": "stream",
     "text": [
      "Accuaracy de la Regresión Logística:\n",
      "==================================================\n",
      "Accuaracy thr=0.0 = 78.7 %\n",
      "Accuaracy thr=0.1 = 78.9 %\n",
      "Accuaracy thr=0.2 = 79.0 %\n",
      "Accuaracy thr=0.3 = 78.7 %\n",
      "Accuaracy thr=0.4 = 78.4 %\n",
      "Accuaracy thr=0.5 = 77.7 %\n",
      "Accuaracy thr=0.6 = 75.9 %\n",
      "Accuaracy thr=0.7 = 73.2 %\n",
      "Accuaracy thr=0.8 = 63.6 %\n",
      "Accuaracy thr=0.9 = 50.8 %\n"
     ]
    }
   ],
   "source": [
    "acc_lr = []\n",
    "print(f'Accuaracy de la Regresión Logística:')\n",
    "print('==================================================')\n",
    "for i in range(0,10):\n",
    "    acc_lr.append(accuracy_score(y_test, y_pred_list_lr[i]))\n",
    "    print(f'Accuaracy thr=0.{i} = {round(acc_lr[i],3)*100} %')"
   ]
  },
  {
   "cell_type": "markdown",
   "id": "4dc068c5",
   "metadata": {},
   "source": [
    "**Neives-Bayes Gausiano**"
   ]
  },
  {
   "cell_type": "code",
   "execution_count": 47,
   "id": "9172d2f4",
   "metadata": {},
   "outputs": [],
   "source": [
    "# TO-DO"
   ]
  },
  {
   "cell_type": "markdown",
   "id": "7e408e17",
   "metadata": {},
   "source": [
    "**K-Nearest Neighbors**"
   ]
  },
  {
   "cell_type": "code",
   "execution_count": 48,
   "id": "848f1b39",
   "metadata": {},
   "outputs": [],
   "source": [
    "# TO-DO"
   ]
  },
  {
   "cell_type": "markdown",
   "id": "f7540833",
   "metadata": {},
   "source": [
    "<a id=\"section_error\"></a> \n",
    "### 5.3 Métricas: Error de Clasificación"
   ]
  },
  {
   "cell_type": "markdown",
   "id": "62ffe8af",
   "metadata": {},
   "source": [
    "**Regresión Logística**"
   ]
  },
  {
   "cell_type": "code",
   "execution_count": 49,
   "id": "8cb70fba",
   "metadata": {},
   "outputs": [
    {
     "name": "stdout",
     "output_type": "stream",
     "text": [
      "Error de Clasificación de la Regresión Logística:\n",
      "==================================================\n",
      "Error de clasificación thr=0.0 = 21.0 %\n",
      "Error de clasificación thr=0.1 = 21.0 %\n",
      "Error de clasificación thr=0.2 = 21.0 %\n",
      "Error de clasificación thr=0.3 = 21.0 %\n",
      "Error de clasificación thr=0.4 = 22.0 %\n",
      "Error de clasificación thr=0.5 = 22.0 %\n",
      "Error de clasificación thr=0.6 = 24.0 %\n",
      "Error de clasificación thr=0.7 = 27.0 %\n",
      "Error de clasificación thr=0.8 = 36.0 %\n",
      "Error de clasificación thr=0.9 = 49.0 %\n"
     ]
    }
   ],
   "source": [
    "error_clasificación_lr = []\n",
    "print(f'Error de Clasificación de la Regresión Logística:')\n",
    "print('==================================================')\n",
    "for i in range(0,10):\n",
    "    error_clasificación_lr.append(1 - acc_lr[i])\n",
    "    print(f'Error de clasificación thr=0.{i} = {round(error_clasificación_lr[i],2)*100} %')"
   ]
  },
  {
   "cell_type": "markdown",
   "id": "501fdf63",
   "metadata": {},
   "source": [
    "**Neives-Bayes Gausiano**"
   ]
  },
  {
   "cell_type": "code",
   "execution_count": 50,
   "id": "99644d20",
   "metadata": {},
   "outputs": [],
   "source": [
    "# TO-DO"
   ]
  },
  {
   "cell_type": "markdown",
   "id": "2113cd55",
   "metadata": {},
   "source": [
    "**K-Nearest Neighbors**"
   ]
  },
  {
   "cell_type": "code",
   "execution_count": 51,
   "id": "1dbf8fc0",
   "metadata": {},
   "outputs": [],
   "source": [
    "# TO-DO"
   ]
  },
  {
   "cell_type": "markdown",
   "id": "391c54f5",
   "metadata": {},
   "source": [
    "<a id=\"section_recall\"></a> \n",
    "### 5.4 Métricas: Sensitivity (o recall)"
   ]
  },
  {
   "cell_type": "markdown",
   "id": "e752095c",
   "metadata": {},
   "source": [
    "**Regresión Logística**"
   ]
  },
  {
   "cell_type": "code",
   "execution_count": 52,
   "id": "55f1f849",
   "metadata": {},
   "outputs": [
    {
     "name": "stdout",
     "output_type": "stream",
     "text": [
      "Recall de la Regresión Logística:\n",
      "==================================================\n",
      "Recall thr=0.0 = 100.0 %\n",
      "Recall thr=0.1 = 98.81 %\n",
      "Recall thr=0.2 = 98.5 %\n",
      "Recall thr=0.3 = 97.88 %\n",
      "Recall thr=0.4 = 96.8 %\n",
      "Recall thr=0.5 = 94.31 %\n",
      "Recall thr=0.6 = 88.56 %\n",
      "Recall thr=0.7 = 82.16 %\n",
      "Recall thr=0.8 = 62.22 %\n",
      "Recall thr=0.9 = 42.370000000000005 %\n"
     ]
    }
   ],
   "source": [
    "recall_lr = []\n",
    "print(f'Recall de la Regresión Logística:')\n",
    "print('==================================================')\n",
    "for i in range(0,10):\n",
    "    recall_lr.append(recall_score(y_test, y_pred_list_lr[i]))\n",
    "    print(f'Recall thr=0.{i} = {round(recall_lr[i],4)*100} %')"
   ]
  },
  {
   "cell_type": "markdown",
   "id": "b9236159",
   "metadata": {},
   "source": [
    "**Neives-Bayes Gausiano**"
   ]
  },
  {
   "cell_type": "code",
   "execution_count": 53,
   "id": "dfc7bef0",
   "metadata": {},
   "outputs": [],
   "source": [
    "# TO-DO"
   ]
  },
  {
   "cell_type": "markdown",
   "id": "334ebf69",
   "metadata": {},
   "source": [
    "**K-Nearest Neighbors**"
   ]
  },
  {
   "cell_type": "code",
   "execution_count": 54,
   "id": "64d0fa4a",
   "metadata": {},
   "outputs": [],
   "source": [
    "# TO-DO"
   ]
  },
  {
   "cell_type": "markdown",
   "id": "15e4c829",
   "metadata": {},
   "source": [
    "<a id=\"section_specificity\"></a> \n",
    "### 5.5 Métricas: Specificity"
   ]
  },
  {
   "cell_type": "markdown",
   "id": "dc10905a",
   "metadata": {},
   "source": [
    "**Regresión Logística**"
   ]
  },
  {
   "cell_type": "code",
   "execution_count": 55,
   "id": "71c7d729",
   "metadata": {},
   "outputs": [
    {
     "name": "stdout",
     "output_type": "stream",
     "text": [
      "Specificity de la Regresión Logística:\n",
      "==================================================\n",
      "Specificity thr=0.0 = 0.0 %\n",
      "Specificity thr=0.1 = 5.5 %\n",
      "Specificity thr=0.2 = 6.800000000000001 %\n",
      "Specificity thr=0.3 = 7.9 %\n",
      "Specificity thr=0.4 = 10.4 %\n",
      "Specificity thr=0.5 = 16.400000000000002 %\n",
      "Specificity thr=0.6 = 29.2 %\n",
      "Specificity thr=0.7 = 40.1 %\n",
      "Specificity thr=0.8 = 68.5 %\n",
      "Specificity thr=0.9 = 82.0 %\n"
     ]
    }
   ],
   "source": [
    "specificity_lr = []\n",
    "print(f'Specificity de la Regresión Logística:')\n",
    "print('==================================================')\n",
    "for i in range(0,10):\n",
    "\n",
    "    TP = cm_lr[i][1, 1]\n",
    "    TN = cm_lr[i][0, 0]\n",
    "    FP = cm_lr[i][0, 1]\n",
    "    FN = cm_lr[i][1, 0]\n",
    "\n",
    "    specificity_lr.append(TN / (TN + FP))\n",
    "    print(f'Specificity thr=0.{i} = {round(specificity_lr[i],3)*100} %')"
   ]
  },
  {
   "cell_type": "markdown",
   "id": "d5e59780",
   "metadata": {},
   "source": [
    "**Neives-Bayes Gausiano**"
   ]
  },
  {
   "cell_type": "code",
   "execution_count": 56,
   "id": "58ae6a74",
   "metadata": {},
   "outputs": [],
   "source": [
    "# TO-DO"
   ]
  },
  {
   "cell_type": "markdown",
   "id": "aabcece5",
   "metadata": {},
   "source": [
    "**K-Nearest Neighbors**"
   ]
  },
  {
   "cell_type": "code",
   "execution_count": 57,
   "id": "67782ec7",
   "metadata": {},
   "outputs": [],
   "source": [
    "# TO-DO"
   ]
  },
  {
   "cell_type": "markdown",
   "id": "a818644a",
   "metadata": {},
   "source": [
    "<a id=\"section_precision\"></a> \n",
    "### 5.6 Métricas: Precision"
   ]
  },
  {
   "cell_type": "markdown",
   "id": "3c4ba0cc",
   "metadata": {},
   "source": [
    "**Regresión Logística**"
   ]
  },
  {
   "cell_type": "code",
   "execution_count": 58,
   "id": "1a0d8a4a",
   "metadata": {},
   "outputs": [
    {
     "name": "stdout",
     "output_type": "stream",
     "text": [
      "Precisión de la Regresión Logística:\n",
      "==================================================\n",
      "Precisión thr=0.0 = 78.7 %\n",
      "Precisión thr=0.1 = 79.4 %\n",
      "Precisión thr=0.2 = 79.60000000000001 %\n",
      "Precisión thr=0.3 = 79.7 %\n",
      "Precisión thr=0.4 = 80.0 %\n",
      "Precisión thr=0.5 = 80.60000000000001 %\n",
      "Precisión thr=0.6 = 82.19999999999999 %\n",
      "Precisión thr=0.7 = 83.5 %\n",
      "Precisión thr=0.8 = 88.0 %\n",
      "Precisión thr=0.9 = 89.7 %\n"
     ]
    }
   ],
   "source": [
    "precision_lr = []\n",
    "print(f'Precisión de la Regresión Logística:')\n",
    "print('==================================================')\n",
    "for i in range(0,10):\n",
    "    precision_lr.append(precision_score(y_test, y_pred_list_lr[i]))\n",
    "    print(f'Precisión thr=0.{i} = {round(precision_lr[i],3)*100} %')"
   ]
  },
  {
   "cell_type": "markdown",
   "id": "4568ccc4",
   "metadata": {},
   "source": [
    "**Neives-Bayes Gausiano**"
   ]
  },
  {
   "cell_type": "code",
   "execution_count": 59,
   "id": "7433d3d7",
   "metadata": {},
   "outputs": [],
   "source": [
    "# TO-DO"
   ]
  },
  {
   "cell_type": "markdown",
   "id": "3a651392",
   "metadata": {},
   "source": [
    "**K-Nearest Neighbors**"
   ]
  },
  {
   "cell_type": "code",
   "execution_count": 60,
   "id": "1cf3e22d",
   "metadata": {},
   "outputs": [],
   "source": [
    "# TO-DO"
   ]
  },
  {
   "cell_type": "markdown",
   "id": "26b33d4a",
   "metadata": {},
   "source": [
    "<a id=\"section_fpr\"></a> \n",
    "### 5.7 Métricas: False positive rate (FPR)"
   ]
  },
  {
   "cell_type": "markdown",
   "id": "95b99f88",
   "metadata": {},
   "source": [
    "**Regresión Logística**"
   ]
  },
  {
   "cell_type": "code",
   "execution_count": 61,
   "id": "5d22b861",
   "metadata": {},
   "outputs": [
    {
     "name": "stdout",
     "output_type": "stream",
     "text": [
      "FPR de la Regresión Logística:\n",
      "==================================================\n",
      "FPR thr=0.0 = 100.0 %\n",
      "FPR thr=0.1 = 94.46 %\n",
      "FPR thr=0.2 = 93.2 %\n",
      "FPR thr=0.3 = 92.05 %\n",
      "FPR thr=0.4 = 89.64 %\n",
      "FPR thr=0.5 = 83.58 %\n",
      "FPR thr=0.6 = 70.82000000000001 %\n",
      "FPR thr=0.7 = 59.940000000000005 %\n",
      "FPR thr=0.8 = 31.490000000000002 %\n",
      "FPR thr=0.9 = 17.990000000000002 %\n"
     ]
    }
   ],
   "source": [
    "false_positive_lr = []\n",
    "print(f'FPR de la Regresión Logística:')\n",
    "print('==================================================')\n",
    "for i in range(0,10):\n",
    "    false_positive_lr.append(1 - specificity_lr[i])\n",
    "    print(f'FPR thr=0.{i} = {round(false_positive_lr[i],4)*100} %')"
   ]
  },
  {
   "cell_type": "markdown",
   "id": "db61acd8",
   "metadata": {},
   "source": [
    "**Neives-Bayes Gausiano**"
   ]
  },
  {
   "cell_type": "code",
   "execution_count": 62,
   "id": "83e5d016",
   "metadata": {},
   "outputs": [],
   "source": [
    "# TO-DO"
   ]
  },
  {
   "cell_type": "markdown",
   "id": "d39b4f6b",
   "metadata": {},
   "source": [
    "**K-Nearest Neighbors**"
   ]
  },
  {
   "cell_type": "code",
   "execution_count": 63,
   "id": "e354054c",
   "metadata": {},
   "outputs": [],
   "source": [
    "# TO-DO"
   ]
  },
  {
   "cell_type": "markdown",
   "id": "3d6c9461",
   "metadata": {},
   "source": [
    "<a id=\"section_f1_score\"></a> \n",
    "### 5.8 Métricas: F1-Score"
   ]
  },
  {
   "cell_type": "markdown",
   "id": "10965112",
   "metadata": {},
   "source": [
    "**Regresión Logística**"
   ]
  },
  {
   "cell_type": "code",
   "execution_count": 64,
   "id": "60d06235",
   "metadata": {},
   "outputs": [
    {
     "name": "stdout",
     "output_type": "stream",
     "text": [
      "F1-Score de la Regresión Logística:\n",
      "==================================================\n",
      "F1-Score thr=0.0 = 88.08 %\n",
      "F1-Score thr=0.1 = 88.07000000000001 %\n",
      "F1-Score thr=0.2 = 88.05 %\n",
      "F1-Score thr=0.3 = 87.86 %\n",
      "F1-Score thr=0.4 = 87.57000000000001 %\n",
      "F1-Score thr=0.5 = 86.95 %\n",
      "F1-Score thr=0.6 = 85.26 %\n",
      "F1-Score thr=0.7 = 82.83 %\n",
      "F1-Score thr=0.8 = 72.88 %\n",
      "F1-Score thr=0.9 = 57.550000000000004 %\n"
     ]
    }
   ],
   "source": [
    "f1_score_lr = []\n",
    "print(f'F1-Score de la Regresión Logística:')\n",
    "print('==================================================')\n",
    "for i in range(0,10):\n",
    "    f1_score_lr.append(f1_score(y_test, y_pred_list_lr[i]))\n",
    "    print(f'F1-Score thr=0.{i} = {round(f1_score_lr[i],4)*100} %')"
   ]
  },
  {
   "cell_type": "markdown",
   "id": "05bfdc12",
   "metadata": {},
   "source": [
    "**Neives-Bayes Gausiano**"
   ]
  },
  {
   "cell_type": "code",
   "execution_count": 65,
   "id": "f921101a",
   "metadata": {},
   "outputs": [],
   "source": [
    "# TO-DO"
   ]
  },
  {
   "cell_type": "markdown",
   "id": "23b1fd7e",
   "metadata": {},
   "source": [
    "**K-Nearest Neighbors**"
   ]
  },
  {
   "cell_type": "code",
   "execution_count": 66,
   "id": "cce6f9ad",
   "metadata": {},
   "outputs": [],
   "source": [
    "# TO-DO"
   ]
  },
  {
   "cell_type": "markdown",
   "id": "1b058812",
   "metadata": {},
   "source": [
    "<a id=\"section_curva_roc\"></a> \n",
    "## 6. Curva ROC\n",
    "---"
   ]
  },
  {
   "cell_type": "code",
   "execution_count": 67,
   "id": "decd2695",
   "metadata": {},
   "outputs": [],
   "source": [
    "# TO-DO"
   ]
  },
  {
   "cell_type": "markdown",
   "id": "bb3064a5",
   "metadata": {},
   "source": [
    "<a id=\"section_umbrales\"></a> \n",
    "### 6.1 Ajustando los umbrales"
   ]
  },
  {
   "cell_type": "code",
   "execution_count": 68,
   "id": "2ae3cbca",
   "metadata": {},
   "outputs": [],
   "source": [
    "fpr_log, tpr_log, thr_log = roc_curve(y_test, y_pred[:,1])"
   ]
  },
  {
   "cell_type": "markdown",
   "id": "f1a50836",
   "metadata": {},
   "source": [
    "<a id=\"section_imp_croc\"></a> \n",
    "### 6.2 Implementación Curva ROC y AUC"
   ]
  },
  {
   "cell_type": "code",
   "execution_count": 69,
   "id": "3dc4eba6",
   "metadata": {},
   "outputs": [
    {
     "name": "stdout",
     "output_type": "stream",
     "text": [
      "AUC de la Regresión Logística:\n",
      "==================================================\n",
      "AUC = 0.6885\n"
     ]
    },
    {
     "data": {
      "image/png": "[encoded data removed]",
      "text/plain": [
       "<Figure size 640x480 with 1 Axes>"
      ]
     },
     "metadata": {},
     "output_type": "display_data"
    }
   ],
   "source": [
    "roc_curve_df_lr = pd.DataFrame(dict(fpr=fpr_log, tpr=tpr_log, thr=thr_log))\n",
    "plt.axis([0, 1.01, 0, 1.01])\n",
    "plt.xlabel('1 - Specificty')\n",
    "plt.ylabel('TPR / Sensitivity')\n",
    "plt.title('ROC Curve')\n",
    "plt.plot(roc_curve_df_lr['fpr'],roc_curve_df_lr['tpr'])\n",
    "\n",
    "print(f'AUC de la Regresión Logística:')\n",
    "print('==================================================')\n",
    "auc_score = auc(fpr_log, tpr_log)\n",
    "print(f'AUC = {round(auc_score,4)}')\n",
    "# TO-DO ROC y AUC para KNN y NB"
   ]
  },
  {
   "cell_type": "markdown",
   "id": "500d50b5",
   "metadata": {},
   "source": [
    "<a id=\"conclusiones\"></a> \n",
    "## 7. Conclusiones\n",
    "---"
   ]
  },
  {
   "cell_type": "code",
   "execution_count": 70,
   "id": "e5ad6a4b",
   "metadata": {},
   "outputs": [],
   "source": [
    "# TO-DO"
   ]
  },
  {
   "cell_type": "code",
   "execution_count": 71,
   "id": "817013fd",
   "metadata": {},
   "outputs": [],
   "source": [
    "clf_tree_gini = tree.DecisionTreeClassifier(criterion='gini')"
   ]
  },
  {
   "cell_type": "code",
   "execution_count": 72,
   "id": "3b5f2693",
   "metadata": {},
   "outputs": [
    {
     "data": {
      "text/plain": [
       "DecisionTreeClassifier()"
      ]
     },
     "execution_count": 72,
     "metadata": {},
     "output_type": "execute_result"
    }
   ],
   "source": [
    "clf_tree_gini.fit(X_train_std, y_train)"
   ]
  },
  {
   "cell_type": "code",
   "execution_count": 73,
   "id": "aae39c13",
   "metadata": {},
   "outputs": [],
   "source": [
    "y_pred_tree_gini = clf_tree_gini.predict(X_test_std)"
   ]
  },
  {
   "cell_type": "code",
   "execution_count": 74,
   "id": "4ff496cc",
   "metadata": {},
   "outputs": [
    {
     "data": {
      "text/plain": [
       "array([[ 587,  369],\n",
       "       [ 321, 3210]], dtype=int64)"
      ]
     },
     "execution_count": 74,
     "metadata": {},
     "output_type": "execute_result"
    }
   ],
   "source": [
    "confusion_matrix(y_test, y_pred_tree_gini)"
   ]
  },
  {
   "cell_type": "code",
   "execution_count": 75,
   "id": "16c3bbb0",
   "metadata": {},
   "outputs": [
    {
     "data": {
      "text/plain": [
       "0.8462224203253844"
      ]
     },
     "execution_count": 75,
     "metadata": {},
     "output_type": "execute_result"
    }
   ],
   "source": [
    "accuracy_score(y_test, y_pred_tree_gini)"
   ]
  }
 ],
 "metadata": {
  "kernelspec": {
   "display_name": "Python [conda env:dhdsblend2022] *",
   "language": "python",
   "name": "conda-env-dhdsblend2022-py"
  },
  "language_info": {
   "codemirror_mode": {
    "name": "ipython",
    "version": 3
   },
   "file_extension": ".py",
   "mimetype": "text/x-python",
   "name": "python",
   "nbconvert_exporter": "python",
   "pygments_lexer": "ipython3",
   "version": "3.8.15"
  }
 },
 "nbformat": 4,
 "nbformat_minor": 5
}
