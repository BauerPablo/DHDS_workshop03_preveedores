{
 "cells": [
  {
   "cell_type": "markdown",
   "id": "c5f09d23",
   "metadata": {},
   "source": [
    "![title](../common/logo_DH.png)\n",
    "\n",
    "# WORKSHOP 3\n",
    "---\n",
    "## GRUPO 8\n",
    "\n",
    "Integrantes:\n",
    "- Agustín García \n",
    "- Javier Vázquez\n",
    "- Florencia Mosconi\n",
    "- Ezequiel López Mondo \n",
    "- Pablo Bauer \n",
    "- Alejandro Hernández"
   ]
  },
  {
   "cell_type": "markdown",
   "id": "506bc786",
   "metadata": {},
   "source": [
    "<a id=\"tabla_contenidos\"></a> \n",
    "## Tabla de Contenidos\n",
    "\n",
    "### <a href='#section_repaso'>1. Introducción</a>\n",
    "- #### <a href='#explicacion_dataset'>1.1 Presentación del caso</a>\n",
    "- #### <a href='#metodologia'>1.2 La metodología de trabajo</a>\n",
    "\n",
    "### <a href='#section_import_lib'>2. Importación de librerías para casos de Clasificación</a>\n",
    "\n",
    "\n",
    "### <a href='#importar_dataset'>3. Importando el DataSet</a> \n",
    "- #### <a href='#imputacion'>3.1 Imputación de datos</a>\n",
    "\n",
    "### <a  href='#preparacion_entrenamiento'>4. Preparación y Entrenamiento del DataSet</a>\n",
    "- #### <a href='#features'>4.1 Features y dummies</a>\n",
    "- #### <a href='#split'>4.2 Split del set de entrenamiento</a>\n",
    "- #### <a href='#metodo_entrenamiento'>4.3 Selección del método de entrenamiento</a>\n",
    "\n",
    "### <a  href='#evaluacion_modelos'>5. Evaluación de los Modelos</a>\n",
    "- #### <a href='#section_matriz_confusion_code'>5.1 Métricas: Matriz de confusión</a>\n",
    "- #### <a href='#section_accuracy'>5.2 Métricas: Accuracy</a>\n",
    "- #### <a href='#section_error'>5.3 Métricas: Error de Clasificación</a>\n",
    "- #### <a href='#section_recall'>5.4 Métricas: Sensitivity (o recall)</a>\n",
    "- #### <a href='#section_specificity'>5.5 Métricas: Specificity</a>\n",
    "- #### <a href='#section_precision'>5.6 Métricas: Precision</a>\n",
    "- #### <a href='#section_fpr'>5.7 Métricas: False positive rate (FPR)</a>\n",
    "- #### <a href='#section_f1_score'>5.8 Métricas: F1-Score</a>\n",
    "\n",
    "### <a href='#section_curva_roc'>6. Curva ROC</a>\n",
    "- #### <a href='#section_umbrales'>6.1 Ajustando los umbrales</a>\n",
    "- #### <a href='#section_imp_croc'>6.2 Implementación Curva ROC y AUC</a>\n",
    "\n",
    "### <a href='#conclusiones'>7. Conclusuiones</a>\n",
    "---"
   ]
  },
  {
   "cell_type": "markdown",
   "id": "3b7ef3f8",
   "metadata": {},
   "source": [
    "<a id=\"section_repaso\"></a> \n",
    "## 1. Introducción\n",
    "---"
   ]
  },
  {
   "cell_type": "markdown",
   "id": "4b9a95f5",
   "metadata": {},
   "source": [
    "<a id=\"explicacion_dataset\"></a> \n",
    "### 1.1 Presentación del caso\n",
    "Aerolineas Argentinas SA, nos ha proporcionado una base de datos de los provedores del Laboratorio de Calibraciones que se encuentra en Ezeiza.\n",
    "\n",
    "Este laboratorio se encarga en poner en condición serviciable todas las herramientas metrologadas, para el uso en la reparación de las aeronaves. Tiene un flujo de herraminetas interno y un flujo de herraminetas que se calibran en laboratorios externos.\n",
    "\n",
    "Este entrenamiento y evaluación de los datos, pretende determinar y clasificar a los provedores que van a entregar en tiempo y forma las herramientas. El tiempo de calibración que nos proponen, es que las herramientas están dentro de los plazos permitidos de 2 meses como máximo. El retorno de una herramienta que supere este límite es antieconómica, ya que los períodos de calibraciones son de 1 año, y cuanto más tarden en retornar, menos tiempo tiene para su uso operativo.\n",
    "\n",
    "<a id=\"metodologia\"></a> \n",
    "### 1.2 La metodología de trabajo\n",
    "Se hará una imputación y limpieza de los datos. Una vez realizado eso, se utilizarán diferentes métodos de clasificación, para comparar los resultados y decidirse por el mejor método para clasificar.\n"
   ]
  },
  {
   "cell_type": "markdown",
   "id": "dcf08362",
   "metadata": {},
   "source": [
    "<a id=\"section_import_lib\"></a>\n",
    "## 2. Importación de librerías para casos de Clasificación\n",
    "---"
   ]
  },
  {
   "cell_type": "markdown",
   "id": "56bed086",
   "metadata": {},
   "source": [
    "Comenzamos importando las librerías y dependencias que utilizaremos a lo largo del trabajo."
   ]
  },
  {
   "cell_type": "code",
   "execution_count": 202,
   "id": "c2b5ee4a",
   "metadata": {},
   "outputs": [],
   "source": [
    "from sklearn import preprocessing\n",
    "from sklearn.model_selection import train_test_split\n",
    "from sklearn.datasets import make_classification\n",
    "from sklearn.linear_model import LogisticRegressionCV,  LogisticRegression\n",
    "from sklearn.preprocessing import StandardScaler, binarize\n",
    "from sklearn.metrics import accuracy_score, confusion_matrix, recall_score, precision_score, f1_score, roc_curve, auc, classification_report\n",
    "from sklearn import tree\n",
    "\n",
    "import matplotlib.pyplot as plt\n",
    "import seaborn as sns\n",
    "import pandas as pd\n",
    "import numpy as np"
   ]
  },
  {
   "cell_type": "markdown",
   "id": "9340a1f7",
   "metadata": {},
   "source": [
    "<a id=\"importar_dataset\"></a>\n",
    "## 3. Importando el DataSet\n",
    "---"
   ]
  },
  {
   "cell_type": "code",
   "execution_count": 2,
   "id": "d4137e70",
   "metadata": {},
   "outputs": [
    {
     "name": "stderr",
     "output_type": "stream",
     "text": [
      "C:\\Users\\ar037895\\Anaconda3\\envs\\dhdsblend2022\\lib\\site-packages\\IPython\\core\\interactiveshell.py:3194: DtypeWarning: Columns (70) have mixed types.Specify dtype option on import or set low_memory=False.\n",
      "  has_raised = await self.run_ast_nodes(code_ast.body, cell_name,\n"
     ]
    }
   ],
   "source": [
    "ruta_tat = '../data/VENDROS_TAT.csv'\n",
    "ruta_vendors = '../data/VENDORS_NAMES_metrics.csv'\n",
    "\n",
    "data_tat = pd.read_csv(ruta_tat, encoding='UTF-8', sep=',')\n",
    "data_vendors = pd.read_csv(ruta_vendors, encoding='UTF-8', sep=',')"
   ]
  },
  {
   "cell_type": "markdown",
   "id": "8d32f7e0",
   "metadata": {},
   "source": [
    "Visalizamos el DataSet para identificar las columnas y los valores que necesitamos."
   ]
  },
  {
   "cell_type": "code",
   "execution_count": 3,
   "id": "d4d4d6ad",
   "metadata": {},
   "outputs": [
    {
     "data": {
      "text/html": [
       "<div>\n",
       "<style scoped>\n",
       "    .dataframe tbody tr th:only-of-type {\n",
       "        vertical-align: middle;\n",
       "    }\n",
       "\n",
       "    .dataframe tbody tr th {\n",
       "        vertical-align: top;\n",
       "    }\n",
       "\n",
       "    .dataframe thead th {\n",
       "        text-align: right;\n",
       "    }\n",
       "</style>\n",
       "<table border=\"1\" class=\"dataframe\">\n",
       "  <thead>\n",
       "    <tr style=\"text-align: right;\">\n",
       "      <th></th>\n",
       "      <th>TAT</th>\n",
       "      <th>TAT7</th>\n",
       "      <th>TAT6</th>\n",
       "      <th>TAT5</th>\n",
       "      <th>TAT4</th>\n",
       "      <th>TAT3</th>\n",
       "      <th>TAT2</th>\n",
       "      <th>TAT1</th>\n",
       "      <th>order_number_id</th>\n",
       "      <th>order_number</th>\n",
       "      <th>...</th>\n",
       "      <th>EIN_arrival_date</th>\n",
       "      <th>EIN_arrival_date_tz</th>\n",
       "      <th>EIN_part_tool</th>\n",
       "      <th>EIN_created_date</th>\n",
       "      <th>EIN_created_date_tz</th>\n",
       "      <th>EIN_airway_bill_date</th>\n",
       "      <th>EIN_airway_bill_date_tz</th>\n",
       "      <th>new_PARTNO</th>\n",
       "      <th>new_DESCRIPTION</th>\n",
       "      <th>new_STATUS</th>\n",
       "    </tr>\n",
       "  </thead>\n",
       "  <tbody>\n",
       "    <tr>\n",
       "      <th>11137</th>\n",
       "      <td>59.0</td>\n",
       "      <td>NaN</td>\n",
       "      <td>NaN</td>\n",
       "      <td>10.0</td>\n",
       "      <td>10.0</td>\n",
       "      <td>59.0</td>\n",
       "      <td>57.0</td>\n",
       "      <td>0.0</td>\n",
       "      <td>194748</td>\n",
       "      <td>R1021622</td>\n",
       "      <td>...</td>\n",
       "      <td>NaN</td>\n",
       "      <td>NaN</td>\n",
       "      <td>NaN</td>\n",
       "      <td>NaN</td>\n",
       "      <td>NaN</td>\n",
       "      <td>NaN</td>\n",
       "      <td>NaN</td>\n",
       "      <td>A8-AF</td>\n",
       "      <td>RADOME MOISTURE IND.</td>\n",
       "      <td>0</td>\n",
       "    </tr>\n",
       "    <tr>\n",
       "      <th>1487</th>\n",
       "      <td>15.0</td>\n",
       "      <td>NaN</td>\n",
       "      <td>NaN</td>\n",
       "      <td>15.0</td>\n",
       "      <td>15.0</td>\n",
       "      <td>NaN</td>\n",
       "      <td>NaN</td>\n",
       "      <td>0.0</td>\n",
       "      <td>150369</td>\n",
       "      <td>R1753620</td>\n",
       "      <td>...</td>\n",
       "      <td>NaN</td>\n",
       "      <td>NaN</td>\n",
       "      <td>NaN</td>\n",
       "      <td>NaN</td>\n",
       "      <td>NaN</td>\n",
       "      <td>NaN</td>\n",
       "      <td>NaN</td>\n",
       "      <td>YA 120</td>\n",
       "      <td>REGLA</td>\n",
       "      <td>0</td>\n",
       "    </tr>\n",
       "    <tr>\n",
       "      <th>5829</th>\n",
       "      <td>15.0</td>\n",
       "      <td>NaN</td>\n",
       "      <td>NaN</td>\n",
       "      <td>13.0</td>\n",
       "      <td>13.0</td>\n",
       "      <td>NaN</td>\n",
       "      <td>NaN</td>\n",
       "      <td>15.0</td>\n",
       "      <td>65115</td>\n",
       "      <td>R0486618</td>\n",
       "      <td>...</td>\n",
       "      <td>NaN</td>\n",
       "      <td>NaN</td>\n",
       "      <td>NaN</td>\n",
       "      <td>NaN</td>\n",
       "      <td>NaN</td>\n",
       "      <td>NaN</td>\n",
       "      <td>NaN</td>\n",
       "      <td>844/I</td>\n",
       "      <td>CELDA DE CARGA</td>\n",
       "      <td>0</td>\n",
       "    </tr>\n",
       "    <tr>\n",
       "      <th>12348</th>\n",
       "      <td>50.0</td>\n",
       "      <td>48.0</td>\n",
       "      <td>50.0</td>\n",
       "      <td>12.0</td>\n",
       "      <td>12.0</td>\n",
       "      <td>NaN</td>\n",
       "      <td>10.0</td>\n",
       "      <td>28.0</td>\n",
       "      <td>131328</td>\n",
       "      <td>R0309020</td>\n",
       "      <td>...</td>\n",
       "      <td>2020-03-22 00:00:00</td>\n",
       "      <td>+00:00</td>\n",
       "      <td>Y</td>\n",
       "      <td>2020-03-19 00:00:00</td>\n",
       "      <td>+00:00</td>\n",
       "      <td>2020-03-19 00:00:00</td>\n",
       "      <td>+00:00</td>\n",
       "      <td>780S-NAA-F7-EN2-P2-V</td>\n",
       "      <td>FLUJOMETRO</td>\n",
       "      <td>0</td>\n",
       "    </tr>\n",
       "    <tr>\n",
       "      <th>8665</th>\n",
       "      <td>17.0</td>\n",
       "      <td>NaN</td>\n",
       "      <td>NaN</td>\n",
       "      <td>17.0</td>\n",
       "      <td>17.0</td>\n",
       "      <td>NaN</td>\n",
       "      <td>NaN</td>\n",
       "      <td>0.0</td>\n",
       "      <td>101640</td>\n",
       "      <td>R3056719</td>\n",
       "      <td>...</td>\n",
       "      <td>NaN</td>\n",
       "      <td>NaN</td>\n",
       "      <td>NaN</td>\n",
       "      <td>NaN</td>\n",
       "      <td>NaN</td>\n",
       "      <td>NaN</td>\n",
       "      <td>NaN</td>\n",
       "      <td>100-15BI</td>\n",
       "      <td>CALIBRE</td>\n",
       "      <td>0</td>\n",
       "    </tr>\n",
       "  </tbody>\n",
       "</table>\n",
       "<p>5 rows × 94 columns</p>\n",
       "</div>"
      ],
      "text/plain": [
       "        TAT  TAT7  TAT6  TAT5  TAT4  TAT3  TAT2  TAT1  order_number_id  \\\n",
       "11137  59.0   NaN   NaN  10.0  10.0  59.0  57.0   0.0           194748   \n",
       "1487   15.0   NaN   NaN  15.0  15.0   NaN   NaN   0.0           150369   \n",
       "5829   15.0   NaN   NaN  13.0  13.0   NaN   NaN  15.0            65115   \n",
       "12348  50.0  48.0  50.0  12.0  12.0   NaN  10.0  28.0           131328   \n",
       "8665   17.0   NaN   NaN  17.0  17.0   NaN   NaN   0.0           101640   \n",
       "\n",
       "      order_number  ...     EIN_arrival_date EIN_arrival_date_tz  \\\n",
       "11137     R1021622  ...                  NaN                 NaN   \n",
       "1487      R1753620  ...                  NaN                 NaN   \n",
       "5829      R0486618  ...                  NaN                 NaN   \n",
       "12348     R0309020  ...  2020-03-22 00:00:00              +00:00   \n",
       "8665      R3056719  ...                  NaN                 NaN   \n",
       "\n",
       "      EIN_part_tool     EIN_created_date EIN_created_date_tz  \\\n",
       "11137           NaN                  NaN                 NaN   \n",
       "1487            NaN                  NaN                 NaN   \n",
       "5829            NaN                  NaN                 NaN   \n",
       "12348             Y  2020-03-19 00:00:00              +00:00   \n",
       "8665            NaN                  NaN                 NaN   \n",
       "\n",
       "      EIN_airway_bill_date EIN_airway_bill_date_tz            new_PARTNO  \\\n",
       "11137                  NaN                     NaN                 A8-AF   \n",
       "1487                   NaN                     NaN                YA 120   \n",
       "5829                   NaN                     NaN                 844/I   \n",
       "12348  2020-03-19 00:00:00                  +00:00  780S-NAA-F7-EN2-P2-V   \n",
       "8665                   NaN                     NaN              100-15BI   \n",
       "\n",
       "            new_DESCRIPTION new_STATUS  \n",
       "11137  RADOME MOISTURE IND.          0  \n",
       "1487                  REGLA          0  \n",
       "5829         CELDA DE CARGA          0  \n",
       "12348            FLUJOMETRO          0  \n",
       "8665                CALIBRE          0  \n",
       "\n",
       "[5 rows x 94 columns]"
      ]
     },
     "execution_count": 3,
     "metadata": {},
     "output_type": "execute_result"
    }
   ],
   "source": [
    "data_tat.sample(5)"
   ]
  },
  {
   "cell_type": "code",
   "execution_count": 4,
   "id": "81856636",
   "metadata": {},
   "outputs": [
    {
     "data": {
      "text/plain": [
       "TAT                        float64\n",
       "TAT7                       float64\n",
       "TAT6                       float64\n",
       "TAT5                       float64\n",
       "TAT4                       float64\n",
       "                            ...   \n",
       "EIN_airway_bill_date        object\n",
       "EIN_airway_bill_date_tz     object\n",
       "new_PARTNO                  object\n",
       "new_DESCRIPTION             object\n",
       "new_STATUS                   int64\n",
       "Length: 94, dtype: object"
      ]
     },
     "execution_count": 4,
     "metadata": {},
     "output_type": "execute_result"
    }
   ],
   "source": [
    "data_tat.dtypes"
   ]
  },
  {
   "cell_type": "code",
   "execution_count": 5,
   "id": "9f16cd1c",
   "metadata": {},
   "outputs": [
    {
     "data": {
      "text/plain": [
       "(14955, 94)"
      ]
     },
     "execution_count": 5,
     "metadata": {},
     "output_type": "execute_result"
    }
   ],
   "source": [
    "data_tat.shape"
   ]
  },
  {
   "cell_type": "markdown",
   "id": "42538b11",
   "metadata": {},
   "source": [
    "<a id=\"imputacion\"></a> \n",
    "### 3.1 Imputación de datos\n",
    "\n",
    "En este apartado se realiza un análisis manual del estado del DataSet, para verificar de manera preliminar, el estado  de la base de datos que vamos a utilizar."
   ]
  },
  {
   "cell_type": "markdown",
   "id": "cce3c4a9",
   "metadata": {},
   "source": [
    "Para eso identificaremos la cantidad de **Nulos**."
   ]
  },
  {
   "cell_type": "code",
   "execution_count": 6,
   "id": "7b7014f5",
   "metadata": {},
   "outputs": [
    {
     "data": {
      "text/plain": [
       "TAT                        0.001003\n",
       "TAT7                       0.605082\n",
       "TAT6                       0.791174\n",
       "TAT5                       0.203076\n",
       "TAT4                       0.203076\n",
       "                             ...   \n",
       "EIN_airway_bill_date       0.605082\n",
       "EIN_airway_bill_date_tz    0.605082\n",
       "new_PARTNO                 0.000000\n",
       "new_DESCRIPTION            0.000000\n",
       "new_STATUS                 0.000000\n",
       "Length: 94, dtype: float64"
      ]
     },
     "execution_count": 6,
     "metadata": {},
     "output_type": "execute_result"
    }
   ],
   "source": [
    "data_null = data_tat.apply(lambda x: x.isnull().sum()/data_tat.shape[0], axis=0)\n",
    "data_null"
   ]
  },
  {
   "cell_type": "markdown",
   "id": "9b020d1a",
   "metadata": {},
   "source": [
    "Tenemos un total de **91 columnas**. Realizaremos una eliminación de las **columnas nulas** del DataSet, con la función *dropna(how='all',  axis=1)*"
   ]
  },
  {
   "cell_type": "code",
   "execution_count": 7,
   "id": "97f6e6db",
   "metadata": {},
   "outputs": [
    {
     "data": {
      "text/html": [
       "<div>\n",
       "<style scoped>\n",
       "    .dataframe tbody tr th:only-of-type {\n",
       "        vertical-align: middle;\n",
       "    }\n",
       "\n",
       "    .dataframe tbody tr th {\n",
       "        vertical-align: top;\n",
       "    }\n",
       "\n",
       "    .dataframe thead th {\n",
       "        text-align: right;\n",
       "    }\n",
       "</style>\n",
       "<table border=\"1\" class=\"dataframe\">\n",
       "  <thead>\n",
       "    <tr style=\"text-align: right;\">\n",
       "      <th></th>\n",
       "      <th>TAT</th>\n",
       "      <th>TAT7</th>\n",
       "      <th>TAT6</th>\n",
       "      <th>TAT5</th>\n",
       "      <th>TAT4</th>\n",
       "      <th>TAT3</th>\n",
       "      <th>TAT2</th>\n",
       "      <th>TAT1</th>\n",
       "      <th>order_number_id</th>\n",
       "      <th>order_number</th>\n",
       "      <th>...</th>\n",
       "      <th>EIN_arrival_date</th>\n",
       "      <th>EIN_arrival_date_tz</th>\n",
       "      <th>EIN_part_tool</th>\n",
       "      <th>EIN_created_date</th>\n",
       "      <th>EIN_created_date_tz</th>\n",
       "      <th>EIN_airway_bill_date</th>\n",
       "      <th>EIN_airway_bill_date_tz</th>\n",
       "      <th>new_PARTNO</th>\n",
       "      <th>new_DESCRIPTION</th>\n",
       "      <th>new_STATUS</th>\n",
       "    </tr>\n",
       "  </thead>\n",
       "  <tbody>\n",
       "    <tr>\n",
       "      <th>0</th>\n",
       "      <td>12.0</td>\n",
       "      <td>12.0</td>\n",
       "      <td>12.0</td>\n",
       "      <td>NaN</td>\n",
       "      <td>NaN</td>\n",
       "      <td>NaN</td>\n",
       "      <td>NaN</td>\n",
       "      <td>NaN</td>\n",
       "      <td>47613</td>\n",
       "      <td>R0017144TRF</td>\n",
       "      <td>...</td>\n",
       "      <td>2018-09-13 00:00:00</td>\n",
       "      <td>+00:00</td>\n",
       "      <td>Y</td>\n",
       "      <td>2018-09-13 00:00:00</td>\n",
       "      <td>+00:00</td>\n",
       "      <td>2018-09-12 00:00:00</td>\n",
       "      <td>+00:00</td>\n",
       "      <td>879B</td>\n",
       "      <td>LCR METER</td>\n",
       "      <td>0</td>\n",
       "    </tr>\n",
       "    <tr>\n",
       "      <th>1</th>\n",
       "      <td>33.0</td>\n",
       "      <td>NaN</td>\n",
       "      <td>NaN</td>\n",
       "      <td>33.0</td>\n",
       "      <td>33.0</td>\n",
       "      <td>NaN</td>\n",
       "      <td>NaN</td>\n",
       "      <td>5.0</td>\n",
       "      <td>62347</td>\n",
       "      <td>R0285318</td>\n",
       "      <td>...</td>\n",
       "      <td>NaN</td>\n",
       "      <td>NaN</td>\n",
       "      <td>NaN</td>\n",
       "      <td>NaN</td>\n",
       "      <td>NaN</td>\n",
       "      <td>NaN</td>\n",
       "      <td>NaN</td>\n",
       "      <td>AP-2703</td>\n",
       "      <td>DINAMOMETRO</td>\n",
       "      <td>0</td>\n",
       "    </tr>\n",
       "    <tr>\n",
       "      <th>2</th>\n",
       "      <td>4.0</td>\n",
       "      <td>NaN</td>\n",
       "      <td>NaN</td>\n",
       "      <td>NaN</td>\n",
       "      <td>NaN</td>\n",
       "      <td>NaN</td>\n",
       "      <td>NaN</td>\n",
       "      <td>4.0</td>\n",
       "      <td>67713</td>\n",
       "      <td>R0667118</td>\n",
       "      <td>...</td>\n",
       "      <td>NaN</td>\n",
       "      <td>NaN</td>\n",
       "      <td>NaN</td>\n",
       "      <td>NaN</td>\n",
       "      <td>NaN</td>\n",
       "      <td>NaN</td>\n",
       "      <td>NaN</td>\n",
       "      <td>L10</td>\n",
       "      <td>DINAMOMETRO</td>\n",
       "      <td>0</td>\n",
       "    </tr>\n",
       "    <tr>\n",
       "      <th>3</th>\n",
       "      <td>18.0</td>\n",
       "      <td>NaN</td>\n",
       "      <td>NaN</td>\n",
       "      <td>12.0</td>\n",
       "      <td>12.0</td>\n",
       "      <td>NaN</td>\n",
       "      <td>NaN</td>\n",
       "      <td>18.0</td>\n",
       "      <td>74221</td>\n",
       "      <td>R1102719</td>\n",
       "      <td>...</td>\n",
       "      <td>NaN</td>\n",
       "      <td>NaN</td>\n",
       "      <td>NaN</td>\n",
       "      <td>NaN</td>\n",
       "      <td>NaN</td>\n",
       "      <td>NaN</td>\n",
       "      <td>NaN</td>\n",
       "      <td>3277705.</td>\n",
       "      <td>DINAMOMETRO</td>\n",
       "      <td>0</td>\n",
       "    </tr>\n",
       "    <tr>\n",
       "      <th>4</th>\n",
       "      <td>6.0</td>\n",
       "      <td>NaN</td>\n",
       "      <td>NaN</td>\n",
       "      <td>6.0</td>\n",
       "      <td>6.0</td>\n",
       "      <td>NaN</td>\n",
       "      <td>NaN</td>\n",
       "      <td>0.0</td>\n",
       "      <td>76276</td>\n",
       "      <td>R1251719</td>\n",
       "      <td>...</td>\n",
       "      <td>NaN</td>\n",
       "      <td>NaN</td>\n",
       "      <td>NaN</td>\n",
       "      <td>NaN</td>\n",
       "      <td>NaN</td>\n",
       "      <td>NaN</td>\n",
       "      <td>NaN</td>\n",
       "      <td>7034-5</td>\n",
       "      <td>COMPARADOR</td>\n",
       "      <td>0</td>\n",
       "    </tr>\n",
       "    <tr>\n",
       "      <th>...</th>\n",
       "      <td>...</td>\n",
       "      <td>...</td>\n",
       "      <td>...</td>\n",
       "      <td>...</td>\n",
       "      <td>...</td>\n",
       "      <td>...</td>\n",
       "      <td>...</td>\n",
       "      <td>...</td>\n",
       "      <td>...</td>\n",
       "      <td>...</td>\n",
       "      <td>...</td>\n",
       "      <td>...</td>\n",
       "      <td>...</td>\n",
       "      <td>...</td>\n",
       "      <td>...</td>\n",
       "      <td>...</td>\n",
       "      <td>...</td>\n",
       "      <td>...</td>\n",
       "      <td>...</td>\n",
       "      <td>...</td>\n",
       "      <td>...</td>\n",
       "    </tr>\n",
       "    <tr>\n",
       "      <th>14950</th>\n",
       "      <td>37.0</td>\n",
       "      <td>NaN</td>\n",
       "      <td>NaN</td>\n",
       "      <td>37.0</td>\n",
       "      <td>37.0</td>\n",
       "      <td>NaN</td>\n",
       "      <td>NaN</td>\n",
       "      <td>0.0</td>\n",
       "      <td>221104</td>\n",
       "      <td>R3023322</td>\n",
       "      <td>...</td>\n",
       "      <td>NaN</td>\n",
       "      <td>NaN</td>\n",
       "      <td>NaN</td>\n",
       "      <td>NaN</td>\n",
       "      <td>NaN</td>\n",
       "      <td>NaN</td>\n",
       "      <td>NaN</td>\n",
       "      <td>33-215</td>\n",
       "      <td>CINTA METRICA DE 3.5 MTS/12</td>\n",
       "      <td>0</td>\n",
       "    </tr>\n",
       "    <tr>\n",
       "      <th>14951</th>\n",
       "      <td>6.0</td>\n",
       "      <td>NaN</td>\n",
       "      <td>NaN</td>\n",
       "      <td>6.0</td>\n",
       "      <td>6.0</td>\n",
       "      <td>NaN</td>\n",
       "      <td>NaN</td>\n",
       "      <td>0.0</td>\n",
       "      <td>222035</td>\n",
       "      <td>R3095022</td>\n",
       "      <td>...</td>\n",
       "      <td>NaN</td>\n",
       "      <td>NaN</td>\n",
       "      <td>NaN</td>\n",
       "      <td>NaN</td>\n",
       "      <td>NaN</td>\n",
       "      <td>NaN</td>\n",
       "      <td>NaN</td>\n",
       "      <td>4000 KG</td>\n",
       "      <td>DINAMOMETRO</td>\n",
       "      <td>0</td>\n",
       "    </tr>\n",
       "    <tr>\n",
       "      <th>14952</th>\n",
       "      <td>3.0</td>\n",
       "      <td>NaN</td>\n",
       "      <td>NaN</td>\n",
       "      <td>3.0</td>\n",
       "      <td>3.0</td>\n",
       "      <td>NaN</td>\n",
       "      <td>NaN</td>\n",
       "      <td>0.0</td>\n",
       "      <td>227645</td>\n",
       "      <td>R0259923</td>\n",
       "      <td>...</td>\n",
       "      <td>NaN</td>\n",
       "      <td>NaN</td>\n",
       "      <td>NaN</td>\n",
       "      <td>NaN</td>\n",
       "      <td>NaN</td>\n",
       "      <td>NaN</td>\n",
       "      <td>NaN</td>\n",
       "      <td>.800IN</td>\n",
       "      <td>MICROMETRO DE INTERIOR AXIAL</td>\n",
       "      <td>0</td>\n",
       "    </tr>\n",
       "    <tr>\n",
       "      <th>14953</th>\n",
       "      <td>8.0</td>\n",
       "      <td>NaN</td>\n",
       "      <td>NaN</td>\n",
       "      <td>8.0</td>\n",
       "      <td>8.0</td>\n",
       "      <td>7.0</td>\n",
       "      <td>4.0</td>\n",
       "      <td>0.0</td>\n",
       "      <td>229035</td>\n",
       "      <td>R0369923</td>\n",
       "      <td>...</td>\n",
       "      <td>NaN</td>\n",
       "      <td>NaN</td>\n",
       "      <td>NaN</td>\n",
       "      <td>NaN</td>\n",
       "      <td>NaN</td>\n",
       "      <td>NaN</td>\n",
       "      <td>NaN</td>\n",
       "      <td>M22520/1-01</td>\n",
       "      <td>MANDRILADORA PINES DANIELS</td>\n",
       "      <td>0</td>\n",
       "    </tr>\n",
       "    <tr>\n",
       "      <th>14954</th>\n",
       "      <td>19.0</td>\n",
       "      <td>NaN</td>\n",
       "      <td>NaN</td>\n",
       "      <td>8.0</td>\n",
       "      <td>8.0</td>\n",
       "      <td>19.0</td>\n",
       "      <td>18.0</td>\n",
       "      <td>0.0</td>\n",
       "      <td>229035</td>\n",
       "      <td>R0369923</td>\n",
       "      <td>...</td>\n",
       "      <td>NaN</td>\n",
       "      <td>NaN</td>\n",
       "      <td>NaN</td>\n",
       "      <td>NaN</td>\n",
       "      <td>NaN</td>\n",
       "      <td>NaN</td>\n",
       "      <td>NaN</td>\n",
       "      <td>M22520/1-01</td>\n",
       "      <td>MANDRILADORA PINES DANIELS</td>\n",
       "      <td>0</td>\n",
       "    </tr>\n",
       "  </tbody>\n",
       "</table>\n",
       "<p>14955 rows × 88 columns</p>\n",
       "</div>"
      ],
      "text/plain": [
       "        TAT  TAT7  TAT6  TAT5  TAT4  TAT3  TAT2  TAT1  order_number_id  \\\n",
       "0      12.0  12.0  12.0   NaN   NaN   NaN   NaN   NaN            47613   \n",
       "1      33.0   NaN   NaN  33.0  33.0   NaN   NaN   5.0            62347   \n",
       "2       4.0   NaN   NaN   NaN   NaN   NaN   NaN   4.0            67713   \n",
       "3      18.0   NaN   NaN  12.0  12.0   NaN   NaN  18.0            74221   \n",
       "4       6.0   NaN   NaN   6.0   6.0   NaN   NaN   0.0            76276   \n",
       "...     ...   ...   ...   ...   ...   ...   ...   ...              ...   \n",
       "14950  37.0   NaN   NaN  37.0  37.0   NaN   NaN   0.0           221104   \n",
       "14951   6.0   NaN   NaN   6.0   6.0   NaN   NaN   0.0           222035   \n",
       "14952   3.0   NaN   NaN   3.0   3.0   NaN   NaN   0.0           227645   \n",
       "14953   8.0   NaN   NaN   8.0   8.0   7.0   4.0   0.0           229035   \n",
       "14954  19.0   NaN   NaN   8.0   8.0  19.0  18.0   0.0           229035   \n",
       "\n",
       "      order_number  ...     EIN_arrival_date EIN_arrival_date_tz  \\\n",
       "0      R0017144TRF  ...  2018-09-13 00:00:00              +00:00   \n",
       "1         R0285318  ...                  NaN                 NaN   \n",
       "2         R0667118  ...                  NaN                 NaN   \n",
       "3         R1102719  ...                  NaN                 NaN   \n",
       "4         R1251719  ...                  NaN                 NaN   \n",
       "...            ...  ...                  ...                 ...   \n",
       "14950     R3023322  ...                  NaN                 NaN   \n",
       "14951     R3095022  ...                  NaN                 NaN   \n",
       "14952     R0259923  ...                  NaN                 NaN   \n",
       "14953     R0369923  ...                  NaN                 NaN   \n",
       "14954     R0369923  ...                  NaN                 NaN   \n",
       "\n",
       "      EIN_part_tool     EIN_created_date EIN_created_date_tz  \\\n",
       "0                 Y  2018-09-13 00:00:00              +00:00   \n",
       "1               NaN                  NaN                 NaN   \n",
       "2               NaN                  NaN                 NaN   \n",
       "3               NaN                  NaN                 NaN   \n",
       "4               NaN                  NaN                 NaN   \n",
       "...             ...                  ...                 ...   \n",
       "14950           NaN                  NaN                 NaN   \n",
       "14951           NaN                  NaN                 NaN   \n",
       "14952           NaN                  NaN                 NaN   \n",
       "14953           NaN                  NaN                 NaN   \n",
       "14954           NaN                  NaN                 NaN   \n",
       "\n",
       "      EIN_airway_bill_date EIN_airway_bill_date_tz   new_PARTNO  \\\n",
       "0      2018-09-12 00:00:00                  +00:00         879B   \n",
       "1                      NaN                     NaN      AP-2703   \n",
       "2                      NaN                     NaN          L10   \n",
       "3                      NaN                     NaN     3277705.   \n",
       "4                      NaN                     NaN       7034-5   \n",
       "...                    ...                     ...          ...   \n",
       "14950                  NaN                     NaN       33-215   \n",
       "14951                  NaN                     NaN      4000 KG   \n",
       "14952                  NaN                     NaN       .800IN   \n",
       "14953                  NaN                     NaN  M22520/1-01   \n",
       "14954                  NaN                     NaN  M22520/1-01   \n",
       "\n",
       "                    new_DESCRIPTION new_STATUS  \n",
       "0                         LCR METER          0  \n",
       "1                       DINAMOMETRO          0  \n",
       "2                       DINAMOMETRO          0  \n",
       "3                       DINAMOMETRO          0  \n",
       "4                        COMPARADOR          0  \n",
       "...                             ...        ...  \n",
       "14950   CINTA METRICA DE 3.5 MTS/12          0  \n",
       "14951                   DINAMOMETRO          0  \n",
       "14952  MICROMETRO DE INTERIOR AXIAL          0  \n",
       "14953    MANDRILADORA PINES DANIELS          0  \n",
       "14954    MANDRILADORA PINES DANIELS          0  \n",
       "\n",
       "[14955 rows x 88 columns]"
      ]
     },
     "execution_count": 7,
     "metadata": {},
     "output_type": "execute_result"
    }
   ],
   "source": [
    "data_tat.dropna(how='all', axis=1)"
   ]
  },
  {
   "cell_type": "markdown",
   "id": "37ecc495",
   "metadata": {},
   "source": [
    "Después de haber tenido una reunón con los proveedores de la base de datos para realizar este análisis, se pudieron determinar las columnas que podrían ser influyentes para realizar predicciones. Y se descartaron aquellas que no tienen relevancia en el asunto.\n",
    "\n",
    "En este punto tomaremos solamente las columnas Categoricas o numéricas que pueden aportar al objetivo de clasificación que queremos realizar. Para eso crearemos  un nuevo DataFrame con un **filtro de columnas**."
   ]
  },
  {
   "cell_type": "code",
   "execution_count": 8,
   "id": "0e86d652",
   "metadata": {},
   "outputs": [],
   "source": [
    "data_tat_filter = data_tat[[\n",
    "    'TAT',\n",
    "    'new_PARTNO',\n",
    "    'new_DESCRIPTION',\n",
    "    'order_number_id',\n",
    "    'order_number',\n",
    "    'order_type',\n",
    "    'order_date',\n",
    "    'address_ship',\n",
    "    'vendor_code',\n",
    "    'shipment',\n",
    "    'priority',\n",
    "    'created_date',\n",
    "    'od_confirmed_date',\n",
    "    'od_req_condition']]"
   ]
  },
  {
   "cell_type": "code",
   "execution_count": 9,
   "id": "fe2879b6",
   "metadata": {},
   "outputs": [
    {
     "data": {
      "text/html": [
       "<div>\n",
       "<style scoped>\n",
       "    .dataframe tbody tr th:only-of-type {\n",
       "        vertical-align: middle;\n",
       "    }\n",
       "\n",
       "    .dataframe tbody tr th {\n",
       "        vertical-align: top;\n",
       "    }\n",
       "\n",
       "    .dataframe thead th {\n",
       "        text-align: right;\n",
       "    }\n",
       "</style>\n",
       "<table border=\"1\" class=\"dataframe\">\n",
       "  <thead>\n",
       "    <tr style=\"text-align: right;\">\n",
       "      <th></th>\n",
       "      <th>TAT</th>\n",
       "      <th>new_PARTNO</th>\n",
       "      <th>new_DESCRIPTION</th>\n",
       "      <th>order_number_id</th>\n",
       "      <th>order_number</th>\n",
       "      <th>order_type</th>\n",
       "      <th>order_date</th>\n",
       "      <th>address_ship</th>\n",
       "      <th>vendor_code</th>\n",
       "      <th>shipment</th>\n",
       "      <th>priority</th>\n",
       "      <th>created_date</th>\n",
       "      <th>od_confirmed_date</th>\n",
       "      <th>od_req_condition</th>\n",
       "    </tr>\n",
       "  </thead>\n",
       "  <tbody>\n",
       "    <tr>\n",
       "      <th>0</th>\n",
       "      <td>12.0</td>\n",
       "      <td>879B</td>\n",
       "      <td>LCR METER</td>\n",
       "      <td>47613</td>\n",
       "      <td>R0017144TRF</td>\n",
       "      <td>R</td>\n",
       "      <td>2018-08-08 00:00:00</td>\n",
       "      <td>AEP</td>\n",
       "      <td>0NUU5</td>\n",
       "      <td>NaN</td>\n",
       "      <td>NaN</td>\n",
       "      <td>2018-08-31 00:00:00</td>\n",
       "      <td>0</td>\n",
       "      <td>NaN</td>\n",
       "    </tr>\n",
       "    <tr>\n",
       "      <th>1</th>\n",
       "      <td>33.0</td>\n",
       "      <td>AP-2703</td>\n",
       "      <td>DINAMOMETRO</td>\n",
       "      <td>62347</td>\n",
       "      <td>R0285318</td>\n",
       "      <td>R</td>\n",
       "      <td>2018-10-03 00:00:00</td>\n",
       "      <td>ARG</td>\n",
       "      <td>AR0011</td>\n",
       "      <td>NaN</td>\n",
       "      <td>RTN</td>\n",
       "      <td>2018-10-03 00:00:00</td>\n",
       "      <td>0</td>\n",
       "      <td>CA</td>\n",
       "    </tr>\n",
       "    <tr>\n",
       "      <th>2</th>\n",
       "      <td>4.0</td>\n",
       "      <td>L10</td>\n",
       "      <td>DINAMOMETRO</td>\n",
       "      <td>67713</td>\n",
       "      <td>R0667118</td>\n",
       "      <td>R</td>\n",
       "      <td>2018-11-12 00:00:00</td>\n",
       "      <td>ARG</td>\n",
       "      <td>AR0011</td>\n",
       "      <td>NaN</td>\n",
       "      <td>RTN</td>\n",
       "      <td>2018-11-12 00:00:00</td>\n",
       "      <td>0</td>\n",
       "      <td>CA</td>\n",
       "    </tr>\n",
       "    <tr>\n",
       "      <th>3</th>\n",
       "      <td>18.0</td>\n",
       "      <td>3277705.</td>\n",
       "      <td>DINAMOMETRO</td>\n",
       "      <td>74221</td>\n",
       "      <td>R1102719</td>\n",
       "      <td>R</td>\n",
       "      <td>2019-01-07 00:00:00</td>\n",
       "      <td>ARG</td>\n",
       "      <td>AR0011</td>\n",
       "      <td>NaN</td>\n",
       "      <td>RTN</td>\n",
       "      <td>2019-01-05 00:00:00</td>\n",
       "      <td>0</td>\n",
       "      <td>CA</td>\n",
       "    </tr>\n",
       "    <tr>\n",
       "      <th>4</th>\n",
       "      <td>6.0</td>\n",
       "      <td>7034-5</td>\n",
       "      <td>COMPARADOR</td>\n",
       "      <td>76276</td>\n",
       "      <td>R1251719</td>\n",
       "      <td>R</td>\n",
       "      <td>2019-01-21 00:00:00</td>\n",
       "      <td>ARG</td>\n",
       "      <td>AR0011</td>\n",
       "      <td>NaN</td>\n",
       "      <td>RTN</td>\n",
       "      <td>2019-01-19 00:00:00</td>\n",
       "      <td>0</td>\n",
       "      <td>CA</td>\n",
       "    </tr>\n",
       "  </tbody>\n",
       "</table>\n",
       "</div>"
      ],
      "text/plain": [
       "    TAT new_PARTNO new_DESCRIPTION  order_number_id order_number order_type  \\\n",
       "0  12.0       879B       LCR METER            47613  R0017144TRF          R   \n",
       "1  33.0    AP-2703     DINAMOMETRO            62347     R0285318          R   \n",
       "2   4.0        L10     DINAMOMETRO            67713     R0667118          R   \n",
       "3  18.0   3277705.     DINAMOMETRO            74221     R1102719          R   \n",
       "4   6.0     7034-5      COMPARADOR            76276     R1251719          R   \n",
       "\n",
       "            order_date address_ship vendor_code shipment priority  \\\n",
       "0  2018-08-08 00:00:00          AEP       0NUU5      NaN      NaN   \n",
       "1  2018-10-03 00:00:00          ARG      AR0011      NaN      RTN   \n",
       "2  2018-11-12 00:00:00          ARG      AR0011      NaN      RTN   \n",
       "3  2019-01-07 00:00:00          ARG      AR0011      NaN      RTN   \n",
       "4  2019-01-21 00:00:00          ARG      AR0011      NaN      RTN   \n",
       "\n",
       "          created_date od_confirmed_date od_req_condition  \n",
       "0  2018-08-31 00:00:00                 0              NaN  \n",
       "1  2018-10-03 00:00:00                 0               CA  \n",
       "2  2018-11-12 00:00:00                 0               CA  \n",
       "3  2019-01-05 00:00:00                 0               CA  \n",
       "4  2019-01-19 00:00:00                 0               CA  "
      ]
     },
     "execution_count": 9,
     "metadata": {},
     "output_type": "execute_result"
    }
   ],
   "source": [
    "data_tat_filter.head(5)"
   ]
  },
  {
   "cell_type": "code",
   "execution_count": 10,
   "id": "b7d6d77e",
   "metadata": {},
   "outputs": [
    {
     "data": {
      "text/plain": [
       "14"
      ]
     },
     "execution_count": 10,
     "metadata": {},
     "output_type": "execute_result"
    }
   ],
   "source": [
    "data_tat_filter.shape[1]"
   ]
  },
  {
   "cell_type": "markdown",
   "id": "9c4b2495",
   "metadata": {},
   "source": [
    "Pasamos de tener 91 columnas en nuestro DataSet original, a pasar a **14 columnas** finales."
   ]
  },
  {
   "cell_type": "markdown",
   "id": "ab0b9037",
   "metadata": {},
   "source": [
    "Una vez imputado todos los datos de los TAT vamos **identificar los vendors** desde otro DataSet llamado \"data_vendors\" que identifica a los Vendors con un codigo, su nombre y datos estadisticos preliminares.\n",
    "\n",
    "Con ese dato podemos incorporar los nombres de los provedores de una manera más amigable. Creamos un nuevo DataSet con los nombres de los vendors."
   ]
  },
  {
   "cell_type": "code",
   "execution_count": 11,
   "id": "ae2d5233",
   "metadata": {},
   "outputs": [
    {
     "data": {
      "text/html": [
       "<div>\n",
       "<style scoped>\n",
       "    .dataframe tbody tr th:only-of-type {\n",
       "        vertical-align: middle;\n",
       "    }\n",
       "\n",
       "    .dataframe tbody tr th {\n",
       "        vertical-align: top;\n",
       "    }\n",
       "\n",
       "    .dataframe thead th {\n",
       "        text-align: right;\n",
       "    }\n",
       "</style>\n",
       "<table border=\"1\" class=\"dataframe\">\n",
       "  <thead>\n",
       "    <tr style=\"text-align: right;\">\n",
       "      <th></th>\n",
       "      <th>vendor_name</th>\n",
       "      <th>vendor_code</th>\n",
       "      <th>COUNT</th>\n",
       "      <th>MEAN_of_TAT</th>\n",
       "      <th>STDEV_of_TAT</th>\n",
       "    </tr>\n",
       "  </thead>\n",
       "  <tbody>\n",
       "    <tr>\n",
       "      <th>0</th>\n",
       "      <td>BERNOULLI AEROSPACE, LLC</td>\n",
       "      <td>US0942</td>\n",
       "      <td>1061</td>\n",
       "      <td>73.393968</td>\n",
       "      <td>96.565499</td>\n",
       "    </tr>\n",
       "    <tr>\n",
       "      <th>1</th>\n",
       "      <td>DASTEC SRL USA LLC</td>\n",
       "      <td>US0192</td>\n",
       "      <td>1</td>\n",
       "      <td>33.000000</td>\n",
       "      <td>NaN</td>\n",
       "    </tr>\n",
       "    <tr>\n",
       "      <th>2</th>\n",
       "      <td>EDACI S.R.L.</td>\n",
       "      <td>AR0310</td>\n",
       "      <td>444</td>\n",
       "      <td>45.380631</td>\n",
       "      <td>58.214414</td>\n",
       "    </tr>\n",
       "    <tr>\n",
       "      <th>3</th>\n",
       "      <td>DANIELS MANUFACTURING CORP.</td>\n",
       "      <td>11851</td>\n",
       "      <td>9</td>\n",
       "      <td>58.333333</td>\n",
       "      <td>45.634417</td>\n",
       "    </tr>\n",
       "    <tr>\n",
       "      <th>4</th>\n",
       "      <td>SCHENCK ROTEC GMBH</td>\n",
       "      <td>CE619</td>\n",
       "      <td>1</td>\n",
       "      <td>193.000000</td>\n",
       "      <td>NaN</td>\n",
       "    </tr>\n",
       "  </tbody>\n",
       "</table>\n",
       "</div>"
      ],
      "text/plain": [
       "                   vendor_name vendor_code  COUNT  MEAN_of_TAT  STDEV_of_TAT\n",
       "0     BERNOULLI AEROSPACE, LLC      US0942   1061    73.393968     96.565499\n",
       "1           DASTEC SRL USA LLC      US0192      1    33.000000           NaN\n",
       "2                 EDACI S.R.L.      AR0310    444    45.380631     58.214414\n",
       "3  DANIELS MANUFACTURING CORP.       11851      9    58.333333     45.634417\n",
       "4           SCHENCK ROTEC GMBH       CE619      1   193.000000           NaN"
      ]
     },
     "execution_count": 11,
     "metadata": {},
     "output_type": "execute_result"
    }
   ],
   "source": [
    "data_vendors.head(5)"
   ]
  },
  {
   "cell_type": "markdown",
   "id": "d138b617",
   "metadata": {},
   "source": [
    "Nos quedamos con las dos columnas de **'vendro_name'** y **'vendor_code'** y dropeamos el resto."
   ]
  },
  {
   "cell_type": "code",
   "execution_count": 12,
   "id": "829bc479",
   "metadata": {},
   "outputs": [],
   "source": [
    "data_vendors_filtrado = data_vendors.drop(['COUNT','MEAN_of_TAT','STDEV_of_TAT'], axis=1)"
   ]
  },
  {
   "cell_type": "markdown",
   "id": "fe93fb89",
   "metadata": {},
   "source": [
    "Realizamos un **merge** con los nombres."
   ]
  },
  {
   "cell_type": "code",
   "execution_count": 13,
   "id": "a90dbbb8",
   "metadata": {},
   "outputs": [
    {
     "data": {
      "text/html": [
       "<div>\n",
       "<style scoped>\n",
       "    .dataframe tbody tr th:only-of-type {\n",
       "        vertical-align: middle;\n",
       "    }\n",
       "\n",
       "    .dataframe tbody tr th {\n",
       "        vertical-align: top;\n",
       "    }\n",
       "\n",
       "    .dataframe thead th {\n",
       "        text-align: right;\n",
       "    }\n",
       "</style>\n",
       "<table border=\"1\" class=\"dataframe\">\n",
       "  <thead>\n",
       "    <tr style=\"text-align: right;\">\n",
       "      <th></th>\n",
       "      <th>TAT</th>\n",
       "      <th>new_PARTNO</th>\n",
       "      <th>new_DESCRIPTION</th>\n",
       "      <th>order_number_id</th>\n",
       "      <th>order_number</th>\n",
       "      <th>order_type</th>\n",
       "      <th>order_date</th>\n",
       "      <th>address_ship</th>\n",
       "      <th>vendor_code</th>\n",
       "      <th>shipment</th>\n",
       "      <th>priority</th>\n",
       "      <th>created_date</th>\n",
       "      <th>od_confirmed_date</th>\n",
       "      <th>od_req_condition</th>\n",
       "      <th>vendor_name</th>\n",
       "    </tr>\n",
       "  </thead>\n",
       "  <tbody>\n",
       "    <tr>\n",
       "      <th>5909</th>\n",
       "      <td>14.0</td>\n",
       "      <td>QD1R50</td>\n",
       "      <td>TORQUIMETRO</td>\n",
       "      <td>91443</td>\n",
       "      <td>P0349619</td>\n",
       "      <td>P</td>\n",
       "      <td>2019-05-02 00:00:00</td>\n",
       "      <td>ADUANA-EZE</td>\n",
       "      <td>US0946</td>\n",
       "      <td>F3</td>\n",
       "      <td>USR</td>\n",
       "      <td>2019-05-02 00:00:00</td>\n",
       "      <td>2019-06-01 00:00:00</td>\n",
       "      <td>N</td>\n",
       "      <td>CALCOR US LLC</td>\n",
       "    </tr>\n",
       "    <tr>\n",
       "      <th>6915</th>\n",
       "      <td>3.0</td>\n",
       "      <td>TS100</td>\n",
       "      <td>TORQUIMETRO</td>\n",
       "      <td>173282</td>\n",
       "      <td>R1557621</td>\n",
       "      <td>R</td>\n",
       "      <td>2021-09-14 00:00:00</td>\n",
       "      <td>AR0650</td>\n",
       "      <td>AR0136</td>\n",
       "      <td>NaN</td>\n",
       "      <td>RTN</td>\n",
       "      <td>2021-09-14 00:00:00</td>\n",
       "      <td>2021-11-03 00:00:00</td>\n",
       "      <td>CA</td>\n",
       "      <td>METROLOGOS ASOCIADOS SRL</td>\n",
       "    </tr>\n",
       "    <tr>\n",
       "      <th>14150</th>\n",
       "      <td>13.0</td>\n",
       "      <td>PA202</td>\n",
       "      <td>REFRACTOMETRO DIGITAL</td>\n",
       "      <td>88968</td>\n",
       "      <td>R2132419</td>\n",
       "      <td>R</td>\n",
       "      <td>2019-04-11 00:00:00</td>\n",
       "      <td>ADUANA-EZE</td>\n",
       "      <td>5BWA7</td>\n",
       "      <td>F3</td>\n",
       "      <td>RTN</td>\n",
       "      <td>2019-04-11 00:00:00</td>\n",
       "      <td>0</td>\n",
       "      <td>CA</td>\n",
       "      <td>MISCO REFRACTOMETER</td>\n",
       "    </tr>\n",
       "  </tbody>\n",
       "</table>\n",
       "</div>"
      ],
      "text/plain": [
       "        TAT new_PARTNO        new_DESCRIPTION  order_number_id order_number  \\\n",
       "5909   14.0     QD1R50            TORQUIMETRO            91443     P0349619   \n",
       "6915    3.0      TS100            TORQUIMETRO           173282     R1557621   \n",
       "14150  13.0      PA202  REFRACTOMETRO DIGITAL            88968     R2132419   \n",
       "\n",
       "      order_type           order_date address_ship vendor_code shipment  \\\n",
       "5909           P  2019-05-02 00:00:00   ADUANA-EZE      US0946       F3   \n",
       "6915           R  2021-09-14 00:00:00       AR0650      AR0136      NaN   \n",
       "14150          R  2019-04-11 00:00:00   ADUANA-EZE       5BWA7       F3   \n",
       "\n",
       "      priority         created_date    od_confirmed_date od_req_condition  \\\n",
       "5909       USR  2019-05-02 00:00:00  2019-06-01 00:00:00                N   \n",
       "6915       RTN  2021-09-14 00:00:00  2021-11-03 00:00:00               CA   \n",
       "14150      RTN  2019-04-11 00:00:00                    0               CA   \n",
       "\n",
       "                    vendor_name  \n",
       "5909              CALCOR US LLC  \n",
       "6915   METROLOGOS ASOCIADOS SRL  \n",
       "14150       MISCO REFRACTOMETER  "
      ]
     },
     "execution_count": 13,
     "metadata": {},
     "output_type": "execute_result"
    }
   ],
   "source": [
    "ds_complete = data_tat_filter.merge(data_vendors_filtrado, how='left', on='vendor_code')\n",
    "ds_complete.sample(3)"
   ]
  },
  {
   "cell_type": "code",
   "execution_count": 14,
   "id": "1e72d421",
   "metadata": {},
   "outputs": [],
   "source": [
    "ds_complete.rename(columns={'new_PARTNO':'part_number','new_DESCRIPTION':'description'}, inplace=True)"
   ]
  },
  {
   "cell_type": "markdown",
   "id": "b73db66e",
   "metadata": {},
   "source": [
    "Finalmente tenemos el DataSet agrupado."
   ]
  },
  {
   "cell_type": "markdown",
   "id": "79f95ded",
   "metadata": {},
   "source": [
    "Ahora necesitamos realizar una limpieza de los **valores nulos** en nuestras columnas de interes.\n",
    "\n",
    "Primero identificaremos la  proporción de nulos en cada una. Y después identificar el tipo de columnas que tenemos."
   ]
  },
  {
   "cell_type": "code",
   "execution_count": 15,
   "id": "740dda7d",
   "metadata": {},
   "outputs": [
    {
     "data": {
      "text/plain": [
       "TAT                  0.001003\n",
       "part_number          0.000000\n",
       "description          0.000000\n",
       "order_number_id      0.000000\n",
       "order_number         0.000000\n",
       "order_type           0.000000\n",
       "order_date           0.000000\n",
       "address_ship         0.006954\n",
       "vendor_code          0.000000\n",
       "shipment             0.528118\n",
       "priority             0.031695\n",
       "created_date         0.000000\n",
       "od_confirmed_date    0.000000\n",
       "od_req_condition     0.019525\n",
       "vendor_name          0.000669\n",
       "dtype: float64"
      ]
     },
     "execution_count": 15,
     "metadata": {},
     "output_type": "execute_result"
    }
   ],
   "source": [
    "ds_complete.apply(lambda x: x.isnull().sum()/data_tat_filter.shape[0], axis=0)"
   ]
  },
  {
   "cell_type": "code",
   "execution_count": 16,
   "id": "92e8f438",
   "metadata": {},
   "outputs": [
    {
     "name": "stdout",
     "output_type": "stream",
     "text": [
      "<class 'pandas.core.frame.DataFrame'>\n",
      "Int64Index: 14955 entries, 0 to 14954\n",
      "Data columns (total 15 columns):\n",
      " #   Column             Non-Null Count  Dtype  \n",
      "---  ------             --------------  -----  \n",
      " 0   TAT                14940 non-null  float64\n",
      " 1   part_number        14955 non-null  object \n",
      " 2   description        14955 non-null  object \n",
      " 3   order_number_id    14955 non-null  int64  \n",
      " 4   order_number       14955 non-null  object \n",
      " 5   order_type         14955 non-null  object \n",
      " 6   order_date         14955 non-null  object \n",
      " 7   address_ship       14851 non-null  object \n",
      " 8   vendor_code        14955 non-null  object \n",
      " 9   shipment           7057 non-null   object \n",
      " 10  priority           14481 non-null  object \n",
      " 11  created_date       14955 non-null  object \n",
      " 12  od_confirmed_date  14955 non-null  object \n",
      " 13  od_req_condition   14663 non-null  object \n",
      " 14  vendor_name        14945 non-null  object \n",
      "dtypes: float64(1), int64(1), object(13)\n",
      "memory usage: 1.8+ MB\n"
     ]
    }
   ],
   "source": [
    "ds_complete.info()"
   ]
  },
  {
   "cell_type": "markdown",
   "id": "0aec0720",
   "metadata": {},
   "source": [
    "Las columnas más comprometidas en la proporción de nulos son **'TAT'** (por su relevancia en la predicción de datos), **'entry_date'**, **'address_ship'**, **'shipment'**, **'priority'**, **'od_req_condition'** y **'vendor_name'**.\n",
    "\n",
    "Ahora lo que necesitamos es completar los nulos de las columnas.\n",
    "* TAT: Completaremos los nulos de los datos con el valor medio de los datos.\n",
    "* Shipment: Los valores nulos los completaremos con '--'.\n",
    "* Priority: Los valores nulos los completaremos con '--'.\n",
    "* Address_ship: Los valores nulos colocaresmo ARG.\n",
    "* Od_req_condition: Los valores nulos los remplazaremos por la condición 'CA', de calibración, ya que son todas herramientas calibradas.\n"
   ]
  },
  {
   "cell_type": "code",
   "execution_count": 17,
   "id": "4b4d42fe",
   "metadata": {},
   "outputs": [
    {
     "data": {
      "text/plain": [
       "0"
      ]
     },
     "execution_count": 17,
     "metadata": {},
     "output_type": "execute_result"
    }
   ],
   "source": [
    "ds_complete['TAT'].fillna(ds_complete.TAT.mean(), inplace=True)\n",
    "ds_complete.TAT.isnull().sum()"
   ]
  },
  {
   "cell_type": "code",
   "execution_count": 18,
   "id": "c515831a",
   "metadata": {},
   "outputs": [
    {
     "data": {
      "text/plain": [
       "array([nan, 'F3', 'F6', '--', 'F5', 'UP', 'F2', 'F1', 'AT', 'FF', 'Z2',\n",
       "       'Z1'], dtype=object)"
      ]
     },
     "execution_count": 18,
     "metadata": {},
     "output_type": "execute_result"
    }
   ],
   "source": [
    "ds_complete['shipment'].unique()"
   ]
  },
  {
   "cell_type": "code",
   "execution_count": 19,
   "id": "0e8805bd",
   "metadata": {},
   "outputs": [
    {
     "data": {
      "text/plain": [
       "0"
      ]
     },
     "execution_count": 19,
     "metadata": {},
     "output_type": "execute_result"
    }
   ],
   "source": [
    "ds_complete['shipment'].fillna('--', inplace=True)\n",
    "ds_complete['shipment'].isnull().sum()"
   ]
  },
  {
   "cell_type": "code",
   "execution_count": 20,
   "id": "f7d06396",
   "metadata": {},
   "outputs": [
    {
     "data": {
      "text/plain": [
       "array([nan, 'RTN', 'USR', 'AOG', 'WSP'], dtype=object)"
      ]
     },
     "execution_count": 20,
     "metadata": {},
     "output_type": "execute_result"
    }
   ],
   "source": [
    "ds_complete['priority'].unique()"
   ]
  },
  {
   "cell_type": "code",
   "execution_count": 21,
   "id": "e7dd4802",
   "metadata": {},
   "outputs": [
    {
     "data": {
      "text/plain": [
       "0"
      ]
     },
     "execution_count": 21,
     "metadata": {},
     "output_type": "execute_result"
    }
   ],
   "source": [
    "ds_complete['priority'].fillna('--', inplace=True)\n",
    "ds_complete['priority'].isnull().sum()"
   ]
  },
  {
   "cell_type": "code",
   "execution_count": 22,
   "id": "4af28b80",
   "metadata": {},
   "outputs": [
    {
     "data": {
      "text/plain": [
       "array(['AEP', 'ARG', 'ADUANA-EZE', 'AR0650', 'ADUANA-AEP', 'AR-REC',\n",
       "       'EZE', 'AUT', '062W2', nan, 'AR-METROLOGY', '3F4Z0', 'AR-ORDERING',\n",
       "       'NL0008', 'DE0203', '09AQ0', '81205', 'MIA-LOG', 'AU-REC',\n",
       "       'AU-ORDERING', 'US0202', 'EXP-EZE', 'AR-INVOICE'], dtype=object)"
      ]
     },
     "execution_count": 22,
     "metadata": {},
     "output_type": "execute_result"
    }
   ],
   "source": [
    "ds_complete['address_ship'].unique()"
   ]
  },
  {
   "cell_type": "code",
   "execution_count": 23,
   "id": "a8a2fb34",
   "metadata": {},
   "outputs": [
    {
     "data": {
      "text/plain": [
       "0"
      ]
     },
     "execution_count": 23,
     "metadata": {},
     "output_type": "execute_result"
    }
   ],
   "source": [
    "ds_complete['address_ship'].fillna('ARG', inplace=True)\n",
    "ds_complete['address_ship'].isnull().sum()"
   ]
  },
  {
   "cell_type": "code",
   "execution_count": 24,
   "id": "f37d52be",
   "metadata": {},
   "outputs": [
    {
     "data": {
      "text/plain": [
       "array([nan, 'CA', 'N', 'R', 'US', 'S', 'T', 'RT', 'SV', 'SC'],\n",
       "      dtype=object)"
      ]
     },
     "execution_count": 24,
     "metadata": {},
     "output_type": "execute_result"
    }
   ],
   "source": [
    "ds_complete['od_req_condition'].unique()"
   ]
  },
  {
   "cell_type": "code",
   "execution_count": 25,
   "id": "b928423b",
   "metadata": {},
   "outputs": [
    {
     "data": {
      "text/plain": [
       "0"
      ]
     },
     "execution_count": 25,
     "metadata": {},
     "output_type": "execute_result"
    }
   ],
   "source": [
    "ds_complete['od_req_condition'].fillna('CA', inplace=True)\n",
    "ds_complete['od_req_condition'].isnull().sum()"
   ]
  },
  {
   "cell_type": "markdown",
   "id": "3a84e01e",
   "metadata": {},
   "source": [
    "Ahora necesitamos transformar los **valores de tiempo** en valores numéricos, para poder evaluarlos correctamente."
   ]
  },
  {
   "cell_type": "code",
   "execution_count": 26,
   "id": "1c75c70d",
   "metadata": {},
   "outputs": [],
   "source": [
    "ds_complete['order_date'] = ds_complete['order_date'].apply(lambda x: pd.to_datetime(x))\n",
    "ds_complete['order_date_year'] = ds_complete['order_date'].apply(lambda x: x.year)\n",
    "ds_complete['order_date_month'] = ds_complete['order_date'].apply(lambda x: x.month)\n",
    "ds_complete['order_date_day'] = ds_complete['order_date'].apply(lambda x: x.day)"
   ]
  },
  {
   "cell_type": "code",
   "execution_count": 27,
   "id": "cc6caaa0",
   "metadata": {},
   "outputs": [],
   "source": [
    "#ds_complete['date_arrive'] = ds_complete['order_date'].apply(lambda x: ds_complete.TAT.astype('int') + x)"
   ]
  },
  {
   "cell_type": "markdown",
   "id": "7ac17616",
   "metadata": {},
   "source": [
    "**Clasificación de valores**\n",
    "\n",
    "Vamos a crear nuestro **vector objetivo 'Y'**. Para eso vamos a tomar como parametro de rentabilidad (*'on_time'*), a todas aquellas herramientas que estén dentro de los **90 días**. El resto que excedan este tiempo se considerarán no rentables o como *'con retraso'*.\n",
    "\n",
    "La idea de este vector es permitir identificar aquellos vendors que hagan entregas con retraso según el tipo de equipo."
   ]
  },
  {
   "cell_type": "code",
   "execution_count": 28,
   "id": "daadc988",
   "metadata": {},
   "outputs": [],
   "source": [
    "ds_complete['on_time'] = ds_complete['TAT'].apply(lambda x: 1 if x <= 90 else 0)"
   ]
  },
  {
   "cell_type": "code",
   "execution_count": 29,
   "id": "65317861",
   "metadata": {},
   "outputs": [
    {
     "data": {
      "text/html": [
       "<div>\n",
       "<style scoped>\n",
       "    .dataframe tbody tr th:only-of-type {\n",
       "        vertical-align: middle;\n",
       "    }\n",
       "\n",
       "    .dataframe tbody tr th {\n",
       "        vertical-align: top;\n",
       "    }\n",
       "\n",
       "    .dataframe thead th {\n",
       "        text-align: right;\n",
       "    }\n",
       "</style>\n",
       "<table border=\"1\" class=\"dataframe\">\n",
       "  <thead>\n",
       "    <tr style=\"text-align: right;\">\n",
       "      <th></th>\n",
       "      <th>TAT</th>\n",
       "      <th>part_number</th>\n",
       "      <th>description</th>\n",
       "      <th>order_number_id</th>\n",
       "      <th>order_number</th>\n",
       "      <th>order_type</th>\n",
       "      <th>order_date</th>\n",
       "      <th>address_ship</th>\n",
       "      <th>vendor_code</th>\n",
       "      <th>shipment</th>\n",
       "      <th>priority</th>\n",
       "      <th>created_date</th>\n",
       "      <th>od_confirmed_date</th>\n",
       "      <th>od_req_condition</th>\n",
       "      <th>vendor_name</th>\n",
       "      <th>order_date_year</th>\n",
       "      <th>order_date_month</th>\n",
       "      <th>order_date_day</th>\n",
       "      <th>on_time</th>\n",
       "    </tr>\n",
       "  </thead>\n",
       "  <tbody>\n",
       "    <tr>\n",
       "      <th>1845</th>\n",
       "      <td>8.0</td>\n",
       "      <td>AMB C D23</td>\n",
       "      <td>TEMPORIZADOR</td>\n",
       "      <td>77494</td>\n",
       "      <td>R1342019</td>\n",
       "      <td>R</td>\n",
       "      <td>2019-01-28</td>\n",
       "      <td>ARG</td>\n",
       "      <td>AR0398</td>\n",
       "      <td>--</td>\n",
       "      <td>RTN</td>\n",
       "      <td>2019-01-28 00:00:00</td>\n",
       "      <td>0</td>\n",
       "      <td>CA</td>\n",
       "      <td>SICE S.R.L.</td>\n",
       "      <td>2019</td>\n",
       "      <td>1</td>\n",
       "      <td>28</td>\n",
       "      <td>1</td>\n",
       "    </tr>\n",
       "    <tr>\n",
       "      <th>13733</th>\n",
       "      <td>15.0</td>\n",
       "      <td>H394R</td>\n",
       "      <td>TEMPCAL TESTER</td>\n",
       "      <td>169686</td>\n",
       "      <td>R1267821</td>\n",
       "      <td>R</td>\n",
       "      <td>2021-07-22</td>\n",
       "      <td>ADUANA-EZE</td>\n",
       "      <td>US0962</td>\n",
       "      <td>F3</td>\n",
       "      <td>RTN</td>\n",
       "      <td>2021-07-22 00:00:00</td>\n",
       "      <td>2021-08-16 00:00:00</td>\n",
       "      <td>CA</td>\n",
       "      <td>UMT CALIBRATION LABORATORY</td>\n",
       "      <td>2021</td>\n",
       "      <td>7</td>\n",
       "      <td>22</td>\n",
       "      <td>1</td>\n",
       "    </tr>\n",
       "    <tr>\n",
       "      <th>9815</th>\n",
       "      <td>51.0</td>\n",
       "      <td>1587FC</td>\n",
       "      <td>INSULATION MULTIMETER</td>\n",
       "      <td>187605</td>\n",
       "      <td>R0427422</td>\n",
       "      <td>R</td>\n",
       "      <td>2022-02-23</td>\n",
       "      <td>ADUANA-EZE</td>\n",
       "      <td>US0954</td>\n",
       "      <td>F3</td>\n",
       "      <td>RTN</td>\n",
       "      <td>2022-02-23 00:00:00</td>\n",
       "      <td>2022-04-14 00:00:00</td>\n",
       "      <td>CA</td>\n",
       "      <td>ALPHA &amp; OMEGA CALIBRATION SERVICES</td>\n",
       "      <td>2022</td>\n",
       "      <td>2</td>\n",
       "      <td>23</td>\n",
       "      <td>1</td>\n",
       "    </tr>\n",
       "    <tr>\n",
       "      <th>1731</th>\n",
       "      <td>7.0</td>\n",
       "      <td>0-50C</td>\n",
       "      <td>INDICADOR DE TEMPERATURA</td>\n",
       "      <td>168310</td>\n",
       "      <td>R1153921</td>\n",
       "      <td>R</td>\n",
       "      <td>2021-07-01</td>\n",
       "      <td>AR0650</td>\n",
       "      <td>AR0310</td>\n",
       "      <td>--</td>\n",
       "      <td>RTN</td>\n",
       "      <td>2021-07-01 00:00:00</td>\n",
       "      <td>2021-08-16 00:00:00</td>\n",
       "      <td>CA</td>\n",
       "      <td>EDACI S.R.L.</td>\n",
       "      <td>2021</td>\n",
       "      <td>7</td>\n",
       "      <td>1</td>\n",
       "      <td>1</td>\n",
       "    </tr>\n",
       "  </tbody>\n",
       "</table>\n",
       "</div>"
      ],
      "text/plain": [
       "        TAT part_number               description  order_number_id  \\\n",
       "1845    8.0   AMB C D23              TEMPORIZADOR            77494   \n",
       "13733  15.0       H394R            TEMPCAL TESTER           169686   \n",
       "9815   51.0      1587FC     INSULATION MULTIMETER           187605   \n",
       "1731    7.0       0-50C  INDICADOR DE TEMPERATURA           168310   \n",
       "\n",
       "      order_number order_type order_date address_ship vendor_code shipment  \\\n",
       "1845      R1342019          R 2019-01-28          ARG      AR0398       --   \n",
       "13733     R1267821          R 2021-07-22   ADUANA-EZE      US0962       F3   \n",
       "9815      R0427422          R 2022-02-23   ADUANA-EZE      US0954       F3   \n",
       "1731      R1153921          R 2021-07-01       AR0650      AR0310       --   \n",
       "\n",
       "      priority         created_date    od_confirmed_date od_req_condition  \\\n",
       "1845       RTN  2019-01-28 00:00:00                    0               CA   \n",
       "13733      RTN  2021-07-22 00:00:00  2021-08-16 00:00:00               CA   \n",
       "9815       RTN  2022-02-23 00:00:00  2022-04-14 00:00:00               CA   \n",
       "1731       RTN  2021-07-01 00:00:00  2021-08-16 00:00:00               CA   \n",
       "\n",
       "                              vendor_name  order_date_year  order_date_month  \\\n",
       "1845                          SICE S.R.L.             2019                 1   \n",
       "13733          UMT CALIBRATION LABORATORY             2021                 7   \n",
       "9815   ALPHA & OMEGA CALIBRATION SERVICES             2022                 2   \n",
       "1731                         EDACI S.R.L.             2021                 7   \n",
       "\n",
       "       order_date_day  on_time  \n",
       "1845               28        1  \n",
       "13733              22        1  \n",
       "9815               23        1  \n",
       "1731                1        1  "
      ]
     },
     "execution_count": 29,
     "metadata": {},
     "output_type": "execute_result"
    }
   ],
   "source": [
    "ds_complete.sample(4)"
   ]
  },
  {
   "cell_type": "markdown",
   "id": "1075e0da",
   "metadata": {},
   "source": [
    "¡Finalmente tenemos el DataSet completo!\n",
    "\n",
    "A partir de aca intentaremos preparar y entrenar los datos para poder realizar predicciones sobre los TAT de entrega de cada uno de los provedores."
   ]
  },
  {
   "cell_type": "markdown",
   "id": "f2fdc93a",
   "metadata": {},
   "source": [
    "<a id=\"preparacion_entrenamiento\"></a>\n",
    "## 4. Preparación y Entrenamiento del DataSet\n",
    "---"
   ]
  },
  {
   "cell_type": "markdown",
   "id": "06c76375",
   "metadata": {},
   "source": [
    "<a id=\"features\"></a> \n",
    "### 4.1 Features y dummies\n",
    "Escribir aquí... **# TO-DO**"
   ]
  },
  {
   "cell_type": "markdown",
   "id": "189347c0",
   "metadata": {},
   "source": [
    "**Features categóricas**"
   ]
  },
  {
   "cell_type": "code",
   "execution_count": 30,
   "id": "e17c8f6b",
   "metadata": {},
   "outputs": [
    {
     "data": {
      "text/plain": [
       "TAT                         float64\n",
       "part_number                  object\n",
       "description                  object\n",
       "order_number_id               int64\n",
       "order_number                 object\n",
       "order_type                   object\n",
       "order_date           datetime64[ns]\n",
       "address_ship                 object\n",
       "vendor_code                  object\n",
       "shipment                     object\n",
       "priority                     object\n",
       "created_date                 object\n",
       "od_confirmed_date            object\n",
       "od_req_condition             object\n",
       "vendor_name                  object\n",
       "order_date_year               int64\n",
       "order_date_month              int64\n",
       "order_date_day                int64\n",
       "on_time                       int64\n",
       "dtype: object"
      ]
     },
     "execution_count": 30,
     "metadata": {},
     "output_type": "execute_result"
    }
   ],
   "source": [
    "ds_complete.dtypes"
   ]
  },
  {
   "cell_type": "code",
   "execution_count": 31,
   "id": "2e937caa",
   "metadata": {},
   "outputs": [],
   "source": [
    "features_categoricas = ['description', 'order_type', 'address_ship', 'shipment', 'priority', 'vendor_name']\n",
    "\n",
    "ds_dummies = pd.get_dummies(ds_complete[features_categoricas], drop_first=True)"
   ]
  },
  {
   "cell_type": "code",
   "execution_count": 32,
   "id": "0709f75a",
   "metadata": {},
   "outputs": [
    {
     "data": {
      "text/html": [
       "<div>\n",
       "<style scoped>\n",
       "    .dataframe tbody tr th:only-of-type {\n",
       "        vertical-align: middle;\n",
       "    }\n",
       "\n",
       "    .dataframe tbody tr th {\n",
       "        vertical-align: top;\n",
       "    }\n",
       "\n",
       "    .dataframe thead th {\n",
       "        text-align: right;\n",
       "    }\n",
       "</style>\n",
       "<table border=\"1\" class=\"dataframe\">\n",
       "  <thead>\n",
       "    <tr style=\"text-align: right;\">\n",
       "      <th></th>\n",
       "      <th>description_1/2 HP RIGHT ANGLE DIE GRINDER</th>\n",
       "      <th>description_100 OHM RTD TEMPERATURE PROBE</th>\n",
       "      <th>description_100K THERMISTOR TEMPERATURE PROBE</th>\n",
       "      <th>description_16:64PR PHASED ARRAY ACQ.U/1 UT HD</th>\n",
       "      <th>description_17/64 HSS CHUCKING REAMER</th>\n",
       "      <th>description_2 X 50 GALLON COMPRESSOR WASH RIG</th>\n",
       "      <th>description_2-WIRE SENSOR TEST SET</th>\n",
       "      <th>description_20 HOLES, 1/8” THRU 3/4” W/ .030”</th>\n",
       "      <th>description_21/64 HSS CHUCKING REAMER</th>\n",
       "      <th>description_3/16 HSS CHUCKING REAMER</th>\n",
       "      <th>...</th>\n",
       "      <th>vendor_name_VACUUM TECHNOLOGY INC.</th>\n",
       "      <th>vendor_name_VALENCIA AVIATION, SL</th>\n",
       "      <th>vendor_name_VALHALLA SCIENTIFIC, INC.</th>\n",
       "      <th>vendor_name_VALUE TOOL &amp; ENGINEERING, INC.</th>\n",
       "      <th>vendor_name_VALUETRONICS INTERNATIONAL INC</th>\n",
       "      <th>vendor_name_VASRO INC</th>\n",
       "      <th>vendor_name_VIDITEC S.A.</th>\n",
       "      <th>vendor_name_WAYGATE TECHNOLOGIES USA, LP</th>\n",
       "      <th>vendor_name_WESCO AIRCRAFT HARDWARE CORP.</th>\n",
       "      <th>vendor_name_WIKA ARGENTINA S.A.</th>\n",
       "    </tr>\n",
       "  </thead>\n",
       "  <tbody>\n",
       "    <tr>\n",
       "      <th>0</th>\n",
       "      <td>0</td>\n",
       "      <td>0</td>\n",
       "      <td>0</td>\n",
       "      <td>0</td>\n",
       "      <td>0</td>\n",
       "      <td>0</td>\n",
       "      <td>0</td>\n",
       "      <td>0</td>\n",
       "      <td>0</td>\n",
       "      <td>0</td>\n",
       "      <td>...</td>\n",
       "      <td>0</td>\n",
       "      <td>0</td>\n",
       "      <td>0</td>\n",
       "      <td>0</td>\n",
       "      <td>0</td>\n",
       "      <td>0</td>\n",
       "      <td>0</td>\n",
       "      <td>0</td>\n",
       "      <td>0</td>\n",
       "      <td>0</td>\n",
       "    </tr>\n",
       "    <tr>\n",
       "      <th>1</th>\n",
       "      <td>0</td>\n",
       "      <td>0</td>\n",
       "      <td>0</td>\n",
       "      <td>0</td>\n",
       "      <td>0</td>\n",
       "      <td>0</td>\n",
       "      <td>0</td>\n",
       "      <td>0</td>\n",
       "      <td>0</td>\n",
       "      <td>0</td>\n",
       "      <td>...</td>\n",
       "      <td>0</td>\n",
       "      <td>0</td>\n",
       "      <td>0</td>\n",
       "      <td>0</td>\n",
       "      <td>0</td>\n",
       "      <td>0</td>\n",
       "      <td>0</td>\n",
       "      <td>0</td>\n",
       "      <td>0</td>\n",
       "      <td>0</td>\n",
       "    </tr>\n",
       "    <tr>\n",
       "      <th>2</th>\n",
       "      <td>0</td>\n",
       "      <td>0</td>\n",
       "      <td>0</td>\n",
       "      <td>0</td>\n",
       "      <td>0</td>\n",
       "      <td>0</td>\n",
       "      <td>0</td>\n",
       "      <td>0</td>\n",
       "      <td>0</td>\n",
       "      <td>0</td>\n",
       "      <td>...</td>\n",
       "      <td>0</td>\n",
       "      <td>0</td>\n",
       "      <td>0</td>\n",
       "      <td>0</td>\n",
       "      <td>0</td>\n",
       "      <td>0</td>\n",
       "      <td>0</td>\n",
       "      <td>0</td>\n",
       "      <td>0</td>\n",
       "      <td>0</td>\n",
       "    </tr>\n",
       "    <tr>\n",
       "      <th>3</th>\n",
       "      <td>0</td>\n",
       "      <td>0</td>\n",
       "      <td>0</td>\n",
       "      <td>0</td>\n",
       "      <td>0</td>\n",
       "      <td>0</td>\n",
       "      <td>0</td>\n",
       "      <td>0</td>\n",
       "      <td>0</td>\n",
       "      <td>0</td>\n",
       "      <td>...</td>\n",
       "      <td>0</td>\n",
       "      <td>0</td>\n",
       "      <td>0</td>\n",
       "      <td>0</td>\n",
       "      <td>0</td>\n",
       "      <td>0</td>\n",
       "      <td>0</td>\n",
       "      <td>0</td>\n",
       "      <td>0</td>\n",
       "      <td>0</td>\n",
       "    </tr>\n",
       "    <tr>\n",
       "      <th>4</th>\n",
       "      <td>0</td>\n",
       "      <td>0</td>\n",
       "      <td>0</td>\n",
       "      <td>0</td>\n",
       "      <td>0</td>\n",
       "      <td>0</td>\n",
       "      <td>0</td>\n",
       "      <td>0</td>\n",
       "      <td>0</td>\n",
       "      <td>0</td>\n",
       "      <td>...</td>\n",
       "      <td>0</td>\n",
       "      <td>0</td>\n",
       "      <td>0</td>\n",
       "      <td>0</td>\n",
       "      <td>0</td>\n",
       "      <td>0</td>\n",
       "      <td>0</td>\n",
       "      <td>0</td>\n",
       "      <td>0</td>\n",
       "      <td>0</td>\n",
       "    </tr>\n",
       "    <tr>\n",
       "      <th>...</th>\n",
       "      <td>...</td>\n",
       "      <td>...</td>\n",
       "      <td>...</td>\n",
       "      <td>...</td>\n",
       "      <td>...</td>\n",
       "      <td>...</td>\n",
       "      <td>...</td>\n",
       "      <td>...</td>\n",
       "      <td>...</td>\n",
       "      <td>...</td>\n",
       "      <td>...</td>\n",
       "      <td>...</td>\n",
       "      <td>...</td>\n",
       "      <td>...</td>\n",
       "      <td>...</td>\n",
       "      <td>...</td>\n",
       "      <td>...</td>\n",
       "      <td>...</td>\n",
       "      <td>...</td>\n",
       "      <td>...</td>\n",
       "      <td>...</td>\n",
       "    </tr>\n",
       "    <tr>\n",
       "      <th>14950</th>\n",
       "      <td>0</td>\n",
       "      <td>0</td>\n",
       "      <td>0</td>\n",
       "      <td>0</td>\n",
       "      <td>0</td>\n",
       "      <td>0</td>\n",
       "      <td>0</td>\n",
       "      <td>0</td>\n",
       "      <td>0</td>\n",
       "      <td>0</td>\n",
       "      <td>...</td>\n",
       "      <td>0</td>\n",
       "      <td>0</td>\n",
       "      <td>0</td>\n",
       "      <td>0</td>\n",
       "      <td>0</td>\n",
       "      <td>0</td>\n",
       "      <td>0</td>\n",
       "      <td>0</td>\n",
       "      <td>0</td>\n",
       "      <td>0</td>\n",
       "    </tr>\n",
       "    <tr>\n",
       "      <th>14951</th>\n",
       "      <td>0</td>\n",
       "      <td>0</td>\n",
       "      <td>0</td>\n",
       "      <td>0</td>\n",
       "      <td>0</td>\n",
       "      <td>0</td>\n",
       "      <td>0</td>\n",
       "      <td>0</td>\n",
       "      <td>0</td>\n",
       "      <td>0</td>\n",
       "      <td>...</td>\n",
       "      <td>0</td>\n",
       "      <td>0</td>\n",
       "      <td>0</td>\n",
       "      <td>0</td>\n",
       "      <td>0</td>\n",
       "      <td>0</td>\n",
       "      <td>0</td>\n",
       "      <td>0</td>\n",
       "      <td>0</td>\n",
       "      <td>0</td>\n",
       "    </tr>\n",
       "    <tr>\n",
       "      <th>14952</th>\n",
       "      <td>0</td>\n",
       "      <td>0</td>\n",
       "      <td>0</td>\n",
       "      <td>0</td>\n",
       "      <td>0</td>\n",
       "      <td>0</td>\n",
       "      <td>0</td>\n",
       "      <td>0</td>\n",
       "      <td>0</td>\n",
       "      <td>0</td>\n",
       "      <td>...</td>\n",
       "      <td>0</td>\n",
       "      <td>0</td>\n",
       "      <td>0</td>\n",
       "      <td>0</td>\n",
       "      <td>0</td>\n",
       "      <td>0</td>\n",
       "      <td>0</td>\n",
       "      <td>0</td>\n",
       "      <td>0</td>\n",
       "      <td>0</td>\n",
       "    </tr>\n",
       "    <tr>\n",
       "      <th>14953</th>\n",
       "      <td>0</td>\n",
       "      <td>0</td>\n",
       "      <td>0</td>\n",
       "      <td>0</td>\n",
       "      <td>0</td>\n",
       "      <td>0</td>\n",
       "      <td>0</td>\n",
       "      <td>0</td>\n",
       "      <td>0</td>\n",
       "      <td>0</td>\n",
       "      <td>...</td>\n",
       "      <td>0</td>\n",
       "      <td>0</td>\n",
       "      <td>0</td>\n",
       "      <td>0</td>\n",
       "      <td>0</td>\n",
       "      <td>0</td>\n",
       "      <td>0</td>\n",
       "      <td>0</td>\n",
       "      <td>0</td>\n",
       "      <td>0</td>\n",
       "    </tr>\n",
       "    <tr>\n",
       "      <th>14954</th>\n",
       "      <td>0</td>\n",
       "      <td>0</td>\n",
       "      <td>0</td>\n",
       "      <td>0</td>\n",
       "      <td>0</td>\n",
       "      <td>0</td>\n",
       "      <td>0</td>\n",
       "      <td>0</td>\n",
       "      <td>0</td>\n",
       "      <td>0</td>\n",
       "      <td>...</td>\n",
       "      <td>0</td>\n",
       "      <td>0</td>\n",
       "      <td>0</td>\n",
       "      <td>0</td>\n",
       "      <td>0</td>\n",
       "      <td>0</td>\n",
       "      <td>0</td>\n",
       "      <td>0</td>\n",
       "      <td>0</td>\n",
       "      <td>0</td>\n",
       "    </tr>\n",
       "  </tbody>\n",
       "</table>\n",
       "<p>14955 rows × 1913 columns</p>\n",
       "</div>"
      ],
      "text/plain": [
       "       description_1/2 HP RIGHT ANGLE DIE GRINDER  \\\n",
       "0                                               0   \n",
       "1                                               0   \n",
       "2                                               0   \n",
       "3                                               0   \n",
       "4                                               0   \n",
       "...                                           ...   \n",
       "14950                                           0   \n",
       "14951                                           0   \n",
       "14952                                           0   \n",
       "14953                                           0   \n",
       "14954                                           0   \n",
       "\n",
       "       description_100 OHM RTD TEMPERATURE PROBE  \\\n",
       "0                                              0   \n",
       "1                                              0   \n",
       "2                                              0   \n",
       "3                                              0   \n",
       "4                                              0   \n",
       "...                                          ...   \n",
       "14950                                          0   \n",
       "14951                                          0   \n",
       "14952                                          0   \n",
       "14953                                          0   \n",
       "14954                                          0   \n",
       "\n",
       "       description_100K THERMISTOR TEMPERATURE PROBE  \\\n",
       "0                                                  0   \n",
       "1                                                  0   \n",
       "2                                                  0   \n",
       "3                                                  0   \n",
       "4                                                  0   \n",
       "...                                              ...   \n",
       "14950                                              0   \n",
       "14951                                              0   \n",
       "14952                                              0   \n",
       "14953                                              0   \n",
       "14954                                              0   \n",
       "\n",
       "       description_16:64PR PHASED ARRAY ACQ.U/1 UT HD  \\\n",
       "0                                                   0   \n",
       "1                                                   0   \n",
       "2                                                   0   \n",
       "3                                                   0   \n",
       "4                                                   0   \n",
       "...                                               ...   \n",
       "14950                                               0   \n",
       "14951                                               0   \n",
       "14952                                               0   \n",
       "14953                                               0   \n",
       "14954                                               0   \n",
       "\n",
       "       description_17/64 HSS CHUCKING REAMER  \\\n",
       "0                                          0   \n",
       "1                                          0   \n",
       "2                                          0   \n",
       "3                                          0   \n",
       "4                                          0   \n",
       "...                                      ...   \n",
       "14950                                      0   \n",
       "14951                                      0   \n",
       "14952                                      0   \n",
       "14953                                      0   \n",
       "14954                                      0   \n",
       "\n",
       "       description_2 X 50 GALLON COMPRESSOR WASH RIG  \\\n",
       "0                                                  0   \n",
       "1                                                  0   \n",
       "2                                                  0   \n",
       "3                                                  0   \n",
       "4                                                  0   \n",
       "...                                              ...   \n",
       "14950                                              0   \n",
       "14951                                              0   \n",
       "14952                                              0   \n",
       "14953                                              0   \n",
       "14954                                              0   \n",
       "\n",
       "       description_2-WIRE SENSOR TEST SET  \\\n",
       "0                                       0   \n",
       "1                                       0   \n",
       "2                                       0   \n",
       "3                                       0   \n",
       "4                                       0   \n",
       "...                                   ...   \n",
       "14950                                   0   \n",
       "14951                                   0   \n",
       "14952                                   0   \n",
       "14953                                   0   \n",
       "14954                                   0   \n",
       "\n",
       "       description_20 HOLES, 1/8” THRU 3/4” W/ .030”  \\\n",
       "0                                                  0   \n",
       "1                                                  0   \n",
       "2                                                  0   \n",
       "3                                                  0   \n",
       "4                                                  0   \n",
       "...                                              ...   \n",
       "14950                                              0   \n",
       "14951                                              0   \n",
       "14952                                              0   \n",
       "14953                                              0   \n",
       "14954                                              0   \n",
       "\n",
       "       description_21/64 HSS CHUCKING REAMER  \\\n",
       "0                                          0   \n",
       "1                                          0   \n",
       "2                                          0   \n",
       "3                                          0   \n",
       "4                                          0   \n",
       "...                                      ...   \n",
       "14950                                      0   \n",
       "14951                                      0   \n",
       "14952                                      0   \n",
       "14953                                      0   \n",
       "14954                                      0   \n",
       "\n",
       "       description_3/16 HSS CHUCKING REAMER  ...  \\\n",
       "0                                         0  ...   \n",
       "1                                         0  ...   \n",
       "2                                         0  ...   \n",
       "3                                         0  ...   \n",
       "4                                         0  ...   \n",
       "...                                     ...  ...   \n",
       "14950                                     0  ...   \n",
       "14951                                     0  ...   \n",
       "14952                                     0  ...   \n",
       "14953                                     0  ...   \n",
       "14954                                     0  ...   \n",
       "\n",
       "       vendor_name_VACUUM TECHNOLOGY INC.  vendor_name_VALENCIA AVIATION, SL  \\\n",
       "0                                       0                                  0   \n",
       "1                                       0                                  0   \n",
       "2                                       0                                  0   \n",
       "3                                       0                                  0   \n",
       "4                                       0                                  0   \n",
       "...                                   ...                                ...   \n",
       "14950                                   0                                  0   \n",
       "14951                                   0                                  0   \n",
       "14952                                   0                                  0   \n",
       "14953                                   0                                  0   \n",
       "14954                                   0                                  0   \n",
       "\n",
       "       vendor_name_VALHALLA SCIENTIFIC, INC.  \\\n",
       "0                                          0   \n",
       "1                                          0   \n",
       "2                                          0   \n",
       "3                                          0   \n",
       "4                                          0   \n",
       "...                                      ...   \n",
       "14950                                      0   \n",
       "14951                                      0   \n",
       "14952                                      0   \n",
       "14953                                      0   \n",
       "14954                                      0   \n",
       "\n",
       "       vendor_name_VALUE TOOL & ENGINEERING, INC.  \\\n",
       "0                                               0   \n",
       "1                                               0   \n",
       "2                                               0   \n",
       "3                                               0   \n",
       "4                                               0   \n",
       "...                                           ...   \n",
       "14950                                           0   \n",
       "14951                                           0   \n",
       "14952                                           0   \n",
       "14953                                           0   \n",
       "14954                                           0   \n",
       "\n",
       "       vendor_name_VALUETRONICS INTERNATIONAL INC  vendor_name_VASRO INC  \\\n",
       "0                                               0                      0   \n",
       "1                                               0                      0   \n",
       "2                                               0                      0   \n",
       "3                                               0                      0   \n",
       "4                                               0                      0   \n",
       "...                                           ...                    ...   \n",
       "14950                                           0                      0   \n",
       "14951                                           0                      0   \n",
       "14952                                           0                      0   \n",
       "14953                                           0                      0   \n",
       "14954                                           0                      0   \n",
       "\n",
       "       vendor_name_VIDITEC S.A.  vendor_name_WAYGATE TECHNOLOGIES USA, LP  \\\n",
       "0                             0                                         0   \n",
       "1                             0                                         0   \n",
       "2                             0                                         0   \n",
       "3                             0                                         0   \n",
       "4                             0                                         0   \n",
       "...                         ...                                       ...   \n",
       "14950                         0                                         0   \n",
       "14951                         0                                         0   \n",
       "14952                         0                                         0   \n",
       "14953                         0                                         0   \n",
       "14954                         0                                         0   \n",
       "\n",
       "       vendor_name_WESCO AIRCRAFT HARDWARE CORP.  \\\n",
       "0                                              0   \n",
       "1                                              0   \n",
       "2                                              0   \n",
       "3                                              0   \n",
       "4                                              0   \n",
       "...                                          ...   \n",
       "14950                                          0   \n",
       "14951                                          0   \n",
       "14952                                          0   \n",
       "14953                                          0   \n",
       "14954                                          0   \n",
       "\n",
       "       vendor_name_WIKA ARGENTINA S.A.  \n",
       "0                                    0  \n",
       "1                                    0  \n",
       "2                                    0  \n",
       "3                                    0  \n",
       "4                                    0  \n",
       "...                                ...  \n",
       "14950                                0  \n",
       "14951                                0  \n",
       "14952                                0  \n",
       "14953                                0  \n",
       "14954                                0  \n",
       "\n",
       "[14955 rows x 1913 columns]"
      ]
     },
     "execution_count": 32,
     "metadata": {},
     "output_type": "execute_result"
    }
   ],
   "source": [
    "ds_dummies"
   ]
  },
  {
   "cell_type": "markdown",
   "id": "e731a496",
   "metadata": {},
   "source": [
    "**Features numéricas**"
   ]
  },
  {
   "cell_type": "code",
   "execution_count": 33,
   "id": "f616e23b",
   "metadata": {},
   "outputs": [],
   "source": [
    "features_numericas = ['order_date_year', 'order_date_month', 'order_date_day']"
   ]
  },
  {
   "cell_type": "code",
   "execution_count": 34,
   "id": "ada2cdf1",
   "metadata": {},
   "outputs": [],
   "source": [
    "ds_final = pd.concat([ds_complete[features_numericas], ds_dummies], axis=1)"
   ]
  },
  {
   "cell_type": "code",
   "execution_count": 35,
   "id": "d4ca2243",
   "metadata": {},
   "outputs": [
    {
     "data": {
      "text/html": [
       "<div>\n",
       "<style scoped>\n",
       "    .dataframe tbody tr th:only-of-type {\n",
       "        vertical-align: middle;\n",
       "    }\n",
       "\n",
       "    .dataframe tbody tr th {\n",
       "        vertical-align: top;\n",
       "    }\n",
       "\n",
       "    .dataframe thead th {\n",
       "        text-align: right;\n",
       "    }\n",
       "</style>\n",
       "<table border=\"1\" class=\"dataframe\">\n",
       "  <thead>\n",
       "    <tr style=\"text-align: right;\">\n",
       "      <th></th>\n",
       "      <th>order_date_year</th>\n",
       "      <th>order_date_month</th>\n",
       "      <th>order_date_day</th>\n",
       "      <th>description_1/2 HP RIGHT ANGLE DIE GRINDER</th>\n",
       "      <th>description_100 OHM RTD TEMPERATURE PROBE</th>\n",
       "      <th>description_100K THERMISTOR TEMPERATURE PROBE</th>\n",
       "      <th>description_16:64PR PHASED ARRAY ACQ.U/1 UT HD</th>\n",
       "      <th>description_17/64 HSS CHUCKING REAMER</th>\n",
       "      <th>description_2 X 50 GALLON COMPRESSOR WASH RIG</th>\n",
       "      <th>description_2-WIRE SENSOR TEST SET</th>\n",
       "      <th>...</th>\n",
       "      <th>vendor_name_VACUUM TECHNOLOGY INC.</th>\n",
       "      <th>vendor_name_VALENCIA AVIATION, SL</th>\n",
       "      <th>vendor_name_VALHALLA SCIENTIFIC, INC.</th>\n",
       "      <th>vendor_name_VALUE TOOL &amp; ENGINEERING, INC.</th>\n",
       "      <th>vendor_name_VALUETRONICS INTERNATIONAL INC</th>\n",
       "      <th>vendor_name_VASRO INC</th>\n",
       "      <th>vendor_name_VIDITEC S.A.</th>\n",
       "      <th>vendor_name_WAYGATE TECHNOLOGIES USA, LP</th>\n",
       "      <th>vendor_name_WESCO AIRCRAFT HARDWARE CORP.</th>\n",
       "      <th>vendor_name_WIKA ARGENTINA S.A.</th>\n",
       "    </tr>\n",
       "  </thead>\n",
       "  <tbody>\n",
       "    <tr>\n",
       "      <th>0</th>\n",
       "      <td>2018</td>\n",
       "      <td>8</td>\n",
       "      <td>8</td>\n",
       "      <td>0</td>\n",
       "      <td>0</td>\n",
       "      <td>0</td>\n",
       "      <td>0</td>\n",
       "      <td>0</td>\n",
       "      <td>0</td>\n",
       "      <td>0</td>\n",
       "      <td>...</td>\n",
       "      <td>0</td>\n",
       "      <td>0</td>\n",
       "      <td>0</td>\n",
       "      <td>0</td>\n",
       "      <td>0</td>\n",
       "      <td>0</td>\n",
       "      <td>0</td>\n",
       "      <td>0</td>\n",
       "      <td>0</td>\n",
       "      <td>0</td>\n",
       "    </tr>\n",
       "    <tr>\n",
       "      <th>1</th>\n",
       "      <td>2018</td>\n",
       "      <td>10</td>\n",
       "      <td>3</td>\n",
       "      <td>0</td>\n",
       "      <td>0</td>\n",
       "      <td>0</td>\n",
       "      <td>0</td>\n",
       "      <td>0</td>\n",
       "      <td>0</td>\n",
       "      <td>0</td>\n",
       "      <td>...</td>\n",
       "      <td>0</td>\n",
       "      <td>0</td>\n",
       "      <td>0</td>\n",
       "      <td>0</td>\n",
       "      <td>0</td>\n",
       "      <td>0</td>\n",
       "      <td>0</td>\n",
       "      <td>0</td>\n",
       "      <td>0</td>\n",
       "      <td>0</td>\n",
       "    </tr>\n",
       "    <tr>\n",
       "      <th>2</th>\n",
       "      <td>2018</td>\n",
       "      <td>11</td>\n",
       "      <td>12</td>\n",
       "      <td>0</td>\n",
       "      <td>0</td>\n",
       "      <td>0</td>\n",
       "      <td>0</td>\n",
       "      <td>0</td>\n",
       "      <td>0</td>\n",
       "      <td>0</td>\n",
       "      <td>...</td>\n",
       "      <td>0</td>\n",
       "      <td>0</td>\n",
       "      <td>0</td>\n",
       "      <td>0</td>\n",
       "      <td>0</td>\n",
       "      <td>0</td>\n",
       "      <td>0</td>\n",
       "      <td>0</td>\n",
       "      <td>0</td>\n",
       "      <td>0</td>\n",
       "    </tr>\n",
       "    <tr>\n",
       "      <th>3</th>\n",
       "      <td>2019</td>\n",
       "      <td>1</td>\n",
       "      <td>7</td>\n",
       "      <td>0</td>\n",
       "      <td>0</td>\n",
       "      <td>0</td>\n",
       "      <td>0</td>\n",
       "      <td>0</td>\n",
       "      <td>0</td>\n",
       "      <td>0</td>\n",
       "      <td>...</td>\n",
       "      <td>0</td>\n",
       "      <td>0</td>\n",
       "      <td>0</td>\n",
       "      <td>0</td>\n",
       "      <td>0</td>\n",
       "      <td>0</td>\n",
       "      <td>0</td>\n",
       "      <td>0</td>\n",
       "      <td>0</td>\n",
       "      <td>0</td>\n",
       "    </tr>\n",
       "    <tr>\n",
       "      <th>4</th>\n",
       "      <td>2019</td>\n",
       "      <td>1</td>\n",
       "      <td>21</td>\n",
       "      <td>0</td>\n",
       "      <td>0</td>\n",
       "      <td>0</td>\n",
       "      <td>0</td>\n",
       "      <td>0</td>\n",
       "      <td>0</td>\n",
       "      <td>0</td>\n",
       "      <td>...</td>\n",
       "      <td>0</td>\n",
       "      <td>0</td>\n",
       "      <td>0</td>\n",
       "      <td>0</td>\n",
       "      <td>0</td>\n",
       "      <td>0</td>\n",
       "      <td>0</td>\n",
       "      <td>0</td>\n",
       "      <td>0</td>\n",
       "      <td>0</td>\n",
       "    </tr>\n",
       "    <tr>\n",
       "      <th>...</th>\n",
       "      <td>...</td>\n",
       "      <td>...</td>\n",
       "      <td>...</td>\n",
       "      <td>...</td>\n",
       "      <td>...</td>\n",
       "      <td>...</td>\n",
       "      <td>...</td>\n",
       "      <td>...</td>\n",
       "      <td>...</td>\n",
       "      <td>...</td>\n",
       "      <td>...</td>\n",
       "      <td>...</td>\n",
       "      <td>...</td>\n",
       "      <td>...</td>\n",
       "      <td>...</td>\n",
       "      <td>...</td>\n",
       "      <td>...</td>\n",
       "      <td>...</td>\n",
       "      <td>...</td>\n",
       "      <td>...</td>\n",
       "      <td>...</td>\n",
       "    </tr>\n",
       "    <tr>\n",
       "      <th>14950</th>\n",
       "      <td>2022</td>\n",
       "      <td>11</td>\n",
       "      <td>30</td>\n",
       "      <td>0</td>\n",
       "      <td>0</td>\n",
       "      <td>0</td>\n",
       "      <td>0</td>\n",
       "      <td>0</td>\n",
       "      <td>0</td>\n",
       "      <td>0</td>\n",
       "      <td>...</td>\n",
       "      <td>0</td>\n",
       "      <td>0</td>\n",
       "      <td>0</td>\n",
       "      <td>0</td>\n",
       "      <td>0</td>\n",
       "      <td>0</td>\n",
       "      <td>0</td>\n",
       "      <td>0</td>\n",
       "      <td>0</td>\n",
       "      <td>0</td>\n",
       "    </tr>\n",
       "    <tr>\n",
       "      <th>14951</th>\n",
       "      <td>2022</td>\n",
       "      <td>12</td>\n",
       "      <td>7</td>\n",
       "      <td>0</td>\n",
       "      <td>0</td>\n",
       "      <td>0</td>\n",
       "      <td>0</td>\n",
       "      <td>0</td>\n",
       "      <td>0</td>\n",
       "      <td>0</td>\n",
       "      <td>...</td>\n",
       "      <td>0</td>\n",
       "      <td>0</td>\n",
       "      <td>0</td>\n",
       "      <td>0</td>\n",
       "      <td>0</td>\n",
       "      <td>0</td>\n",
       "      <td>0</td>\n",
       "      <td>0</td>\n",
       "      <td>0</td>\n",
       "      <td>0</td>\n",
       "    </tr>\n",
       "    <tr>\n",
       "      <th>14952</th>\n",
       "      <td>2023</td>\n",
       "      <td>1</td>\n",
       "      <td>31</td>\n",
       "      <td>0</td>\n",
       "      <td>0</td>\n",
       "      <td>0</td>\n",
       "      <td>0</td>\n",
       "      <td>0</td>\n",
       "      <td>0</td>\n",
       "      <td>0</td>\n",
       "      <td>...</td>\n",
       "      <td>0</td>\n",
       "      <td>0</td>\n",
       "      <td>0</td>\n",
       "      <td>0</td>\n",
       "      <td>0</td>\n",
       "      <td>0</td>\n",
       "      <td>0</td>\n",
       "      <td>0</td>\n",
       "      <td>0</td>\n",
       "      <td>0</td>\n",
       "    </tr>\n",
       "    <tr>\n",
       "      <th>14953</th>\n",
       "      <td>2023</td>\n",
       "      <td>2</td>\n",
       "      <td>13</td>\n",
       "      <td>0</td>\n",
       "      <td>0</td>\n",
       "      <td>0</td>\n",
       "      <td>0</td>\n",
       "      <td>0</td>\n",
       "      <td>0</td>\n",
       "      <td>0</td>\n",
       "      <td>...</td>\n",
       "      <td>0</td>\n",
       "      <td>0</td>\n",
       "      <td>0</td>\n",
       "      <td>0</td>\n",
       "      <td>0</td>\n",
       "      <td>0</td>\n",
       "      <td>0</td>\n",
       "      <td>0</td>\n",
       "      <td>0</td>\n",
       "      <td>0</td>\n",
       "    </tr>\n",
       "    <tr>\n",
       "      <th>14954</th>\n",
       "      <td>2023</td>\n",
       "      <td>2</td>\n",
       "      <td>13</td>\n",
       "      <td>0</td>\n",
       "      <td>0</td>\n",
       "      <td>0</td>\n",
       "      <td>0</td>\n",
       "      <td>0</td>\n",
       "      <td>0</td>\n",
       "      <td>0</td>\n",
       "      <td>...</td>\n",
       "      <td>0</td>\n",
       "      <td>0</td>\n",
       "      <td>0</td>\n",
       "      <td>0</td>\n",
       "      <td>0</td>\n",
       "      <td>0</td>\n",
       "      <td>0</td>\n",
       "      <td>0</td>\n",
       "      <td>0</td>\n",
       "      <td>0</td>\n",
       "    </tr>\n",
       "  </tbody>\n",
       "</table>\n",
       "<p>14955 rows × 1916 columns</p>\n",
       "</div>"
      ],
      "text/plain": [
       "       order_date_year  order_date_month  order_date_day  \\\n",
       "0                 2018                 8               8   \n",
       "1                 2018                10               3   \n",
       "2                 2018                11              12   \n",
       "3                 2019                 1               7   \n",
       "4                 2019                 1              21   \n",
       "...                ...               ...             ...   \n",
       "14950             2022                11              30   \n",
       "14951             2022                12               7   \n",
       "14952             2023                 1              31   \n",
       "14953             2023                 2              13   \n",
       "14954             2023                 2              13   \n",
       "\n",
       "       description_1/2 HP RIGHT ANGLE DIE GRINDER  \\\n",
       "0                                               0   \n",
       "1                                               0   \n",
       "2                                               0   \n",
       "3                                               0   \n",
       "4                                               0   \n",
       "...                                           ...   \n",
       "14950                                           0   \n",
       "14951                                           0   \n",
       "14952                                           0   \n",
       "14953                                           0   \n",
       "14954                                           0   \n",
       "\n",
       "       description_100 OHM RTD TEMPERATURE PROBE  \\\n",
       "0                                              0   \n",
       "1                                              0   \n",
       "2                                              0   \n",
       "3                                              0   \n",
       "4                                              0   \n",
       "...                                          ...   \n",
       "14950                                          0   \n",
       "14951                                          0   \n",
       "14952                                          0   \n",
       "14953                                          0   \n",
       "14954                                          0   \n",
       "\n",
       "       description_100K THERMISTOR TEMPERATURE PROBE  \\\n",
       "0                                                  0   \n",
       "1                                                  0   \n",
       "2                                                  0   \n",
       "3                                                  0   \n",
       "4                                                  0   \n",
       "...                                              ...   \n",
       "14950                                              0   \n",
       "14951                                              0   \n",
       "14952                                              0   \n",
       "14953                                              0   \n",
       "14954                                              0   \n",
       "\n",
       "       description_16:64PR PHASED ARRAY ACQ.U/1 UT HD  \\\n",
       "0                                                   0   \n",
       "1                                                   0   \n",
       "2                                                   0   \n",
       "3                                                   0   \n",
       "4                                                   0   \n",
       "...                                               ...   \n",
       "14950                                               0   \n",
       "14951                                               0   \n",
       "14952                                               0   \n",
       "14953                                               0   \n",
       "14954                                               0   \n",
       "\n",
       "       description_17/64 HSS CHUCKING REAMER  \\\n",
       "0                                          0   \n",
       "1                                          0   \n",
       "2                                          0   \n",
       "3                                          0   \n",
       "4                                          0   \n",
       "...                                      ...   \n",
       "14950                                      0   \n",
       "14951                                      0   \n",
       "14952                                      0   \n",
       "14953                                      0   \n",
       "14954                                      0   \n",
       "\n",
       "       description_2 X 50 GALLON COMPRESSOR WASH RIG  \\\n",
       "0                                                  0   \n",
       "1                                                  0   \n",
       "2                                                  0   \n",
       "3                                                  0   \n",
       "4                                                  0   \n",
       "...                                              ...   \n",
       "14950                                              0   \n",
       "14951                                              0   \n",
       "14952                                              0   \n",
       "14953                                              0   \n",
       "14954                                              0   \n",
       "\n",
       "       description_2-WIRE SENSOR TEST SET  ...  \\\n",
       "0                                       0  ...   \n",
       "1                                       0  ...   \n",
       "2                                       0  ...   \n",
       "3                                       0  ...   \n",
       "4                                       0  ...   \n",
       "...                                   ...  ...   \n",
       "14950                                   0  ...   \n",
       "14951                                   0  ...   \n",
       "14952                                   0  ...   \n",
       "14953                                   0  ...   \n",
       "14954                                   0  ...   \n",
       "\n",
       "       vendor_name_VACUUM TECHNOLOGY INC.  vendor_name_VALENCIA AVIATION, SL  \\\n",
       "0                                       0                                  0   \n",
       "1                                       0                                  0   \n",
       "2                                       0                                  0   \n",
       "3                                       0                                  0   \n",
       "4                                       0                                  0   \n",
       "...                                   ...                                ...   \n",
       "14950                                   0                                  0   \n",
       "14951                                   0                                  0   \n",
       "14952                                   0                                  0   \n",
       "14953                                   0                                  0   \n",
       "14954                                   0                                  0   \n",
       "\n",
       "       vendor_name_VALHALLA SCIENTIFIC, INC.  \\\n",
       "0                                          0   \n",
       "1                                          0   \n",
       "2                                          0   \n",
       "3                                          0   \n",
       "4                                          0   \n",
       "...                                      ...   \n",
       "14950                                      0   \n",
       "14951                                      0   \n",
       "14952                                      0   \n",
       "14953                                      0   \n",
       "14954                                      0   \n",
       "\n",
       "       vendor_name_VALUE TOOL & ENGINEERING, INC.  \\\n",
       "0                                               0   \n",
       "1                                               0   \n",
       "2                                               0   \n",
       "3                                               0   \n",
       "4                                               0   \n",
       "...                                           ...   \n",
       "14950                                           0   \n",
       "14951                                           0   \n",
       "14952                                           0   \n",
       "14953                                           0   \n",
       "14954                                           0   \n",
       "\n",
       "       vendor_name_VALUETRONICS INTERNATIONAL INC  vendor_name_VASRO INC  \\\n",
       "0                                               0                      0   \n",
       "1                                               0                      0   \n",
       "2                                               0                      0   \n",
       "3                                               0                      0   \n",
       "4                                               0                      0   \n",
       "...                                           ...                    ...   \n",
       "14950                                           0                      0   \n",
       "14951                                           0                      0   \n",
       "14952                                           0                      0   \n",
       "14953                                           0                      0   \n",
       "14954                                           0                      0   \n",
       "\n",
       "       vendor_name_VIDITEC S.A.  vendor_name_WAYGATE TECHNOLOGIES USA, LP  \\\n",
       "0                             0                                         0   \n",
       "1                             0                                         0   \n",
       "2                             0                                         0   \n",
       "3                             0                                         0   \n",
       "4                             0                                         0   \n",
       "...                         ...                                       ...   \n",
       "14950                         0                                         0   \n",
       "14951                         0                                         0   \n",
       "14952                         0                                         0   \n",
       "14953                         0                                         0   \n",
       "14954                         0                                         0   \n",
       "\n",
       "       vendor_name_WESCO AIRCRAFT HARDWARE CORP.  \\\n",
       "0                                              0   \n",
       "1                                              0   \n",
       "2                                              0   \n",
       "3                                              0   \n",
       "4                                              0   \n",
       "...                                          ...   \n",
       "14950                                          0   \n",
       "14951                                          0   \n",
       "14952                                          0   \n",
       "14953                                          0   \n",
       "14954                                          0   \n",
       "\n",
       "       vendor_name_WIKA ARGENTINA S.A.  \n",
       "0                                    0  \n",
       "1                                    0  \n",
       "2                                    0  \n",
       "3                                    0  \n",
       "4                                    0  \n",
       "...                                ...  \n",
       "14950                                0  \n",
       "14951                                0  \n",
       "14952                                0  \n",
       "14953                                0  \n",
       "14954                                0  \n",
       "\n",
       "[14955 rows x 1916 columns]"
      ]
     },
     "execution_count": 35,
     "metadata": {},
     "output_type": "execute_result"
    }
   ],
   "source": [
    "ds_final"
   ]
  },
  {
   "cell_type": "markdown",
   "id": "c109493e",
   "metadata": {},
   "source": [
    "<a id=\"split\"></a> \n",
    "### 4.2 Split del set de entrenamiento\n",
    "Escribir aquí... **# TO-DO**"
   ]
  },
  {
   "cell_type": "code",
   "execution_count": 36,
   "id": "5ce37aa4",
   "metadata": {},
   "outputs": [],
   "source": [
    "X = ds_final\n",
    "y = ds_complete['on_time']\n",
    "\n",
    "X_train, X_test, y_train, y_test = train_test_split(X, y, test_size=0.3, random_state=12)"
   ]
  },
  {
   "cell_type": "code",
   "execution_count": 37,
   "id": "86ba4e0f",
   "metadata": {},
   "outputs": [
    {
     "name": "stdout",
     "output_type": "stream",
     "text": [
      "Set_entrenamiento_y:\n",
      "1    0.789263\n",
      "0    0.210737\n",
      "Name: on_time, dtype: float64\n",
      "Set_testeo_y:\n",
      "1    0.78694\n",
      "0    0.21306\n",
      "Name: on_time, dtype: float64\n"
     ]
    }
   ],
   "source": [
    "print('Set_entrenamiento_y:')\n",
    "print(y_train.value_counts(normalize=True))\n",
    "\n",
    "print('Set_testeo_y:')\n",
    "print(y_test.value_counts(normalize=True))"
   ]
  },
  {
   "cell_type": "code",
   "execution_count": 38,
   "id": "e7bc7ede",
   "metadata": {},
   "outputs": [],
   "source": [
    "scaler = StandardScaler()\n",
    "X_train_std = scaler.fit_transform(X_train)\n",
    "X_test_std = scaler.transform(X_test)"
   ]
  },
  {
   "cell_type": "markdown",
   "id": "47d91a24",
   "metadata": {},
   "source": [
    "<a id=\"metodo_entrenamiento\"></a> \n",
    "### 4.3 Selección del método de entrenamiento\n",
    "Escribir aquí...  **# TO-DO**"
   ]
  },
  {
   "cell_type": "markdown",
   "id": "01c41ec7",
   "metadata": {},
   "source": [
    "**4.3.1 Regresión Logística**"
   ]
  },
  {
   "cell_type": "code",
   "execution_count": 39,
   "id": "5d29fb35",
   "metadata": {},
   "outputs": [
    {
     "name": "stderr",
     "output_type": "stream",
     "text": [
      "C:\\Users\\ar037895\\Anaconda3\\envs\\dhdsblend2022\\lib\\site-packages\\sklearn\\linear_model\\_logistic.py:762: ConvergenceWarning: lbfgs failed to converge (status=1):\n",
      "STOP: TOTAL NO. of ITERATIONS REACHED LIMIT.\n",
      "\n",
      "Increase the number of iterations (max_iter) or scale the data as shown in:\n",
      "    https://scikit-learn.org/stable/modules/preprocessing.html\n",
      "Please also refer to the documentation for alternative solver options:\n",
      "    https://scikit-learn.org/stable/modules/linear_model.html#logistic-regression\n",
      "  n_iter_i = _check_optimize_result(\n"
     ]
    },
    {
     "data": {
      "text/plain": [
       "LogisticRegression()"
      ]
     },
     "execution_count": 39,
     "metadata": {},
     "output_type": "execute_result"
    }
   ],
   "source": [
    "lr = LogisticRegression()\n",
    "\n",
    "lr.fit(X_train_std, y_train)"
   ]
  },
  {
   "cell_type": "code",
   "execution_count": 40,
   "id": "f3fad4cc",
   "metadata": {},
   "outputs": [
    {
     "name": "stdout",
     "output_type": "stream",
     "text": [
      "[2.47223554]\n",
      "[[ 0.03856063  0.13453576  0.01625483 ... -0.1651102   0.13987685\n",
      "  -0.05606136]]\n"
     ]
    }
   ],
   "source": [
    "print(lr.intercept_)\n",
    "print(lr.coef_)"
   ]
  },
  {
   "cell_type": "code",
   "execution_count": 41,
   "id": "c8e930b6",
   "metadata": {},
   "outputs": [],
   "source": [
    "y_pred = lr.predict_proba(X_test_std)"
   ]
  },
  {
   "cell_type": "code",
   "execution_count": 240,
   "id": "000aa224",
   "metadata": {},
   "outputs": [],
   "source": [
    "thr_num = [0.0,0.1,0.2,0.3,0.4,0.5,0.6,0.7,0.8,0.9,1]\n",
    "y_pred_list_lr = []\n",
    "for i in thr_num:\n",
    "    y_pred_list_lr.append(binarize(y_pred, threshold=i)[:,1])"
   ]
  },
  {
   "cell_type": "markdown",
   "id": "6b68b28e",
   "metadata": {},
   "source": [
    "**4.3.2 Neives-Bayes Gausiano**"
   ]
  },
  {
   "cell_type": "code",
   "execution_count": 43,
   "id": "33201cb7",
   "metadata": {},
   "outputs": [],
   "source": [
    "from sklearn.naive_bayes import GaussianNB"
   ]
  },
  {
   "cell_type": "code",
   "execution_count": 44,
   "id": "9a5e16cd",
   "metadata": {},
   "outputs": [
    {
     "data": {
      "text/plain": [
       "GaussianNB()"
      ]
     },
     "execution_count": 44,
     "metadata": {},
     "output_type": "execute_result"
    }
   ],
   "source": [
    "gnb = GaussianNB()\n",
    "gnb.fit(X_train_std, y_train)"
   ]
  },
  {
   "cell_type": "code",
   "execution_count": 45,
   "id": "a7cf7563",
   "metadata": {},
   "outputs": [
    {
     "data": {
      "text/plain": [
       "array([0, 0, 0, ..., 0, 0, 0], dtype=int64)"
      ]
     },
     "execution_count": 45,
     "metadata": {},
     "output_type": "execute_result"
    }
   ],
   "source": [
    "Y_pred_nb = gnb.predict(X_test_std)\n",
    "Y_pred_nb"
   ]
  },
  {
   "cell_type": "code",
   "execution_count": 46,
   "id": "a8c4c611",
   "metadata": {},
   "outputs": [
    {
     "data": {
      "text/plain": [
       "array([[1., 0.],\n",
       "       [1., 0.],\n",
       "       [1., 0.],\n",
       "       ...,\n",
       "       [1., 0.],\n",
       "       [1., 0.],\n",
       "       [1., 0.]])"
      ]
     },
     "execution_count": 46,
     "metadata": {},
     "output_type": "execute_result"
    }
   ],
   "source": [
    "Y_pred_nb_p = gnb.predict_proba(X_test_std)\n",
    "Y_pred_nb_p"
   ]
  },
  {
   "cell_type": "code",
   "execution_count": 241,
   "id": "131ad0c5",
   "metadata": {},
   "outputs": [
    {
     "data": {
      "text/plain": [
       "array([0., 0., 0., ..., 0., 0., 0.])"
      ]
     },
     "execution_count": 241,
     "metadata": {},
     "output_type": "execute_result"
    }
   ],
   "source": [
    "Y_pred_nb_01 = binarize(Y_pred_nb_p, threshold=0.1)[:,1]\n",
    "Y_pred_nb_01"
   ]
  },
  {
   "cell_type": "code",
   "execution_count": 242,
   "id": "7b93199f",
   "metadata": {},
   "outputs": [
    {
     "data": {
      "text/plain": [
       "array([0., 0., 0., ..., 0., 0., 0.])"
      ]
     },
     "execution_count": 242,
     "metadata": {},
     "output_type": "execute_result"
    }
   ],
   "source": [
    "Y_pred_nb_02 = binarize(Y_pred_nb_p, threshold=0.2)[:,1]\n",
    "Y_pred_nb_02"
   ]
  },
  {
   "cell_type": "code",
   "execution_count": 243,
   "id": "7dd59dd6",
   "metadata": {},
   "outputs": [
    {
     "data": {
      "text/plain": [
       "array([0., 0., 0., ..., 0., 0., 0.])"
      ]
     },
     "execution_count": 243,
     "metadata": {},
     "output_type": "execute_result"
    }
   ],
   "source": [
    "Y_pred_nb_03 = binarize(Y_pred_nb_p, threshold=0.3)[:,1]\n",
    "Y_pred_nb_03"
   ]
  },
  {
   "cell_type": "code",
   "execution_count": 244,
   "id": "561d7251",
   "metadata": {},
   "outputs": [
    {
     "data": {
      "text/plain": [
       "array([0., 0., 0., ..., 0., 0., 0.])"
      ]
     },
     "execution_count": 244,
     "metadata": {},
     "output_type": "execute_result"
    }
   ],
   "source": [
    "Y_pred_nb_04 = binarize(Y_pred_nb_p, threshold=0.4)[:,1]\n",
    "Y_pred_nb_04"
   ]
  },
  {
   "cell_type": "code",
   "execution_count": 245,
   "id": "a5288e5e",
   "metadata": {},
   "outputs": [
    {
     "data": {
      "text/plain": [
       "array([0., 0., 0., ..., 0., 0., 0.])"
      ]
     },
     "execution_count": 245,
     "metadata": {},
     "output_type": "execute_result"
    }
   ],
   "source": [
    "Y_pred_nb_06 = binarize(Y_pred_nb_p, threshold=0.6)[:,1]\n",
    "Y_pred_nb_06"
   ]
  },
  {
   "cell_type": "code",
   "execution_count": 246,
   "id": "9f065bbd",
   "metadata": {},
   "outputs": [
    {
     "data": {
      "text/plain": [
       "array([0., 0., 0., ..., 0., 0., 0.])"
      ]
     },
     "execution_count": 246,
     "metadata": {},
     "output_type": "execute_result"
    }
   ],
   "source": [
    "Y_pred_nb_07 = binarize(Y_pred_nb_p, threshold=0.7)[:,1]\n",
    "Y_pred_nb_07"
   ]
  },
  {
   "cell_type": "code",
   "execution_count": 247,
   "id": "8ccf4301",
   "metadata": {},
   "outputs": [
    {
     "data": {
      "text/plain": [
       "array([0., 0., 0., ..., 0., 0., 0.])"
      ]
     },
     "execution_count": 247,
     "metadata": {},
     "output_type": "execute_result"
    }
   ],
   "source": [
    "Y_pred_nb_08 = binarize(Y_pred_nb_p, threshold=0.8)[:,1]\n",
    "Y_pred_nb_08"
   ]
  },
  {
   "cell_type": "code",
   "execution_count": 248,
   "id": "98bdfd8b",
   "metadata": {},
   "outputs": [
    {
     "data": {
      "text/plain": [
       "array([0., 0., 0., ..., 0., 0., 0.])"
      ]
     },
     "execution_count": 248,
     "metadata": {},
     "output_type": "execute_result"
    }
   ],
   "source": [
    "Y_pred_nb_09 = binarize(Y_pred_nb_p, threshold=0.9)[:,1]\n",
    "Y_pred_nb_09"
   ]
  },
  {
   "cell_type": "code",
   "execution_count": 55,
   "id": "1df80072",
   "metadata": {},
   "outputs": [],
   "source": [
    "#Hasta aca termina la prediccion de GNB. No tiene ningun hiperparametro para probar con diferentes valores."
   ]
  },
  {
   "cell_type": "markdown",
   "id": "f223ea71",
   "metadata": {},
   "source": [
    "**4.3.3 K-Nearest Neighbors**"
   ]
  },
  {
   "cell_type": "code",
   "execution_count": 56,
   "id": "e04a5893",
   "metadata": {},
   "outputs": [],
   "source": [
    "from sklearn.neighbors import KNeighborsClassifier"
   ]
  },
  {
   "cell_type": "code",
   "execution_count": 57,
   "id": "433052fb",
   "metadata": {},
   "outputs": [],
   "source": [
    "knn = KNeighborsClassifier(n_neighbors=5)"
   ]
  },
  {
   "cell_type": "code",
   "execution_count": 58,
   "id": "89534e32",
   "metadata": {},
   "outputs": [],
   "source": [
    "# Ajustamos a los datos de entrenamiento.\n",
    "knn.fit(X_train, y_train);\n",
    "\n",
    "# Predecimos etiquetas para los datos de test.\n",
    "y_pred_knn = knn.predict(X_test) "
   ]
  },
  {
   "cell_type": "code",
   "execution_count": 59,
   "id": "e6d2dd3d",
   "metadata": {},
   "outputs": [
    {
     "data": {
      "text/plain": [
       "0.82"
      ]
     },
     "execution_count": 59,
     "metadata": {},
     "output_type": "execute_result"
    }
   ],
   "source": [
    "# Evaluamos el accuracy del modelo\n",
    "from sklearn.metrics import accuracy_score\n",
    "accuracy_score(y_test, y_pred_knn).round(2)"
   ]
  },
  {
   "cell_type": "code",
   "execution_count": 62,
   "id": "6301b0c1",
   "metadata": {},
   "outputs": [],
   "source": [
    "#Ahora generamos una lista con los accuracy para cada n_neighbors entre 1 y 40\n",
    "X_train_train, X_validation, y_train_train, y_validation = train_test_split(X_train, y_train, random_state=12)\n",
    "\n",
    "k_range = list(range(1, 21))\n",
    "scores = []\n",
    "for k in k_range:\n",
    "    knn = KNeighborsClassifier(n_neighbors=k, n_jobs=-1)\n",
    "    knn.fit(X_train_train, y_train_train)\n",
    "    y_pred_knn = knn.predict(X_validation)\n",
    "    scores.append(accuracy_score(y_validation, y_pred_knn))    \n"
   ]
  },
  {
   "cell_type": "code",
   "execution_count": 63,
   "id": "48a95fe5",
   "metadata": {},
   "outputs": [
    {
     "data": {
      "image/png": "[encoded data removed]",
      "text/plain": [
       "<Figure size 400x300 with 1 Axes>"
      ]
     },
     "metadata": {},
     "output_type": "display_data"
    }
   ],
   "source": [
    "#Y graficamos los resultados \n",
    "\n",
    "plt.figure(figsize=(4,3))\n",
    "plt.plot(k_range, scores)\n",
    "plt.xlabel('Valor de K'); plt.ylabel('Test Accuracy')\n",
    "plt.grid(); plt.show()"
   ]
  },
  {
   "cell_type": "code",
   "execution_count": 64,
   "id": "365a34d2",
   "metadata": {},
   "outputs": [],
   "source": [
    "# La precision del test es muy volatil para valores de k entre 1 y 16, y luego comienza a convergere alrededor del \n",
    "# 80% de precision para valores de k de 17 en adelante"
   ]
  },
  {
   "cell_type": "code",
   "execution_count": 66,
   "id": "809a03ac",
   "metadata": {},
   "outputs": [
    {
     "name": "stderr",
     "output_type": "stream",
     "text": [
      "\n",
      "KeyboardInterrupt\n",
      "\n"
     ]
    }
   ],
   "source": [
    "# Probamos cross validation\n",
    "\n",
    "from sklearn.model_selection import cross_val_score, KFold\n",
    "\n",
    "# Usamos cross validation con 4 folds\n",
    "kf = KFold(n_splits=4, shuffle=True, random_state=12)\n",
    "\n",
    "scores_para_df = []\n",
    "\n",
    "for i in range(1, 21):\n",
    "    \n",
    "    # En cada iteración, instanciamos el modelo con un hiperparámetro distinto\n",
    "    model = KNeighborsClassifier(n_neighbors=i)\n",
    "    \n",
    "    # cross_val_scores nos devuelve un array de 4 resultados,\n",
    "    # uno por cada partición que hizo automáticamente CV\n",
    "    cv_scores = cross_val_score(model, X_train, y_train, cv=kf)\n",
    "    \n",
    "    # Para cada valor de n_neighbours, creamos un diccionario con el valor\n",
    "    # de n_neighbours y la media de los scores\n",
    "    dict_row_score = {'score_medio':np.mean(cv_scores), 'n_neighbors':i}\n",
    "    \n",
    "    # Guardamos cada uno en la lista de diccionarios\n",
    "    scores_para_df.append(dict_row_score)"
   ]
  },
  {
   "cell_type": "code",
   "execution_count": null,
   "id": "cbf201bb",
   "metadata": {},
   "outputs": [],
   "source": [
    "# Creamos el DataFrame a partir de la lista de diccionarios\n",
    "df_scores = pd.DataFrame(scores_para_df)\n",
    "df_scores.sort_values(by=['score_medio'],ascending=False).head(5)"
   ]
  },
  {
   "cell_type": "code",
   "execution_count": null,
   "id": "e273cd41",
   "metadata": {},
   "outputs": [],
   "source": [
    "#Identificamos que el valor de n_neighbors que maximiza el score promedio es 7, con un score de 0.803.\n",
    "\n",
    "#Grafiquemos la media por cada n_neighbors.\n",
    "plt.plot(df_scores['n_neighbors'], df_scores['score_medio'], color='b')\n",
    "plt.xlabel('Valor de K'); plt.ylabel('Accuracy')\n",
    "plt.grid(); plt.show()"
   ]
  },
  {
   "cell_type": "code",
   "execution_count": null,
   "id": "6b33f38e",
   "metadata": {},
   "outputs": [],
   "source": [
    "#Al aplicar cross validation notamos que, si bien la variabilidad de la precision en los valores iniciales se mantiene, esta vez\n",
    "# se puede ver a simple viste que se alcanza un maximo en k=7 luego de converger a aproximadamente 0.795."
   ]
  },
  {
   "cell_type": "code",
   "execution_count": null,
   "id": "b22dcf0e",
   "metadata": {},
   "outputs": [],
   "source": [
    "# Ahora estandarizamos las variables del detaset de entrenamiento de X para ver si cambian las conclusiones\n",
    "from sklearn.preprocessing import StandardScaler\n",
    "scaler = StandardScaler()\n",
    "X_train = scaler.fit_transform(X_train)"
   ]
  },
  {
   "cell_type": "code",
   "execution_count": null,
   "id": "6d60567e",
   "metadata": {},
   "outputs": [],
   "source": [
    "print('Medias:', np.mean(X_train, axis=0).round(2))\n",
    "print('Desvio:', np.std(X_train, axis=0).round(2))"
   ]
  },
  {
   "cell_type": "code",
   "execution_count": null,
   "id": "212e9b85",
   "metadata": {},
   "outputs": [],
   "source": [
    "#Generamos un nuevo modelo KNN con los datos normalizados.\n",
    "\n",
    "from sklearn.model_selection import cross_val_score, KFold\n",
    "\n",
    "# Usamos cross validation con 4 folds\n",
    "kf = KFold(n_splits=4, shuffle=True, random_state=12)\n",
    "\n",
    "scores_para_df = []\n",
    "\n",
    "for i in range(1, 21):\n",
    "    \n",
    "    # En cada iteración, instanciamos el modelo con un hiperparámetro distinto\n",
    "    model = KNeighborsClassifier(n_neighbors=i)\n",
    "    \n",
    "    # cross_val_scores nos devuelve un array de 4 resultados,\n",
    "    # uno por cada partición que hizo automáticamente CV\n",
    "    cv_scores = cross_val_score(model, X_train, y_train, cv=kf)\n",
    "    \n",
    "    # Para cada valor de n_neighbours, creamos un diccionario con el valor\n",
    "    # de n_neighbours y la media de los scores\n",
    "    dict_row_score = {'score_medio':np.mean(cv_scores), 'n_neighbors':i}\n",
    "    \n",
    "    # Guardamos cada uno en la lista de diccionarios\n",
    "    scores_para_df.append(dict_row_score)"
   ]
  },
  {
   "cell_type": "code",
   "execution_count": null,
   "id": "7ebb51d2",
   "metadata": {},
   "outputs": [],
   "source": [
    "# Creamos el DataFrame a partir de la lista de diccionarios\n",
    "df_scores = pd.DataFrame(scores_para_df)\n",
    "df_scores.sort_values(by=['score_medio'],ascending=False).head(5)"
   ]
  },
  {
   "cell_type": "code",
   "execution_count": null,
   "id": "01b3ec86",
   "metadata": {},
   "outputs": [],
   "source": [
    "#Ahora el valor de n_neighbors que maximiza el score promedio es 9, pero el score empeoro levemente a 0.7997.\n",
    "\n",
    "#Grafiquemos la media por cada n_neighbors.\n",
    "plt.plot(df_scores['n_neighbors'], df_scores['score_medio'], color='b')\n",
    "plt.xlabel('Valor de K'); plt.ylabel('Accuracy')\n",
    "plt.grid(); plt.show()"
   ]
  },
  {
   "cell_type": "code",
   "execution_count": null,
   "id": "3f32d14d",
   "metadata": {},
   "outputs": [],
   "source": [
    "#Ahora el valor de n_neighbors que maximiza el score promedio es 9, pero el score empeoro levemente a 0.7997. \n",
    "#Ademas ahora podemos notar una secuencia mas uniforme en lo que respecta al orden de los maximos segun su valor de k. \n",
    "#Con una presicion que varía fuertemente para los valores iniciales de k, hasta llegar a 9, para luego converger de forma \n",
    "#cada vez mas suave hacia una precision de 0.79."
   ]
  },
  {
   "cell_type": "markdown",
   "id": "d20643e4",
   "metadata": {},
   "source": [
    "<a id=\"evaluacion_modelos\"></a>\n",
    "## 5. Evaluación de los Modelos\n",
    "---"
   ]
  },
  {
   "cell_type": "markdown",
   "id": "750b52fd",
   "metadata": {},
   "source": [
    "Apartir de las diferentes metodologías y modelos predictivos, que parten de un misimo DataSet. Comenzaremos a realizar las evaluaciones de cada uno y el rendimiento que tienen. Analizando los hiperparamtetros y seleccionando el óptimo para cada condición."
   ]
  },
  {
   "cell_type": "markdown",
   "id": "4c6659e5",
   "metadata": {},
   "source": [
    "<a id=\"section_matriz_confusion_code\"></a> \n",
    "### 5.1 Métricas: Matriz de confusión"
   ]
  },
  {
   "cell_type": "markdown",
   "id": "3dfa80c1",
   "metadata": {},
   "source": [
    "**Regresión Logística**"
   ]
  },
  {
   "cell_type": "code",
   "execution_count": 67,
   "id": "034bb0b1",
   "metadata": {},
   "outputs": [
    {
     "data": {
      "text/plain": [
       "Text(50.722222222222214, 0.5, 'Reales')"
      ]
     },
     "execution_count": 67,
     "metadata": {},
     "output_type": "execute_result"
    },
    {
     "data": {
      "image/png": "[encoded data removed]",
      "text/plain": [
       "<Figure size 640x480 with 2 Axes>"
      ]
     },
     "metadata": {},
     "output_type": "display_data"
    }
   ],
   "source": [
    "cm_lr = []\n",
    "\n",
    "for i in range(0,11):\n",
    "    cm_lr.append(confusion_matrix(y_test, y_pred_list_lr[i]))\n",
    "\n",
    "sns.heatmap(cm_lr[2], annot=True, fmt='.0f')\n",
    "plt.title('Matriz de Confusión')\n",
    "plt.xlabel('Predichos')\n",
    "plt.ylabel('Reales')"
   ]
  },
  {
   "cell_type": "markdown",
   "id": "e48722b0",
   "metadata": {},
   "source": [
    "**Neives-Bayes Gausiano**"
   ]
  },
  {
   "cell_type": "code",
   "execution_count": 68,
   "id": "5ad8a064",
   "metadata": {},
   "outputs": [],
   "source": [
    "# TO-DO Agus"
   ]
  },
  {
   "cell_type": "code",
   "execution_count": 224,
   "id": "75b8395f",
   "metadata": {},
   "outputs": [],
   "source": [
    "conf_mat = confusion_matrix(y_test, Y_pred_nb)"
   ]
  },
  {
   "cell_type": "code",
   "execution_count": 225,
   "id": "e26ae293",
   "metadata": {},
   "outputs": [
    {
     "name": "stdout",
     "output_type": "stream",
     "text": [
      "Confusion matrix\n",
      "\n",
      " [[ 865   91]\n",
      " [2865  666]]\n",
      "\n",
      "True Positives(TP) =  666\n",
      "\n",
      "True Negatives(TN) =  865\n",
      "\n",
      "False Positives(FP) =  91\n",
      "\n",
      "False Negatives(FN) =  2865\n"
     ]
    }
   ],
   "source": [
    "print('Confusion matrix\\n\\n', conf_mat)\n",
    "\n",
    "print('\\nTrue Positives(TP) = ', conf_mat[1,1])\n",
    "\n",
    "print('\\nTrue Negatives(TN) = ', conf_mat[0,0])\n",
    "\n",
    "print('\\nFalse Positives(FP) = ', conf_mat[0,1])\n",
    "\n",
    "print('\\nFalse Negatives(FN) = ', conf_mat[1,0])"
   ]
  },
  {
   "cell_type": "code",
   "execution_count": 226,
   "id": "c1af7afa",
   "metadata": {},
   "outputs": [
    {
     "data": {
      "image/png": "[encoded data removed]",
      "text/plain": [
       "<Figure size 640x480 with 2 Axes>"
      ]
     },
     "metadata": {},
     "output_type": "display_data"
    }
   ],
   "source": [
    "conf_mat_df = pd.DataFrame(data=conf_mat, \n",
    "                           index=['Actual Negative: 0', 'Actual Positive: 1'], \n",
    "                           columns=['Predict Negative: 0', 'Predict Positive: 1'])\n",
    "\n",
    "sns.heatmap(conf_mat_df, annot=True, fmt='d', cmap='YlGnBu');"
   ]
  },
  {
   "cell_type": "code",
   "execution_count": 227,
   "id": "b4ad2c7d",
   "metadata": {},
   "outputs": [],
   "source": [
    "conf_mat_01 = confusion_matrix(y_test, Y_pred_nb_01)"
   ]
  },
  {
   "cell_type": "code",
   "execution_count": 228,
   "id": "076a5f2a",
   "metadata": {},
   "outputs": [
    {
     "name": "stdout",
     "output_type": "stream",
     "text": [
      "Confusion matrix\n",
      "\n",
      " [[ 865   91]\n",
      " [2865  666]]\n",
      "\n",
      "True Positives(TP) =  666\n",
      "\n",
      "True Negatives(TN) =  865\n",
      "\n",
      "False Positives(FP) =  91\n",
      "\n",
      "False Negatives(FN) =  2865\n"
     ]
    }
   ],
   "source": [
    "print('Confusion matrix\\n\\n', conf_mat_01)\n",
    "\n",
    "print('\\nTrue Positives(TP) = ', conf_mat_01[1,1])\n",
    "\n",
    "print('\\nTrue Negatives(TN) = ', conf_mat_01[0,0])\n",
    "\n",
    "print('\\nFalse Positives(FP) = ', conf_mat_01[0,1])\n",
    "\n",
    "print('\\nFalse Negatives(FN) = ', conf_mat_01[1,0])"
   ]
  },
  {
   "cell_type": "code",
   "execution_count": 229,
   "id": "6b97200b",
   "metadata": {},
   "outputs": [
    {
     "data": {
      "image/png": "[encoded data removed]",
      "text/plain": [
       "<Figure size 640x480 with 2 Axes>"
      ]
     },
     "metadata": {},
     "output_type": "display_data"
    }
   ],
   "source": [
    "conf_mat_df = pd.DataFrame(data=conf_mat_01, \n",
    "                           index=['Actual Negative: 0', 'Actual Positive: 1'], \n",
    "                           columns=['Predict Negative: 0', 'Predict Positive: 1'])\n",
    "\n",
    "sns.heatmap(conf_mat_df, annot=True, fmt='d', cmap='YlGnBu');"
   ]
  },
  {
   "cell_type": "code",
   "execution_count": 230,
   "id": "4fd13121",
   "metadata": {},
   "outputs": [],
   "source": [
    "conf_mat_02 = confusion_matrix(y_test, Y_pred_nb_02)"
   ]
  },
  {
   "cell_type": "code",
   "execution_count": 231,
   "id": "77cbbca4",
   "metadata": {},
   "outputs": [
    {
     "name": "stdout",
     "output_type": "stream",
     "text": [
      "Confusion matrix\n",
      "\n",
      " [[ 865   91]\n",
      " [2865  666]]\n",
      "\n",
      "True Positives(TP) =  666\n",
      "\n",
      "True Negatives(TN) =  865\n",
      "\n",
      "False Positives(FP) =  91\n",
      "\n",
      "False Negatives(FN) =  2865\n"
     ]
    }
   ],
   "source": [
    "print('Confusion matrix\\n\\n', conf_mat_02)\n",
    "\n",
    "print('\\nTrue Positives(TP) = ', conf_mat_02[1,1])\n",
    "\n",
    "print('\\nTrue Negatives(TN) = ', conf_mat_02[0,0])\n",
    "\n",
    "print('\\nFalse Positives(FP) = ', conf_mat_02[0,1])\n",
    "\n",
    "print('\\nFalse Negatives(FN) = ', conf_mat_02[1,0])"
   ]
  },
  {
   "cell_type": "code",
   "execution_count": 232,
   "id": "f61eb501",
   "metadata": {},
   "outputs": [
    {
     "data": {
      "image/png": "[encoded data removed]",
      "text/plain": [
       "<Figure size 640x480 with 2 Axes>"
      ]
     },
     "metadata": {},
     "output_type": "display_data"
    }
   ],
   "source": [
    "conf_mat_df = pd.DataFrame(data=conf_mat_02, \n",
    "                           index=['Actual Negative: 0', 'Actual Positive: 1'], \n",
    "                           columns=['Predict Negative: 0', 'Predict Positive: 1'])\n",
    "\n",
    "sns.heatmap(conf_mat_df, annot=True, fmt='d', cmap='YlGnBu');"
   ]
  },
  {
   "cell_type": "code",
   "execution_count": 233,
   "id": "2b35747b",
   "metadata": {},
   "outputs": [],
   "source": [
    "conf_mat_03 = confusion_matrix(y_test, Y_pred_nb_03)"
   ]
  },
  {
   "cell_type": "code",
   "execution_count": 234,
   "id": "cb2d67e2",
   "metadata": {},
   "outputs": [
    {
     "name": "stdout",
     "output_type": "stream",
     "text": [
      "Confusion matrix\n",
      "\n",
      " [[ 865   91]\n",
      " [2865  666]]\n",
      "\n",
      "True Positives(TP) =  666\n",
      "\n",
      "True Negatives(TN) =  865\n",
      "\n",
      "False Positives(FP) =  91\n",
      "\n",
      "False Negatives(FN) =  2865\n"
     ]
    }
   ],
   "source": [
    "print('Confusion matrix\\n\\n', conf_mat_03)\n",
    "\n",
    "print('\\nTrue Positives(TP) = ', conf_mat_03[1,1])\n",
    "\n",
    "print('\\nTrue Negatives(TN) = ', conf_mat_03[0,0])\n",
    "\n",
    "print('\\nFalse Positives(FP) = ', conf_mat_03[0,1])\n",
    "\n",
    "print('\\nFalse Negatives(FN) = ', conf_mat_03[1,0])"
   ]
  },
  {
   "cell_type": "code",
   "execution_count": 235,
   "id": "191cb899",
   "metadata": {},
   "outputs": [
    {
     "data": {
      "image/png": "[encoded data removed]",
      "text/plain": [
       "<Figure size 640x480 with 2 Axes>"
      ]
     },
     "metadata": {},
     "output_type": "display_data"
    }
   ],
   "source": [
    "conf_mat_df = pd.DataFrame(data=conf_mat_03, \n",
    "                           index=['Actual Negative: 0', 'Actual Positive: 1'], \n",
    "                           columns=['Predict Negative: 0', 'Predict Positive: 1'])\n",
    "\n",
    "sns.heatmap(conf_mat_df, annot=True, fmt='d', cmap='YlGnBu');"
   ]
  },
  {
   "cell_type": "code",
   "execution_count": 236,
   "id": "09c164fd",
   "metadata": {},
   "outputs": [],
   "source": [
    "conf_mat_04 = confusion_matrix(y_test, Y_pred_nb_04)"
   ]
  },
  {
   "cell_type": "code",
   "execution_count": 237,
   "id": "369df221",
   "metadata": {},
   "outputs": [
    {
     "name": "stdout",
     "output_type": "stream",
     "text": [
      "Confusion matrix\n",
      "\n",
      " [[ 865   91]\n",
      " [2865  666]]\n",
      "\n",
      "True Positives(TP) =  666\n",
      "\n",
      "True Negatives(TN) =  865\n",
      "\n",
      "False Positives(FP) =  91\n",
      "\n",
      "False Negatives(FN) =  2865\n"
     ]
    }
   ],
   "source": [
    "print('Confusion matrix\\n\\n', conf_mat_04)\n",
    "\n",
    "print('\\nTrue Positives(TP) = ', conf_mat_04[1,1])\n",
    "\n",
    "print('\\nTrue Negatives(TN) = ', conf_mat_04[0,0])\n",
    "\n",
    "print('\\nFalse Positives(FP) = ', conf_mat_04[0,1])\n",
    "\n",
    "print('\\nFalse Negatives(FN) = ', conf_mat_04[1,0])"
   ]
  },
  {
   "cell_type": "code",
   "execution_count": 238,
   "id": "8d71d761",
   "metadata": {},
   "outputs": [
    {
     "data": {
      "image/png": "[encoded data removed]",
      "text/plain": [
       "<Figure size 640x480 with 2 Axes>"
      ]
     },
     "metadata": {},
     "output_type": "display_data"
    }
   ],
   "source": [
    "conf_mat_df = pd.DataFrame(data=conf_mat_04, \n",
    "                           index=['Actual Negative: 0', 'Actual Positive: 1'], \n",
    "                           columns=['Predict Negative: 0', 'Predict Positive: 1'])\n",
    "\n",
    "sns.heatmap(conf_mat_df, annot=True, fmt='d', cmap='YlGnBu');"
   ]
  },
  {
   "cell_type": "code",
   "execution_count": 239,
   "id": "99761efb",
   "metadata": {},
   "outputs": [],
   "source": [
    "conf_mat_06 = confusion_matrix(y_test, Y_pred_nb_06)"
   ]
  },
  {
   "cell_type": "code",
   "execution_count": 85,
   "id": "4b1a4ab1",
   "metadata": {},
   "outputs": [
    {
     "name": "stdout",
     "output_type": "stream",
     "text": [
      "Confusion matrix\n",
      "\n",
      " [[ 865   91]\n",
      " [2865  666]]\n",
      "\n",
      "True Positives(TP) =  666\n",
      "\n",
      "True Negatives(TN) =  865\n",
      "\n",
      "False Positives(FP) =  91\n",
      "\n",
      "False Negatives(FN) =  2865\n"
     ]
    }
   ],
   "source": [
    "print('Confusion matrix\\n\\n', conf_mat_06)\n",
    "\n",
    "print('\\nTrue Positives(TP) = ', conf_mat_06[1,1])\n",
    "\n",
    "print('\\nTrue Negatives(TN) = ', conf_mat_06[0,0])\n",
    "\n",
    "print('\\nFalse Positives(FP) = ', conf_mat_06[0,1])\n",
    "\n",
    "print('\\nFalse Negatives(FN) = ', conf_mat_06[1,0])"
   ]
  },
  {
   "cell_type": "code",
   "execution_count": 86,
   "id": "91291fb8",
   "metadata": {},
   "outputs": [
    {
     "data": {
      "image/png": "[encoded data removed]",
      "text/plain": [
       "<Figure size 640x480 with 2 Axes>"
      ]
     },
     "metadata": {},
     "output_type": "display_data"
    }
   ],
   "source": [
    "conf_mat_df = pd.DataFrame(data=conf_mat_06, \n",
    "                           index=['Actual Negative: 0', 'Actual Positive: 1'], \n",
    "                           columns=['Predict Negative: 0', 'Predict Positive: 1'])\n",
    "\n",
    "sns.heatmap(conf_mat_df, annot=True, fmt='d', cmap='YlGnBu');"
   ]
  },
  {
   "cell_type": "code",
   "execution_count": 87,
   "id": "e921d6a4",
   "metadata": {},
   "outputs": [],
   "source": [
    "conf_mat_07 = confusion_matrix(y_test, Y_pred_nb_07)"
   ]
  },
  {
   "cell_type": "code",
   "execution_count": 88,
   "id": "d329f8ba",
   "metadata": {},
   "outputs": [
    {
     "name": "stdout",
     "output_type": "stream",
     "text": [
      "Confusion matrix\n",
      "\n",
      " [[ 865   91]\n",
      " [2865  666]]\n",
      "\n",
      "True Positives(TP) =  666\n",
      "\n",
      "True Negatives(TN) =  865\n",
      "\n",
      "False Positives(FP) =  91\n",
      "\n",
      "False Negatives(FN) =  2865\n"
     ]
    }
   ],
   "source": [
    "print('Confusion matrix\\n\\n', conf_mat_07)\n",
    "\n",
    "print('\\nTrue Positives(TP) = ', conf_mat_07[1,1])\n",
    "\n",
    "print('\\nTrue Negatives(TN) = ', conf_mat_07[0,0])\n",
    "\n",
    "print('\\nFalse Positives(FP) = ', conf_mat_07[0,1])\n",
    "\n",
    "print('\\nFalse Negatives(FN) = ', conf_mat_07[1,0])"
   ]
  },
  {
   "cell_type": "code",
   "execution_count": 89,
   "id": "b42dd391",
   "metadata": {},
   "outputs": [
    {
     "data": {
      "image/png": "[encoded data removed]",
      "text/plain": [
       "<Figure size 640x480 with 2 Axes>"
      ]
     },
     "metadata": {},
     "output_type": "display_data"
    }
   ],
   "source": [
    "conf_mat_df = pd.DataFrame(data=conf_mat_07, \n",
    "                           index=['Actual Negative: 0', 'Actual Positive: 1'], \n",
    "                           columns=['Predict Negative: 0', 'Predict Positive: 1'])\n",
    "\n",
    "sns.heatmap(conf_mat_df, annot=True, fmt='d', cmap='YlGnBu');"
   ]
  },
  {
   "cell_type": "code",
   "execution_count": 90,
   "id": "a9375af1",
   "metadata": {},
   "outputs": [],
   "source": [
    "conf_mat_08 = confusion_matrix(y_test, Y_pred_nb_08)"
   ]
  },
  {
   "cell_type": "code",
   "execution_count": 91,
   "id": "80c6f0f8",
   "metadata": {},
   "outputs": [
    {
     "name": "stdout",
     "output_type": "stream",
     "text": [
      "Confusion matrix\n",
      "\n",
      " [[ 865   91]\n",
      " [2865  666]]\n",
      "\n",
      "True Positives(TP) =  666\n",
      "\n",
      "True Negatives(TN) =  865\n",
      "\n",
      "False Positives(FP) =  91\n",
      "\n",
      "False Negatives(FN) =  2865\n"
     ]
    }
   ],
   "source": [
    "print('Confusion matrix\\n\\n', conf_mat_08)\n",
    "\n",
    "print('\\nTrue Positives(TP) = ', conf_mat_08[1,1])\n",
    "\n",
    "print('\\nTrue Negatives(TN) = ', conf_mat_08[0,0])\n",
    "\n",
    "print('\\nFalse Positives(FP) = ', conf_mat_08[0,1])\n",
    "\n",
    "print('\\nFalse Negatives(FN) = ', conf_mat_08[1,0])"
   ]
  },
  {
   "cell_type": "code",
   "execution_count": 92,
   "id": "c8d6af87",
   "metadata": {},
   "outputs": [
    {
     "data": {
      "image/png": "[encoded data removed]",
      "text/plain": [
       "<Figure size 640x480 with 2 Axes>"
      ]
     },
     "metadata": {},
     "output_type": "display_data"
    }
   ],
   "source": [
    "conf_mat_df = pd.DataFrame(data=conf_mat_08, \n",
    "                           index=['Actual Negative: 0', 'Actual Positive: 1'], \n",
    "                           columns=['Predict Negative: 0', 'Predict Positive: 1'])\n",
    "\n",
    "sns.heatmap(conf_mat_df, annot=True, fmt='d', cmap='YlGnBu');"
   ]
  },
  {
   "cell_type": "code",
   "execution_count": 93,
   "id": "cf82f816",
   "metadata": {},
   "outputs": [],
   "source": [
    "conf_mat_09 = confusion_matrix(y_test, Y_pred_nb_09)"
   ]
  },
  {
   "cell_type": "code",
   "execution_count": 94,
   "id": "f7b03871",
   "metadata": {},
   "outputs": [
    {
     "name": "stdout",
     "output_type": "stream",
     "text": [
      "Confusion matrix\n",
      "\n",
      " [[ 865   91]\n",
      " [2865  666]]\n",
      "\n",
      "True Positives(TP) =  666\n",
      "\n",
      "True Negatives(TN) =  865\n",
      "\n",
      "False Positives(FP) =  91\n",
      "\n",
      "False Negatives(FN) =  2865\n"
     ]
    }
   ],
   "source": [
    "print('Confusion matrix\\n\\n', conf_mat_09)\n",
    "\n",
    "print('\\nTrue Positives(TP) = ', conf_mat_09[1,1])\n",
    "\n",
    "print('\\nTrue Negatives(TN) = ', conf_mat_09[0,0])\n",
    "\n",
    "print('\\nFalse Positives(FP) = ', conf_mat_09[0,1])\n",
    "\n",
    "print('\\nFalse Negatives(FN) = ', conf_mat_09[1,0])"
   ]
  },
  {
   "cell_type": "code",
   "execution_count": 95,
   "id": "cd19d5ed",
   "metadata": {},
   "outputs": [
    {
     "data": {
      "image/png": "[encoded data removed]",
      "text/plain": [
       "<Figure size 640x480 with 2 Axes>"
      ]
     },
     "metadata": {},
     "output_type": "display_data"
    }
   ],
   "source": [
    "conf_mat_df = pd.DataFrame(data=conf_mat_09, \n",
    "                           index=['Actual Negative: 0', 'Actual Positive: 1'], \n",
    "                           columns=['Predict Negative: 0', 'Predict Positive: 1'])\n",
    "\n",
    "sns.heatmap(conf_mat_df, annot=True, fmt='d', cmap='YlGnBu');"
   ]
  },
  {
   "cell_type": "markdown",
   "id": "7bb4a22d",
   "metadata": {},
   "source": [
    "**K-Nearest Neighbors**"
   ]
  },
  {
   "cell_type": "code",
   "execution_count": 96,
   "id": "dc3f656b",
   "metadata": {},
   "outputs": [],
   "source": [
    "# TO-DO"
   ]
  },
  {
   "cell_type": "markdown",
   "id": "65e9bada",
   "metadata": {},
   "source": [
    "<a id=\"section_accuracy\"></a> \n",
    "### 5.2 Métricas: Accuracy"
   ]
  },
  {
   "cell_type": "markdown",
   "id": "bdfbd696",
   "metadata": {},
   "source": [
    "**Regresión Logística**"
   ]
  },
  {
   "cell_type": "code",
   "execution_count": 97,
   "id": "2eacda89",
   "metadata": {},
   "outputs": [
    {
     "name": "stdout",
     "output_type": "stream",
     "text": [
      "Accuaracy de la Regresión Logística:\n",
      "==================================================\n",
      "Accuaracy thr=0.0 = 78.7 %\n",
      "Accuaracy thr=0.1 = 78.9 %\n",
      "Accuaracy thr=0.2 = 79.0 %\n",
      "Accuaracy thr=0.3 = 78.7 %\n",
      "Accuaracy thr=0.4 = 78.4 %\n",
      "Accuaracy thr=0.5 = 77.7 %\n",
      "Accuaracy thr=0.6 = 75.9 %\n",
      "Accuaracy thr=0.7 = 73.2 %\n",
      "Accuaracy thr=0.8 = 63.6 %\n",
      "Accuaracy thr=0.9 = 50.8 %\n"
     ]
    }
   ],
   "source": [
    "acc_lr = []\n",
    "print(f'Accuaracy de la Regresión Logística:')\n",
    "print('==================================================')\n",
    "for i in range(0,10):\n",
    "    acc_lr.append(accuracy_score(y_test, y_pred_list_lr[i]))\n",
    "    print(f'Accuaracy thr=0.{i} = {round(acc_lr[i],3)*100} %')"
   ]
  },
  {
   "cell_type": "markdown",
   "id": "5d7be731",
   "metadata": {},
   "source": [
    "**Neives-Bayes Gausiano**"
   ]
  },
  {
   "cell_type": "code",
   "execution_count": 98,
   "id": "cdc6e2d3",
   "metadata": {},
   "outputs": [],
   "source": [
    "TP = conf_mat[1, 1]\n",
    "TN = conf_mat[0, 0]\n",
    "FP = conf_mat[0, 1]\n",
    "FN = conf_mat[1, 0]"
   ]
  },
  {
   "cell_type": "code",
   "execution_count": 99,
   "id": "3b488bf7",
   "metadata": {},
   "outputs": [
    {
     "data": {
      "text/plain": [
       "0.34"
      ]
     },
     "execution_count": 99,
     "metadata": {},
     "output_type": "execute_result"
    }
   ],
   "source": [
    "accuracy_nb = round(accuracy_score(y_test, Y_pred_nb), 2)\n",
    "accuracy_nb"
   ]
  },
  {
   "cell_type": "code",
   "execution_count": 100,
   "id": "125584db",
   "metadata": {},
   "outputs": [
    {
     "data": {
      "text/plain": [
       "0.34"
      ]
     },
     "execution_count": 100,
     "metadata": {},
     "output_type": "execute_result"
    }
   ],
   "source": [
    "accuracy_nb = round(accuracy_score(y_test, Y_pred_nb_02), 2)\n",
    "accuracy_nb"
   ]
  },
  {
   "cell_type": "code",
   "execution_count": 101,
   "id": "8a211f15",
   "metadata": {},
   "outputs": [
    {
     "data": {
      "text/plain": [
       "0.34"
      ]
     },
     "execution_count": 101,
     "metadata": {},
     "output_type": "execute_result"
    }
   ],
   "source": [
    "accuracy_nb = round(accuracy_score(y_test, Y_pred_nb_03), 2)\n",
    "accuracy_nb"
   ]
  },
  {
   "cell_type": "code",
   "execution_count": 102,
   "id": "a08ab24e",
   "metadata": {},
   "outputs": [
    {
     "data": {
      "text/plain": [
       "0.34"
      ]
     },
     "execution_count": 102,
     "metadata": {},
     "output_type": "execute_result"
    }
   ],
   "source": [
    "accuracy_nb = round(accuracy_score(y_test, Y_pred_nb_04), 2)\n",
    "accuracy_nb"
   ]
  },
  {
   "cell_type": "code",
   "execution_count": 103,
   "id": "11a2b4cc",
   "metadata": {},
   "outputs": [
    {
     "data": {
      "text/plain": [
       "0.34"
      ]
     },
     "execution_count": 103,
     "metadata": {},
     "output_type": "execute_result"
    }
   ],
   "source": [
    "accuracy_nb = round(accuracy_score(y_test, Y_pred_nb_06), 2)\n",
    "accuracy_nb"
   ]
  },
  {
   "cell_type": "code",
   "execution_count": 104,
   "id": "cd4a6324",
   "metadata": {},
   "outputs": [
    {
     "data": {
      "text/plain": [
       "0.34"
      ]
     },
     "execution_count": 104,
     "metadata": {},
     "output_type": "execute_result"
    }
   ],
   "source": [
    "accuracy_nb = round(accuracy_score(y_test, Y_pred_nb_07), 2)\n",
    "accuracy_nb"
   ]
  },
  {
   "cell_type": "code",
   "execution_count": 105,
   "id": "1d565fbe",
   "metadata": {},
   "outputs": [
    {
     "data": {
      "text/plain": [
       "0.34"
      ]
     },
     "execution_count": 105,
     "metadata": {},
     "output_type": "execute_result"
    }
   ],
   "source": [
    "accuracy_nb = round(accuracy_score(y_test, Y_pred_nb_08), 2)\n",
    "accuracy_nb"
   ]
  },
  {
   "cell_type": "code",
   "execution_count": 106,
   "id": "9887ac36",
   "metadata": {},
   "outputs": [
    {
     "data": {
      "text/plain": [
       "0.34"
      ]
     },
     "execution_count": 106,
     "metadata": {},
     "output_type": "execute_result"
    }
   ],
   "source": [
    "accuracy_nb = round(accuracy_score(y_test, Y_pred_nb_09), 2)\n",
    "accuracy_nb"
   ]
  },
  {
   "cell_type": "code",
   "execution_count": 107,
   "id": "26414ce8",
   "metadata": {},
   "outputs": [
    {
     "data": {
      "text/plain": [
       "dtype('int64')"
      ]
     },
     "execution_count": 107,
     "metadata": {},
     "output_type": "execute_result"
    }
   ],
   "source": [
    "y_train.dtype"
   ]
  },
  {
   "cell_type": "code",
   "execution_count": 108,
   "id": "debe2218",
   "metadata": {},
   "outputs": [
    {
     "data": {
      "text/plain": [
       "dtype('int64')"
      ]
     },
     "execution_count": 108,
     "metadata": {},
     "output_type": "execute_result"
    }
   ],
   "source": [
    "Y_pred_nb.dtype"
   ]
  },
  {
   "cell_type": "code",
   "execution_count": 109,
   "id": "21dc1608",
   "metadata": {},
   "outputs": [
    {
     "data": {
      "text/plain": [
       "12927    1\n",
       "8857     1\n",
       "3490     0\n",
       "13808    1\n",
       "2404     1\n",
       "        ..\n",
       "7409     1\n",
       "3325     1\n",
       "9606     1\n",
       "5787     1\n",
       "14155    0\n",
       "Name: on_time, Length: 10468, dtype: int64"
      ]
     },
     "execution_count": 109,
     "metadata": {},
     "output_type": "execute_result"
    }
   ],
   "source": [
    "y_train"
   ]
  },
  {
   "cell_type": "code",
   "execution_count": 110,
   "id": "08428228",
   "metadata": {},
   "outputs": [
    {
     "data": {
      "text/plain": [
       "array([0, 0, 0, ..., 0, 0, 0], dtype=int64)"
      ]
     },
     "execution_count": 110,
     "metadata": {},
     "output_type": "execute_result"
    }
   ],
   "source": [
    "Y_pred_nb"
   ]
  },
  {
   "cell_type": "code",
   "execution_count": 111,
   "id": "19079278",
   "metadata": {},
   "outputs": [],
   "source": [
    "Y_pred_series = pd.Series(Y_pred_nb)"
   ]
  },
  {
   "cell_type": "code",
   "execution_count": 112,
   "id": "3f8053df",
   "metadata": {},
   "outputs": [
    {
     "data": {
      "text/plain": [
       "0       0\n",
       "1       0\n",
       "2       0\n",
       "3       1\n",
       "4       1\n",
       "       ..\n",
       "4482    1\n",
       "4483    0\n",
       "4484    0\n",
       "4485    0\n",
       "4486    0\n",
       "Length: 4487, dtype: int64"
      ]
     },
     "execution_count": 112,
     "metadata": {},
     "output_type": "execute_result"
    }
   ],
   "source": [
    "Y_pred_series"
   ]
  },
  {
   "cell_type": "code",
   "execution_count": 113,
   "id": "ea8cb99f",
   "metadata": {},
   "outputs": [
    {
     "data": {
      "text/plain": [
       "1    8262\n",
       "0    2206\n",
       "Name: on_time, dtype: int64"
      ]
     },
     "execution_count": 113,
     "metadata": {},
     "output_type": "execute_result"
    }
   ],
   "source": [
    "y_train.value_counts()"
   ]
  },
  {
   "cell_type": "code",
   "execution_count": 114,
   "id": "7b800969",
   "metadata": {},
   "outputs": [
    {
     "data": {
      "text/plain": [
       "0    3730\n",
       "1     757\n",
       "dtype: int64"
      ]
     },
     "execution_count": 114,
     "metadata": {},
     "output_type": "execute_result"
    }
   ],
   "source": [
    "Y_pred_series.value_counts()"
   ]
  },
  {
   "cell_type": "markdown",
   "id": "e72c3b4e",
   "metadata": {},
   "source": [
    "**K-Nearest Neighbors**"
   ]
  },
  {
   "cell_type": "code",
   "execution_count": 115,
   "id": "e93c14de",
   "metadata": {},
   "outputs": [
    {
     "data": {
      "text/plain": [
       "(4487,)"
      ]
     },
     "execution_count": 115,
     "metadata": {},
     "output_type": "execute_result"
    }
   ],
   "source": [
    "y_test.shape"
   ]
  },
  {
   "cell_type": "markdown",
   "id": "018786e9",
   "metadata": {},
   "source": [
    "<a id=\"section_error\"></a> \n",
    "### 5.3 Métricas: Error de Clasificación"
   ]
  },
  {
   "cell_type": "markdown",
   "id": "8ad401d3",
   "metadata": {},
   "source": [
    "**Regresión Logística**"
   ]
  },
  {
   "cell_type": "code",
   "execution_count": 116,
   "id": "c5fae6b3",
   "metadata": {},
   "outputs": [
    {
     "name": "stdout",
     "output_type": "stream",
     "text": [
      "Error de Clasificación de la Regresión Logística:\n",
      "==================================================\n",
      "Error de clasificación thr=0.0 = 21.0 %\n",
      "Error de clasificación thr=0.1 = 21.0 %\n",
      "Error de clasificación thr=0.2 = 21.0 %\n",
      "Error de clasificación thr=0.3 = 21.0 %\n",
      "Error de clasificación thr=0.4 = 22.0 %\n",
      "Error de clasificación thr=0.5 = 22.0 %\n",
      "Error de clasificación thr=0.6 = 24.0 %\n",
      "Error de clasificación thr=0.7 = 27.0 %\n",
      "Error de clasificación thr=0.8 = 36.0 %\n",
      "Error de clasificación thr=0.9 = 49.0 %\n"
     ]
    }
   ],
   "source": [
    "error_clasificación_lr = []\n",
    "print(f'Error de Clasificación de la Regresión Logística:')\n",
    "print('==================================================')\n",
    "for i in range(0,10):\n",
    "    error_clasificación_lr.append(1 - acc_lr[i])\n",
    "    print(f'Error de clasificación thr=0.{i} = {round(error_clasificación_lr[i],2)*100} %')"
   ]
  },
  {
   "cell_type": "markdown",
   "id": "783b5be7",
   "metadata": {},
   "source": [
    "**Neives-Bayes Gausiano**"
   ]
  },
  {
   "cell_type": "code",
   "execution_count": 117,
   "id": "bd0c580b",
   "metadata": {},
   "outputs": [
    {
     "data": {
      "text/plain": [
       "0.6599999999999999"
      ]
     },
     "execution_count": 117,
     "metadata": {},
     "output_type": "execute_result"
    }
   ],
   "source": [
    "error_clasificación_nb = (1 - accuracy_nb)\n",
    "error_clasificación_nb"
   ]
  },
  {
   "cell_type": "markdown",
   "id": "82a89599",
   "metadata": {},
   "source": [
    "**K-Nearest Neighbors**"
   ]
  },
  {
   "cell_type": "code",
   "execution_count": 118,
   "id": "065a330c",
   "metadata": {},
   "outputs": [],
   "source": [
    "# TO-DO"
   ]
  },
  {
   "cell_type": "markdown",
   "id": "e569fe3b",
   "metadata": {},
   "source": [
    "<a id=\"section_recall\"></a> \n",
    "### 5.4 Métricas: Sensitivity (o recall)"
   ]
  },
  {
   "cell_type": "markdown",
   "id": "13f7fe87",
   "metadata": {},
   "source": [
    "**Regresión Logística**"
   ]
  },
  {
   "cell_type": "code",
   "execution_count": 119,
   "id": "337d7df6",
   "metadata": {},
   "outputs": [
    {
     "name": "stdout",
     "output_type": "stream",
     "text": [
      "Recall de la Regresión Logística:\n",
      "==================================================\n",
      "Recall thr=0.0 = 100.0 %\n",
      "Recall thr=0.1 = 98.81 %\n",
      "Recall thr=0.2 = 98.5 %\n",
      "Recall thr=0.3 = 97.88 %\n",
      "Recall thr=0.4 = 96.8 %\n",
      "Recall thr=0.5 = 94.31 %\n",
      "Recall thr=0.6 = 88.56 %\n",
      "Recall thr=0.7 = 82.16 %\n",
      "Recall thr=0.8 = 62.22 %\n",
      "Recall thr=0.9 = 42.370000000000005 %\n"
     ]
    }
   ],
   "source": [
    "recall_lr = []\n",
    "print(f'Recall de la Regresión Logística:')\n",
    "print('==================================================')\n",
    "for i in range(0,10):\n",
    "    recall_lr.append(recall_score(y_test, y_pred_list_lr[i]))\n",
    "    print(f'Recall thr=0.{i} = {round(recall_lr[i],4)*100} %')"
   ]
  },
  {
   "cell_type": "markdown",
   "id": "70d7205f",
   "metadata": {},
   "source": [
    "**Neives-Bayes Gausiano**"
   ]
  },
  {
   "cell_type": "code",
   "execution_count": 120,
   "id": "b0c68f3d",
   "metadata": {},
   "outputs": [
    {
     "name": "stdout",
     "output_type": "stream",
     "text": [
      "0.18861512319456245\n"
     ]
    }
   ],
   "source": [
    "recall_nb = print(recall_score(y_test, Y_pred_nb))\n",
    "recall_nb"
   ]
  },
  {
   "cell_type": "code",
   "execution_count": 121,
   "id": "a80f7473",
   "metadata": {},
   "outputs": [
    {
     "name": "stdout",
     "output_type": "stream",
     "text": [
      "Recall= 0.18861512319456245\n"
     ]
    }
   ],
   "source": [
    "print('Recall=', (TP)/ (TP+FN))"
   ]
  },
  {
   "cell_type": "markdown",
   "id": "86a680e1",
   "metadata": {},
   "source": [
    "**K-Nearest Neighbors**"
   ]
  },
  {
   "cell_type": "code",
   "execution_count": 122,
   "id": "d239b130",
   "metadata": {},
   "outputs": [],
   "source": [
    "# TO-DO"
   ]
  },
  {
   "cell_type": "markdown",
   "id": "91256f0a",
   "metadata": {},
   "source": [
    "<a id=\"section_specificity\"></a> \n",
    "### 5.5 Métricas: Specificity"
   ]
  },
  {
   "cell_type": "markdown",
   "id": "1210fa67",
   "metadata": {},
   "source": [
    "**Regresión Logística**"
   ]
  },
  {
   "cell_type": "code",
   "execution_count": 123,
   "id": "34193db5",
   "metadata": {},
   "outputs": [
    {
     "name": "stdout",
     "output_type": "stream",
     "text": [
      "Specificity de la Regresión Logística:\n",
      "==================================================\n",
      "Specificity thr=0.0 = 0.0 %\n",
      "Specificity thr=0.1 = 5.5 %\n",
      "Specificity thr=0.2 = 6.800000000000001 %\n",
      "Specificity thr=0.3 = 7.9 %\n",
      "Specificity thr=0.4 = 10.4 %\n",
      "Specificity thr=0.5 = 16.400000000000002 %\n",
      "Specificity thr=0.6 = 29.2 %\n",
      "Specificity thr=0.7 = 40.1 %\n",
      "Specificity thr=0.8 = 68.5 %\n",
      "Specificity thr=0.9 = 82.0 %\n"
     ]
    }
   ],
   "source": [
    "specificity_lr = []\n",
    "print(f'Specificity de la Regresión Logística:')\n",
    "print('==================================================')\n",
    "for i in range(0,10):\n",
    "\n",
    "    TP = cm_lr[i][1, 1]\n",
    "    TN = cm_lr[i][0, 0]\n",
    "    FP = cm_lr[i][0, 1]\n",
    "    FN = cm_lr[i][1, 0]\n",
    "\n",
    "    specificity_lr.append(TN / (TN + FP))\n",
    "    print(f'Specificity thr=0.{i} = {round(specificity_lr[i],3)*100} %')"
   ]
  },
  {
   "cell_type": "markdown",
   "id": "fc4e1c54",
   "metadata": {},
   "source": [
    "**Neives-Bayes Gausiano**"
   ]
  },
  {
   "cell_type": "code",
   "execution_count": 124,
   "id": "0c366354",
   "metadata": {},
   "outputs": [
    {
     "name": "stdout",
     "output_type": "stream",
     "text": [
      "Total de casos negativos predichos correctamente (TN) = 784\n",
      "Total de casos negativos (TN+FP) = 956\n"
     ]
    }
   ],
   "source": [
    "Specificity = (TN)/ (TN+FP)\n",
    "Specificity\n",
    "print('Total de casos negativos predichos correctamente (TN) =',(TN))\n",
    "print('Total de casos negativos (TN+FP) =',(TN+FP))"
   ]
  },
  {
   "cell_type": "code",
   "execution_count": 125,
   "id": "6f002a4d",
   "metadata": {},
   "outputs": [
    {
     "data": {
      "text/plain": [
       "0.8200836820083682"
      ]
     },
     "execution_count": 125,
     "metadata": {},
     "output_type": "execute_result"
    }
   ],
   "source": [
    "Specificity"
   ]
  },
  {
   "cell_type": "markdown",
   "id": "009d6bb5",
   "metadata": {},
   "source": [
    "**K-Nearest Neighbors**"
   ]
  },
  {
   "cell_type": "code",
   "execution_count": 126,
   "id": "f5a2201d",
   "metadata": {},
   "outputs": [],
   "source": [
    "# TO-DO"
   ]
  },
  {
   "cell_type": "markdown",
   "id": "559bf1c6",
   "metadata": {},
   "source": [
    "<a id=\"section_precision\"></a> \n",
    "### 5.6 Métricas: Precision"
   ]
  },
  {
   "cell_type": "markdown",
   "id": "200f448b",
   "metadata": {},
   "source": [
    "**Regresión Logística**"
   ]
  },
  {
   "cell_type": "code",
   "execution_count": 127,
   "id": "f900e012",
   "metadata": {},
   "outputs": [
    {
     "name": "stdout",
     "output_type": "stream",
     "text": [
      "Precisión de la Regresión Logística:\n",
      "==================================================\n",
      "Precisión thr=0.0 = 78.7 %\n",
      "Precisión thr=0.1 = 79.4 %\n",
      "Precisión thr=0.2 = 79.60000000000001 %\n",
      "Precisión thr=0.3 = 79.7 %\n",
      "Precisión thr=0.4 = 80.0 %\n",
      "Precisión thr=0.5 = 80.60000000000001 %\n",
      "Precisión thr=0.6 = 82.19999999999999 %\n",
      "Precisión thr=0.7 = 83.5 %\n",
      "Precisión thr=0.8 = 88.0 %\n",
      "Precisión thr=0.9 = 89.7 %\n"
     ]
    }
   ],
   "source": [
    "precision_lr = []\n",
    "print(f'Precisión de la Regresión Logística:')\n",
    "print('==================================================')\n",
    "for i in range(0,10):\n",
    "    precision_lr.append(precision_score(y_test, y_pred_list_lr[i]))\n",
    "    print(f'Precisión thr=0.{i} = {round(precision_lr[i],3)*100} %')"
   ]
  },
  {
   "cell_type": "markdown",
   "id": "159e919a",
   "metadata": {},
   "source": [
    "**Neives-Bayes Gausiano**"
   ]
  },
  {
   "cell_type": "code",
   "execution_count": 128,
   "id": "3ecfc9ca",
   "metadata": {},
   "outputs": [
    {
     "data": {
      "text/plain": [
       "0.8797886393659181"
      ]
     },
     "execution_count": 128,
     "metadata": {},
     "output_type": "execute_result"
    }
   ],
   "source": [
    "precision_nb = precision_score(y_test, Y_pred_nb)\n",
    "precision_nb"
   ]
  },
  {
   "cell_type": "markdown",
   "id": "0d8b4fce",
   "metadata": {},
   "source": [
    "**K-Nearest Neighbors**"
   ]
  },
  {
   "cell_type": "code",
   "execution_count": 129,
   "id": "abe460e3",
   "metadata": {},
   "outputs": [],
   "source": [
    "# TO-DO"
   ]
  },
  {
   "cell_type": "markdown",
   "id": "49174786",
   "metadata": {},
   "source": [
    "<a id=\"section_fpr\"></a> \n",
    "### 5.7 Métricas: False positive rate (FPR)"
   ]
  },
  {
   "cell_type": "markdown",
   "id": "1646e66f",
   "metadata": {},
   "source": [
    "**Regresión Logística**"
   ]
  },
  {
   "cell_type": "code",
   "execution_count": 130,
   "id": "a6bbb942",
   "metadata": {},
   "outputs": [
    {
     "name": "stdout",
     "output_type": "stream",
     "text": [
      "FPR de la Regresión Logística:\n",
      "==================================================\n",
      "FPR thr=0.0 = 100.0 %\n",
      "FPR thr=0.1 = 94.46 %\n",
      "FPR thr=0.2 = 93.2 %\n",
      "FPR thr=0.3 = 92.05 %\n",
      "FPR thr=0.4 = 89.64 %\n",
      "FPR thr=0.5 = 83.58 %\n",
      "FPR thr=0.6 = 70.82000000000001 %\n",
      "FPR thr=0.7 = 59.940000000000005 %\n",
      "FPR thr=0.8 = 31.490000000000002 %\n",
      "FPR thr=0.9 = 17.990000000000002 %\n"
     ]
    }
   ],
   "source": [
    "false_positive_lr = []\n",
    "print(f'FPR de la Regresión Logística:')\n",
    "print('==================================================')\n",
    "for i in range(0,10):\n",
    "    false_positive_lr.append(1 - specificity_lr[i])\n",
    "    print(f'FPR thr=0.{i} = {round(false_positive_lr[i],4)*100} %')"
   ]
  },
  {
   "cell_type": "markdown",
   "id": "51ac16cd",
   "metadata": {},
   "source": [
    "**Neives-Bayes Gausiano**"
   ]
  },
  {
   "cell_type": "code",
   "execution_count": 131,
   "id": "62e1f6d8",
   "metadata": {},
   "outputs": [
    {
     "data": {
      "text/plain": [
       "0.17991631799163177"
      ]
     },
     "execution_count": 131,
     "metadata": {},
     "output_type": "execute_result"
    }
   ],
   "source": [
    "FPR_nb = (1 - Specificity)\n",
    "FPR_nb"
   ]
  },
  {
   "cell_type": "markdown",
   "id": "4311e02d",
   "metadata": {},
   "source": [
    "**K-Nearest Neighbors**"
   ]
  },
  {
   "cell_type": "code",
   "execution_count": 132,
   "id": "ef060916",
   "metadata": {},
   "outputs": [],
   "source": [
    "# TO-DO"
   ]
  },
  {
   "cell_type": "markdown",
   "id": "e5dd2491",
   "metadata": {},
   "source": [
    "<a id=\"section_f1_score\"></a> \n",
    "### 5.8 Métricas: F1-Score"
   ]
  },
  {
   "cell_type": "markdown",
   "id": "e2c0242f",
   "metadata": {},
   "source": [
    "**Regresión Logística**"
   ]
  },
  {
   "cell_type": "code",
   "execution_count": 133,
   "id": "0e113c4e",
   "metadata": {},
   "outputs": [
    {
     "name": "stdout",
     "output_type": "stream",
     "text": [
      "F1-Score de la Regresión Logística:\n",
      "==================================================\n",
      "F1-Score thr=0.0 = 88.08 %\n",
      "F1-Score thr=0.1 = 88.07000000000001 %\n",
      "F1-Score thr=0.2 = 88.05 %\n",
      "F1-Score thr=0.3 = 87.86 %\n",
      "F1-Score thr=0.4 = 87.57000000000001 %\n",
      "F1-Score thr=0.5 = 86.95 %\n",
      "F1-Score thr=0.6 = 85.26 %\n",
      "F1-Score thr=0.7 = 82.83 %\n",
      "F1-Score thr=0.8 = 72.88 %\n",
      "F1-Score thr=0.9 = 57.550000000000004 %\n"
     ]
    }
   ],
   "source": [
    "f1_score_lr = []\n",
    "print(f'F1-Score de la Regresión Logística:')\n",
    "print('==================================================')\n",
    "for i in range(0,10):\n",
    "    f1_score_lr.append(f1_score(y_test, y_pred_list_lr[i]))\n",
    "    print(f'F1-Score thr=0.{i} = {round(f1_score_lr[i],4)*100} %')"
   ]
  },
  {
   "cell_type": "markdown",
   "id": "c472edbe",
   "metadata": {},
   "source": [
    "**Neives-Bayes Gausiano**"
   ]
  },
  {
   "cell_type": "code",
   "execution_count": 134,
   "id": "ff5ce534",
   "metadata": {},
   "outputs": [
    {
     "data": {
      "text/plain": [
       "0.658792065968353"
      ]
     },
     "execution_count": 134,
     "metadata": {},
     "output_type": "execute_result"
    }
   ],
   "source": [
    "F1_Score_nb = (1 - accuracy_score(y_test, Y_pred_nb))\n",
    "F1_Score_nb"
   ]
  },
  {
   "cell_type": "markdown",
   "id": "60d9165e",
   "metadata": {},
   "source": [
    "**K-Nearest Neighbors**"
   ]
  },
  {
   "cell_type": "code",
   "execution_count": 135,
   "id": "bb04604f",
   "metadata": {},
   "outputs": [],
   "source": [
    "# TO-DO"
   ]
  },
  {
   "cell_type": "markdown",
   "id": "2400a7a8",
   "metadata": {},
   "source": [
    "<a id=\"section_curva_roc\"></a> \n",
    "## 6. Curva ROC\n",
    "---"
   ]
  },
  {
   "cell_type": "markdown",
   "id": "696275b8",
   "metadata": {},
   "source": [
    "<a id=\"section_umbrales\"></a> \n",
    "### 6.1 Ajustando los umbrales"
   ]
  },
  {
   "cell_type": "code",
   "execution_count": 146,
   "id": "39e50eb6",
   "metadata": {},
   "outputs": [],
   "source": [
    "fpr_log_lr, tpr_log_lr, thr_log_lr = roc_curve(y_test, y_pred[:,1])\n",
    "fpr_log_nb, tpr_log_nb, thr_log_nb = roc_curve(y_test, Y_pred_nb_p[:,1])"
   ]
  },
  {
   "cell_type": "markdown",
   "id": "2faf678f",
   "metadata": {},
   "source": [
    "<a id=\"section_imp_croc\"></a> \n",
    "### 6.2 Implementación Curva ROC y AUC"
   ]
  },
  {
   "cell_type": "code",
   "execution_count": 148,
   "id": "bb8fb2c6",
   "metadata": {},
   "outputs": [
    {
     "name": "stdout",
     "output_type": "stream",
     "text": [
      "AUC de la Regresión Logística:\n",
      "==================================================\n",
      "AUC = 0.5467\n"
     ]
    },
    {
     "data": {
      "image/png": "[encoded data removed]",
      "text/plain": [
       "<Figure size 640x480 with 1 Axes>"
      ]
     },
     "metadata": {},
     "output_type": "display_data"
    }
   ],
   "source": [
    "roc_curve_df_lr = pd.DataFrame(dict(fpr=fpr_log_lr, tpr=tpr_log_lr, thr=thr_log_lr))\n",
    "roc_curve_df_nb = pd.DataFrame(dict(fpr=fpr_log_nb, tpr=tpr_log_nb, thr=thr_log_nb))\n",
    "plt.axis([0, 1.01, 0, 1.01])\n",
    "plt.xlabel('1 - Specificty')\n",
    "plt.ylabel('TPR / Sensitivity')\n",
    "plt.title('ROC Curve')\n",
    "plt.plot(roc_curve_df_lr['fpr'],roc_curve_df_lr['tpr'], color='r')\n",
    "plt.plot(roc_curve_df_nb['fpr'],roc_curve_df_nb['tpr'], color='b')\n",
    "\n",
    "print(f'AUC de la Regresión Logística:')\n",
    "print('==================================================')\n",
    "auc_score = auc(fpr_log, tpr_log)\n",
    "print(f'AUC = {round(auc_score,4)}')\n",
    "# TO-DO ROC y AUC para KNN y NB"
   ]
  },
  {
   "cell_type": "code",
   "execution_count": 149,
   "id": "0cedb0ad",
   "metadata": {},
   "outputs": [],
   "source": [
    "# Curva ROC para NB:"
   ]
  },
  {
   "cell_type": "code",
   "execution_count": 150,
   "id": "93c5359e",
   "metadata": {},
   "outputs": [],
   "source": [
    "fpr_log, tpr_log, thr_log = roc_curve(y_test, Y_pred_nb_p[:,1])"
   ]
  },
  {
   "cell_type": "code",
   "execution_count": 151,
   "id": "c22d59b2",
   "metadata": {},
   "outputs": [
    {
     "data": {
      "text/plain": [
       "\"roc_curve_df_nb = pd.DataFrame(dict(fpr=fpr_log, tpr=tpr_log, thr=thr_log))\\nplt.axis([0, 1.01, 0, 1.01])\\nplt.xlabel('1 - Specificty')\\nplt.ylabel('TPR / Sensitivity')\\nplt.title('ROC Curve')\\nplt.plot(roc_curve_df_nb['fpr'],roc_curve_df_nb['tpr'])\\n\\nprint(f'AUC de la Regresión Logística:')\\nprint('==================================================')\\nauc_score = auc(fpr_log, tpr_log)\\nprint(f'AUC = {round(auc_score,4)}')\""
      ]
     },
     "execution_count": 151,
     "metadata": {},
     "output_type": "execute_result"
    }
   ],
   "source": [
    "\"\"\"roc_curve_df_nb = pd.DataFrame(dict(fpr=fpr_log, tpr=tpr_log, thr=thr_log))\n",
    "plt.axis([0, 1.01, 0, 1.01])\n",
    "plt.xlabel('1 - Specificty')\n",
    "plt.ylabel('TPR / Sensitivity')\n",
    "plt.title('ROC Curve')\n",
    "plt.plot(roc_curve_df_nb['fpr'],roc_curve_df_nb['tpr'])\n",
    "\n",
    "print(f'AUC de la Regresión Logística:')\n",
    "print('==================================================')\n",
    "auc_score = auc(fpr_log, tpr_log)\n",
    "print(f'AUC = {round(auc_score,4)}')\"\"\""
   ]
  },
  {
   "cell_type": "markdown",
   "id": "cb6cf732",
   "metadata": {},
   "source": [
    "<a id=\"conclusiones\"></a> \n",
    "## 7. Conclusiones\n",
    "---"
   ]
  },
  {
   "cell_type": "markdown",
   "id": "e44954bb",
   "metadata": {},
   "source": [
    "Después de llevar a cabo un análisis exhaustivo de todos los métodos predictivos, incluyendo una comparación con los métodos de árbol, hemos llegado a varias conclusiones importantes.\n",
    "\n",
    "En primer lugar, encontramos que la regresión logística se adaptó de mejor manera al tipo de conjunto de datos utilizado. Esto es un resultado alentador, ya que indica que este método puede ser muy efectivo en la predicción de datos similares en el futuro.\n",
    "\n",
    "Sin embargo, a pesar de este buen resultado, también identificamos algunas áreas en las que se puede mejorar el rendimiento del conjunto de datos. Para lograr esto, creemos que sería interesante profundizar en el método de Naïve Bayes y utilizar características con una relación aún mejor.\n",
    "\n",
    "También utilizamos el método KNN y logramos un rendimiento cercano al 80%, lo que se acerca a los valores de la regresión logística. Esto sugiere que KNN también puede ser una buena opción para la predicción de datos similares en el futuro.\n",
    "\n",
    "Por último, encontramos que el método de árboles se adapta mucho mejor que otros métodos, incluso sin profundizar en técnicas para mejorar las predicciones. Esto es muy impresionante, ya que sugiere que este método podría ser muy efectivo en la predicción de datos similares en el futuro.\n",
    "\n",
    "En general, nuestros hallazgos sugieren que hay varias opciones efectivas para la predicción de datos similares en el futuro. Sin embargo, hay áreas en las que se puede mejorar el rendimiento y, por lo tanto, sería interesante seguir investigando para ver cómo se pueden mejorar estos métodos aún más."
   ]
  },
  {
   "cell_type": "code",
   "execution_count": 181,
   "id": "83059f78",
   "metadata": {},
   "outputs": [],
   "source": [
    "clf_tree_gini = tree.DecisionTreeClassifier(criterion='gini')"
   ]
  },
  {
   "cell_type": "code",
   "execution_count": 182,
   "id": "3beb3c7f",
   "metadata": {},
   "outputs": [
    {
     "data": {
      "text/plain": [
       "DecisionTreeClassifier()"
      ]
     },
     "execution_count": 182,
     "metadata": {},
     "output_type": "execute_result"
    }
   ],
   "source": [
    "clf_tree_gini.fit(X_train_std, y_train)"
   ]
  },
  {
   "cell_type": "code",
   "execution_count": 183,
   "id": "aec517a3",
   "metadata": {},
   "outputs": [
    {
     "data": {
      "text/plain": [
       "DecisionTreeClassifier()"
      ]
     },
     "execution_count": 183,
     "metadata": {},
     "output_type": "execute_result"
    }
   ],
   "source": [
    "clf_tree_gini.fit(X_train_std, y_train)"
   ]
  },
  {
   "cell_type": "code",
   "execution_count": 187,
   "id": "11eb5cbe",
   "metadata": {},
   "outputs": [],
   "source": [
    "y_pred_tree_gini = clf_tree_gini.predict_proba(X_test_std)"
   ]
  },
  {
   "cell_type": "code",
   "execution_count": 192,
   "id": "eb3194cf",
   "metadata": {},
   "outputs": [],
   "source": [
    "y_pred_tree_gini_05 = binarize(y_pred_tree_gini, threshold=0.5)[:,1]"
   ]
  },
  {
   "cell_type": "code",
   "execution_count": 194,
   "id": "0078dc64",
   "metadata": {},
   "outputs": [],
   "source": [
    "cm_tree = confusion_matrix(y_test, y_pred_tree_gini_bin)"
   ]
  },
  {
   "cell_type": "code",
   "execution_count": 197,
   "id": "0575c91d",
   "metadata": {},
   "outputs": [
    {
     "data": {
      "text/plain": [
       "0.8448852239803878"
      ]
     },
     "execution_count": 197,
     "metadata": {},
     "output_type": "execute_result"
    }
   ],
   "source": [
    "accuracy_score(y_test, y_pred_tree_gini_05)"
   ]
  },
  {
   "cell_type": "code",
   "execution_count": 198,
   "id": "512023f1",
   "metadata": {},
   "outputs": [],
   "source": [
    "TP_tree = cm_tree[1, 1]\n",
    "TN_tree = cm_tree[0, 0]\n",
    "FP_tree = cm_tree[0, 1]\n",
    "FN_tree = cm_tree[1, 0]"
   ]
  },
  {
   "cell_type": "code",
   "execution_count": 200,
   "id": "bb99b210",
   "metadata": {},
   "outputs": [],
   "source": [
    "fpr_log_tree, tpr_log_tree, thr_log_tree = roc_curve(y_test, y_pred_tree_gini_05)"
   ]
  },
  {
   "cell_type": "code",
   "execution_count": 201,
   "id": "74627900",
   "metadata": {},
   "outputs": [
    {
     "name": "stdout",
     "output_type": "stream",
     "text": [
      "AUC de la Regresión Logística:\n",
      "==================================================\n",
      "AUC = 0.6885\n",
      "AUC de la Neives-Bayes:\n",
      "==================================================\n",
      "AUC = 0.5467\n",
      "AUC de la Arboles (Yapa):\n",
      "==================================================\n",
      "AUC = 0.758\n"
     ]
    },
    {
     "data": {
      "image/png": "[encoded data removed]",
      "text/plain": [
       "<Figure size 640x480 with 1 Axes>"
      ]
     },
     "metadata": {},
     "output_type": "display_data"
    }
   ],
   "source": [
    "roc_curve_df_lr = pd.DataFrame(dict(fpr=fpr_log_lr, tpr=tpr_log_lr, thr=thr_log_lr))\n",
    "roc_curve_df_nb = pd.DataFrame(dict(fpr=fpr_log_nb, tpr=tpr_log_nb, thr=thr_log_nb))\n",
    "roc_curve_df_tree = pd.DataFrame(dict(fpr=fpr_log_tree, tpr=tpr_log_tree, thr=thr_log_tree))\n",
    "plt.axis([0, 1.01, 0, 1.01])\n",
    "plt.xlabel('1 - Specificty')\n",
    "plt.ylabel('TPR / Sensitivity')\n",
    "plt.title('ROC Curve')\n",
    "plt.plot(roc_curve_df_lr['fpr'],roc_curve_df_lr['tpr'], color='r')\n",
    "plt.plot(roc_curve_df_nb['fpr'],roc_curve_df_nb['tpr'], color='b')\n",
    "plt.plot(roc_curve_df_tree['fpr'],roc_curve_df_tree['tpr'], color='g')\n",
    "\n",
    "print(f'AUC de la Regresión Logística:')\n",
    "print('==================================================')\n",
    "auc_score_lr = auc(fpr_log_lr, tpr_log_lr)\n",
    "print(f'AUC = {round(auc_score_lr,4)}')\n",
    "\n",
    "print(f'AUC de la Neives-Bayes:')\n",
    "print('==================================================')\n",
    "auc_score_nb = auc(fpr_log_nb, tpr_log_nb)\n",
    "print(f'AUC = {round(auc_score_nb,4)}')\n",
    "\n",
    "print(f'AUC de la Arboles (Yapa):')\n",
    "print('==================================================')\n",
    "auc_score_tree = auc(fpr_log_tree, tpr_log_tree)\n",
    "print(f'AUC = {round(auc_score_tree,4)}')"
   ]
  },
  {
   "cell_type": "code",
   "execution_count": 204,
   "id": "94d713eb",
   "metadata": {},
   "outputs": [
    {
     "name": "stdout",
     "output_type": "stream",
     "text": [
      "              precision    recall  f1-score   support\n",
      "\n",
      "           0       0.55      0.07      0.12       956\n",
      "           1       0.80      0.98      0.88      3531\n",
      "\n",
      "    accuracy                           0.79      4487\n",
      "   macro avg       0.67      0.53      0.50      4487\n",
      "weighted avg       0.74      0.79      0.72      4487\n",
      "\n"
     ]
    }
   ],
   "source": [
    "print(classification_report(y_test, y_pred_list_lr[2]))"
   ]
  },
  {
   "cell_type": "code",
   "execution_count": 205,
   "id": "feba3484",
   "metadata": {},
   "outputs": [
    {
     "name": "stdout",
     "output_type": "stream",
     "text": [
      "              precision    recall  f1-score   support\n",
      "\n",
      "           0       0.64      0.61      0.62       956\n",
      "           1       0.90      0.91      0.90      3531\n",
      "\n",
      "    accuracy                           0.84      4487\n",
      "   macro avg       0.77      0.76      0.76      4487\n",
      "weighted avg       0.84      0.84      0.84      4487\n",
      "\n"
     ]
    }
   ],
   "source": [
    "print(classification_report(y_test, y_pred_tree_gini_bin))"
   ]
  },
  {
   "cell_type": "code",
   "execution_count": null,
   "id": "324fb3df",
   "metadata": {},
   "outputs": [],
   "source": []
  }
 ],
 "metadata": {
  "kernelspec": {
   "display_name": "Python 3 (ipykernel)",
   "language": "python",
   "name": "python3"
  },
  "language_info": {
   "codemirror_mode": {
    "name": "ipython",
    "version": 3
   },
   "file_extension": ".py",
   "mimetype": "text/x-python",
   "name": "python",
   "nbconvert_exporter": "python",
   "pygments_lexer": "ipython3",
   "version": "3.8.15"
  }
 },
 "nbformat": 4,
 "nbformat_minor": 5
}
